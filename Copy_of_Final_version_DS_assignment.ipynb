{
  "nbformat": 4,
  "nbformat_minor": 0,
  "metadata": {
    "colab": {
      "name": "Copy of Final version DS assignment.ipynb",
      "provenance": [],
      "collapsed_sections": [],
      "toc_visible": true
    },
    "kernelspec": {
      "name": "python3",
      "display_name": "Python 3"
    }
  },
  "cells": [
    {
      "cell_type": "markdown",
      "metadata": {
        "id": "n-ci3LRa4ud8",
        "colab_type": "text"
      },
      "source": [
        "##**Business Understanding**\n"
      ]
    },
    {
      "cell_type": "markdown",
      "metadata": {
        "id": "u-Tr5rlkw9Zb",
        "colab_type": "text"
      },
      "source": [
        "The telecommunication sector is made up of companies that make communication possible on a global scale, whether it is through the phone or the Internet, through airwaves or cables, through wires or wirelessly. These companies created the infrastructure that allows data in words, voice, audio or video to be sent anywhere in the world.\n",
        "Telephone service companies, Internet service providers, pay TV companies, insurance firms, and alarm monitoring services, often use customer churn analysis and customer attrition rates as one of their key business metrics because the cost of retaining an existing customer is far less than acquiring a new one. Companies from these sectors often have customer service branches which attempt to win back defecting clients, because recovered long-term customers can be worth much more to a company than newly recruited clients.\n",
        "Customer churn happens when customers quit using a company’s service or stop doing business with a company. By doing the prediction on customer churn rate, companies can easily monitor and be alert of churn rate. Thus, they will know what brings to their customer retention success rate and develop strategies to further improve the business.\n",
        "The customer churn is an important activity in a growing and competitive telecommunication sector and is one of the greatest importance for a project manager. Due to the high cost of acquiring new customers, customer churn prediction has emerged as an indispensable part of telecom’s sectors’ strategic decision making and planning process.\n"
      ]
    },
    {
      "cell_type": "code",
      "metadata": {
        "id": "GEGLCl1SkK1S",
        "colab_type": "code",
        "colab": {}
      },
      "source": [
        "# Importing libraries\n",
        "# General\n",
        "import pandas as pd\n",
        "import numpy as np\n",
        "import seaborn as sns\n",
        "import pandas as pd\n",
        "import matplotlib.pyplot as plt\n",
        "import matplotlib.ticker as mtick   \n",
        "\n",
        "#Visualisation(EDA)\n",
        "import plotly.graph_objs as go\n",
        "import plotly.offline as py\n",
        "sns.set(style = 'white')\n",
        "%matplotlib inline\n",
        "\n",
        "# Train test split\n",
        "from sklearn.model_selection import train_test_split\n",
        "\n",
        "# Data prepocessing\n",
        "from sklearn.preprocessing import LabelEncoder\n",
        "from sklearn.preprocessing import StandardScaler\n",
        "from sklearn import preprocessing\n",
        "\n",
        "# Modelling\n",
        "from sklearn.neighbors import KNeighborsClassifier\n",
        "from sklearn.linear_model import LogisticRegression\n",
        "from sklearn.svm import SVC\n",
        "from sklearn.naive_bayes import GaussianNB\n",
        "from sklearn.ensemble import RandomForestClassifier\n",
        "from sklearn.model_selection import GridSearchCV\n",
        "\n",
        "# Evaluation\n",
        "from sklearn.metrics import accuracy_score\n",
        "from sklearn.metrics import confusion_matrix\n",
        "import plotly.figure_factory as ff   #visualization\n",
        "\n",
        "# Confusion Matrix\n",
        "import matplotlib.pyplot as plt\n",
        "import itertools\n",
        "from sklearn.metrics import f1_score\n",
        "from sklearn.metrics import precision_score\n",
        "\n",
        "#ROC\n",
        "from sklearn.metrics import roc_curve\n",
        "from sklearn.metrics import roc_auc_score\n",
        "from sklearn.metrics import recall_score\n",
        "\n",
        "# K fold\n",
        "from sklearn.model_selection import KFold \n",
        "\n",
        "pd.set_option('mode.chained_assignment', None)"
      ],
      "execution_count": null,
      "outputs": []
    },
    {
      "cell_type": "markdown",
      "metadata": {
        "id": "oCSoJRDK44Zd",
        "colab_type": "text"
      },
      "source": [
        "# **Data Understanding**"
      ]
    },
    {
      "cell_type": "markdown",
      "metadata": {
        "id": "ZcUMy_TRxLIy",
        "colab_type": "text"
      },
      "source": [
        "In this assignment, we are going to use “Telcom_Customer_Churn” which is found in Kaggle to predict the customer churn rate. We are going to select the best modeling technique to predict our target attribute, which is the customer churn. The details of the dataset are described as below:-\n",
        "Each row of the data will represent each customer, each column of the data represents the customers’ attributes which are described on the metadata of the customer. The dataset represents the details about:-\n",
        "- Demographic data about customers – gender, whether they are senior citizens, having partners and dependents.\n",
        "- Types of services signed up by each customer which included phone service, multiple lines, internet service, online security, online backup, device protection, technical support, streaming TV and movies.\n",
        "- Customers who left within the telcom company which is also the target attributes, called Churn\n",
        "- Account information of each customer – how long he/she have been a customer of telcom company(tenure), contract , paperless billing, payment method, monthly charges and total charges has been charged since they‘re one of the customers at telcom company.\n",
        "\n",
        "There are a total of 7043 rows and 21 columns of data in this dataset,which means that this dataset contains 7043 unique customers. Within these 21 columns of key attributes, all attributes can be classified or transformed to categorical variables whereas tenure, monthly charges and total charges are classified as continuous variables and need to be scaled before modelling. Also, we can see that the “Total Charges” is needed to be transformed to numerical values as we found that it is declared as object data type earlier. And, we found that there are 11 of missing data in this dataset. Hence, we choose to remove the entire row of data whenever it finds a missing value. It is because removing an entire row of data with missing values will result in a more robust and accurate model and it only consists of 11 rows of data with missing values, thus it will not create a great loss on information of data. Furthermore, we have chosen to replace ‘no internet service’ and ‘no phone service’ in several columns to ‘no’ to ease data classification and ease our modelling section. All values in the attributes also have been changed to lowercase letters to ease the coding part.\n"
      ]
    },
    {
      "cell_type": "code",
      "metadata": {
        "id": "qQGln6HHpmRj",
        "colab_type": "code",
        "colab": {
          "base_uri": "https://localhost:8080/",
          "height": 299
        },
        "outputId": "3c72c9ab-3add-4f04-84b4-804774452722"
      },
      "source": [
        "# Reading datasets\n",
        "data = pd.read_csv('telcom_churn.csv')\n",
        "data.head()"
      ],
      "execution_count": null,
      "outputs": [
        {
          "output_type": "execute_result",
          "data": {
            "text/html": [
              "<div>\n",
              "<style scoped>\n",
              "    .dataframe tbody tr th:only-of-type {\n",
              "        vertical-align: middle;\n",
              "    }\n",
              "\n",
              "    .dataframe tbody tr th {\n",
              "        vertical-align: top;\n",
              "    }\n",
              "\n",
              "    .dataframe thead th {\n",
              "        text-align: right;\n",
              "    }\n",
              "</style>\n",
              "<table border=\"1\" class=\"dataframe\">\n",
              "  <thead>\n",
              "    <tr style=\"text-align: right;\">\n",
              "      <th></th>\n",
              "      <th>customerID</th>\n",
              "      <th>gender</th>\n",
              "      <th>SeniorCitizen</th>\n",
              "      <th>Partner</th>\n",
              "      <th>Dependents</th>\n",
              "      <th>tenure</th>\n",
              "      <th>PhoneService</th>\n",
              "      <th>MultipleLines</th>\n",
              "      <th>InternetService</th>\n",
              "      <th>OnlineSecurity</th>\n",
              "      <th>OnlineBackup</th>\n",
              "      <th>DeviceProtection</th>\n",
              "      <th>TechSupport</th>\n",
              "      <th>StreamingTV</th>\n",
              "      <th>StreamingMovies</th>\n",
              "      <th>Contract</th>\n",
              "      <th>PaperlessBilling</th>\n",
              "      <th>PaymentMethod</th>\n",
              "      <th>MonthlyCharges</th>\n",
              "      <th>TotalCharges</th>\n",
              "      <th>Churn</th>\n",
              "    </tr>\n",
              "  </thead>\n",
              "  <tbody>\n",
              "    <tr>\n",
              "      <th>0</th>\n",
              "      <td>7590-VHVEG</td>\n",
              "      <td>Female</td>\n",
              "      <td>0</td>\n",
              "      <td>Yes</td>\n",
              "      <td>No</td>\n",
              "      <td>1</td>\n",
              "      <td>No</td>\n",
              "      <td>No phone service</td>\n",
              "      <td>DSL</td>\n",
              "      <td>No</td>\n",
              "      <td>Yes</td>\n",
              "      <td>No</td>\n",
              "      <td>No</td>\n",
              "      <td>No</td>\n",
              "      <td>No</td>\n",
              "      <td>Month-to-month</td>\n",
              "      <td>Yes</td>\n",
              "      <td>Electronic check</td>\n",
              "      <td>29.85</td>\n",
              "      <td>29.85</td>\n",
              "      <td>No</td>\n",
              "    </tr>\n",
              "    <tr>\n",
              "      <th>1</th>\n",
              "      <td>5575-GNVDE</td>\n",
              "      <td>Male</td>\n",
              "      <td>0</td>\n",
              "      <td>No</td>\n",
              "      <td>No</td>\n",
              "      <td>34</td>\n",
              "      <td>Yes</td>\n",
              "      <td>No</td>\n",
              "      <td>DSL</td>\n",
              "      <td>Yes</td>\n",
              "      <td>No</td>\n",
              "      <td>Yes</td>\n",
              "      <td>No</td>\n",
              "      <td>No</td>\n",
              "      <td>No</td>\n",
              "      <td>One year</td>\n",
              "      <td>No</td>\n",
              "      <td>Mailed check</td>\n",
              "      <td>56.95</td>\n",
              "      <td>1889.5</td>\n",
              "      <td>No</td>\n",
              "    </tr>\n",
              "    <tr>\n",
              "      <th>2</th>\n",
              "      <td>3668-QPYBK</td>\n",
              "      <td>Male</td>\n",
              "      <td>0</td>\n",
              "      <td>No</td>\n",
              "      <td>No</td>\n",
              "      <td>2</td>\n",
              "      <td>Yes</td>\n",
              "      <td>No</td>\n",
              "      <td>DSL</td>\n",
              "      <td>Yes</td>\n",
              "      <td>Yes</td>\n",
              "      <td>No</td>\n",
              "      <td>No</td>\n",
              "      <td>No</td>\n",
              "      <td>No</td>\n",
              "      <td>Month-to-month</td>\n",
              "      <td>Yes</td>\n",
              "      <td>Mailed check</td>\n",
              "      <td>53.85</td>\n",
              "      <td>108.15</td>\n",
              "      <td>Yes</td>\n",
              "    </tr>\n",
              "    <tr>\n",
              "      <th>3</th>\n",
              "      <td>7795-CFOCW</td>\n",
              "      <td>Male</td>\n",
              "      <td>0</td>\n",
              "      <td>No</td>\n",
              "      <td>No</td>\n",
              "      <td>45</td>\n",
              "      <td>No</td>\n",
              "      <td>No phone service</td>\n",
              "      <td>DSL</td>\n",
              "      <td>Yes</td>\n",
              "      <td>No</td>\n",
              "      <td>Yes</td>\n",
              "      <td>Yes</td>\n",
              "      <td>No</td>\n",
              "      <td>No</td>\n",
              "      <td>One year</td>\n",
              "      <td>No</td>\n",
              "      <td>Bank transfer (automatic)</td>\n",
              "      <td>42.30</td>\n",
              "      <td>1840.75</td>\n",
              "      <td>No</td>\n",
              "    </tr>\n",
              "    <tr>\n",
              "      <th>4</th>\n",
              "      <td>9237-HQITU</td>\n",
              "      <td>Female</td>\n",
              "      <td>0</td>\n",
              "      <td>No</td>\n",
              "      <td>No</td>\n",
              "      <td>2</td>\n",
              "      <td>Yes</td>\n",
              "      <td>No</td>\n",
              "      <td>Fiber optic</td>\n",
              "      <td>No</td>\n",
              "      <td>No</td>\n",
              "      <td>No</td>\n",
              "      <td>No</td>\n",
              "      <td>No</td>\n",
              "      <td>No</td>\n",
              "      <td>Month-to-month</td>\n",
              "      <td>Yes</td>\n",
              "      <td>Electronic check</td>\n",
              "      <td>70.70</td>\n",
              "      <td>151.65</td>\n",
              "      <td>Yes</td>\n",
              "    </tr>\n",
              "  </tbody>\n",
              "</table>\n",
              "</div>"
            ],
            "text/plain": [
              "   customerID  gender  SeniorCitizen  ... MonthlyCharges TotalCharges  Churn\n",
              "0  7590-VHVEG  Female              0  ...          29.85        29.85     No\n",
              "1  5575-GNVDE    Male              0  ...          56.95       1889.5     No\n",
              "2  3668-QPYBK    Male              0  ...          53.85       108.15    Yes\n",
              "3  7795-CFOCW    Male              0  ...          42.30      1840.75     No\n",
              "4  9237-HQITU  Female              0  ...          70.70       151.65    Yes\n",
              "\n",
              "[5 rows x 21 columns]"
            ]
          },
          "metadata": {
            "tags": []
          },
          "execution_count": 2
        }
      ]
    },
    {
      "cell_type": "code",
      "metadata": {
        "id": "bO-6pO_35ixC",
        "colab_type": "code",
        "colab": {
          "base_uri": "https://localhost:8080/",
          "height": 403
        },
        "outputId": "077e53ce-8d17-43fc-a09a-f50a7fae2f30"
      },
      "source": [
        "# Check the data types of all the columns\n",
        "print(\"Data Types: \\n\",data.dtypes)"
      ],
      "execution_count": null,
      "outputs": [
        {
          "output_type": "stream",
          "text": [
            "Data Types: \n",
            " customerID           object\n",
            "gender               object\n",
            "SeniorCitizen         int64\n",
            "Partner              object\n",
            "Dependents           object\n",
            "tenure                int64\n",
            "PhoneService         object\n",
            "MultipleLines        object\n",
            "InternetService      object\n",
            "OnlineSecurity       object\n",
            "OnlineBackup         object\n",
            "DeviceProtection     object\n",
            "TechSupport          object\n",
            "StreamingTV          object\n",
            "StreamingMovies      object\n",
            "Contract             object\n",
            "PaperlessBilling     object\n",
            "PaymentMethod        object\n",
            "MonthlyCharges      float64\n",
            "TotalCharges         object\n",
            "Churn                object\n",
            "dtype: object\n"
          ],
          "name": "stdout"
        }
      ]
    },
    {
      "cell_type": "code",
      "metadata": {
        "id": "2fwbwqhu5jYq",
        "colab_type": "code",
        "colab": {}
      },
      "source": [
        "# Change data types to numeric value\n",
        "data['TotalCharges'] = data['TotalCharges'].replace(r'\\s+', np.nan, regex=True)\n",
        "data['TotalCharges'] = pd.to_numeric(data['TotalCharges'])"
      ],
      "execution_count": null,
      "outputs": []
    },
    {
      "cell_type": "code",
      "metadata": {
        "id": "omZbgNxD5lTx",
        "colab_type": "code",
        "colab": {
          "base_uri": "https://localhost:8080/",
          "height": 927
        },
        "outputId": "e9d357cf-3630-4ef5-a93d-f9b365dd382d"
      },
      "source": [
        "# Display details of dataset\n",
        "print (\"Rows     : \" ,data.shape[0])\n",
        "print (\"Columns  : \" ,data.shape[1])\n",
        "print (\"\\nFeatures : \\n\" ,data.columns.tolist())\n",
        "print (\"\\nMissing values :  \\n\", data.isnull().sum())\n",
        "print (\"\\nUnique values :  \\n\",data.nunique())"
      ],
      "execution_count": null,
      "outputs": [
        {
          "output_type": "stream",
          "text": [
            "Rows     :  7043\n",
            "Columns  :  21\n",
            "\n",
            "Features : \n",
            " ['customerID', 'gender', 'SeniorCitizen', 'Partner', 'Dependents', 'tenure', 'PhoneService', 'MultipleLines', 'InternetService', 'OnlineSecurity', 'OnlineBackup', 'DeviceProtection', 'TechSupport', 'StreamingTV', 'StreamingMovies', 'Contract', 'PaperlessBilling', 'PaymentMethod', 'MonthlyCharges', 'TotalCharges', 'Churn']\n",
            "\n",
            "Missing values :  \n",
            " customerID           0\n",
            "gender               0\n",
            "SeniorCitizen        0\n",
            "Partner              0\n",
            "Dependents           0\n",
            "tenure               0\n",
            "PhoneService         0\n",
            "MultipleLines        0\n",
            "InternetService      0\n",
            "OnlineSecurity       0\n",
            "OnlineBackup         0\n",
            "DeviceProtection     0\n",
            "TechSupport          0\n",
            "StreamingTV          0\n",
            "StreamingMovies      0\n",
            "Contract             0\n",
            "PaperlessBilling     0\n",
            "PaymentMethod        0\n",
            "MonthlyCharges       0\n",
            "TotalCharges        11\n",
            "Churn                0\n",
            "dtype: int64\n",
            "\n",
            "Unique values :  \n",
            " customerID          7043\n",
            "gender                 2\n",
            "SeniorCitizen          2\n",
            "Partner                2\n",
            "Dependents             2\n",
            "tenure                73\n",
            "PhoneService           2\n",
            "MultipleLines          3\n",
            "InternetService        3\n",
            "OnlineSecurity         3\n",
            "OnlineBackup           3\n",
            "DeviceProtection       3\n",
            "TechSupport            3\n",
            "StreamingTV            3\n",
            "StreamingMovies        3\n",
            "Contract               3\n",
            "PaperlessBilling       2\n",
            "PaymentMethod          4\n",
            "MonthlyCharges      1585\n",
            "TotalCharges        6530\n",
            "Churn                  2\n",
            "dtype: int64\n"
          ],
          "name": "stdout"
        }
      ]
    },
    {
      "cell_type": "code",
      "metadata": {
        "id": "_YFVF9z_5yM5",
        "colab_type": "code",
        "colab": {
          "base_uri": "https://localhost:8080/",
          "height": 420
        },
        "outputId": "46e5e839-0ff6-41f1-8611-2881d6c347ab"
      },
      "source": [
        "# Remove the missing values\n",
        "data.dropna(inplace=True)\n",
        "print (\"\\nMissing values :  \\n\", data.isnull().sum())"
      ],
      "execution_count": null,
      "outputs": [
        {
          "output_type": "stream",
          "text": [
            "\n",
            "Missing values :  \n",
            " customerID          0\n",
            "gender              0\n",
            "SeniorCitizen       0\n",
            "Partner             0\n",
            "Dependents          0\n",
            "tenure              0\n",
            "PhoneService        0\n",
            "MultipleLines       0\n",
            "InternetService     0\n",
            "OnlineSecurity      0\n",
            "OnlineBackup        0\n",
            "DeviceProtection    0\n",
            "TechSupport         0\n",
            "StreamingTV         0\n",
            "StreamingMovies     0\n",
            "Contract            0\n",
            "PaperlessBilling    0\n",
            "PaymentMethod       0\n",
            "MonthlyCharges      0\n",
            "TotalCharges        0\n",
            "Churn               0\n",
            "dtype: int64\n"
          ],
          "name": "stdout"
        }
      ]
    },
    {
      "cell_type": "code",
      "metadata": {
        "id": "d-kurZBS5yoZ",
        "colab_type": "code",
        "colab": {
          "base_uri": "https://localhost:8080/",
          "height": 282
        },
        "outputId": "41e5c4ac-1b7f-4ce1-ff82-4aeaa358137a"
      },
      "source": [
        "# Remove customerID variable \n",
        "data = data.drop('customerID', axis = 1)\n",
        "data.head()"
      ],
      "execution_count": null,
      "outputs": [
        {
          "output_type": "execute_result",
          "data": {
            "text/html": [
              "<div>\n",
              "<style scoped>\n",
              "    .dataframe tbody tr th:only-of-type {\n",
              "        vertical-align: middle;\n",
              "    }\n",
              "\n",
              "    .dataframe tbody tr th {\n",
              "        vertical-align: top;\n",
              "    }\n",
              "\n",
              "    .dataframe thead th {\n",
              "        text-align: right;\n",
              "    }\n",
              "</style>\n",
              "<table border=\"1\" class=\"dataframe\">\n",
              "  <thead>\n",
              "    <tr style=\"text-align: right;\">\n",
              "      <th></th>\n",
              "      <th>gender</th>\n",
              "      <th>SeniorCitizen</th>\n",
              "      <th>Partner</th>\n",
              "      <th>Dependents</th>\n",
              "      <th>tenure</th>\n",
              "      <th>PhoneService</th>\n",
              "      <th>MultipleLines</th>\n",
              "      <th>InternetService</th>\n",
              "      <th>OnlineSecurity</th>\n",
              "      <th>OnlineBackup</th>\n",
              "      <th>DeviceProtection</th>\n",
              "      <th>TechSupport</th>\n",
              "      <th>StreamingTV</th>\n",
              "      <th>StreamingMovies</th>\n",
              "      <th>Contract</th>\n",
              "      <th>PaperlessBilling</th>\n",
              "      <th>PaymentMethod</th>\n",
              "      <th>MonthlyCharges</th>\n",
              "      <th>TotalCharges</th>\n",
              "      <th>Churn</th>\n",
              "    </tr>\n",
              "  </thead>\n",
              "  <tbody>\n",
              "    <tr>\n",
              "      <th>0</th>\n",
              "      <td>Female</td>\n",
              "      <td>0</td>\n",
              "      <td>Yes</td>\n",
              "      <td>No</td>\n",
              "      <td>1</td>\n",
              "      <td>No</td>\n",
              "      <td>No phone service</td>\n",
              "      <td>DSL</td>\n",
              "      <td>No</td>\n",
              "      <td>Yes</td>\n",
              "      <td>No</td>\n",
              "      <td>No</td>\n",
              "      <td>No</td>\n",
              "      <td>No</td>\n",
              "      <td>Month-to-month</td>\n",
              "      <td>Yes</td>\n",
              "      <td>Electronic check</td>\n",
              "      <td>29.85</td>\n",
              "      <td>29.85</td>\n",
              "      <td>No</td>\n",
              "    </tr>\n",
              "    <tr>\n",
              "      <th>1</th>\n",
              "      <td>Male</td>\n",
              "      <td>0</td>\n",
              "      <td>No</td>\n",
              "      <td>No</td>\n",
              "      <td>34</td>\n",
              "      <td>Yes</td>\n",
              "      <td>No</td>\n",
              "      <td>DSL</td>\n",
              "      <td>Yes</td>\n",
              "      <td>No</td>\n",
              "      <td>Yes</td>\n",
              "      <td>No</td>\n",
              "      <td>No</td>\n",
              "      <td>No</td>\n",
              "      <td>One year</td>\n",
              "      <td>No</td>\n",
              "      <td>Mailed check</td>\n",
              "      <td>56.95</td>\n",
              "      <td>1889.50</td>\n",
              "      <td>No</td>\n",
              "    </tr>\n",
              "    <tr>\n",
              "      <th>2</th>\n",
              "      <td>Male</td>\n",
              "      <td>0</td>\n",
              "      <td>No</td>\n",
              "      <td>No</td>\n",
              "      <td>2</td>\n",
              "      <td>Yes</td>\n",
              "      <td>No</td>\n",
              "      <td>DSL</td>\n",
              "      <td>Yes</td>\n",
              "      <td>Yes</td>\n",
              "      <td>No</td>\n",
              "      <td>No</td>\n",
              "      <td>No</td>\n",
              "      <td>No</td>\n",
              "      <td>Month-to-month</td>\n",
              "      <td>Yes</td>\n",
              "      <td>Mailed check</td>\n",
              "      <td>53.85</td>\n",
              "      <td>108.15</td>\n",
              "      <td>Yes</td>\n",
              "    </tr>\n",
              "    <tr>\n",
              "      <th>3</th>\n",
              "      <td>Male</td>\n",
              "      <td>0</td>\n",
              "      <td>No</td>\n",
              "      <td>No</td>\n",
              "      <td>45</td>\n",
              "      <td>No</td>\n",
              "      <td>No phone service</td>\n",
              "      <td>DSL</td>\n",
              "      <td>Yes</td>\n",
              "      <td>No</td>\n",
              "      <td>Yes</td>\n",
              "      <td>Yes</td>\n",
              "      <td>No</td>\n",
              "      <td>No</td>\n",
              "      <td>One year</td>\n",
              "      <td>No</td>\n",
              "      <td>Bank transfer (automatic)</td>\n",
              "      <td>42.30</td>\n",
              "      <td>1840.75</td>\n",
              "      <td>No</td>\n",
              "    </tr>\n",
              "    <tr>\n",
              "      <th>4</th>\n",
              "      <td>Female</td>\n",
              "      <td>0</td>\n",
              "      <td>No</td>\n",
              "      <td>No</td>\n",
              "      <td>2</td>\n",
              "      <td>Yes</td>\n",
              "      <td>No</td>\n",
              "      <td>Fiber optic</td>\n",
              "      <td>No</td>\n",
              "      <td>No</td>\n",
              "      <td>No</td>\n",
              "      <td>No</td>\n",
              "      <td>No</td>\n",
              "      <td>No</td>\n",
              "      <td>Month-to-month</td>\n",
              "      <td>Yes</td>\n",
              "      <td>Electronic check</td>\n",
              "      <td>70.70</td>\n",
              "      <td>151.65</td>\n",
              "      <td>Yes</td>\n",
              "    </tr>\n",
              "  </tbody>\n",
              "</table>\n",
              "</div>"
            ],
            "text/plain": [
              "   gender  SeniorCitizen Partner  ... MonthlyCharges  TotalCharges Churn\n",
              "0  Female              0     Yes  ...          29.85         29.85    No\n",
              "1    Male              0      No  ...          56.95       1889.50    No\n",
              "2    Male              0      No  ...          53.85        108.15   Yes\n",
              "3    Male              0      No  ...          42.30       1840.75    No\n",
              "4  Female              0      No  ...          70.70        151.65   Yes\n",
              "\n",
              "[5 rows x 20 columns]"
            ]
          },
          "metadata": {
            "tags": []
          },
          "execution_count": 7
        }
      ]
    },
    {
      "cell_type": "code",
      "metadata": {
        "id": "20OwzyMi5z2Z",
        "colab_type": "code",
        "colab": {
          "base_uri": "https://localhost:8080/",
          "height": 739
        },
        "outputId": "9e00804f-bb3f-4f8e-cbfb-3291e53c2535"
      },
      "source": [
        "# Print all unique values for each columns\n",
        "for item in data.columns:\n",
        "    print(item)\n",
        "    print (data[item].unique())"
      ],
      "execution_count": null,
      "outputs": [
        {
          "output_type": "stream",
          "text": [
            "gender\n",
            "['Female' 'Male']\n",
            "SeniorCitizen\n",
            "[0 1]\n",
            "Partner\n",
            "['Yes' 'No']\n",
            "Dependents\n",
            "['No' 'Yes']\n",
            "tenure\n",
            "[ 1 34  2 45  8 22 10 28 62 13 16 58 49 25 69 52 71 21 12 30 47 72 17 27\n",
            "  5 46 11 70 63 43 15 60 18 66  9  3 31 50 64 56  7 42 35 48 29 65 38 68\n",
            " 32 55 37 36 41  6  4 33 67 23 57 61 14 20 53 40 59 24 44 19 54 51 26 39]\n",
            "PhoneService\n",
            "['No' 'Yes']\n",
            "MultipleLines\n",
            "['No phone service' 'No' 'Yes']\n",
            "InternetService\n",
            "['DSL' 'Fiber optic' 'No']\n",
            "OnlineSecurity\n",
            "['No' 'Yes' 'No internet service']\n",
            "OnlineBackup\n",
            "['Yes' 'No' 'No internet service']\n",
            "DeviceProtection\n",
            "['No' 'Yes' 'No internet service']\n",
            "TechSupport\n",
            "['No' 'Yes' 'No internet service']\n",
            "StreamingTV\n",
            "['No' 'Yes' 'No internet service']\n",
            "StreamingMovies\n",
            "['No' 'Yes' 'No internet service']\n",
            "Contract\n",
            "['Month-to-month' 'One year' 'Two year']\n",
            "PaperlessBilling\n",
            "['Yes' 'No']\n",
            "PaymentMethod\n",
            "['Electronic check' 'Mailed check' 'Bank transfer (automatic)'\n",
            " 'Credit card (automatic)']\n",
            "MonthlyCharges\n",
            "[29.85 56.95 53.85 ... 63.1  44.2  78.7 ]\n",
            "TotalCharges\n",
            "[  29.85 1889.5   108.15 ...  346.45  306.6  6844.5 ]\n",
            "Churn\n",
            "['No' 'Yes']\n"
          ],
          "name": "stdout"
        }
      ]
    },
    {
      "cell_type": "code",
      "metadata": {
        "id": "dEbOXaFW51RG",
        "colab_type": "code",
        "colab": {
          "base_uri": "https://localhost:8080/",
          "height": 350
        },
        "outputId": "32deaa0c-5e4d-44d9-f11c-9289f6fff17d"
      },
      "source": [
        "# Convert all columns value to lowercase\n",
        "for item in data.columns:\n",
        "    try:\n",
        "        data[item] = data[item].str.lower()\n",
        "    except:\n",
        "        print(item, \"couldn't convert\")\n",
        "data.head()"
      ],
      "execution_count": null,
      "outputs": [
        {
          "output_type": "stream",
          "text": [
            "SeniorCitizen couldn't convert\n",
            "tenure couldn't convert\n",
            "MonthlyCharges couldn't convert\n",
            "TotalCharges couldn't convert\n"
          ],
          "name": "stdout"
        },
        {
          "output_type": "execute_result",
          "data": {
            "text/html": [
              "<div>\n",
              "<style scoped>\n",
              "    .dataframe tbody tr th:only-of-type {\n",
              "        vertical-align: middle;\n",
              "    }\n",
              "\n",
              "    .dataframe tbody tr th {\n",
              "        vertical-align: top;\n",
              "    }\n",
              "\n",
              "    .dataframe thead th {\n",
              "        text-align: right;\n",
              "    }\n",
              "</style>\n",
              "<table border=\"1\" class=\"dataframe\">\n",
              "  <thead>\n",
              "    <tr style=\"text-align: right;\">\n",
              "      <th></th>\n",
              "      <th>gender</th>\n",
              "      <th>SeniorCitizen</th>\n",
              "      <th>Partner</th>\n",
              "      <th>Dependents</th>\n",
              "      <th>tenure</th>\n",
              "      <th>PhoneService</th>\n",
              "      <th>MultipleLines</th>\n",
              "      <th>InternetService</th>\n",
              "      <th>OnlineSecurity</th>\n",
              "      <th>OnlineBackup</th>\n",
              "      <th>DeviceProtection</th>\n",
              "      <th>TechSupport</th>\n",
              "      <th>StreamingTV</th>\n",
              "      <th>StreamingMovies</th>\n",
              "      <th>Contract</th>\n",
              "      <th>PaperlessBilling</th>\n",
              "      <th>PaymentMethod</th>\n",
              "      <th>MonthlyCharges</th>\n",
              "      <th>TotalCharges</th>\n",
              "      <th>Churn</th>\n",
              "    </tr>\n",
              "  </thead>\n",
              "  <tbody>\n",
              "    <tr>\n",
              "      <th>0</th>\n",
              "      <td>female</td>\n",
              "      <td>0</td>\n",
              "      <td>yes</td>\n",
              "      <td>no</td>\n",
              "      <td>1</td>\n",
              "      <td>no</td>\n",
              "      <td>no phone service</td>\n",
              "      <td>dsl</td>\n",
              "      <td>no</td>\n",
              "      <td>yes</td>\n",
              "      <td>no</td>\n",
              "      <td>no</td>\n",
              "      <td>no</td>\n",
              "      <td>no</td>\n",
              "      <td>month-to-month</td>\n",
              "      <td>yes</td>\n",
              "      <td>electronic check</td>\n",
              "      <td>29.85</td>\n",
              "      <td>29.85</td>\n",
              "      <td>no</td>\n",
              "    </tr>\n",
              "    <tr>\n",
              "      <th>1</th>\n",
              "      <td>male</td>\n",
              "      <td>0</td>\n",
              "      <td>no</td>\n",
              "      <td>no</td>\n",
              "      <td>34</td>\n",
              "      <td>yes</td>\n",
              "      <td>no</td>\n",
              "      <td>dsl</td>\n",
              "      <td>yes</td>\n",
              "      <td>no</td>\n",
              "      <td>yes</td>\n",
              "      <td>no</td>\n",
              "      <td>no</td>\n",
              "      <td>no</td>\n",
              "      <td>one year</td>\n",
              "      <td>no</td>\n",
              "      <td>mailed check</td>\n",
              "      <td>56.95</td>\n",
              "      <td>1889.50</td>\n",
              "      <td>no</td>\n",
              "    </tr>\n",
              "    <tr>\n",
              "      <th>2</th>\n",
              "      <td>male</td>\n",
              "      <td>0</td>\n",
              "      <td>no</td>\n",
              "      <td>no</td>\n",
              "      <td>2</td>\n",
              "      <td>yes</td>\n",
              "      <td>no</td>\n",
              "      <td>dsl</td>\n",
              "      <td>yes</td>\n",
              "      <td>yes</td>\n",
              "      <td>no</td>\n",
              "      <td>no</td>\n",
              "      <td>no</td>\n",
              "      <td>no</td>\n",
              "      <td>month-to-month</td>\n",
              "      <td>yes</td>\n",
              "      <td>mailed check</td>\n",
              "      <td>53.85</td>\n",
              "      <td>108.15</td>\n",
              "      <td>yes</td>\n",
              "    </tr>\n",
              "    <tr>\n",
              "      <th>3</th>\n",
              "      <td>male</td>\n",
              "      <td>0</td>\n",
              "      <td>no</td>\n",
              "      <td>no</td>\n",
              "      <td>45</td>\n",
              "      <td>no</td>\n",
              "      <td>no phone service</td>\n",
              "      <td>dsl</td>\n",
              "      <td>yes</td>\n",
              "      <td>no</td>\n",
              "      <td>yes</td>\n",
              "      <td>yes</td>\n",
              "      <td>no</td>\n",
              "      <td>no</td>\n",
              "      <td>one year</td>\n",
              "      <td>no</td>\n",
              "      <td>bank transfer (automatic)</td>\n",
              "      <td>42.30</td>\n",
              "      <td>1840.75</td>\n",
              "      <td>no</td>\n",
              "    </tr>\n",
              "    <tr>\n",
              "      <th>4</th>\n",
              "      <td>female</td>\n",
              "      <td>0</td>\n",
              "      <td>no</td>\n",
              "      <td>no</td>\n",
              "      <td>2</td>\n",
              "      <td>yes</td>\n",
              "      <td>no</td>\n",
              "      <td>fiber optic</td>\n",
              "      <td>no</td>\n",
              "      <td>no</td>\n",
              "      <td>no</td>\n",
              "      <td>no</td>\n",
              "      <td>no</td>\n",
              "      <td>no</td>\n",
              "      <td>month-to-month</td>\n",
              "      <td>yes</td>\n",
              "      <td>electronic check</td>\n",
              "      <td>70.70</td>\n",
              "      <td>151.65</td>\n",
              "      <td>yes</td>\n",
              "    </tr>\n",
              "  </tbody>\n",
              "</table>\n",
              "</div>"
            ],
            "text/plain": [
              "   gender  SeniorCitizen Partner  ... MonthlyCharges  TotalCharges Churn\n",
              "0  female              0     yes  ...          29.85         29.85    no\n",
              "1    male              0      no  ...          56.95       1889.50    no\n",
              "2    male              0      no  ...          53.85        108.15   yes\n",
              "3    male              0      no  ...          42.30       1840.75    no\n",
              "4  female              0      no  ...          70.70        151.65   yes\n",
              "\n",
              "[5 rows x 20 columns]"
            ]
          },
          "metadata": {
            "tags": []
          },
          "execution_count": 9
        }
      ]
    },
    {
      "cell_type": "code",
      "metadata": {
        "id": "4STUAwt952x-",
        "colab_type": "code",
        "colab": {
          "base_uri": "https://localhost:8080/",
          "height": 282
        },
        "outputId": "efe45109-e775-4d33-955f-f8a0fb053146"
      },
      "source": [
        "# Convert \"no internet service\" and \"no phone service\" into \"no\"\n",
        "cols_replace_1 = ['OnlineSecurity', 'OnlineBackup', 'DeviceProtection','TechSupport','StreamingTV', 'StreamingMovies']\n",
        "for i in cols_replace_1 : \n",
        "    data[i]  = data[i].replace({'no internet service' : 'no'})\n",
        "\n",
        "cols_replace_2 = ['MultipleLines']\n",
        "for i in cols_replace_2 : \n",
        "    data[i]  = data[i].replace({'no phone service' : 'no'})\n",
        "\n",
        "cols_replace_3 = ['SeniorCitizen']\n",
        "for i in cols_replace_3:\n",
        "  data[i].replace(to_replace = 0, value = 'no', inplace = True)\n",
        "  data[i].replace(to_replace = 1 , value = 'yes', inplace = True)\n",
        "data.head()"
      ],
      "execution_count": null,
      "outputs": [
        {
          "output_type": "execute_result",
          "data": {
            "text/html": [
              "<div>\n",
              "<style scoped>\n",
              "    .dataframe tbody tr th:only-of-type {\n",
              "        vertical-align: middle;\n",
              "    }\n",
              "\n",
              "    .dataframe tbody tr th {\n",
              "        vertical-align: top;\n",
              "    }\n",
              "\n",
              "    .dataframe thead th {\n",
              "        text-align: right;\n",
              "    }\n",
              "</style>\n",
              "<table border=\"1\" class=\"dataframe\">\n",
              "  <thead>\n",
              "    <tr style=\"text-align: right;\">\n",
              "      <th></th>\n",
              "      <th>gender</th>\n",
              "      <th>SeniorCitizen</th>\n",
              "      <th>Partner</th>\n",
              "      <th>Dependents</th>\n",
              "      <th>tenure</th>\n",
              "      <th>PhoneService</th>\n",
              "      <th>MultipleLines</th>\n",
              "      <th>InternetService</th>\n",
              "      <th>OnlineSecurity</th>\n",
              "      <th>OnlineBackup</th>\n",
              "      <th>DeviceProtection</th>\n",
              "      <th>TechSupport</th>\n",
              "      <th>StreamingTV</th>\n",
              "      <th>StreamingMovies</th>\n",
              "      <th>Contract</th>\n",
              "      <th>PaperlessBilling</th>\n",
              "      <th>PaymentMethod</th>\n",
              "      <th>MonthlyCharges</th>\n",
              "      <th>TotalCharges</th>\n",
              "      <th>Churn</th>\n",
              "    </tr>\n",
              "  </thead>\n",
              "  <tbody>\n",
              "    <tr>\n",
              "      <th>0</th>\n",
              "      <td>female</td>\n",
              "      <td>no</td>\n",
              "      <td>yes</td>\n",
              "      <td>no</td>\n",
              "      <td>1</td>\n",
              "      <td>no</td>\n",
              "      <td>no</td>\n",
              "      <td>dsl</td>\n",
              "      <td>no</td>\n",
              "      <td>yes</td>\n",
              "      <td>no</td>\n",
              "      <td>no</td>\n",
              "      <td>no</td>\n",
              "      <td>no</td>\n",
              "      <td>month-to-month</td>\n",
              "      <td>yes</td>\n",
              "      <td>electronic check</td>\n",
              "      <td>29.85</td>\n",
              "      <td>29.85</td>\n",
              "      <td>no</td>\n",
              "    </tr>\n",
              "    <tr>\n",
              "      <th>1</th>\n",
              "      <td>male</td>\n",
              "      <td>no</td>\n",
              "      <td>no</td>\n",
              "      <td>no</td>\n",
              "      <td>34</td>\n",
              "      <td>yes</td>\n",
              "      <td>no</td>\n",
              "      <td>dsl</td>\n",
              "      <td>yes</td>\n",
              "      <td>no</td>\n",
              "      <td>yes</td>\n",
              "      <td>no</td>\n",
              "      <td>no</td>\n",
              "      <td>no</td>\n",
              "      <td>one year</td>\n",
              "      <td>no</td>\n",
              "      <td>mailed check</td>\n",
              "      <td>56.95</td>\n",
              "      <td>1889.50</td>\n",
              "      <td>no</td>\n",
              "    </tr>\n",
              "    <tr>\n",
              "      <th>2</th>\n",
              "      <td>male</td>\n",
              "      <td>no</td>\n",
              "      <td>no</td>\n",
              "      <td>no</td>\n",
              "      <td>2</td>\n",
              "      <td>yes</td>\n",
              "      <td>no</td>\n",
              "      <td>dsl</td>\n",
              "      <td>yes</td>\n",
              "      <td>yes</td>\n",
              "      <td>no</td>\n",
              "      <td>no</td>\n",
              "      <td>no</td>\n",
              "      <td>no</td>\n",
              "      <td>month-to-month</td>\n",
              "      <td>yes</td>\n",
              "      <td>mailed check</td>\n",
              "      <td>53.85</td>\n",
              "      <td>108.15</td>\n",
              "      <td>yes</td>\n",
              "    </tr>\n",
              "    <tr>\n",
              "      <th>3</th>\n",
              "      <td>male</td>\n",
              "      <td>no</td>\n",
              "      <td>no</td>\n",
              "      <td>no</td>\n",
              "      <td>45</td>\n",
              "      <td>no</td>\n",
              "      <td>no</td>\n",
              "      <td>dsl</td>\n",
              "      <td>yes</td>\n",
              "      <td>no</td>\n",
              "      <td>yes</td>\n",
              "      <td>yes</td>\n",
              "      <td>no</td>\n",
              "      <td>no</td>\n",
              "      <td>one year</td>\n",
              "      <td>no</td>\n",
              "      <td>bank transfer (automatic)</td>\n",
              "      <td>42.30</td>\n",
              "      <td>1840.75</td>\n",
              "      <td>no</td>\n",
              "    </tr>\n",
              "    <tr>\n",
              "      <th>4</th>\n",
              "      <td>female</td>\n",
              "      <td>no</td>\n",
              "      <td>no</td>\n",
              "      <td>no</td>\n",
              "      <td>2</td>\n",
              "      <td>yes</td>\n",
              "      <td>no</td>\n",
              "      <td>fiber optic</td>\n",
              "      <td>no</td>\n",
              "      <td>no</td>\n",
              "      <td>no</td>\n",
              "      <td>no</td>\n",
              "      <td>no</td>\n",
              "      <td>no</td>\n",
              "      <td>month-to-month</td>\n",
              "      <td>yes</td>\n",
              "      <td>electronic check</td>\n",
              "      <td>70.70</td>\n",
              "      <td>151.65</td>\n",
              "      <td>yes</td>\n",
              "    </tr>\n",
              "  </tbody>\n",
              "</table>\n",
              "</div>"
            ],
            "text/plain": [
              "   gender SeniorCitizen Partner  ... MonthlyCharges  TotalCharges Churn\n",
              "0  female            no     yes  ...          29.85         29.85    no\n",
              "1    male            no      no  ...          56.95       1889.50    no\n",
              "2    male            no      no  ...          53.85        108.15   yes\n",
              "3    male            no      no  ...          42.30       1840.75    no\n",
              "4  female            no      no  ...          70.70        151.65   yes\n",
              "\n",
              "[5 rows x 20 columns]"
            ]
          },
          "metadata": {
            "tags": []
          },
          "execution_count": 10
        }
      ]
    },
    {
      "cell_type": "markdown",
      "metadata": {
        "id": "8oK-1Dck57mL",
        "colab_type": "text"
      },
      "source": [
        "# **Exploratory Data Analysis(EDA)**"
      ]
    },
    {
      "cell_type": "markdown",
      "metadata": {
        "id": "zyoOwYJxxjEG",
        "colab_type": "text"
      },
      "source": [
        "Exploratory Data Analysis has been carried out to study the relationship between each attribute and customer churn rate. The pie charts below shows the pie plot for customer attrition based on different categories in different columns.\n"
      ]
    },
    {
      "cell_type": "code",
      "metadata": {
        "id": "2_Dp_roF54Kt",
        "colab_type": "code",
        "colab": {
          "base_uri": "https://localhost:8080/",
          "height": 299
        },
        "outputId": "81cf0c63-0f11-4b27-e955-9cb9e3c86707"
      },
      "source": [
        "# Split the dataset into 80% train data and 20% test data\n",
        "train_data, test_data =  train_test_split(data, test_size=0.2, random_state=100)\n",
        "train_data.head()"
      ],
      "execution_count": null,
      "outputs": [
        {
          "output_type": "execute_result",
          "data": {
            "text/html": [
              "<div>\n",
              "<style scoped>\n",
              "    .dataframe tbody tr th:only-of-type {\n",
              "        vertical-align: middle;\n",
              "    }\n",
              "\n",
              "    .dataframe tbody tr th {\n",
              "        vertical-align: top;\n",
              "    }\n",
              "\n",
              "    .dataframe thead th {\n",
              "        text-align: right;\n",
              "    }\n",
              "</style>\n",
              "<table border=\"1\" class=\"dataframe\">\n",
              "  <thead>\n",
              "    <tr style=\"text-align: right;\">\n",
              "      <th></th>\n",
              "      <th>gender</th>\n",
              "      <th>SeniorCitizen</th>\n",
              "      <th>Partner</th>\n",
              "      <th>Dependents</th>\n",
              "      <th>tenure</th>\n",
              "      <th>PhoneService</th>\n",
              "      <th>MultipleLines</th>\n",
              "      <th>InternetService</th>\n",
              "      <th>OnlineSecurity</th>\n",
              "      <th>OnlineBackup</th>\n",
              "      <th>DeviceProtection</th>\n",
              "      <th>TechSupport</th>\n",
              "      <th>StreamingTV</th>\n",
              "      <th>StreamingMovies</th>\n",
              "      <th>Contract</th>\n",
              "      <th>PaperlessBilling</th>\n",
              "      <th>PaymentMethod</th>\n",
              "      <th>MonthlyCharges</th>\n",
              "      <th>TotalCharges</th>\n",
              "      <th>Churn</th>\n",
              "    </tr>\n",
              "  </thead>\n",
              "  <tbody>\n",
              "    <tr>\n",
              "      <th>1010</th>\n",
              "      <td>male</td>\n",
              "      <td>no</td>\n",
              "      <td>no</td>\n",
              "      <td>no</td>\n",
              "      <td>3</td>\n",
              "      <td>yes</td>\n",
              "      <td>no</td>\n",
              "      <td>dsl</td>\n",
              "      <td>yes</td>\n",
              "      <td>no</td>\n",
              "      <td>no</td>\n",
              "      <td>no</td>\n",
              "      <td>no</td>\n",
              "      <td>no</td>\n",
              "      <td>month-to-month</td>\n",
              "      <td>yes</td>\n",
              "      <td>mailed check</td>\n",
              "      <td>50.15</td>\n",
              "      <td>160.85</td>\n",
              "      <td>no</td>\n",
              "    </tr>\n",
              "    <tr>\n",
              "      <th>2732</th>\n",
              "      <td>female</td>\n",
              "      <td>no</td>\n",
              "      <td>no</td>\n",
              "      <td>yes</td>\n",
              "      <td>4</td>\n",
              "      <td>yes</td>\n",
              "      <td>no</td>\n",
              "      <td>no</td>\n",
              "      <td>no</td>\n",
              "      <td>no</td>\n",
              "      <td>no</td>\n",
              "      <td>no</td>\n",
              "      <td>no</td>\n",
              "      <td>no</td>\n",
              "      <td>month-to-month</td>\n",
              "      <td>no</td>\n",
              "      <td>credit card (automatic)</td>\n",
              "      <td>20.40</td>\n",
              "      <td>94.50</td>\n",
              "      <td>no</td>\n",
              "    </tr>\n",
              "    <tr>\n",
              "      <th>2940</th>\n",
              "      <td>male</td>\n",
              "      <td>yes</td>\n",
              "      <td>no</td>\n",
              "      <td>no</td>\n",
              "      <td>53</td>\n",
              "      <td>no</td>\n",
              "      <td>no</td>\n",
              "      <td>dsl</td>\n",
              "      <td>no</td>\n",
              "      <td>yes</td>\n",
              "      <td>yes</td>\n",
              "      <td>no</td>\n",
              "      <td>yes</td>\n",
              "      <td>yes</td>\n",
              "      <td>month-to-month</td>\n",
              "      <td>yes</td>\n",
              "      <td>electronic check</td>\n",
              "      <td>54.45</td>\n",
              "      <td>2854.55</td>\n",
              "      <td>yes</td>\n",
              "    </tr>\n",
              "    <tr>\n",
              "      <th>859</th>\n",
              "      <td>male</td>\n",
              "      <td>no</td>\n",
              "      <td>yes</td>\n",
              "      <td>yes</td>\n",
              "      <td>72</td>\n",
              "      <td>no</td>\n",
              "      <td>no</td>\n",
              "      <td>dsl</td>\n",
              "      <td>yes</td>\n",
              "      <td>yes</td>\n",
              "      <td>yes</td>\n",
              "      <td>yes</td>\n",
              "      <td>yes</td>\n",
              "      <td>yes</td>\n",
              "      <td>two year</td>\n",
              "      <td>yes</td>\n",
              "      <td>credit card (automatic)</td>\n",
              "      <td>64.80</td>\n",
              "      <td>4719.75</td>\n",
              "      <td>no</td>\n",
              "    </tr>\n",
              "    <tr>\n",
              "      <th>2895</th>\n",
              "      <td>female</td>\n",
              "      <td>no</td>\n",
              "      <td>yes</td>\n",
              "      <td>no</td>\n",
              "      <td>37</td>\n",
              "      <td>yes</td>\n",
              "      <td>no</td>\n",
              "      <td>no</td>\n",
              "      <td>no</td>\n",
              "      <td>no</td>\n",
              "      <td>no</td>\n",
              "      <td>no</td>\n",
              "      <td>no</td>\n",
              "      <td>no</td>\n",
              "      <td>one year</td>\n",
              "      <td>yes</td>\n",
              "      <td>bank transfer (automatic)</td>\n",
              "      <td>19.85</td>\n",
              "      <td>717.50</td>\n",
              "      <td>no</td>\n",
              "    </tr>\n",
              "  </tbody>\n",
              "</table>\n",
              "</div>"
            ],
            "text/plain": [
              "      gender SeniorCitizen Partner  ... MonthlyCharges  TotalCharges Churn\n",
              "1010    male            no      no  ...          50.15        160.85    no\n",
              "2732  female            no      no  ...          20.40         94.50    no\n",
              "2940    male           yes      no  ...          54.45       2854.55   yes\n",
              "859     male            no     yes  ...          64.80       4719.75    no\n",
              "2895  female            no     yes  ...          19.85        717.50    no\n",
              "\n",
              "[5 rows x 20 columns]"
            ]
          },
          "metadata": {
            "tags": []
          },
          "execution_count": 11
        }
      ]
    },
    {
      "cell_type": "code",
      "metadata": {
        "id": "jXIAqrpl5-kY",
        "colab_type": "code",
        "colab": {}
      },
      "source": [
        "# Separating churn and non churn customers\n",
        "cust_churn = train_data[train_data[\"Churn\"] == \"yes\"]\n",
        "cust_not_churn = train_data[train_data[\"Churn\"] == \"no\"]\n",
        "\n",
        "# Separating catagorical and numerical columns to do EDA\n",
        "target_col = [\"Churn\"]\n",
        "cat_cols   = train_data.nunique()[train_data.nunique() < 6].keys().tolist()\n",
        "cat_cols   = [x for x in cat_cols if x not in target_col]\n",
        "num_cols   = [x for x in train_data.columns if x not in cat_cols + target_col]"
      ],
      "execution_count": null,
      "outputs": []
    },
    {
      "cell_type": "code",
      "metadata": {
        "id": "5GVzhHyQ5_8M",
        "colab_type": "code",
        "colab": {
          "base_uri": "https://localhost:8080/",
          "height": 1000
        },
        "outputId": "f65e81c1-bd46-4753-c039-07981a225f09"
      },
      "source": [
        "# Function for pie plot on data variables with customer churn\n",
        "def plot_pie(column) :\n",
        "    #Churn customers\n",
        "    trace1 = go.Pie(values  = cust_churn[column].value_counts().values.tolist(),\n",
        "                    labels  = cust_churn[column].value_counts().keys().tolist(),\n",
        "                    hoverinfo = \"label+percent+name\",\n",
        "                    domain  = dict(x = [0,.20]),\n",
        "                    name    = \"Churn Customers\",\n",
        "                    marker  = dict(line = dict(width = 2,\n",
        "                                               color = \"rgb(243,243,243)\")\n",
        "                                  ),\n",
        "                    hole    = .6\n",
        "                   )\n",
        "    #Non churn customers\n",
        "    trace2 = go.Pie(values  = cust_not_churn[column].value_counts().values.tolist(),\n",
        "                    labels  = cust_not_churn[column].value_counts().keys().tolist(),\n",
        "                    hoverinfo = \"label+percent+name\",\n",
        "                    marker  = dict(line = dict(width = 2,\n",
        "                                               color = \"rgb(243,243,243)\")\n",
        "                                  ),\n",
        "                    domain  = dict(x = [.52,1]),\n",
        "                    hole    = .6,\n",
        "                    name    = \"Non Churn Customers\" \n",
        "                   )\n",
        "\n",
        "    layout = go.Layout(dict(title = column + \" distribution in customer attrition \",\n",
        "                            plot_bgcolor  = \"rgb(243,243,243)\",\n",
        "                            paper_bgcolor = \"rgb(243,243,243)\",\n",
        "                            annotations = [dict(text = \"Churn Customers\",\n",
        "                                                font = dict(size = 13),\n",
        "                                                showarrow = False,\n",
        "                                                x = .05, y = .5),\n",
        "                                           dict(text = \"Non Churn Customers\",\n",
        "                                                font = dict(size = 13),\n",
        "                                                showarrow = False,\n",
        "                                                x = .83,y = .5\n",
        "                                               )\n",
        "                                          ]\n",
        "                           )\n",
        "                      )\n",
        "    data = [trace1,trace2]\n",
        "    fig  = go.Figure(data = data,layout = layout)\n",
        "    py.iplot(fig)\n",
        "\n",
        "\n",
        "# To run plot pie functions for all categorical columns\n",
        "for i in cat_cols :\n",
        "    plot_pie(i)\n"
      ],
      "execution_count": null,
      "outputs": [
        {
          "output_type": "display_data",
          "data": {
            "text/html": [
              "<html>\n",
              "<head><meta charset=\"utf-8\" /></head>\n",
              "<body>\n",
              "    <div>\n",
              "            <script src=\"https://cdnjs.cloudflare.com/ajax/libs/mathjax/2.7.5/MathJax.js?config=TeX-AMS-MML_SVG\"></script><script type=\"text/javascript\">if (window.MathJax) {MathJax.Hub.Config({SVG: {font: \"STIX-Web\"}});}</script>\n",
              "                <script type=\"text/javascript\">window.PlotlyConfig = {MathJaxConfig: 'local'};</script>\n",
              "        <script src=\"https://cdn.plot.ly/plotly-latest.min.js\"></script>    \n",
              "            <div id=\"9dc4f113-77c4-48cc-abb7-b85ec4264cb2\" class=\"plotly-graph-div\" style=\"height:525px; width:100%;\"></div>\n",
              "            <script type=\"text/javascript\">\n",
              "                \n",
              "                    window.PLOTLYENV=window.PLOTLYENV || {};\n",
              "                    \n",
              "                if (document.getElementById(\"9dc4f113-77c4-48cc-abb7-b85ec4264cb2\")) {\n",
              "                    Plotly.newPlot(\n",
              "                        '9dc4f113-77c4-48cc-abb7-b85ec4264cb2',\n",
              "                        [{\"domain\": {\"x\": [0, 0.2]}, \"hole\": 0.6, \"hoverinfo\": \"label+percent+name\", \"labels\": [\"female\", \"male\"], \"marker\": {\"line\": {\"color\": \"rgb(243,243,243)\", \"width\": 2}}, \"name\": \"Churn Customers\", \"type\": \"pie\", \"values\": [741, 734]}, {\"domain\": {\"x\": [0.52, 1]}, \"hole\": 0.6, \"hoverinfo\": \"label+percent+name\", \"labels\": [\"male\", \"female\"], \"marker\": {\"line\": {\"color\": \"rgb(243,243,243)\", \"width\": 2}}, \"name\": \"Non Churn Customers\", \"type\": \"pie\", \"values\": [2121, 2029]}],\n",
              "                        {\"annotations\": [{\"font\": {\"size\": 13}, \"showarrow\": false, \"text\": \"Churn Customers\", \"x\": 0.05, \"y\": 0.5}, {\"font\": {\"size\": 13}, \"showarrow\": false, \"text\": \"Non Churn Customers\", \"x\": 0.83, \"y\": 0.5}], \"paper_bgcolor\": \"rgb(243,243,243)\", \"plot_bgcolor\": \"rgb(243,243,243)\", \"template\": {\"data\": {\"bar\": [{\"error_x\": {\"color\": \"#2a3f5f\"}, \"error_y\": {\"color\": \"#2a3f5f\"}, \"marker\": {\"line\": {\"color\": \"#E5ECF6\", \"width\": 0.5}}, \"type\": \"bar\"}], \"barpolar\": [{\"marker\": {\"line\": {\"color\": \"#E5ECF6\", \"width\": 0.5}}, \"type\": \"barpolar\"}], \"carpet\": [{\"aaxis\": {\"endlinecolor\": \"#2a3f5f\", \"gridcolor\": \"white\", \"linecolor\": \"white\", \"minorgridcolor\": \"white\", \"startlinecolor\": \"#2a3f5f\"}, \"baxis\": {\"endlinecolor\": \"#2a3f5f\", \"gridcolor\": \"white\", \"linecolor\": \"white\", \"minorgridcolor\": \"white\", \"startlinecolor\": \"#2a3f5f\"}, \"type\": \"carpet\"}], \"choropleth\": [{\"colorbar\": {\"outlinewidth\": 0, \"ticks\": \"\"}, \"type\": \"choropleth\"}], \"contour\": [{\"colorbar\": {\"outlinewidth\": 0, \"ticks\": \"\"}, \"colorscale\": [[0.0, \"#0d0887\"], [0.1111111111111111, \"#46039f\"], [0.2222222222222222, \"#7201a8\"], [0.3333333333333333, \"#9c179e\"], [0.4444444444444444, \"#bd3786\"], [0.5555555555555556, \"#d8576b\"], [0.6666666666666666, \"#ed7953\"], [0.7777777777777778, \"#fb9f3a\"], [0.8888888888888888, \"#fdca26\"], [1.0, \"#f0f921\"]], \"type\": \"contour\"}], \"contourcarpet\": [{\"colorbar\": {\"outlinewidth\": 0, \"ticks\": \"\"}, \"type\": \"contourcarpet\"}], \"heatmap\": [{\"colorbar\": {\"outlinewidth\": 0, \"ticks\": \"\"}, \"colorscale\": [[0.0, \"#0d0887\"], [0.1111111111111111, \"#46039f\"], [0.2222222222222222, \"#7201a8\"], [0.3333333333333333, \"#9c179e\"], [0.4444444444444444, \"#bd3786\"], [0.5555555555555556, \"#d8576b\"], [0.6666666666666666, \"#ed7953\"], [0.7777777777777778, \"#fb9f3a\"], [0.8888888888888888, \"#fdca26\"], [1.0, \"#f0f921\"]], \"type\": \"heatmap\"}], \"heatmapgl\": [{\"colorbar\": {\"outlinewidth\": 0, \"ticks\": \"\"}, \"colorscale\": [[0.0, \"#0d0887\"], [0.1111111111111111, \"#46039f\"], [0.2222222222222222, \"#7201a8\"], [0.3333333333333333, \"#9c179e\"], [0.4444444444444444, \"#bd3786\"], [0.5555555555555556, \"#d8576b\"], [0.6666666666666666, \"#ed7953\"], [0.7777777777777778, \"#fb9f3a\"], [0.8888888888888888, \"#fdca26\"], [1.0, \"#f0f921\"]], \"type\": \"heatmapgl\"}], \"histogram\": [{\"marker\": {\"colorbar\": {\"outlinewidth\": 0, \"ticks\": \"\"}}, \"type\": \"histogram\"}], \"histogram2d\": [{\"colorbar\": {\"outlinewidth\": 0, \"ticks\": \"\"}, \"colorscale\": [[0.0, \"#0d0887\"], [0.1111111111111111, \"#46039f\"], [0.2222222222222222, \"#7201a8\"], [0.3333333333333333, \"#9c179e\"], [0.4444444444444444, \"#bd3786\"], [0.5555555555555556, \"#d8576b\"], [0.6666666666666666, \"#ed7953\"], [0.7777777777777778, \"#fb9f3a\"], [0.8888888888888888, \"#fdca26\"], [1.0, \"#f0f921\"]], \"type\": \"histogram2d\"}], \"histogram2dcontour\": [{\"colorbar\": {\"outlinewidth\": 0, \"ticks\": \"\"}, \"colorscale\": [[0.0, \"#0d0887\"], [0.1111111111111111, \"#46039f\"], [0.2222222222222222, \"#7201a8\"], [0.3333333333333333, \"#9c179e\"], [0.4444444444444444, \"#bd3786\"], [0.5555555555555556, \"#d8576b\"], [0.6666666666666666, \"#ed7953\"], [0.7777777777777778, \"#fb9f3a\"], [0.8888888888888888, \"#fdca26\"], [1.0, \"#f0f921\"]], \"type\": \"histogram2dcontour\"}], \"mesh3d\": [{\"colorbar\": {\"outlinewidth\": 0, \"ticks\": \"\"}, \"type\": \"mesh3d\"}], \"parcoords\": [{\"line\": {\"colorbar\": {\"outlinewidth\": 0, \"ticks\": \"\"}}, \"type\": \"parcoords\"}], \"pie\": [{\"automargin\": true, \"type\": \"pie\"}], \"scatter\": [{\"marker\": {\"colorbar\": {\"outlinewidth\": 0, \"ticks\": \"\"}}, \"type\": \"scatter\"}], \"scatter3d\": [{\"line\": {\"colorbar\": {\"outlinewidth\": 0, \"ticks\": \"\"}}, \"marker\": {\"colorbar\": {\"outlinewidth\": 0, \"ticks\": \"\"}}, \"type\": \"scatter3d\"}], \"scattercarpet\": [{\"marker\": {\"colorbar\": {\"outlinewidth\": 0, \"ticks\": \"\"}}, \"type\": \"scattercarpet\"}], \"scattergeo\": [{\"marker\": {\"colorbar\": {\"outlinewidth\": 0, \"ticks\": \"\"}}, \"type\": \"scattergeo\"}], \"scattergl\": [{\"marker\": {\"colorbar\": {\"outlinewidth\": 0, \"ticks\": \"\"}}, \"type\": \"scattergl\"}], \"scattermapbox\": [{\"marker\": {\"colorbar\": {\"outlinewidth\": 0, \"ticks\": \"\"}}, \"type\": \"scattermapbox\"}], \"scatterpolar\": [{\"marker\": {\"colorbar\": {\"outlinewidth\": 0, \"ticks\": \"\"}}, \"type\": \"scatterpolar\"}], \"scatterpolargl\": [{\"marker\": {\"colorbar\": {\"outlinewidth\": 0, \"ticks\": \"\"}}, \"type\": \"scatterpolargl\"}], \"scatterternary\": [{\"marker\": {\"colorbar\": {\"outlinewidth\": 0, \"ticks\": \"\"}}, \"type\": \"scatterternary\"}], \"surface\": [{\"colorbar\": {\"outlinewidth\": 0, \"ticks\": \"\"}, \"colorscale\": [[0.0, \"#0d0887\"], [0.1111111111111111, \"#46039f\"], [0.2222222222222222, \"#7201a8\"], [0.3333333333333333, \"#9c179e\"], [0.4444444444444444, \"#bd3786\"], [0.5555555555555556, \"#d8576b\"], [0.6666666666666666, \"#ed7953\"], [0.7777777777777778, \"#fb9f3a\"], [0.8888888888888888, \"#fdca26\"], [1.0, \"#f0f921\"]], \"type\": \"surface\"}], \"table\": [{\"cells\": {\"fill\": {\"color\": \"#EBF0F8\"}, \"line\": {\"color\": \"white\"}}, \"header\": {\"fill\": {\"color\": \"#C8D4E3\"}, \"line\": {\"color\": \"white\"}}, \"type\": \"table\"}]}, \"layout\": {\"annotationdefaults\": {\"arrowcolor\": \"#2a3f5f\", \"arrowhead\": 0, \"arrowwidth\": 1}, \"coloraxis\": {\"colorbar\": {\"outlinewidth\": 0, \"ticks\": \"\"}}, \"colorscale\": {\"diverging\": [[0, \"#8e0152\"], [0.1, \"#c51b7d\"], [0.2, \"#de77ae\"], [0.3, \"#f1b6da\"], [0.4, \"#fde0ef\"], [0.5, \"#f7f7f7\"], [0.6, \"#e6f5d0\"], [0.7, \"#b8e186\"], [0.8, \"#7fbc41\"], [0.9, \"#4d9221\"], [1, \"#276419\"]], \"sequential\": [[0.0, \"#0d0887\"], [0.1111111111111111, \"#46039f\"], [0.2222222222222222, \"#7201a8\"], [0.3333333333333333, \"#9c179e\"], [0.4444444444444444, \"#bd3786\"], [0.5555555555555556, \"#d8576b\"], [0.6666666666666666, \"#ed7953\"], [0.7777777777777778, \"#fb9f3a\"], [0.8888888888888888, \"#fdca26\"], [1.0, \"#f0f921\"]], \"sequentialminus\": [[0.0, \"#0d0887\"], [0.1111111111111111, \"#46039f\"], [0.2222222222222222, \"#7201a8\"], [0.3333333333333333, \"#9c179e\"], [0.4444444444444444, \"#bd3786\"], [0.5555555555555556, \"#d8576b\"], [0.6666666666666666, \"#ed7953\"], [0.7777777777777778, \"#fb9f3a\"], [0.8888888888888888, \"#fdca26\"], [1.0, \"#f0f921\"]]}, \"colorway\": [\"#636efa\", \"#EF553B\", \"#00cc96\", \"#ab63fa\", \"#FFA15A\", \"#19d3f3\", \"#FF6692\", \"#B6E880\", \"#FF97FF\", \"#FECB52\"], \"font\": {\"color\": \"#2a3f5f\"}, \"geo\": {\"bgcolor\": \"white\", \"lakecolor\": \"white\", \"landcolor\": \"#E5ECF6\", \"showlakes\": true, \"showland\": true, \"subunitcolor\": \"white\"}, \"hoverlabel\": {\"align\": \"left\"}, \"hovermode\": \"closest\", \"mapbox\": {\"style\": \"light\"}, \"paper_bgcolor\": \"white\", \"plot_bgcolor\": \"#E5ECF6\", \"polar\": {\"angularaxis\": {\"gridcolor\": \"white\", \"linecolor\": \"white\", \"ticks\": \"\"}, \"bgcolor\": \"#E5ECF6\", \"radialaxis\": {\"gridcolor\": \"white\", \"linecolor\": \"white\", \"ticks\": \"\"}}, \"scene\": {\"xaxis\": {\"backgroundcolor\": \"#E5ECF6\", \"gridcolor\": \"white\", \"gridwidth\": 2, \"linecolor\": \"white\", \"showbackground\": true, \"ticks\": \"\", \"zerolinecolor\": \"white\"}, \"yaxis\": {\"backgroundcolor\": \"#E5ECF6\", \"gridcolor\": \"white\", \"gridwidth\": 2, \"linecolor\": \"white\", \"showbackground\": true, \"ticks\": \"\", \"zerolinecolor\": \"white\"}, \"zaxis\": {\"backgroundcolor\": \"#E5ECF6\", \"gridcolor\": \"white\", \"gridwidth\": 2, \"linecolor\": \"white\", \"showbackground\": true, \"ticks\": \"\", \"zerolinecolor\": \"white\"}}, \"shapedefaults\": {\"line\": {\"color\": \"#2a3f5f\"}}, \"ternary\": {\"aaxis\": {\"gridcolor\": \"white\", \"linecolor\": \"white\", \"ticks\": \"\"}, \"baxis\": {\"gridcolor\": \"white\", \"linecolor\": \"white\", \"ticks\": \"\"}, \"bgcolor\": \"#E5ECF6\", \"caxis\": {\"gridcolor\": \"white\", \"linecolor\": \"white\", \"ticks\": \"\"}}, \"title\": {\"x\": 0.05}, \"xaxis\": {\"automargin\": true, \"gridcolor\": \"white\", \"linecolor\": \"white\", \"ticks\": \"\", \"title\": {\"standoff\": 15}, \"zerolinecolor\": \"white\", \"zerolinewidth\": 2}, \"yaxis\": {\"automargin\": true, \"gridcolor\": \"white\", \"linecolor\": \"white\", \"ticks\": \"\", \"title\": {\"standoff\": 15}, \"zerolinecolor\": \"white\", \"zerolinewidth\": 2}}}, \"title\": {\"text\": \"gender distribution in customer attrition \"}},\n",
              "                        {\"responsive\": true}\n",
              "                    ).then(function(){\n",
              "                            \n",
              "var gd = document.getElementById('9dc4f113-77c4-48cc-abb7-b85ec4264cb2');\n",
              "var x = new MutationObserver(function (mutations, observer) {{\n",
              "        var display = window.getComputedStyle(gd).display;\n",
              "        if (!display || display === 'none') {{\n",
              "            console.log([gd, 'removed!']);\n",
              "            Plotly.purge(gd);\n",
              "            observer.disconnect();\n",
              "        }}\n",
              "}});\n",
              "\n",
              "// Listen for the removal of the full notebook cells\n",
              "var notebookContainer = gd.closest('#notebook-container');\n",
              "if (notebookContainer) {{\n",
              "    x.observe(notebookContainer, {childList: true});\n",
              "}}\n",
              "\n",
              "// Listen for the clearing of the current output cell\n",
              "var outputEl = gd.closest('.output');\n",
              "if (outputEl) {{\n",
              "    x.observe(outputEl, {childList: true});\n",
              "}}\n",
              "\n",
              "                        })\n",
              "                };\n",
              "                \n",
              "            </script>\n",
              "        </div>\n",
              "</body>\n",
              "</html>"
            ]
          },
          "metadata": {
            "tags": []
          }
        },
        {
          "output_type": "display_data",
          "data": {
            "text/html": [
              "<html>\n",
              "<head><meta charset=\"utf-8\" /></head>\n",
              "<body>\n",
              "    <div>\n",
              "            <script src=\"https://cdnjs.cloudflare.com/ajax/libs/mathjax/2.7.5/MathJax.js?config=TeX-AMS-MML_SVG\"></script><script type=\"text/javascript\">if (window.MathJax) {MathJax.Hub.Config({SVG: {font: \"STIX-Web\"}});}</script>\n",
              "                <script type=\"text/javascript\">window.PlotlyConfig = {MathJaxConfig: 'local'};</script>\n",
              "        <script src=\"https://cdn.plot.ly/plotly-latest.min.js\"></script>    \n",
              "            <div id=\"fc365981-258f-4b4d-b183-646c7021ff92\" class=\"plotly-graph-div\" style=\"height:525px; width:100%;\"></div>\n",
              "            <script type=\"text/javascript\">\n",
              "                \n",
              "                    window.PLOTLYENV=window.PLOTLYENV || {};\n",
              "                    \n",
              "                if (document.getElementById(\"fc365981-258f-4b4d-b183-646c7021ff92\")) {\n",
              "                    Plotly.newPlot(\n",
              "                        'fc365981-258f-4b4d-b183-646c7021ff92',\n",
              "                        [{\"domain\": {\"x\": [0, 0.2]}, \"hole\": 0.6, \"hoverinfo\": \"label+percent+name\", \"labels\": [\"no\", \"yes\"], \"marker\": {\"line\": {\"color\": \"rgb(243,243,243)\", \"width\": 2}}, \"name\": \"Churn Customers\", \"type\": \"pie\", \"values\": [1087, 388]}, {\"domain\": {\"x\": [0.52, 1]}, \"hole\": 0.6, \"hoverinfo\": \"label+percent+name\", \"labels\": [\"no\", \"yes\"], \"marker\": {\"line\": {\"color\": \"rgb(243,243,243)\", \"width\": 2}}, \"name\": \"Non Churn Customers\", \"type\": \"pie\", \"values\": [3636, 514]}],\n",
              "                        {\"annotations\": [{\"font\": {\"size\": 13}, \"showarrow\": false, \"text\": \"Churn Customers\", \"x\": 0.05, \"y\": 0.5}, {\"font\": {\"size\": 13}, \"showarrow\": false, \"text\": \"Non Churn Customers\", \"x\": 0.83, \"y\": 0.5}], \"paper_bgcolor\": \"rgb(243,243,243)\", \"plot_bgcolor\": \"rgb(243,243,243)\", \"template\": {\"data\": {\"bar\": [{\"error_x\": {\"color\": \"#2a3f5f\"}, \"error_y\": {\"color\": \"#2a3f5f\"}, \"marker\": {\"line\": {\"color\": \"#E5ECF6\", \"width\": 0.5}}, \"type\": \"bar\"}], \"barpolar\": [{\"marker\": {\"line\": {\"color\": \"#E5ECF6\", \"width\": 0.5}}, \"type\": \"barpolar\"}], \"carpet\": [{\"aaxis\": {\"endlinecolor\": \"#2a3f5f\", \"gridcolor\": \"white\", \"linecolor\": \"white\", \"minorgridcolor\": \"white\", \"startlinecolor\": \"#2a3f5f\"}, \"baxis\": {\"endlinecolor\": \"#2a3f5f\", \"gridcolor\": \"white\", \"linecolor\": \"white\", \"minorgridcolor\": \"white\", \"startlinecolor\": \"#2a3f5f\"}, \"type\": \"carpet\"}], \"choropleth\": [{\"colorbar\": {\"outlinewidth\": 0, \"ticks\": \"\"}, \"type\": \"choropleth\"}], \"contour\": [{\"colorbar\": {\"outlinewidth\": 0, \"ticks\": \"\"}, \"colorscale\": [[0.0, \"#0d0887\"], [0.1111111111111111, \"#46039f\"], [0.2222222222222222, \"#7201a8\"], [0.3333333333333333, \"#9c179e\"], [0.4444444444444444, \"#bd3786\"], [0.5555555555555556, \"#d8576b\"], [0.6666666666666666, \"#ed7953\"], [0.7777777777777778, \"#fb9f3a\"], [0.8888888888888888, \"#fdca26\"], [1.0, \"#f0f921\"]], \"type\": \"contour\"}], \"contourcarpet\": [{\"colorbar\": {\"outlinewidth\": 0, \"ticks\": \"\"}, \"type\": \"contourcarpet\"}], \"heatmap\": [{\"colorbar\": {\"outlinewidth\": 0, \"ticks\": \"\"}, \"colorscale\": [[0.0, \"#0d0887\"], [0.1111111111111111, \"#46039f\"], [0.2222222222222222, \"#7201a8\"], [0.3333333333333333, \"#9c179e\"], [0.4444444444444444, \"#bd3786\"], [0.5555555555555556, \"#d8576b\"], [0.6666666666666666, \"#ed7953\"], [0.7777777777777778, \"#fb9f3a\"], [0.8888888888888888, \"#fdca26\"], [1.0, \"#f0f921\"]], \"type\": \"heatmap\"}], \"heatmapgl\": [{\"colorbar\": {\"outlinewidth\": 0, \"ticks\": \"\"}, \"colorscale\": [[0.0, \"#0d0887\"], [0.1111111111111111, \"#46039f\"], [0.2222222222222222, \"#7201a8\"], [0.3333333333333333, \"#9c179e\"], [0.4444444444444444, \"#bd3786\"], [0.5555555555555556, \"#d8576b\"], [0.6666666666666666, \"#ed7953\"], [0.7777777777777778, \"#fb9f3a\"], [0.8888888888888888, \"#fdca26\"], [1.0, \"#f0f921\"]], \"type\": \"heatmapgl\"}], \"histogram\": [{\"marker\": {\"colorbar\": {\"outlinewidth\": 0, \"ticks\": \"\"}}, \"type\": \"histogram\"}], \"histogram2d\": [{\"colorbar\": {\"outlinewidth\": 0, \"ticks\": \"\"}, \"colorscale\": [[0.0, \"#0d0887\"], [0.1111111111111111, \"#46039f\"], [0.2222222222222222, \"#7201a8\"], [0.3333333333333333, \"#9c179e\"], [0.4444444444444444, \"#bd3786\"], [0.5555555555555556, \"#d8576b\"], [0.6666666666666666, \"#ed7953\"], [0.7777777777777778, \"#fb9f3a\"], [0.8888888888888888, \"#fdca26\"], [1.0, \"#f0f921\"]], \"type\": \"histogram2d\"}], \"histogram2dcontour\": [{\"colorbar\": {\"outlinewidth\": 0, \"ticks\": \"\"}, \"colorscale\": [[0.0, \"#0d0887\"], [0.1111111111111111, \"#46039f\"], [0.2222222222222222, \"#7201a8\"], [0.3333333333333333, \"#9c179e\"], [0.4444444444444444, \"#bd3786\"], [0.5555555555555556, \"#d8576b\"], [0.6666666666666666, \"#ed7953\"], [0.7777777777777778, \"#fb9f3a\"], [0.8888888888888888, \"#fdca26\"], [1.0, \"#f0f921\"]], \"type\": \"histogram2dcontour\"}], \"mesh3d\": [{\"colorbar\": {\"outlinewidth\": 0, \"ticks\": \"\"}, \"type\": \"mesh3d\"}], \"parcoords\": [{\"line\": {\"colorbar\": {\"outlinewidth\": 0, \"ticks\": \"\"}}, \"type\": \"parcoords\"}], \"pie\": [{\"automargin\": true, \"type\": \"pie\"}], \"scatter\": [{\"marker\": {\"colorbar\": {\"outlinewidth\": 0, \"ticks\": \"\"}}, \"type\": \"scatter\"}], \"scatter3d\": [{\"line\": {\"colorbar\": {\"outlinewidth\": 0, \"ticks\": \"\"}}, \"marker\": {\"colorbar\": {\"outlinewidth\": 0, \"ticks\": \"\"}}, \"type\": \"scatter3d\"}], \"scattercarpet\": [{\"marker\": {\"colorbar\": {\"outlinewidth\": 0, \"ticks\": \"\"}}, \"type\": \"scattercarpet\"}], \"scattergeo\": [{\"marker\": {\"colorbar\": {\"outlinewidth\": 0, \"ticks\": \"\"}}, \"type\": \"scattergeo\"}], \"scattergl\": [{\"marker\": {\"colorbar\": {\"outlinewidth\": 0, \"ticks\": \"\"}}, \"type\": \"scattergl\"}], \"scattermapbox\": [{\"marker\": {\"colorbar\": {\"outlinewidth\": 0, \"ticks\": \"\"}}, \"type\": \"scattermapbox\"}], \"scatterpolar\": [{\"marker\": {\"colorbar\": {\"outlinewidth\": 0, \"ticks\": \"\"}}, \"type\": \"scatterpolar\"}], \"scatterpolargl\": [{\"marker\": {\"colorbar\": {\"outlinewidth\": 0, \"ticks\": \"\"}}, \"type\": \"scatterpolargl\"}], \"scatterternary\": [{\"marker\": {\"colorbar\": {\"outlinewidth\": 0, \"ticks\": \"\"}}, \"type\": \"scatterternary\"}], \"surface\": [{\"colorbar\": {\"outlinewidth\": 0, \"ticks\": \"\"}, \"colorscale\": [[0.0, \"#0d0887\"], [0.1111111111111111, \"#46039f\"], [0.2222222222222222, \"#7201a8\"], [0.3333333333333333, \"#9c179e\"], [0.4444444444444444, \"#bd3786\"], [0.5555555555555556, \"#d8576b\"], [0.6666666666666666, \"#ed7953\"], [0.7777777777777778, \"#fb9f3a\"], [0.8888888888888888, \"#fdca26\"], [1.0, \"#f0f921\"]], \"type\": \"surface\"}], \"table\": [{\"cells\": {\"fill\": {\"color\": \"#EBF0F8\"}, \"line\": {\"color\": \"white\"}}, \"header\": {\"fill\": {\"color\": \"#C8D4E3\"}, \"line\": {\"color\": \"white\"}}, \"type\": \"table\"}]}, \"layout\": {\"annotationdefaults\": {\"arrowcolor\": \"#2a3f5f\", \"arrowhead\": 0, \"arrowwidth\": 1}, \"coloraxis\": {\"colorbar\": {\"outlinewidth\": 0, \"ticks\": \"\"}}, \"colorscale\": {\"diverging\": [[0, \"#8e0152\"], [0.1, \"#c51b7d\"], [0.2, \"#de77ae\"], [0.3, \"#f1b6da\"], [0.4, \"#fde0ef\"], [0.5, \"#f7f7f7\"], [0.6, \"#e6f5d0\"], [0.7, \"#b8e186\"], [0.8, \"#7fbc41\"], [0.9, \"#4d9221\"], [1, \"#276419\"]], \"sequential\": [[0.0, \"#0d0887\"], [0.1111111111111111, \"#46039f\"], [0.2222222222222222, \"#7201a8\"], [0.3333333333333333, \"#9c179e\"], [0.4444444444444444, \"#bd3786\"], [0.5555555555555556, \"#d8576b\"], [0.6666666666666666, \"#ed7953\"], [0.7777777777777778, \"#fb9f3a\"], [0.8888888888888888, \"#fdca26\"], [1.0, \"#f0f921\"]], \"sequentialminus\": [[0.0, \"#0d0887\"], [0.1111111111111111, \"#46039f\"], [0.2222222222222222, \"#7201a8\"], [0.3333333333333333, \"#9c179e\"], [0.4444444444444444, \"#bd3786\"], [0.5555555555555556, \"#d8576b\"], [0.6666666666666666, \"#ed7953\"], [0.7777777777777778, \"#fb9f3a\"], [0.8888888888888888, \"#fdca26\"], [1.0, \"#f0f921\"]]}, \"colorway\": [\"#636efa\", \"#EF553B\", \"#00cc96\", \"#ab63fa\", \"#FFA15A\", \"#19d3f3\", \"#FF6692\", \"#B6E880\", \"#FF97FF\", \"#FECB52\"], \"font\": {\"color\": \"#2a3f5f\"}, \"geo\": {\"bgcolor\": \"white\", \"lakecolor\": \"white\", \"landcolor\": \"#E5ECF6\", \"showlakes\": true, \"showland\": true, \"subunitcolor\": \"white\"}, \"hoverlabel\": {\"align\": \"left\"}, \"hovermode\": \"closest\", \"mapbox\": {\"style\": \"light\"}, \"paper_bgcolor\": \"white\", \"plot_bgcolor\": \"#E5ECF6\", \"polar\": {\"angularaxis\": {\"gridcolor\": \"white\", \"linecolor\": \"white\", \"ticks\": \"\"}, \"bgcolor\": \"#E5ECF6\", \"radialaxis\": {\"gridcolor\": \"white\", \"linecolor\": \"white\", \"ticks\": \"\"}}, \"scene\": {\"xaxis\": {\"backgroundcolor\": \"#E5ECF6\", \"gridcolor\": \"white\", \"gridwidth\": 2, \"linecolor\": \"white\", \"showbackground\": true, \"ticks\": \"\", \"zerolinecolor\": \"white\"}, \"yaxis\": {\"backgroundcolor\": \"#E5ECF6\", \"gridcolor\": \"white\", \"gridwidth\": 2, \"linecolor\": \"white\", \"showbackground\": true, \"ticks\": \"\", \"zerolinecolor\": \"white\"}, \"zaxis\": {\"backgroundcolor\": \"#E5ECF6\", \"gridcolor\": \"white\", \"gridwidth\": 2, \"linecolor\": \"white\", \"showbackground\": true, \"ticks\": \"\", \"zerolinecolor\": \"white\"}}, \"shapedefaults\": {\"line\": {\"color\": \"#2a3f5f\"}}, \"ternary\": {\"aaxis\": {\"gridcolor\": \"white\", \"linecolor\": \"white\", \"ticks\": \"\"}, \"baxis\": {\"gridcolor\": \"white\", \"linecolor\": \"white\", \"ticks\": \"\"}, \"bgcolor\": \"#E5ECF6\", \"caxis\": {\"gridcolor\": \"white\", \"linecolor\": \"white\", \"ticks\": \"\"}}, \"title\": {\"x\": 0.05}, \"xaxis\": {\"automargin\": true, \"gridcolor\": \"white\", \"linecolor\": \"white\", \"ticks\": \"\", \"title\": {\"standoff\": 15}, \"zerolinecolor\": \"white\", \"zerolinewidth\": 2}, \"yaxis\": {\"automargin\": true, \"gridcolor\": \"white\", \"linecolor\": \"white\", \"ticks\": \"\", \"title\": {\"standoff\": 15}, \"zerolinecolor\": \"white\", \"zerolinewidth\": 2}}}, \"title\": {\"text\": \"SeniorCitizen distribution in customer attrition \"}},\n",
              "                        {\"responsive\": true}\n",
              "                    ).then(function(){\n",
              "                            \n",
              "var gd = document.getElementById('fc365981-258f-4b4d-b183-646c7021ff92');\n",
              "var x = new MutationObserver(function (mutations, observer) {{\n",
              "        var display = window.getComputedStyle(gd).display;\n",
              "        if (!display || display === 'none') {{\n",
              "            console.log([gd, 'removed!']);\n",
              "            Plotly.purge(gd);\n",
              "            observer.disconnect();\n",
              "        }}\n",
              "}});\n",
              "\n",
              "// Listen for the removal of the full notebook cells\n",
              "var notebookContainer = gd.closest('#notebook-container');\n",
              "if (notebookContainer) {{\n",
              "    x.observe(notebookContainer, {childList: true});\n",
              "}}\n",
              "\n",
              "// Listen for the clearing of the current output cell\n",
              "var outputEl = gd.closest('.output');\n",
              "if (outputEl) {{\n",
              "    x.observe(outputEl, {childList: true});\n",
              "}}\n",
              "\n",
              "                        })\n",
              "                };\n",
              "                \n",
              "            </script>\n",
              "        </div>\n",
              "</body>\n",
              "</html>"
            ]
          },
          "metadata": {
            "tags": []
          }
        },
        {
          "output_type": "display_data",
          "data": {
            "text/html": [
              "<html>\n",
              "<head><meta charset=\"utf-8\" /></head>\n",
              "<body>\n",
              "    <div>\n",
              "            <script src=\"https://cdnjs.cloudflare.com/ajax/libs/mathjax/2.7.5/MathJax.js?config=TeX-AMS-MML_SVG\"></script><script type=\"text/javascript\">if (window.MathJax) {MathJax.Hub.Config({SVG: {font: \"STIX-Web\"}});}</script>\n",
              "                <script type=\"text/javascript\">window.PlotlyConfig = {MathJaxConfig: 'local'};</script>\n",
              "        <script src=\"https://cdn.plot.ly/plotly-latest.min.js\"></script>    \n",
              "            <div id=\"9ed59fd3-21c2-4ed7-b901-a55e493bba31\" class=\"plotly-graph-div\" style=\"height:525px; width:100%;\"></div>\n",
              "            <script type=\"text/javascript\">\n",
              "                \n",
              "                    window.PLOTLYENV=window.PLOTLYENV || {};\n",
              "                    \n",
              "                if (document.getElementById(\"9ed59fd3-21c2-4ed7-b901-a55e493bba31\")) {\n",
              "                    Plotly.newPlot(\n",
              "                        '9ed59fd3-21c2-4ed7-b901-a55e493bba31',\n",
              "                        [{\"domain\": {\"x\": [0, 0.2]}, \"hole\": 0.6, \"hoverinfo\": \"label+percent+name\", \"labels\": [\"no\", \"yes\"], \"marker\": {\"line\": {\"color\": \"rgb(243,243,243)\", \"width\": 2}}, \"name\": \"Churn Customers\", \"type\": \"pie\", \"values\": [952, 523]}, {\"domain\": {\"x\": [0.52, 1]}, \"hole\": 0.6, \"hoverinfo\": \"label+percent+name\", \"labels\": [\"yes\", \"no\"], \"marker\": {\"line\": {\"color\": \"rgb(243,243,243)\", \"width\": 2}}, \"name\": \"Non Churn Customers\", \"type\": \"pie\", \"values\": [2161, 1989]}],\n",
              "                        {\"annotations\": [{\"font\": {\"size\": 13}, \"showarrow\": false, \"text\": \"Churn Customers\", \"x\": 0.05, \"y\": 0.5}, {\"font\": {\"size\": 13}, \"showarrow\": false, \"text\": \"Non Churn Customers\", \"x\": 0.83, \"y\": 0.5}], \"paper_bgcolor\": \"rgb(243,243,243)\", \"plot_bgcolor\": \"rgb(243,243,243)\", \"template\": {\"data\": {\"bar\": [{\"error_x\": {\"color\": \"#2a3f5f\"}, \"error_y\": {\"color\": \"#2a3f5f\"}, \"marker\": {\"line\": {\"color\": \"#E5ECF6\", \"width\": 0.5}}, \"type\": \"bar\"}], \"barpolar\": [{\"marker\": {\"line\": {\"color\": \"#E5ECF6\", \"width\": 0.5}}, \"type\": \"barpolar\"}], \"carpet\": [{\"aaxis\": {\"endlinecolor\": \"#2a3f5f\", \"gridcolor\": \"white\", \"linecolor\": \"white\", \"minorgridcolor\": \"white\", \"startlinecolor\": \"#2a3f5f\"}, \"baxis\": {\"endlinecolor\": \"#2a3f5f\", \"gridcolor\": \"white\", \"linecolor\": \"white\", \"minorgridcolor\": \"white\", \"startlinecolor\": \"#2a3f5f\"}, \"type\": \"carpet\"}], \"choropleth\": [{\"colorbar\": {\"outlinewidth\": 0, \"ticks\": \"\"}, \"type\": \"choropleth\"}], \"contour\": [{\"colorbar\": {\"outlinewidth\": 0, \"ticks\": \"\"}, \"colorscale\": [[0.0, \"#0d0887\"], [0.1111111111111111, \"#46039f\"], [0.2222222222222222, \"#7201a8\"], [0.3333333333333333, \"#9c179e\"], [0.4444444444444444, \"#bd3786\"], [0.5555555555555556, \"#d8576b\"], [0.6666666666666666, \"#ed7953\"], [0.7777777777777778, \"#fb9f3a\"], [0.8888888888888888, \"#fdca26\"], [1.0, \"#f0f921\"]], \"type\": \"contour\"}], \"contourcarpet\": [{\"colorbar\": {\"outlinewidth\": 0, \"ticks\": \"\"}, \"type\": \"contourcarpet\"}], \"heatmap\": [{\"colorbar\": {\"outlinewidth\": 0, \"ticks\": \"\"}, \"colorscale\": [[0.0, \"#0d0887\"], [0.1111111111111111, \"#46039f\"], [0.2222222222222222, \"#7201a8\"], [0.3333333333333333, \"#9c179e\"], [0.4444444444444444, \"#bd3786\"], [0.5555555555555556, \"#d8576b\"], [0.6666666666666666, \"#ed7953\"], [0.7777777777777778, \"#fb9f3a\"], [0.8888888888888888, \"#fdca26\"], [1.0, \"#f0f921\"]], \"type\": \"heatmap\"}], \"heatmapgl\": [{\"colorbar\": {\"outlinewidth\": 0, \"ticks\": \"\"}, \"colorscale\": [[0.0, \"#0d0887\"], [0.1111111111111111, \"#46039f\"], [0.2222222222222222, \"#7201a8\"], [0.3333333333333333, \"#9c179e\"], [0.4444444444444444, \"#bd3786\"], [0.5555555555555556, \"#d8576b\"], [0.6666666666666666, \"#ed7953\"], [0.7777777777777778, \"#fb9f3a\"], [0.8888888888888888, \"#fdca26\"], [1.0, \"#f0f921\"]], \"type\": \"heatmapgl\"}], \"histogram\": [{\"marker\": {\"colorbar\": {\"outlinewidth\": 0, \"ticks\": \"\"}}, \"type\": \"histogram\"}], \"histogram2d\": [{\"colorbar\": {\"outlinewidth\": 0, \"ticks\": \"\"}, \"colorscale\": [[0.0, \"#0d0887\"], [0.1111111111111111, \"#46039f\"], [0.2222222222222222, \"#7201a8\"], [0.3333333333333333, \"#9c179e\"], [0.4444444444444444, \"#bd3786\"], [0.5555555555555556, \"#d8576b\"], [0.6666666666666666, \"#ed7953\"], [0.7777777777777778, \"#fb9f3a\"], [0.8888888888888888, \"#fdca26\"], [1.0, \"#f0f921\"]], \"type\": \"histogram2d\"}], \"histogram2dcontour\": [{\"colorbar\": {\"outlinewidth\": 0, \"ticks\": \"\"}, \"colorscale\": [[0.0, \"#0d0887\"], [0.1111111111111111, \"#46039f\"], [0.2222222222222222, \"#7201a8\"], [0.3333333333333333, \"#9c179e\"], [0.4444444444444444, \"#bd3786\"], [0.5555555555555556, \"#d8576b\"], [0.6666666666666666, \"#ed7953\"], [0.7777777777777778, \"#fb9f3a\"], [0.8888888888888888, \"#fdca26\"], [1.0, \"#f0f921\"]], \"type\": \"histogram2dcontour\"}], \"mesh3d\": [{\"colorbar\": {\"outlinewidth\": 0, \"ticks\": \"\"}, \"type\": \"mesh3d\"}], \"parcoords\": [{\"line\": {\"colorbar\": {\"outlinewidth\": 0, \"ticks\": \"\"}}, \"type\": \"parcoords\"}], \"pie\": [{\"automargin\": true, \"type\": \"pie\"}], \"scatter\": [{\"marker\": {\"colorbar\": {\"outlinewidth\": 0, \"ticks\": \"\"}}, \"type\": \"scatter\"}], \"scatter3d\": [{\"line\": {\"colorbar\": {\"outlinewidth\": 0, \"ticks\": \"\"}}, \"marker\": {\"colorbar\": {\"outlinewidth\": 0, \"ticks\": \"\"}}, \"type\": \"scatter3d\"}], \"scattercarpet\": [{\"marker\": {\"colorbar\": {\"outlinewidth\": 0, \"ticks\": \"\"}}, \"type\": \"scattercarpet\"}], \"scattergeo\": [{\"marker\": {\"colorbar\": {\"outlinewidth\": 0, \"ticks\": \"\"}}, \"type\": \"scattergeo\"}], \"scattergl\": [{\"marker\": {\"colorbar\": {\"outlinewidth\": 0, \"ticks\": \"\"}}, \"type\": \"scattergl\"}], \"scattermapbox\": [{\"marker\": {\"colorbar\": {\"outlinewidth\": 0, \"ticks\": \"\"}}, \"type\": \"scattermapbox\"}], \"scatterpolar\": [{\"marker\": {\"colorbar\": {\"outlinewidth\": 0, \"ticks\": \"\"}}, \"type\": \"scatterpolar\"}], \"scatterpolargl\": [{\"marker\": {\"colorbar\": {\"outlinewidth\": 0, \"ticks\": \"\"}}, \"type\": \"scatterpolargl\"}], \"scatterternary\": [{\"marker\": {\"colorbar\": {\"outlinewidth\": 0, \"ticks\": \"\"}}, \"type\": \"scatterternary\"}], \"surface\": [{\"colorbar\": {\"outlinewidth\": 0, \"ticks\": \"\"}, \"colorscale\": [[0.0, \"#0d0887\"], [0.1111111111111111, \"#46039f\"], [0.2222222222222222, \"#7201a8\"], [0.3333333333333333, \"#9c179e\"], [0.4444444444444444, \"#bd3786\"], [0.5555555555555556, \"#d8576b\"], [0.6666666666666666, \"#ed7953\"], [0.7777777777777778, \"#fb9f3a\"], [0.8888888888888888, \"#fdca26\"], [1.0, \"#f0f921\"]], \"type\": \"surface\"}], \"table\": [{\"cells\": {\"fill\": {\"color\": \"#EBF0F8\"}, \"line\": {\"color\": \"white\"}}, \"header\": {\"fill\": {\"color\": \"#C8D4E3\"}, \"line\": {\"color\": \"white\"}}, \"type\": \"table\"}]}, \"layout\": {\"annotationdefaults\": {\"arrowcolor\": \"#2a3f5f\", \"arrowhead\": 0, \"arrowwidth\": 1}, \"coloraxis\": {\"colorbar\": {\"outlinewidth\": 0, \"ticks\": \"\"}}, \"colorscale\": {\"diverging\": [[0, \"#8e0152\"], [0.1, \"#c51b7d\"], [0.2, \"#de77ae\"], [0.3, \"#f1b6da\"], [0.4, \"#fde0ef\"], [0.5, \"#f7f7f7\"], [0.6, \"#e6f5d0\"], [0.7, \"#b8e186\"], [0.8, \"#7fbc41\"], [0.9, \"#4d9221\"], [1, \"#276419\"]], \"sequential\": [[0.0, \"#0d0887\"], [0.1111111111111111, \"#46039f\"], [0.2222222222222222, \"#7201a8\"], [0.3333333333333333, \"#9c179e\"], [0.4444444444444444, \"#bd3786\"], [0.5555555555555556, \"#d8576b\"], [0.6666666666666666, \"#ed7953\"], [0.7777777777777778, \"#fb9f3a\"], [0.8888888888888888, \"#fdca26\"], [1.0, \"#f0f921\"]], \"sequentialminus\": [[0.0, \"#0d0887\"], [0.1111111111111111, \"#46039f\"], [0.2222222222222222, \"#7201a8\"], [0.3333333333333333, \"#9c179e\"], [0.4444444444444444, \"#bd3786\"], [0.5555555555555556, \"#d8576b\"], [0.6666666666666666, \"#ed7953\"], [0.7777777777777778, \"#fb9f3a\"], [0.8888888888888888, \"#fdca26\"], [1.0, \"#f0f921\"]]}, \"colorway\": [\"#636efa\", \"#EF553B\", \"#00cc96\", \"#ab63fa\", \"#FFA15A\", \"#19d3f3\", \"#FF6692\", \"#B6E880\", \"#FF97FF\", \"#FECB52\"], \"font\": {\"color\": \"#2a3f5f\"}, \"geo\": {\"bgcolor\": \"white\", \"lakecolor\": \"white\", \"landcolor\": \"#E5ECF6\", \"showlakes\": true, \"showland\": true, \"subunitcolor\": \"white\"}, \"hoverlabel\": {\"align\": \"left\"}, \"hovermode\": \"closest\", \"mapbox\": {\"style\": \"light\"}, \"paper_bgcolor\": \"white\", \"plot_bgcolor\": \"#E5ECF6\", \"polar\": {\"angularaxis\": {\"gridcolor\": \"white\", \"linecolor\": \"white\", \"ticks\": \"\"}, \"bgcolor\": \"#E5ECF6\", \"radialaxis\": {\"gridcolor\": \"white\", \"linecolor\": \"white\", \"ticks\": \"\"}}, \"scene\": {\"xaxis\": {\"backgroundcolor\": \"#E5ECF6\", \"gridcolor\": \"white\", \"gridwidth\": 2, \"linecolor\": \"white\", \"showbackground\": true, \"ticks\": \"\", \"zerolinecolor\": \"white\"}, \"yaxis\": {\"backgroundcolor\": \"#E5ECF6\", \"gridcolor\": \"white\", \"gridwidth\": 2, \"linecolor\": \"white\", \"showbackground\": true, \"ticks\": \"\", \"zerolinecolor\": \"white\"}, \"zaxis\": {\"backgroundcolor\": \"#E5ECF6\", \"gridcolor\": \"white\", \"gridwidth\": 2, \"linecolor\": \"white\", \"showbackground\": true, \"ticks\": \"\", \"zerolinecolor\": \"white\"}}, \"shapedefaults\": {\"line\": {\"color\": \"#2a3f5f\"}}, \"ternary\": {\"aaxis\": {\"gridcolor\": \"white\", \"linecolor\": \"white\", \"ticks\": \"\"}, \"baxis\": {\"gridcolor\": \"white\", \"linecolor\": \"white\", \"ticks\": \"\"}, \"bgcolor\": \"#E5ECF6\", \"caxis\": {\"gridcolor\": \"white\", \"linecolor\": \"white\", \"ticks\": \"\"}}, \"title\": {\"x\": 0.05}, \"xaxis\": {\"automargin\": true, \"gridcolor\": \"white\", \"linecolor\": \"white\", \"ticks\": \"\", \"title\": {\"standoff\": 15}, \"zerolinecolor\": \"white\", \"zerolinewidth\": 2}, \"yaxis\": {\"automargin\": true, \"gridcolor\": \"white\", \"linecolor\": \"white\", \"ticks\": \"\", \"title\": {\"standoff\": 15}, \"zerolinecolor\": \"white\", \"zerolinewidth\": 2}}}, \"title\": {\"text\": \"Partner distribution in customer attrition \"}},\n",
              "                        {\"responsive\": true}\n",
              "                    ).then(function(){\n",
              "                            \n",
              "var gd = document.getElementById('9ed59fd3-21c2-4ed7-b901-a55e493bba31');\n",
              "var x = new MutationObserver(function (mutations, observer) {{\n",
              "        var display = window.getComputedStyle(gd).display;\n",
              "        if (!display || display === 'none') {{\n",
              "            console.log([gd, 'removed!']);\n",
              "            Plotly.purge(gd);\n",
              "            observer.disconnect();\n",
              "        }}\n",
              "}});\n",
              "\n",
              "// Listen for the removal of the full notebook cells\n",
              "var notebookContainer = gd.closest('#notebook-container');\n",
              "if (notebookContainer) {{\n",
              "    x.observe(notebookContainer, {childList: true});\n",
              "}}\n",
              "\n",
              "// Listen for the clearing of the current output cell\n",
              "var outputEl = gd.closest('.output');\n",
              "if (outputEl) {{\n",
              "    x.observe(outputEl, {childList: true});\n",
              "}}\n",
              "\n",
              "                        })\n",
              "                };\n",
              "                \n",
              "            </script>\n",
              "        </div>\n",
              "</body>\n",
              "</html>"
            ]
          },
          "metadata": {
            "tags": []
          }
        },
        {
          "output_type": "display_data",
          "data": {
            "text/html": [
              "<html>\n",
              "<head><meta charset=\"utf-8\" /></head>\n",
              "<body>\n",
              "    <div>\n",
              "            <script src=\"https://cdnjs.cloudflare.com/ajax/libs/mathjax/2.7.5/MathJax.js?config=TeX-AMS-MML_SVG\"></script><script type=\"text/javascript\">if (window.MathJax) {MathJax.Hub.Config({SVG: {font: \"STIX-Web\"}});}</script>\n",
              "                <script type=\"text/javascript\">window.PlotlyConfig = {MathJaxConfig: 'local'};</script>\n",
              "        <script src=\"https://cdn.plot.ly/plotly-latest.min.js\"></script>    \n",
              "            <div id=\"8832d873-e4f4-45f7-be5b-dd62fd1f1499\" class=\"plotly-graph-div\" style=\"height:525px; width:100%;\"></div>\n",
              "            <script type=\"text/javascript\">\n",
              "                \n",
              "                    window.PLOTLYENV=window.PLOTLYENV || {};\n",
              "                    \n",
              "                if (document.getElementById(\"8832d873-e4f4-45f7-be5b-dd62fd1f1499\")) {\n",
              "                    Plotly.newPlot(\n",
              "                        '8832d873-e4f4-45f7-be5b-dd62fd1f1499',\n",
              "                        [{\"domain\": {\"x\": [0, 0.2]}, \"hole\": 0.6, \"hoverinfo\": \"label+percent+name\", \"labels\": [\"no\", \"yes\"], \"marker\": {\"line\": {\"color\": \"rgb(243,243,243)\", \"width\": 2}}, \"name\": \"Churn Customers\", \"type\": \"pie\", \"values\": [1225, 250]}, {\"domain\": {\"x\": [0.52, 1]}, \"hole\": 0.6, \"hoverinfo\": \"label+percent+name\", \"labels\": [\"no\", \"yes\"], \"marker\": {\"line\": {\"color\": \"rgb(243,243,243)\", \"width\": 2}}, \"name\": \"Non Churn Customers\", \"type\": \"pie\", \"values\": [2733, 1417]}],\n",
              "                        {\"annotations\": [{\"font\": {\"size\": 13}, \"showarrow\": false, \"text\": \"Churn Customers\", \"x\": 0.05, \"y\": 0.5}, {\"font\": {\"size\": 13}, \"showarrow\": false, \"text\": \"Non Churn Customers\", \"x\": 0.83, \"y\": 0.5}], \"paper_bgcolor\": \"rgb(243,243,243)\", \"plot_bgcolor\": \"rgb(243,243,243)\", \"template\": {\"data\": {\"bar\": [{\"error_x\": {\"color\": \"#2a3f5f\"}, \"error_y\": {\"color\": \"#2a3f5f\"}, \"marker\": {\"line\": {\"color\": \"#E5ECF6\", \"width\": 0.5}}, \"type\": \"bar\"}], \"barpolar\": [{\"marker\": {\"line\": {\"color\": \"#E5ECF6\", \"width\": 0.5}}, \"type\": \"barpolar\"}], \"carpet\": [{\"aaxis\": {\"endlinecolor\": \"#2a3f5f\", \"gridcolor\": \"white\", \"linecolor\": \"white\", \"minorgridcolor\": \"white\", \"startlinecolor\": \"#2a3f5f\"}, \"baxis\": {\"endlinecolor\": \"#2a3f5f\", \"gridcolor\": \"white\", \"linecolor\": \"white\", \"minorgridcolor\": \"white\", \"startlinecolor\": \"#2a3f5f\"}, \"type\": \"carpet\"}], \"choropleth\": [{\"colorbar\": {\"outlinewidth\": 0, \"ticks\": \"\"}, \"type\": \"choropleth\"}], \"contour\": [{\"colorbar\": {\"outlinewidth\": 0, \"ticks\": \"\"}, \"colorscale\": [[0.0, \"#0d0887\"], [0.1111111111111111, \"#46039f\"], [0.2222222222222222, \"#7201a8\"], [0.3333333333333333, \"#9c179e\"], [0.4444444444444444, \"#bd3786\"], [0.5555555555555556, \"#d8576b\"], [0.6666666666666666, \"#ed7953\"], [0.7777777777777778, \"#fb9f3a\"], [0.8888888888888888, \"#fdca26\"], [1.0, \"#f0f921\"]], \"type\": \"contour\"}], \"contourcarpet\": [{\"colorbar\": {\"outlinewidth\": 0, \"ticks\": \"\"}, \"type\": \"contourcarpet\"}], \"heatmap\": [{\"colorbar\": {\"outlinewidth\": 0, \"ticks\": \"\"}, \"colorscale\": [[0.0, \"#0d0887\"], [0.1111111111111111, \"#46039f\"], [0.2222222222222222, \"#7201a8\"], [0.3333333333333333, \"#9c179e\"], [0.4444444444444444, \"#bd3786\"], [0.5555555555555556, \"#d8576b\"], [0.6666666666666666, \"#ed7953\"], [0.7777777777777778, \"#fb9f3a\"], [0.8888888888888888, \"#fdca26\"], [1.0, \"#f0f921\"]], \"type\": \"heatmap\"}], \"heatmapgl\": [{\"colorbar\": {\"outlinewidth\": 0, \"ticks\": \"\"}, \"colorscale\": [[0.0, \"#0d0887\"], [0.1111111111111111, \"#46039f\"], [0.2222222222222222, \"#7201a8\"], [0.3333333333333333, \"#9c179e\"], [0.4444444444444444, \"#bd3786\"], [0.5555555555555556, \"#d8576b\"], [0.6666666666666666, \"#ed7953\"], [0.7777777777777778, \"#fb9f3a\"], [0.8888888888888888, \"#fdca26\"], [1.0, \"#f0f921\"]], \"type\": \"heatmapgl\"}], \"histogram\": [{\"marker\": {\"colorbar\": {\"outlinewidth\": 0, \"ticks\": \"\"}}, \"type\": \"histogram\"}], \"histogram2d\": [{\"colorbar\": {\"outlinewidth\": 0, \"ticks\": \"\"}, \"colorscale\": [[0.0, \"#0d0887\"], [0.1111111111111111, \"#46039f\"], [0.2222222222222222, \"#7201a8\"], [0.3333333333333333, \"#9c179e\"], [0.4444444444444444, \"#bd3786\"], [0.5555555555555556, \"#d8576b\"], [0.6666666666666666, \"#ed7953\"], [0.7777777777777778, \"#fb9f3a\"], [0.8888888888888888, \"#fdca26\"], [1.0, \"#f0f921\"]], \"type\": \"histogram2d\"}], \"histogram2dcontour\": [{\"colorbar\": {\"outlinewidth\": 0, \"ticks\": \"\"}, \"colorscale\": [[0.0, \"#0d0887\"], [0.1111111111111111, \"#46039f\"], [0.2222222222222222, \"#7201a8\"], [0.3333333333333333, \"#9c179e\"], [0.4444444444444444, \"#bd3786\"], [0.5555555555555556, \"#d8576b\"], [0.6666666666666666, \"#ed7953\"], [0.7777777777777778, \"#fb9f3a\"], [0.8888888888888888, \"#fdca26\"], [1.0, \"#f0f921\"]], \"type\": \"histogram2dcontour\"}], \"mesh3d\": [{\"colorbar\": {\"outlinewidth\": 0, \"ticks\": \"\"}, \"type\": \"mesh3d\"}], \"parcoords\": [{\"line\": {\"colorbar\": {\"outlinewidth\": 0, \"ticks\": \"\"}}, \"type\": \"parcoords\"}], \"pie\": [{\"automargin\": true, \"type\": \"pie\"}], \"scatter\": [{\"marker\": {\"colorbar\": {\"outlinewidth\": 0, \"ticks\": \"\"}}, \"type\": \"scatter\"}], \"scatter3d\": [{\"line\": {\"colorbar\": {\"outlinewidth\": 0, \"ticks\": \"\"}}, \"marker\": {\"colorbar\": {\"outlinewidth\": 0, \"ticks\": \"\"}}, \"type\": \"scatter3d\"}], \"scattercarpet\": [{\"marker\": {\"colorbar\": {\"outlinewidth\": 0, \"ticks\": \"\"}}, \"type\": \"scattercarpet\"}], \"scattergeo\": [{\"marker\": {\"colorbar\": {\"outlinewidth\": 0, \"ticks\": \"\"}}, \"type\": \"scattergeo\"}], \"scattergl\": [{\"marker\": {\"colorbar\": {\"outlinewidth\": 0, \"ticks\": \"\"}}, \"type\": \"scattergl\"}], \"scattermapbox\": [{\"marker\": {\"colorbar\": {\"outlinewidth\": 0, \"ticks\": \"\"}}, \"type\": \"scattermapbox\"}], \"scatterpolar\": [{\"marker\": {\"colorbar\": {\"outlinewidth\": 0, \"ticks\": \"\"}}, \"type\": \"scatterpolar\"}], \"scatterpolargl\": [{\"marker\": {\"colorbar\": {\"outlinewidth\": 0, \"ticks\": \"\"}}, \"type\": \"scatterpolargl\"}], \"scatterternary\": [{\"marker\": {\"colorbar\": {\"outlinewidth\": 0, \"ticks\": \"\"}}, \"type\": \"scatterternary\"}], \"surface\": [{\"colorbar\": {\"outlinewidth\": 0, \"ticks\": \"\"}, \"colorscale\": [[0.0, \"#0d0887\"], [0.1111111111111111, \"#46039f\"], [0.2222222222222222, \"#7201a8\"], [0.3333333333333333, \"#9c179e\"], [0.4444444444444444, \"#bd3786\"], [0.5555555555555556, \"#d8576b\"], [0.6666666666666666, \"#ed7953\"], [0.7777777777777778, \"#fb9f3a\"], [0.8888888888888888, \"#fdca26\"], [1.0, \"#f0f921\"]], \"type\": \"surface\"}], \"table\": [{\"cells\": {\"fill\": {\"color\": \"#EBF0F8\"}, \"line\": {\"color\": \"white\"}}, \"header\": {\"fill\": {\"color\": \"#C8D4E3\"}, \"line\": {\"color\": \"white\"}}, \"type\": \"table\"}]}, \"layout\": {\"annotationdefaults\": {\"arrowcolor\": \"#2a3f5f\", \"arrowhead\": 0, \"arrowwidth\": 1}, \"coloraxis\": {\"colorbar\": {\"outlinewidth\": 0, \"ticks\": \"\"}}, \"colorscale\": {\"diverging\": [[0, \"#8e0152\"], [0.1, \"#c51b7d\"], [0.2, \"#de77ae\"], [0.3, \"#f1b6da\"], [0.4, \"#fde0ef\"], [0.5, \"#f7f7f7\"], [0.6, \"#e6f5d0\"], [0.7, \"#b8e186\"], [0.8, \"#7fbc41\"], [0.9, \"#4d9221\"], [1, \"#276419\"]], \"sequential\": [[0.0, \"#0d0887\"], [0.1111111111111111, \"#46039f\"], [0.2222222222222222, \"#7201a8\"], [0.3333333333333333, \"#9c179e\"], [0.4444444444444444, \"#bd3786\"], [0.5555555555555556, \"#d8576b\"], [0.6666666666666666, \"#ed7953\"], [0.7777777777777778, \"#fb9f3a\"], [0.8888888888888888, \"#fdca26\"], [1.0, \"#f0f921\"]], \"sequentialminus\": [[0.0, \"#0d0887\"], [0.1111111111111111, \"#46039f\"], [0.2222222222222222, \"#7201a8\"], [0.3333333333333333, \"#9c179e\"], [0.4444444444444444, \"#bd3786\"], [0.5555555555555556, \"#d8576b\"], [0.6666666666666666, \"#ed7953\"], [0.7777777777777778, \"#fb9f3a\"], [0.8888888888888888, \"#fdca26\"], [1.0, \"#f0f921\"]]}, \"colorway\": [\"#636efa\", \"#EF553B\", \"#00cc96\", \"#ab63fa\", \"#FFA15A\", \"#19d3f3\", \"#FF6692\", \"#B6E880\", \"#FF97FF\", \"#FECB52\"], \"font\": {\"color\": \"#2a3f5f\"}, \"geo\": {\"bgcolor\": \"white\", \"lakecolor\": \"white\", \"landcolor\": \"#E5ECF6\", \"showlakes\": true, \"showland\": true, \"subunitcolor\": \"white\"}, \"hoverlabel\": {\"align\": \"left\"}, \"hovermode\": \"closest\", \"mapbox\": {\"style\": \"light\"}, \"paper_bgcolor\": \"white\", \"plot_bgcolor\": \"#E5ECF6\", \"polar\": {\"angularaxis\": {\"gridcolor\": \"white\", \"linecolor\": \"white\", \"ticks\": \"\"}, \"bgcolor\": \"#E5ECF6\", \"radialaxis\": {\"gridcolor\": \"white\", \"linecolor\": \"white\", \"ticks\": \"\"}}, \"scene\": {\"xaxis\": {\"backgroundcolor\": \"#E5ECF6\", \"gridcolor\": \"white\", \"gridwidth\": 2, \"linecolor\": \"white\", \"showbackground\": true, \"ticks\": \"\", \"zerolinecolor\": \"white\"}, \"yaxis\": {\"backgroundcolor\": \"#E5ECF6\", \"gridcolor\": \"white\", \"gridwidth\": 2, \"linecolor\": \"white\", \"showbackground\": true, \"ticks\": \"\", \"zerolinecolor\": \"white\"}, \"zaxis\": {\"backgroundcolor\": \"#E5ECF6\", \"gridcolor\": \"white\", \"gridwidth\": 2, \"linecolor\": \"white\", \"showbackground\": true, \"ticks\": \"\", \"zerolinecolor\": \"white\"}}, \"shapedefaults\": {\"line\": {\"color\": \"#2a3f5f\"}}, \"ternary\": {\"aaxis\": {\"gridcolor\": \"white\", \"linecolor\": \"white\", \"ticks\": \"\"}, \"baxis\": {\"gridcolor\": \"white\", \"linecolor\": \"white\", \"ticks\": \"\"}, \"bgcolor\": \"#E5ECF6\", \"caxis\": {\"gridcolor\": \"white\", \"linecolor\": \"white\", \"ticks\": \"\"}}, \"title\": {\"x\": 0.05}, \"xaxis\": {\"automargin\": true, \"gridcolor\": \"white\", \"linecolor\": \"white\", \"ticks\": \"\", \"title\": {\"standoff\": 15}, \"zerolinecolor\": \"white\", \"zerolinewidth\": 2}, \"yaxis\": {\"automargin\": true, \"gridcolor\": \"white\", \"linecolor\": \"white\", \"ticks\": \"\", \"title\": {\"standoff\": 15}, \"zerolinecolor\": \"white\", \"zerolinewidth\": 2}}}, \"title\": {\"text\": \"Dependents distribution in customer attrition \"}},\n",
              "                        {\"responsive\": true}\n",
              "                    ).then(function(){\n",
              "                            \n",
              "var gd = document.getElementById('8832d873-e4f4-45f7-be5b-dd62fd1f1499');\n",
              "var x = new MutationObserver(function (mutations, observer) {{\n",
              "        var display = window.getComputedStyle(gd).display;\n",
              "        if (!display || display === 'none') {{\n",
              "            console.log([gd, 'removed!']);\n",
              "            Plotly.purge(gd);\n",
              "            observer.disconnect();\n",
              "        }}\n",
              "}});\n",
              "\n",
              "// Listen for the removal of the full notebook cells\n",
              "var notebookContainer = gd.closest('#notebook-container');\n",
              "if (notebookContainer) {{\n",
              "    x.observe(notebookContainer, {childList: true});\n",
              "}}\n",
              "\n",
              "// Listen for the clearing of the current output cell\n",
              "var outputEl = gd.closest('.output');\n",
              "if (outputEl) {{\n",
              "    x.observe(outputEl, {childList: true});\n",
              "}}\n",
              "\n",
              "                        })\n",
              "                };\n",
              "                \n",
              "            </script>\n",
              "        </div>\n",
              "</body>\n",
              "</html>"
            ]
          },
          "metadata": {
            "tags": []
          }
        },
        {
          "output_type": "display_data",
          "data": {
            "text/html": [
              "<html>\n",
              "<head><meta charset=\"utf-8\" /></head>\n",
              "<body>\n",
              "    <div>\n",
              "            <script src=\"https://cdnjs.cloudflare.com/ajax/libs/mathjax/2.7.5/MathJax.js?config=TeX-AMS-MML_SVG\"></script><script type=\"text/javascript\">if (window.MathJax) {MathJax.Hub.Config({SVG: {font: \"STIX-Web\"}});}</script>\n",
              "                <script type=\"text/javascript\">window.PlotlyConfig = {MathJaxConfig: 'local'};</script>\n",
              "        <script src=\"https://cdn.plot.ly/plotly-latest.min.js\"></script>    \n",
              "            <div id=\"c721562c-6fe0-43da-8a51-d8560ff9dcd4\" class=\"plotly-graph-div\" style=\"height:525px; width:100%;\"></div>\n",
              "            <script type=\"text/javascript\">\n",
              "                \n",
              "                    window.PLOTLYENV=window.PLOTLYENV || {};\n",
              "                    \n",
              "                if (document.getElementById(\"c721562c-6fe0-43da-8a51-d8560ff9dcd4\")) {\n",
              "                    Plotly.newPlot(\n",
              "                        'c721562c-6fe0-43da-8a51-d8560ff9dcd4',\n",
              "                        [{\"domain\": {\"x\": [0, 0.2]}, \"hole\": 0.6, \"hoverinfo\": \"label+percent+name\", \"labels\": [\"yes\", \"no\"], \"marker\": {\"line\": {\"color\": \"rgb(243,243,243)\", \"width\": 2}}, \"name\": \"Churn Customers\", \"type\": \"pie\", \"values\": [1348, 127]}, {\"domain\": {\"x\": [0.52, 1]}, \"hole\": 0.6, \"hoverinfo\": \"label+percent+name\", \"labels\": [\"yes\", \"no\"], \"marker\": {\"line\": {\"color\": \"rgb(243,243,243)\", \"width\": 2}}, \"name\": \"Non Churn Customers\", \"type\": \"pie\", \"values\": [3737, 413]}],\n",
              "                        {\"annotations\": [{\"font\": {\"size\": 13}, \"showarrow\": false, \"text\": \"Churn Customers\", \"x\": 0.05, \"y\": 0.5}, {\"font\": {\"size\": 13}, \"showarrow\": false, \"text\": \"Non Churn Customers\", \"x\": 0.83, \"y\": 0.5}], \"paper_bgcolor\": \"rgb(243,243,243)\", \"plot_bgcolor\": \"rgb(243,243,243)\", \"template\": {\"data\": {\"bar\": [{\"error_x\": {\"color\": \"#2a3f5f\"}, \"error_y\": {\"color\": \"#2a3f5f\"}, \"marker\": {\"line\": {\"color\": \"#E5ECF6\", \"width\": 0.5}}, \"type\": \"bar\"}], \"barpolar\": [{\"marker\": {\"line\": {\"color\": \"#E5ECF6\", \"width\": 0.5}}, \"type\": \"barpolar\"}], \"carpet\": [{\"aaxis\": {\"endlinecolor\": \"#2a3f5f\", \"gridcolor\": \"white\", \"linecolor\": \"white\", \"minorgridcolor\": \"white\", \"startlinecolor\": \"#2a3f5f\"}, \"baxis\": {\"endlinecolor\": \"#2a3f5f\", \"gridcolor\": \"white\", \"linecolor\": \"white\", \"minorgridcolor\": \"white\", \"startlinecolor\": \"#2a3f5f\"}, \"type\": \"carpet\"}], \"choropleth\": [{\"colorbar\": {\"outlinewidth\": 0, \"ticks\": \"\"}, \"type\": \"choropleth\"}], \"contour\": [{\"colorbar\": {\"outlinewidth\": 0, \"ticks\": \"\"}, \"colorscale\": [[0.0, \"#0d0887\"], [0.1111111111111111, \"#46039f\"], [0.2222222222222222, \"#7201a8\"], [0.3333333333333333, \"#9c179e\"], [0.4444444444444444, \"#bd3786\"], [0.5555555555555556, \"#d8576b\"], [0.6666666666666666, \"#ed7953\"], [0.7777777777777778, \"#fb9f3a\"], [0.8888888888888888, \"#fdca26\"], [1.0, \"#f0f921\"]], \"type\": \"contour\"}], \"contourcarpet\": [{\"colorbar\": {\"outlinewidth\": 0, \"ticks\": \"\"}, \"type\": \"contourcarpet\"}], \"heatmap\": [{\"colorbar\": {\"outlinewidth\": 0, \"ticks\": \"\"}, \"colorscale\": [[0.0, \"#0d0887\"], [0.1111111111111111, \"#46039f\"], [0.2222222222222222, \"#7201a8\"], [0.3333333333333333, \"#9c179e\"], [0.4444444444444444, \"#bd3786\"], [0.5555555555555556, \"#d8576b\"], [0.6666666666666666, \"#ed7953\"], [0.7777777777777778, \"#fb9f3a\"], [0.8888888888888888, \"#fdca26\"], [1.0, \"#f0f921\"]], \"type\": \"heatmap\"}], \"heatmapgl\": [{\"colorbar\": {\"outlinewidth\": 0, \"ticks\": \"\"}, \"colorscale\": [[0.0, \"#0d0887\"], [0.1111111111111111, \"#46039f\"], [0.2222222222222222, \"#7201a8\"], [0.3333333333333333, \"#9c179e\"], [0.4444444444444444, \"#bd3786\"], [0.5555555555555556, \"#d8576b\"], [0.6666666666666666, \"#ed7953\"], [0.7777777777777778, \"#fb9f3a\"], [0.8888888888888888, \"#fdca26\"], [1.0, \"#f0f921\"]], \"type\": \"heatmapgl\"}], \"histogram\": [{\"marker\": {\"colorbar\": {\"outlinewidth\": 0, \"ticks\": \"\"}}, \"type\": \"histogram\"}], \"histogram2d\": [{\"colorbar\": {\"outlinewidth\": 0, \"ticks\": \"\"}, \"colorscale\": [[0.0, \"#0d0887\"], [0.1111111111111111, \"#46039f\"], [0.2222222222222222, \"#7201a8\"], [0.3333333333333333, \"#9c179e\"], [0.4444444444444444, \"#bd3786\"], [0.5555555555555556, \"#d8576b\"], [0.6666666666666666, \"#ed7953\"], [0.7777777777777778, \"#fb9f3a\"], [0.8888888888888888, \"#fdca26\"], [1.0, \"#f0f921\"]], \"type\": \"histogram2d\"}], \"histogram2dcontour\": [{\"colorbar\": {\"outlinewidth\": 0, \"ticks\": \"\"}, \"colorscale\": [[0.0, \"#0d0887\"], [0.1111111111111111, \"#46039f\"], [0.2222222222222222, \"#7201a8\"], [0.3333333333333333, \"#9c179e\"], [0.4444444444444444, \"#bd3786\"], [0.5555555555555556, \"#d8576b\"], [0.6666666666666666, \"#ed7953\"], [0.7777777777777778, \"#fb9f3a\"], [0.8888888888888888, \"#fdca26\"], [1.0, \"#f0f921\"]], \"type\": \"histogram2dcontour\"}], \"mesh3d\": [{\"colorbar\": {\"outlinewidth\": 0, \"ticks\": \"\"}, \"type\": \"mesh3d\"}], \"parcoords\": [{\"line\": {\"colorbar\": {\"outlinewidth\": 0, \"ticks\": \"\"}}, \"type\": \"parcoords\"}], \"pie\": [{\"automargin\": true, \"type\": \"pie\"}], \"scatter\": [{\"marker\": {\"colorbar\": {\"outlinewidth\": 0, \"ticks\": \"\"}}, \"type\": \"scatter\"}], \"scatter3d\": [{\"line\": {\"colorbar\": {\"outlinewidth\": 0, \"ticks\": \"\"}}, \"marker\": {\"colorbar\": {\"outlinewidth\": 0, \"ticks\": \"\"}}, \"type\": \"scatter3d\"}], \"scattercarpet\": [{\"marker\": {\"colorbar\": {\"outlinewidth\": 0, \"ticks\": \"\"}}, \"type\": \"scattercarpet\"}], \"scattergeo\": [{\"marker\": {\"colorbar\": {\"outlinewidth\": 0, \"ticks\": \"\"}}, \"type\": \"scattergeo\"}], \"scattergl\": [{\"marker\": {\"colorbar\": {\"outlinewidth\": 0, \"ticks\": \"\"}}, \"type\": \"scattergl\"}], \"scattermapbox\": [{\"marker\": {\"colorbar\": {\"outlinewidth\": 0, \"ticks\": \"\"}}, \"type\": \"scattermapbox\"}], \"scatterpolar\": [{\"marker\": {\"colorbar\": {\"outlinewidth\": 0, \"ticks\": \"\"}}, \"type\": \"scatterpolar\"}], \"scatterpolargl\": [{\"marker\": {\"colorbar\": {\"outlinewidth\": 0, \"ticks\": \"\"}}, \"type\": \"scatterpolargl\"}], \"scatterternary\": [{\"marker\": {\"colorbar\": {\"outlinewidth\": 0, \"ticks\": \"\"}}, \"type\": \"scatterternary\"}], \"surface\": [{\"colorbar\": {\"outlinewidth\": 0, \"ticks\": \"\"}, \"colorscale\": [[0.0, \"#0d0887\"], [0.1111111111111111, \"#46039f\"], [0.2222222222222222, \"#7201a8\"], [0.3333333333333333, \"#9c179e\"], [0.4444444444444444, \"#bd3786\"], [0.5555555555555556, \"#d8576b\"], [0.6666666666666666, \"#ed7953\"], [0.7777777777777778, \"#fb9f3a\"], [0.8888888888888888, \"#fdca26\"], [1.0, \"#f0f921\"]], \"type\": \"surface\"}], \"table\": [{\"cells\": {\"fill\": {\"color\": \"#EBF0F8\"}, \"line\": {\"color\": \"white\"}}, \"header\": {\"fill\": {\"color\": \"#C8D4E3\"}, \"line\": {\"color\": \"white\"}}, \"type\": \"table\"}]}, \"layout\": {\"annotationdefaults\": {\"arrowcolor\": \"#2a3f5f\", \"arrowhead\": 0, \"arrowwidth\": 1}, \"coloraxis\": {\"colorbar\": {\"outlinewidth\": 0, \"ticks\": \"\"}}, \"colorscale\": {\"diverging\": [[0, \"#8e0152\"], [0.1, \"#c51b7d\"], [0.2, \"#de77ae\"], [0.3, \"#f1b6da\"], [0.4, \"#fde0ef\"], [0.5, \"#f7f7f7\"], [0.6, \"#e6f5d0\"], [0.7, \"#b8e186\"], [0.8, \"#7fbc41\"], [0.9, \"#4d9221\"], [1, \"#276419\"]], \"sequential\": [[0.0, \"#0d0887\"], [0.1111111111111111, \"#46039f\"], [0.2222222222222222, \"#7201a8\"], [0.3333333333333333, \"#9c179e\"], [0.4444444444444444, \"#bd3786\"], [0.5555555555555556, \"#d8576b\"], [0.6666666666666666, \"#ed7953\"], [0.7777777777777778, \"#fb9f3a\"], [0.8888888888888888, \"#fdca26\"], [1.0, \"#f0f921\"]], \"sequentialminus\": [[0.0, \"#0d0887\"], [0.1111111111111111, \"#46039f\"], [0.2222222222222222, \"#7201a8\"], [0.3333333333333333, \"#9c179e\"], [0.4444444444444444, \"#bd3786\"], [0.5555555555555556, \"#d8576b\"], [0.6666666666666666, \"#ed7953\"], [0.7777777777777778, \"#fb9f3a\"], [0.8888888888888888, \"#fdca26\"], [1.0, \"#f0f921\"]]}, \"colorway\": [\"#636efa\", \"#EF553B\", \"#00cc96\", \"#ab63fa\", \"#FFA15A\", \"#19d3f3\", \"#FF6692\", \"#B6E880\", \"#FF97FF\", \"#FECB52\"], \"font\": {\"color\": \"#2a3f5f\"}, \"geo\": {\"bgcolor\": \"white\", \"lakecolor\": \"white\", \"landcolor\": \"#E5ECF6\", \"showlakes\": true, \"showland\": true, \"subunitcolor\": \"white\"}, \"hoverlabel\": {\"align\": \"left\"}, \"hovermode\": \"closest\", \"mapbox\": {\"style\": \"light\"}, \"paper_bgcolor\": \"white\", \"plot_bgcolor\": \"#E5ECF6\", \"polar\": {\"angularaxis\": {\"gridcolor\": \"white\", \"linecolor\": \"white\", \"ticks\": \"\"}, \"bgcolor\": \"#E5ECF6\", \"radialaxis\": {\"gridcolor\": \"white\", \"linecolor\": \"white\", \"ticks\": \"\"}}, \"scene\": {\"xaxis\": {\"backgroundcolor\": \"#E5ECF6\", \"gridcolor\": \"white\", \"gridwidth\": 2, \"linecolor\": \"white\", \"showbackground\": true, \"ticks\": \"\", \"zerolinecolor\": \"white\"}, \"yaxis\": {\"backgroundcolor\": \"#E5ECF6\", \"gridcolor\": \"white\", \"gridwidth\": 2, \"linecolor\": \"white\", \"showbackground\": true, \"ticks\": \"\", \"zerolinecolor\": \"white\"}, \"zaxis\": {\"backgroundcolor\": \"#E5ECF6\", \"gridcolor\": \"white\", \"gridwidth\": 2, \"linecolor\": \"white\", \"showbackground\": true, \"ticks\": \"\", \"zerolinecolor\": \"white\"}}, \"shapedefaults\": {\"line\": {\"color\": \"#2a3f5f\"}}, \"ternary\": {\"aaxis\": {\"gridcolor\": \"white\", \"linecolor\": \"white\", \"ticks\": \"\"}, \"baxis\": {\"gridcolor\": \"white\", \"linecolor\": \"white\", \"ticks\": \"\"}, \"bgcolor\": \"#E5ECF6\", \"caxis\": {\"gridcolor\": \"white\", \"linecolor\": \"white\", \"ticks\": \"\"}}, \"title\": {\"x\": 0.05}, \"xaxis\": {\"automargin\": true, \"gridcolor\": \"white\", \"linecolor\": \"white\", \"ticks\": \"\", \"title\": {\"standoff\": 15}, \"zerolinecolor\": \"white\", \"zerolinewidth\": 2}, \"yaxis\": {\"automargin\": true, \"gridcolor\": \"white\", \"linecolor\": \"white\", \"ticks\": \"\", \"title\": {\"standoff\": 15}, \"zerolinecolor\": \"white\", \"zerolinewidth\": 2}}}, \"title\": {\"text\": \"PhoneService distribution in customer attrition \"}},\n",
              "                        {\"responsive\": true}\n",
              "                    ).then(function(){\n",
              "                            \n",
              "var gd = document.getElementById('c721562c-6fe0-43da-8a51-d8560ff9dcd4');\n",
              "var x = new MutationObserver(function (mutations, observer) {{\n",
              "        var display = window.getComputedStyle(gd).display;\n",
              "        if (!display || display === 'none') {{\n",
              "            console.log([gd, 'removed!']);\n",
              "            Plotly.purge(gd);\n",
              "            observer.disconnect();\n",
              "        }}\n",
              "}});\n",
              "\n",
              "// Listen for the removal of the full notebook cells\n",
              "var notebookContainer = gd.closest('#notebook-container');\n",
              "if (notebookContainer) {{\n",
              "    x.observe(notebookContainer, {childList: true});\n",
              "}}\n",
              "\n",
              "// Listen for the clearing of the current output cell\n",
              "var outputEl = gd.closest('.output');\n",
              "if (outputEl) {{\n",
              "    x.observe(outputEl, {childList: true});\n",
              "}}\n",
              "\n",
              "                        })\n",
              "                };\n",
              "                \n",
              "            </script>\n",
              "        </div>\n",
              "</body>\n",
              "</html>"
            ]
          },
          "metadata": {
            "tags": []
          }
        },
        {
          "output_type": "display_data",
          "data": {
            "text/html": [
              "<html>\n",
              "<head><meta charset=\"utf-8\" /></head>\n",
              "<body>\n",
              "    <div>\n",
              "            <script src=\"https://cdnjs.cloudflare.com/ajax/libs/mathjax/2.7.5/MathJax.js?config=TeX-AMS-MML_SVG\"></script><script type=\"text/javascript\">if (window.MathJax) {MathJax.Hub.Config({SVG: {font: \"STIX-Web\"}});}</script>\n",
              "                <script type=\"text/javascript\">window.PlotlyConfig = {MathJaxConfig: 'local'};</script>\n",
              "        <script src=\"https://cdn.plot.ly/plotly-latest.min.js\"></script>    \n",
              "            <div id=\"5ad4e57e-ca67-47cb-9c6d-04c718b4760c\" class=\"plotly-graph-div\" style=\"height:525px; width:100%;\"></div>\n",
              "            <script type=\"text/javascript\">\n",
              "                \n",
              "                    window.PLOTLYENV=window.PLOTLYENV || {};\n",
              "                    \n",
              "                if (document.getElementById(\"5ad4e57e-ca67-47cb-9c6d-04c718b4760c\")) {\n",
              "                    Plotly.newPlot(\n",
              "                        '5ad4e57e-ca67-47cb-9c6d-04c718b4760c',\n",
              "                        [{\"domain\": {\"x\": [0, 0.2]}, \"hole\": 0.6, \"hoverinfo\": \"label+percent+name\", \"labels\": [\"no\", \"yes\"], \"marker\": {\"line\": {\"color\": \"rgb(243,243,243)\", \"width\": 2}}, \"name\": \"Churn Customers\", \"type\": \"pie\", \"values\": [816, 659]}, {\"domain\": {\"x\": [0.52, 1]}, \"hole\": 0.6, \"hoverinfo\": \"label+percent+name\", \"labels\": [\"no\", \"yes\"], \"marker\": {\"line\": {\"color\": \"rgb(243,243,243)\", \"width\": 2}}, \"name\": \"Non Churn Customers\", \"type\": \"pie\", \"values\": [2460, 1690]}],\n",
              "                        {\"annotations\": [{\"font\": {\"size\": 13}, \"showarrow\": false, \"text\": \"Churn Customers\", \"x\": 0.05, \"y\": 0.5}, {\"font\": {\"size\": 13}, \"showarrow\": false, \"text\": \"Non Churn Customers\", \"x\": 0.83, \"y\": 0.5}], \"paper_bgcolor\": \"rgb(243,243,243)\", \"plot_bgcolor\": \"rgb(243,243,243)\", \"template\": {\"data\": {\"bar\": [{\"error_x\": {\"color\": \"#2a3f5f\"}, \"error_y\": {\"color\": \"#2a3f5f\"}, \"marker\": {\"line\": {\"color\": \"#E5ECF6\", \"width\": 0.5}}, \"type\": \"bar\"}], \"barpolar\": [{\"marker\": {\"line\": {\"color\": \"#E5ECF6\", \"width\": 0.5}}, \"type\": \"barpolar\"}], \"carpet\": [{\"aaxis\": {\"endlinecolor\": \"#2a3f5f\", \"gridcolor\": \"white\", \"linecolor\": \"white\", \"minorgridcolor\": \"white\", \"startlinecolor\": \"#2a3f5f\"}, \"baxis\": {\"endlinecolor\": \"#2a3f5f\", \"gridcolor\": \"white\", \"linecolor\": \"white\", \"minorgridcolor\": \"white\", \"startlinecolor\": \"#2a3f5f\"}, \"type\": \"carpet\"}], \"choropleth\": [{\"colorbar\": {\"outlinewidth\": 0, \"ticks\": \"\"}, \"type\": \"choropleth\"}], \"contour\": [{\"colorbar\": {\"outlinewidth\": 0, \"ticks\": \"\"}, \"colorscale\": [[0.0, \"#0d0887\"], [0.1111111111111111, \"#46039f\"], [0.2222222222222222, \"#7201a8\"], [0.3333333333333333, \"#9c179e\"], [0.4444444444444444, \"#bd3786\"], [0.5555555555555556, \"#d8576b\"], [0.6666666666666666, \"#ed7953\"], [0.7777777777777778, \"#fb9f3a\"], [0.8888888888888888, \"#fdca26\"], [1.0, \"#f0f921\"]], \"type\": \"contour\"}], \"contourcarpet\": [{\"colorbar\": {\"outlinewidth\": 0, \"ticks\": \"\"}, \"type\": \"contourcarpet\"}], \"heatmap\": [{\"colorbar\": {\"outlinewidth\": 0, \"ticks\": \"\"}, \"colorscale\": [[0.0, \"#0d0887\"], [0.1111111111111111, \"#46039f\"], [0.2222222222222222, \"#7201a8\"], [0.3333333333333333, \"#9c179e\"], [0.4444444444444444, \"#bd3786\"], [0.5555555555555556, \"#d8576b\"], [0.6666666666666666, \"#ed7953\"], [0.7777777777777778, \"#fb9f3a\"], [0.8888888888888888, \"#fdca26\"], [1.0, \"#f0f921\"]], \"type\": \"heatmap\"}], \"heatmapgl\": [{\"colorbar\": {\"outlinewidth\": 0, \"ticks\": \"\"}, \"colorscale\": [[0.0, \"#0d0887\"], [0.1111111111111111, \"#46039f\"], [0.2222222222222222, \"#7201a8\"], [0.3333333333333333, \"#9c179e\"], [0.4444444444444444, \"#bd3786\"], [0.5555555555555556, \"#d8576b\"], [0.6666666666666666, \"#ed7953\"], [0.7777777777777778, \"#fb9f3a\"], [0.8888888888888888, \"#fdca26\"], [1.0, \"#f0f921\"]], \"type\": \"heatmapgl\"}], \"histogram\": [{\"marker\": {\"colorbar\": {\"outlinewidth\": 0, \"ticks\": \"\"}}, \"type\": \"histogram\"}], \"histogram2d\": [{\"colorbar\": {\"outlinewidth\": 0, \"ticks\": \"\"}, \"colorscale\": [[0.0, \"#0d0887\"], [0.1111111111111111, \"#46039f\"], [0.2222222222222222, \"#7201a8\"], [0.3333333333333333, \"#9c179e\"], [0.4444444444444444, \"#bd3786\"], [0.5555555555555556, \"#d8576b\"], [0.6666666666666666, \"#ed7953\"], [0.7777777777777778, \"#fb9f3a\"], [0.8888888888888888, \"#fdca26\"], [1.0, \"#f0f921\"]], \"type\": \"histogram2d\"}], \"histogram2dcontour\": [{\"colorbar\": {\"outlinewidth\": 0, \"ticks\": \"\"}, \"colorscale\": [[0.0, \"#0d0887\"], [0.1111111111111111, \"#46039f\"], [0.2222222222222222, \"#7201a8\"], [0.3333333333333333, \"#9c179e\"], [0.4444444444444444, \"#bd3786\"], [0.5555555555555556, \"#d8576b\"], [0.6666666666666666, \"#ed7953\"], [0.7777777777777778, \"#fb9f3a\"], [0.8888888888888888, \"#fdca26\"], [1.0, \"#f0f921\"]], \"type\": \"histogram2dcontour\"}], \"mesh3d\": [{\"colorbar\": {\"outlinewidth\": 0, \"ticks\": \"\"}, \"type\": \"mesh3d\"}], \"parcoords\": [{\"line\": {\"colorbar\": {\"outlinewidth\": 0, \"ticks\": \"\"}}, \"type\": \"parcoords\"}], \"pie\": [{\"automargin\": true, \"type\": \"pie\"}], \"scatter\": [{\"marker\": {\"colorbar\": {\"outlinewidth\": 0, \"ticks\": \"\"}}, \"type\": \"scatter\"}], \"scatter3d\": [{\"line\": {\"colorbar\": {\"outlinewidth\": 0, \"ticks\": \"\"}}, \"marker\": {\"colorbar\": {\"outlinewidth\": 0, \"ticks\": \"\"}}, \"type\": \"scatter3d\"}], \"scattercarpet\": [{\"marker\": {\"colorbar\": {\"outlinewidth\": 0, \"ticks\": \"\"}}, \"type\": \"scattercarpet\"}], \"scattergeo\": [{\"marker\": {\"colorbar\": {\"outlinewidth\": 0, \"ticks\": \"\"}}, \"type\": \"scattergeo\"}], \"scattergl\": [{\"marker\": {\"colorbar\": {\"outlinewidth\": 0, \"ticks\": \"\"}}, \"type\": \"scattergl\"}], \"scattermapbox\": [{\"marker\": {\"colorbar\": {\"outlinewidth\": 0, \"ticks\": \"\"}}, \"type\": \"scattermapbox\"}], \"scatterpolar\": [{\"marker\": {\"colorbar\": {\"outlinewidth\": 0, \"ticks\": \"\"}}, \"type\": \"scatterpolar\"}], \"scatterpolargl\": [{\"marker\": {\"colorbar\": {\"outlinewidth\": 0, \"ticks\": \"\"}}, \"type\": \"scatterpolargl\"}], \"scatterternary\": [{\"marker\": {\"colorbar\": {\"outlinewidth\": 0, \"ticks\": \"\"}}, \"type\": \"scatterternary\"}], \"surface\": [{\"colorbar\": {\"outlinewidth\": 0, \"ticks\": \"\"}, \"colorscale\": [[0.0, \"#0d0887\"], [0.1111111111111111, \"#46039f\"], [0.2222222222222222, \"#7201a8\"], [0.3333333333333333, \"#9c179e\"], [0.4444444444444444, \"#bd3786\"], [0.5555555555555556, \"#d8576b\"], [0.6666666666666666, \"#ed7953\"], [0.7777777777777778, \"#fb9f3a\"], [0.8888888888888888, \"#fdca26\"], [1.0, \"#f0f921\"]], \"type\": \"surface\"}], \"table\": [{\"cells\": {\"fill\": {\"color\": \"#EBF0F8\"}, \"line\": {\"color\": \"white\"}}, \"header\": {\"fill\": {\"color\": \"#C8D4E3\"}, \"line\": {\"color\": \"white\"}}, \"type\": \"table\"}]}, \"layout\": {\"annotationdefaults\": {\"arrowcolor\": \"#2a3f5f\", \"arrowhead\": 0, \"arrowwidth\": 1}, \"coloraxis\": {\"colorbar\": {\"outlinewidth\": 0, \"ticks\": \"\"}}, \"colorscale\": {\"diverging\": [[0, \"#8e0152\"], [0.1, \"#c51b7d\"], [0.2, \"#de77ae\"], [0.3, \"#f1b6da\"], [0.4, \"#fde0ef\"], [0.5, \"#f7f7f7\"], [0.6, \"#e6f5d0\"], [0.7, \"#b8e186\"], [0.8, \"#7fbc41\"], [0.9, \"#4d9221\"], [1, \"#276419\"]], \"sequential\": [[0.0, \"#0d0887\"], [0.1111111111111111, \"#46039f\"], [0.2222222222222222, \"#7201a8\"], [0.3333333333333333, \"#9c179e\"], [0.4444444444444444, \"#bd3786\"], [0.5555555555555556, \"#d8576b\"], [0.6666666666666666, \"#ed7953\"], [0.7777777777777778, \"#fb9f3a\"], [0.8888888888888888, \"#fdca26\"], [1.0, \"#f0f921\"]], \"sequentialminus\": [[0.0, \"#0d0887\"], [0.1111111111111111, \"#46039f\"], [0.2222222222222222, \"#7201a8\"], [0.3333333333333333, \"#9c179e\"], [0.4444444444444444, \"#bd3786\"], [0.5555555555555556, \"#d8576b\"], [0.6666666666666666, \"#ed7953\"], [0.7777777777777778, \"#fb9f3a\"], [0.8888888888888888, \"#fdca26\"], [1.0, \"#f0f921\"]]}, \"colorway\": [\"#636efa\", \"#EF553B\", \"#00cc96\", \"#ab63fa\", \"#FFA15A\", \"#19d3f3\", \"#FF6692\", \"#B6E880\", \"#FF97FF\", \"#FECB52\"], \"font\": {\"color\": \"#2a3f5f\"}, \"geo\": {\"bgcolor\": \"white\", \"lakecolor\": \"white\", \"landcolor\": \"#E5ECF6\", \"showlakes\": true, \"showland\": true, \"subunitcolor\": \"white\"}, \"hoverlabel\": {\"align\": \"left\"}, \"hovermode\": \"closest\", \"mapbox\": {\"style\": \"light\"}, \"paper_bgcolor\": \"white\", \"plot_bgcolor\": \"#E5ECF6\", \"polar\": {\"angularaxis\": {\"gridcolor\": \"white\", \"linecolor\": \"white\", \"ticks\": \"\"}, \"bgcolor\": \"#E5ECF6\", \"radialaxis\": {\"gridcolor\": \"white\", \"linecolor\": \"white\", \"ticks\": \"\"}}, \"scene\": {\"xaxis\": {\"backgroundcolor\": \"#E5ECF6\", \"gridcolor\": \"white\", \"gridwidth\": 2, \"linecolor\": \"white\", \"showbackground\": true, \"ticks\": \"\", \"zerolinecolor\": \"white\"}, \"yaxis\": {\"backgroundcolor\": \"#E5ECF6\", \"gridcolor\": \"white\", \"gridwidth\": 2, \"linecolor\": \"white\", \"showbackground\": true, \"ticks\": \"\", \"zerolinecolor\": \"white\"}, \"zaxis\": {\"backgroundcolor\": \"#E5ECF6\", \"gridcolor\": \"white\", \"gridwidth\": 2, \"linecolor\": \"white\", \"showbackground\": true, \"ticks\": \"\", \"zerolinecolor\": \"white\"}}, \"shapedefaults\": {\"line\": {\"color\": \"#2a3f5f\"}}, \"ternary\": {\"aaxis\": {\"gridcolor\": \"white\", \"linecolor\": \"white\", \"ticks\": \"\"}, \"baxis\": {\"gridcolor\": \"white\", \"linecolor\": \"white\", \"ticks\": \"\"}, \"bgcolor\": \"#E5ECF6\", \"caxis\": {\"gridcolor\": \"white\", \"linecolor\": \"white\", \"ticks\": \"\"}}, \"title\": {\"x\": 0.05}, \"xaxis\": {\"automargin\": true, \"gridcolor\": \"white\", \"linecolor\": \"white\", \"ticks\": \"\", \"title\": {\"standoff\": 15}, \"zerolinecolor\": \"white\", \"zerolinewidth\": 2}, \"yaxis\": {\"automargin\": true, \"gridcolor\": \"white\", \"linecolor\": \"white\", \"ticks\": \"\", \"title\": {\"standoff\": 15}, \"zerolinecolor\": \"white\", \"zerolinewidth\": 2}}}, \"title\": {\"text\": \"MultipleLines distribution in customer attrition \"}},\n",
              "                        {\"responsive\": true}\n",
              "                    ).then(function(){\n",
              "                            \n",
              "var gd = document.getElementById('5ad4e57e-ca67-47cb-9c6d-04c718b4760c');\n",
              "var x = new MutationObserver(function (mutations, observer) {{\n",
              "        var display = window.getComputedStyle(gd).display;\n",
              "        if (!display || display === 'none') {{\n",
              "            console.log([gd, 'removed!']);\n",
              "            Plotly.purge(gd);\n",
              "            observer.disconnect();\n",
              "        }}\n",
              "}});\n",
              "\n",
              "// Listen for the removal of the full notebook cells\n",
              "var notebookContainer = gd.closest('#notebook-container');\n",
              "if (notebookContainer) {{\n",
              "    x.observe(notebookContainer, {childList: true});\n",
              "}}\n",
              "\n",
              "// Listen for the clearing of the current output cell\n",
              "var outputEl = gd.closest('.output');\n",
              "if (outputEl) {{\n",
              "    x.observe(outputEl, {childList: true});\n",
              "}}\n",
              "\n",
              "                        })\n",
              "                };\n",
              "                \n",
              "            </script>\n",
              "        </div>\n",
              "</body>\n",
              "</html>"
            ]
          },
          "metadata": {
            "tags": []
          }
        },
        {
          "output_type": "display_data",
          "data": {
            "text/html": [
              "<html>\n",
              "<head><meta charset=\"utf-8\" /></head>\n",
              "<body>\n",
              "    <div>\n",
              "            <script src=\"https://cdnjs.cloudflare.com/ajax/libs/mathjax/2.7.5/MathJax.js?config=TeX-AMS-MML_SVG\"></script><script type=\"text/javascript\">if (window.MathJax) {MathJax.Hub.Config({SVG: {font: \"STIX-Web\"}});}</script>\n",
              "                <script type=\"text/javascript\">window.PlotlyConfig = {MathJaxConfig: 'local'};</script>\n",
              "        <script src=\"https://cdn.plot.ly/plotly-latest.min.js\"></script>    \n",
              "            <div id=\"a18a819e-129c-4edc-aa2d-c5e2f0c9ad27\" class=\"plotly-graph-div\" style=\"height:525px; width:100%;\"></div>\n",
              "            <script type=\"text/javascript\">\n",
              "                \n",
              "                    window.PLOTLYENV=window.PLOTLYENV || {};\n",
              "                    \n",
              "                if (document.getElementById(\"a18a819e-129c-4edc-aa2d-c5e2f0c9ad27\")) {\n",
              "                    Plotly.newPlot(\n",
              "                        'a18a819e-129c-4edc-aa2d-c5e2f0c9ad27',\n",
              "                        [{\"domain\": {\"x\": [0, 0.2]}, \"hole\": 0.6, \"hoverinfo\": \"label+percent+name\", \"labels\": [\"fiber optic\", \"dsl\", \"no\"], \"marker\": {\"line\": {\"color\": \"rgb(243,243,243)\", \"width\": 2}}, \"name\": \"Churn Customers\", \"type\": \"pie\", \"values\": [1028, 360, 87]}, {\"domain\": {\"x\": [0.52, 1]}, \"hole\": 0.6, \"hoverinfo\": \"label+percent+name\", \"labels\": [\"dsl\", \"fiber optic\", \"no\"], \"marker\": {\"line\": {\"color\": \"rgb(243,243,243)\", \"width\": 2}}, \"name\": \"Non Churn Customers\", \"type\": \"pie\", \"values\": [1580, 1432, 1138]}],\n",
              "                        {\"annotations\": [{\"font\": {\"size\": 13}, \"showarrow\": false, \"text\": \"Churn Customers\", \"x\": 0.05, \"y\": 0.5}, {\"font\": {\"size\": 13}, \"showarrow\": false, \"text\": \"Non Churn Customers\", \"x\": 0.83, \"y\": 0.5}], \"paper_bgcolor\": \"rgb(243,243,243)\", \"plot_bgcolor\": \"rgb(243,243,243)\", \"template\": {\"data\": {\"bar\": [{\"error_x\": {\"color\": \"#2a3f5f\"}, \"error_y\": {\"color\": \"#2a3f5f\"}, \"marker\": {\"line\": {\"color\": \"#E5ECF6\", \"width\": 0.5}}, \"type\": \"bar\"}], \"barpolar\": [{\"marker\": {\"line\": {\"color\": \"#E5ECF6\", \"width\": 0.5}}, \"type\": \"barpolar\"}], \"carpet\": [{\"aaxis\": {\"endlinecolor\": \"#2a3f5f\", \"gridcolor\": \"white\", \"linecolor\": \"white\", \"minorgridcolor\": \"white\", \"startlinecolor\": \"#2a3f5f\"}, \"baxis\": {\"endlinecolor\": \"#2a3f5f\", \"gridcolor\": \"white\", \"linecolor\": \"white\", \"minorgridcolor\": \"white\", \"startlinecolor\": \"#2a3f5f\"}, \"type\": \"carpet\"}], \"choropleth\": [{\"colorbar\": {\"outlinewidth\": 0, \"ticks\": \"\"}, \"type\": \"choropleth\"}], \"contour\": [{\"colorbar\": {\"outlinewidth\": 0, \"ticks\": \"\"}, \"colorscale\": [[0.0, \"#0d0887\"], [0.1111111111111111, \"#46039f\"], [0.2222222222222222, \"#7201a8\"], [0.3333333333333333, \"#9c179e\"], [0.4444444444444444, \"#bd3786\"], [0.5555555555555556, \"#d8576b\"], [0.6666666666666666, \"#ed7953\"], [0.7777777777777778, \"#fb9f3a\"], [0.8888888888888888, \"#fdca26\"], [1.0, \"#f0f921\"]], \"type\": \"contour\"}], \"contourcarpet\": [{\"colorbar\": {\"outlinewidth\": 0, \"ticks\": \"\"}, \"type\": \"contourcarpet\"}], \"heatmap\": [{\"colorbar\": {\"outlinewidth\": 0, \"ticks\": \"\"}, \"colorscale\": [[0.0, \"#0d0887\"], [0.1111111111111111, \"#46039f\"], [0.2222222222222222, \"#7201a8\"], [0.3333333333333333, \"#9c179e\"], [0.4444444444444444, \"#bd3786\"], [0.5555555555555556, \"#d8576b\"], [0.6666666666666666, \"#ed7953\"], [0.7777777777777778, \"#fb9f3a\"], [0.8888888888888888, \"#fdca26\"], [1.0, \"#f0f921\"]], \"type\": \"heatmap\"}], \"heatmapgl\": [{\"colorbar\": {\"outlinewidth\": 0, \"ticks\": \"\"}, \"colorscale\": [[0.0, \"#0d0887\"], [0.1111111111111111, \"#46039f\"], [0.2222222222222222, \"#7201a8\"], [0.3333333333333333, \"#9c179e\"], [0.4444444444444444, \"#bd3786\"], [0.5555555555555556, \"#d8576b\"], [0.6666666666666666, \"#ed7953\"], [0.7777777777777778, \"#fb9f3a\"], [0.8888888888888888, \"#fdca26\"], [1.0, \"#f0f921\"]], \"type\": \"heatmapgl\"}], \"histogram\": [{\"marker\": {\"colorbar\": {\"outlinewidth\": 0, \"ticks\": \"\"}}, \"type\": \"histogram\"}], \"histogram2d\": [{\"colorbar\": {\"outlinewidth\": 0, \"ticks\": \"\"}, \"colorscale\": [[0.0, \"#0d0887\"], [0.1111111111111111, \"#46039f\"], [0.2222222222222222, \"#7201a8\"], [0.3333333333333333, \"#9c179e\"], [0.4444444444444444, \"#bd3786\"], [0.5555555555555556, \"#d8576b\"], [0.6666666666666666, \"#ed7953\"], [0.7777777777777778, \"#fb9f3a\"], [0.8888888888888888, \"#fdca26\"], [1.0, \"#f0f921\"]], \"type\": \"histogram2d\"}], \"histogram2dcontour\": [{\"colorbar\": {\"outlinewidth\": 0, \"ticks\": \"\"}, \"colorscale\": [[0.0, \"#0d0887\"], [0.1111111111111111, \"#46039f\"], [0.2222222222222222, \"#7201a8\"], [0.3333333333333333, \"#9c179e\"], [0.4444444444444444, \"#bd3786\"], [0.5555555555555556, \"#d8576b\"], [0.6666666666666666, \"#ed7953\"], [0.7777777777777778, \"#fb9f3a\"], [0.8888888888888888, \"#fdca26\"], [1.0, \"#f0f921\"]], \"type\": \"histogram2dcontour\"}], \"mesh3d\": [{\"colorbar\": {\"outlinewidth\": 0, \"ticks\": \"\"}, \"type\": \"mesh3d\"}], \"parcoords\": [{\"line\": {\"colorbar\": {\"outlinewidth\": 0, \"ticks\": \"\"}}, \"type\": \"parcoords\"}], \"pie\": [{\"automargin\": true, \"type\": \"pie\"}], \"scatter\": [{\"marker\": {\"colorbar\": {\"outlinewidth\": 0, \"ticks\": \"\"}}, \"type\": \"scatter\"}], \"scatter3d\": [{\"line\": {\"colorbar\": {\"outlinewidth\": 0, \"ticks\": \"\"}}, \"marker\": {\"colorbar\": {\"outlinewidth\": 0, \"ticks\": \"\"}}, \"type\": \"scatter3d\"}], \"scattercarpet\": [{\"marker\": {\"colorbar\": {\"outlinewidth\": 0, \"ticks\": \"\"}}, \"type\": \"scattercarpet\"}], \"scattergeo\": [{\"marker\": {\"colorbar\": {\"outlinewidth\": 0, \"ticks\": \"\"}}, \"type\": \"scattergeo\"}], \"scattergl\": [{\"marker\": {\"colorbar\": {\"outlinewidth\": 0, \"ticks\": \"\"}}, \"type\": \"scattergl\"}], \"scattermapbox\": [{\"marker\": {\"colorbar\": {\"outlinewidth\": 0, \"ticks\": \"\"}}, \"type\": \"scattermapbox\"}], \"scatterpolar\": [{\"marker\": {\"colorbar\": {\"outlinewidth\": 0, \"ticks\": \"\"}}, \"type\": \"scatterpolar\"}], \"scatterpolargl\": [{\"marker\": {\"colorbar\": {\"outlinewidth\": 0, \"ticks\": \"\"}}, \"type\": \"scatterpolargl\"}], \"scatterternary\": [{\"marker\": {\"colorbar\": {\"outlinewidth\": 0, \"ticks\": \"\"}}, \"type\": \"scatterternary\"}], \"surface\": [{\"colorbar\": {\"outlinewidth\": 0, \"ticks\": \"\"}, \"colorscale\": [[0.0, \"#0d0887\"], [0.1111111111111111, \"#46039f\"], [0.2222222222222222, \"#7201a8\"], [0.3333333333333333, \"#9c179e\"], [0.4444444444444444, \"#bd3786\"], [0.5555555555555556, \"#d8576b\"], [0.6666666666666666, \"#ed7953\"], [0.7777777777777778, \"#fb9f3a\"], [0.8888888888888888, \"#fdca26\"], [1.0, \"#f0f921\"]], \"type\": \"surface\"}], \"table\": [{\"cells\": {\"fill\": {\"color\": \"#EBF0F8\"}, \"line\": {\"color\": \"white\"}}, \"header\": {\"fill\": {\"color\": \"#C8D4E3\"}, \"line\": {\"color\": \"white\"}}, \"type\": \"table\"}]}, \"layout\": {\"annotationdefaults\": {\"arrowcolor\": \"#2a3f5f\", \"arrowhead\": 0, \"arrowwidth\": 1}, \"coloraxis\": {\"colorbar\": {\"outlinewidth\": 0, \"ticks\": \"\"}}, \"colorscale\": {\"diverging\": [[0, \"#8e0152\"], [0.1, \"#c51b7d\"], [0.2, \"#de77ae\"], [0.3, \"#f1b6da\"], [0.4, \"#fde0ef\"], [0.5, \"#f7f7f7\"], [0.6, \"#e6f5d0\"], [0.7, \"#b8e186\"], [0.8, \"#7fbc41\"], [0.9, \"#4d9221\"], [1, \"#276419\"]], \"sequential\": [[0.0, \"#0d0887\"], [0.1111111111111111, \"#46039f\"], [0.2222222222222222, \"#7201a8\"], [0.3333333333333333, \"#9c179e\"], [0.4444444444444444, \"#bd3786\"], [0.5555555555555556, \"#d8576b\"], [0.6666666666666666, \"#ed7953\"], [0.7777777777777778, \"#fb9f3a\"], [0.8888888888888888, \"#fdca26\"], [1.0, \"#f0f921\"]], \"sequentialminus\": [[0.0, \"#0d0887\"], [0.1111111111111111, \"#46039f\"], [0.2222222222222222, \"#7201a8\"], [0.3333333333333333, \"#9c179e\"], [0.4444444444444444, \"#bd3786\"], [0.5555555555555556, \"#d8576b\"], [0.6666666666666666, \"#ed7953\"], [0.7777777777777778, \"#fb9f3a\"], [0.8888888888888888, \"#fdca26\"], [1.0, \"#f0f921\"]]}, \"colorway\": [\"#636efa\", \"#EF553B\", \"#00cc96\", \"#ab63fa\", \"#FFA15A\", \"#19d3f3\", \"#FF6692\", \"#B6E880\", \"#FF97FF\", \"#FECB52\"], \"font\": {\"color\": \"#2a3f5f\"}, \"geo\": {\"bgcolor\": \"white\", \"lakecolor\": \"white\", \"landcolor\": \"#E5ECF6\", \"showlakes\": true, \"showland\": true, \"subunitcolor\": \"white\"}, \"hoverlabel\": {\"align\": \"left\"}, \"hovermode\": \"closest\", \"mapbox\": {\"style\": \"light\"}, \"paper_bgcolor\": \"white\", \"plot_bgcolor\": \"#E5ECF6\", \"polar\": {\"angularaxis\": {\"gridcolor\": \"white\", \"linecolor\": \"white\", \"ticks\": \"\"}, \"bgcolor\": \"#E5ECF6\", \"radialaxis\": {\"gridcolor\": \"white\", \"linecolor\": \"white\", \"ticks\": \"\"}}, \"scene\": {\"xaxis\": {\"backgroundcolor\": \"#E5ECF6\", \"gridcolor\": \"white\", \"gridwidth\": 2, \"linecolor\": \"white\", \"showbackground\": true, \"ticks\": \"\", \"zerolinecolor\": \"white\"}, \"yaxis\": {\"backgroundcolor\": \"#E5ECF6\", \"gridcolor\": \"white\", \"gridwidth\": 2, \"linecolor\": \"white\", \"showbackground\": true, \"ticks\": \"\", \"zerolinecolor\": \"white\"}, \"zaxis\": {\"backgroundcolor\": \"#E5ECF6\", \"gridcolor\": \"white\", \"gridwidth\": 2, \"linecolor\": \"white\", \"showbackground\": true, \"ticks\": \"\", \"zerolinecolor\": \"white\"}}, \"shapedefaults\": {\"line\": {\"color\": \"#2a3f5f\"}}, \"ternary\": {\"aaxis\": {\"gridcolor\": \"white\", \"linecolor\": \"white\", \"ticks\": \"\"}, \"baxis\": {\"gridcolor\": \"white\", \"linecolor\": \"white\", \"ticks\": \"\"}, \"bgcolor\": \"#E5ECF6\", \"caxis\": {\"gridcolor\": \"white\", \"linecolor\": \"white\", \"ticks\": \"\"}}, \"title\": {\"x\": 0.05}, \"xaxis\": {\"automargin\": true, \"gridcolor\": \"white\", \"linecolor\": \"white\", \"ticks\": \"\", \"title\": {\"standoff\": 15}, \"zerolinecolor\": \"white\", \"zerolinewidth\": 2}, \"yaxis\": {\"automargin\": true, \"gridcolor\": \"white\", \"linecolor\": \"white\", \"ticks\": \"\", \"title\": {\"standoff\": 15}, \"zerolinecolor\": \"white\", \"zerolinewidth\": 2}}}, \"title\": {\"text\": \"InternetService distribution in customer attrition \"}},\n",
              "                        {\"responsive\": true}\n",
              "                    ).then(function(){\n",
              "                            \n",
              "var gd = document.getElementById('a18a819e-129c-4edc-aa2d-c5e2f0c9ad27');\n",
              "var x = new MutationObserver(function (mutations, observer) {{\n",
              "        var display = window.getComputedStyle(gd).display;\n",
              "        if (!display || display === 'none') {{\n",
              "            console.log([gd, 'removed!']);\n",
              "            Plotly.purge(gd);\n",
              "            observer.disconnect();\n",
              "        }}\n",
              "}});\n",
              "\n",
              "// Listen for the removal of the full notebook cells\n",
              "var notebookContainer = gd.closest('#notebook-container');\n",
              "if (notebookContainer) {{\n",
              "    x.observe(notebookContainer, {childList: true});\n",
              "}}\n",
              "\n",
              "// Listen for the clearing of the current output cell\n",
              "var outputEl = gd.closest('.output');\n",
              "if (outputEl) {{\n",
              "    x.observe(outputEl, {childList: true});\n",
              "}}\n",
              "\n",
              "                        })\n",
              "                };\n",
              "                \n",
              "            </script>\n",
              "        </div>\n",
              "</body>\n",
              "</html>"
            ]
          },
          "metadata": {
            "tags": []
          }
        },
        {
          "output_type": "display_data",
          "data": {
            "text/html": [
              "<html>\n",
              "<head><meta charset=\"utf-8\" /></head>\n",
              "<body>\n",
              "    <div>\n",
              "            <script src=\"https://cdnjs.cloudflare.com/ajax/libs/mathjax/2.7.5/MathJax.js?config=TeX-AMS-MML_SVG\"></script><script type=\"text/javascript\">if (window.MathJax) {MathJax.Hub.Config({SVG: {font: \"STIX-Web\"}});}</script>\n",
              "                <script type=\"text/javascript\">window.PlotlyConfig = {MathJaxConfig: 'local'};</script>\n",
              "        <script src=\"https://cdn.plot.ly/plotly-latest.min.js\"></script>    \n",
              "            <div id=\"8a314bfb-8d85-44f2-a382-dd54eb5aff83\" class=\"plotly-graph-div\" style=\"height:525px; width:100%;\"></div>\n",
              "            <script type=\"text/javascript\">\n",
              "                \n",
              "                    window.PLOTLYENV=window.PLOTLYENV || {};\n",
              "                    \n",
              "                if (document.getElementById(\"8a314bfb-8d85-44f2-a382-dd54eb5aff83\")) {\n",
              "                    Plotly.newPlot(\n",
              "                        '8a314bfb-8d85-44f2-a382-dd54eb5aff83',\n",
              "                        [{\"domain\": {\"x\": [0, 0.2]}, \"hole\": 0.6, \"hoverinfo\": \"label+percent+name\", \"labels\": [\"no\", \"yes\"], \"marker\": {\"line\": {\"color\": \"rgb(243,243,243)\", \"width\": 2}}, \"name\": \"Churn Customers\", \"type\": \"pie\", \"values\": [1254, 221]}, {\"domain\": {\"x\": [0.52, 1]}, \"hole\": 0.6, \"hoverinfo\": \"label+percent+name\", \"labels\": [\"no\", \"yes\"], \"marker\": {\"line\": {\"color\": \"rgb(243,243,243)\", \"width\": 2}}, \"name\": \"Non Churn Customers\", \"type\": \"pie\", \"values\": [2767, 1383]}],\n",
              "                        {\"annotations\": [{\"font\": {\"size\": 13}, \"showarrow\": false, \"text\": \"Churn Customers\", \"x\": 0.05, \"y\": 0.5}, {\"font\": {\"size\": 13}, \"showarrow\": false, \"text\": \"Non Churn Customers\", \"x\": 0.83, \"y\": 0.5}], \"paper_bgcolor\": \"rgb(243,243,243)\", \"plot_bgcolor\": \"rgb(243,243,243)\", \"template\": {\"data\": {\"bar\": [{\"error_x\": {\"color\": \"#2a3f5f\"}, \"error_y\": {\"color\": \"#2a3f5f\"}, \"marker\": {\"line\": {\"color\": \"#E5ECF6\", \"width\": 0.5}}, \"type\": \"bar\"}], \"barpolar\": [{\"marker\": {\"line\": {\"color\": \"#E5ECF6\", \"width\": 0.5}}, \"type\": \"barpolar\"}], \"carpet\": [{\"aaxis\": {\"endlinecolor\": \"#2a3f5f\", \"gridcolor\": \"white\", \"linecolor\": \"white\", \"minorgridcolor\": \"white\", \"startlinecolor\": \"#2a3f5f\"}, \"baxis\": {\"endlinecolor\": \"#2a3f5f\", \"gridcolor\": \"white\", \"linecolor\": \"white\", \"minorgridcolor\": \"white\", \"startlinecolor\": \"#2a3f5f\"}, \"type\": \"carpet\"}], \"choropleth\": [{\"colorbar\": {\"outlinewidth\": 0, \"ticks\": \"\"}, \"type\": \"choropleth\"}], \"contour\": [{\"colorbar\": {\"outlinewidth\": 0, \"ticks\": \"\"}, \"colorscale\": [[0.0, \"#0d0887\"], [0.1111111111111111, \"#46039f\"], [0.2222222222222222, \"#7201a8\"], [0.3333333333333333, \"#9c179e\"], [0.4444444444444444, \"#bd3786\"], [0.5555555555555556, \"#d8576b\"], [0.6666666666666666, \"#ed7953\"], [0.7777777777777778, \"#fb9f3a\"], [0.8888888888888888, \"#fdca26\"], [1.0, \"#f0f921\"]], \"type\": \"contour\"}], \"contourcarpet\": [{\"colorbar\": {\"outlinewidth\": 0, \"ticks\": \"\"}, \"type\": \"contourcarpet\"}], \"heatmap\": [{\"colorbar\": {\"outlinewidth\": 0, \"ticks\": \"\"}, \"colorscale\": [[0.0, \"#0d0887\"], [0.1111111111111111, \"#46039f\"], [0.2222222222222222, \"#7201a8\"], [0.3333333333333333, \"#9c179e\"], [0.4444444444444444, \"#bd3786\"], [0.5555555555555556, \"#d8576b\"], [0.6666666666666666, \"#ed7953\"], [0.7777777777777778, \"#fb9f3a\"], [0.8888888888888888, \"#fdca26\"], [1.0, \"#f0f921\"]], \"type\": \"heatmap\"}], \"heatmapgl\": [{\"colorbar\": {\"outlinewidth\": 0, \"ticks\": \"\"}, \"colorscale\": [[0.0, \"#0d0887\"], [0.1111111111111111, \"#46039f\"], [0.2222222222222222, \"#7201a8\"], [0.3333333333333333, \"#9c179e\"], [0.4444444444444444, \"#bd3786\"], [0.5555555555555556, \"#d8576b\"], [0.6666666666666666, \"#ed7953\"], [0.7777777777777778, \"#fb9f3a\"], [0.8888888888888888, \"#fdca26\"], [1.0, \"#f0f921\"]], \"type\": \"heatmapgl\"}], \"histogram\": [{\"marker\": {\"colorbar\": {\"outlinewidth\": 0, \"ticks\": \"\"}}, \"type\": \"histogram\"}], \"histogram2d\": [{\"colorbar\": {\"outlinewidth\": 0, \"ticks\": \"\"}, \"colorscale\": [[0.0, \"#0d0887\"], [0.1111111111111111, \"#46039f\"], [0.2222222222222222, \"#7201a8\"], [0.3333333333333333, \"#9c179e\"], [0.4444444444444444, \"#bd3786\"], [0.5555555555555556, \"#d8576b\"], [0.6666666666666666, \"#ed7953\"], [0.7777777777777778, \"#fb9f3a\"], [0.8888888888888888, \"#fdca26\"], [1.0, \"#f0f921\"]], \"type\": \"histogram2d\"}], \"histogram2dcontour\": [{\"colorbar\": {\"outlinewidth\": 0, \"ticks\": \"\"}, \"colorscale\": [[0.0, \"#0d0887\"], [0.1111111111111111, \"#46039f\"], [0.2222222222222222, \"#7201a8\"], [0.3333333333333333, \"#9c179e\"], [0.4444444444444444, \"#bd3786\"], [0.5555555555555556, \"#d8576b\"], [0.6666666666666666, \"#ed7953\"], [0.7777777777777778, \"#fb9f3a\"], [0.8888888888888888, \"#fdca26\"], [1.0, \"#f0f921\"]], \"type\": \"histogram2dcontour\"}], \"mesh3d\": [{\"colorbar\": {\"outlinewidth\": 0, \"ticks\": \"\"}, \"type\": \"mesh3d\"}], \"parcoords\": [{\"line\": {\"colorbar\": {\"outlinewidth\": 0, \"ticks\": \"\"}}, \"type\": \"parcoords\"}], \"pie\": [{\"automargin\": true, \"type\": \"pie\"}], \"scatter\": [{\"marker\": {\"colorbar\": {\"outlinewidth\": 0, \"ticks\": \"\"}}, \"type\": \"scatter\"}], \"scatter3d\": [{\"line\": {\"colorbar\": {\"outlinewidth\": 0, \"ticks\": \"\"}}, \"marker\": {\"colorbar\": {\"outlinewidth\": 0, \"ticks\": \"\"}}, \"type\": \"scatter3d\"}], \"scattercarpet\": [{\"marker\": {\"colorbar\": {\"outlinewidth\": 0, \"ticks\": \"\"}}, \"type\": \"scattercarpet\"}], \"scattergeo\": [{\"marker\": {\"colorbar\": {\"outlinewidth\": 0, \"ticks\": \"\"}}, \"type\": \"scattergeo\"}], \"scattergl\": [{\"marker\": {\"colorbar\": {\"outlinewidth\": 0, \"ticks\": \"\"}}, \"type\": \"scattergl\"}], \"scattermapbox\": [{\"marker\": {\"colorbar\": {\"outlinewidth\": 0, \"ticks\": \"\"}}, \"type\": \"scattermapbox\"}], \"scatterpolar\": [{\"marker\": {\"colorbar\": {\"outlinewidth\": 0, \"ticks\": \"\"}}, \"type\": \"scatterpolar\"}], \"scatterpolargl\": [{\"marker\": {\"colorbar\": {\"outlinewidth\": 0, \"ticks\": \"\"}}, \"type\": \"scatterpolargl\"}], \"scatterternary\": [{\"marker\": {\"colorbar\": {\"outlinewidth\": 0, \"ticks\": \"\"}}, \"type\": \"scatterternary\"}], \"surface\": [{\"colorbar\": {\"outlinewidth\": 0, \"ticks\": \"\"}, \"colorscale\": [[0.0, \"#0d0887\"], [0.1111111111111111, \"#46039f\"], [0.2222222222222222, \"#7201a8\"], [0.3333333333333333, \"#9c179e\"], [0.4444444444444444, \"#bd3786\"], [0.5555555555555556, \"#d8576b\"], [0.6666666666666666, \"#ed7953\"], [0.7777777777777778, \"#fb9f3a\"], [0.8888888888888888, \"#fdca26\"], [1.0, \"#f0f921\"]], \"type\": \"surface\"}], \"table\": [{\"cells\": {\"fill\": {\"color\": \"#EBF0F8\"}, \"line\": {\"color\": \"white\"}}, \"header\": {\"fill\": {\"color\": \"#C8D4E3\"}, \"line\": {\"color\": \"white\"}}, \"type\": \"table\"}]}, \"layout\": {\"annotationdefaults\": {\"arrowcolor\": \"#2a3f5f\", \"arrowhead\": 0, \"arrowwidth\": 1}, \"coloraxis\": {\"colorbar\": {\"outlinewidth\": 0, \"ticks\": \"\"}}, \"colorscale\": {\"diverging\": [[0, \"#8e0152\"], [0.1, \"#c51b7d\"], [0.2, \"#de77ae\"], [0.3, \"#f1b6da\"], [0.4, \"#fde0ef\"], [0.5, \"#f7f7f7\"], [0.6, \"#e6f5d0\"], [0.7, \"#b8e186\"], [0.8, \"#7fbc41\"], [0.9, \"#4d9221\"], [1, \"#276419\"]], \"sequential\": [[0.0, \"#0d0887\"], [0.1111111111111111, \"#46039f\"], [0.2222222222222222, \"#7201a8\"], [0.3333333333333333, \"#9c179e\"], [0.4444444444444444, \"#bd3786\"], [0.5555555555555556, \"#d8576b\"], [0.6666666666666666, \"#ed7953\"], [0.7777777777777778, \"#fb9f3a\"], [0.8888888888888888, \"#fdca26\"], [1.0, \"#f0f921\"]], \"sequentialminus\": [[0.0, \"#0d0887\"], [0.1111111111111111, \"#46039f\"], [0.2222222222222222, \"#7201a8\"], [0.3333333333333333, \"#9c179e\"], [0.4444444444444444, \"#bd3786\"], [0.5555555555555556, \"#d8576b\"], [0.6666666666666666, \"#ed7953\"], [0.7777777777777778, \"#fb9f3a\"], [0.8888888888888888, \"#fdca26\"], [1.0, \"#f0f921\"]]}, \"colorway\": [\"#636efa\", \"#EF553B\", \"#00cc96\", \"#ab63fa\", \"#FFA15A\", \"#19d3f3\", \"#FF6692\", \"#B6E880\", \"#FF97FF\", \"#FECB52\"], \"font\": {\"color\": \"#2a3f5f\"}, \"geo\": {\"bgcolor\": \"white\", \"lakecolor\": \"white\", \"landcolor\": \"#E5ECF6\", \"showlakes\": true, \"showland\": true, \"subunitcolor\": \"white\"}, \"hoverlabel\": {\"align\": \"left\"}, \"hovermode\": \"closest\", \"mapbox\": {\"style\": \"light\"}, \"paper_bgcolor\": \"white\", \"plot_bgcolor\": \"#E5ECF6\", \"polar\": {\"angularaxis\": {\"gridcolor\": \"white\", \"linecolor\": \"white\", \"ticks\": \"\"}, \"bgcolor\": \"#E5ECF6\", \"radialaxis\": {\"gridcolor\": \"white\", \"linecolor\": \"white\", \"ticks\": \"\"}}, \"scene\": {\"xaxis\": {\"backgroundcolor\": \"#E5ECF6\", \"gridcolor\": \"white\", \"gridwidth\": 2, \"linecolor\": \"white\", \"showbackground\": true, \"ticks\": \"\", \"zerolinecolor\": \"white\"}, \"yaxis\": {\"backgroundcolor\": \"#E5ECF6\", \"gridcolor\": \"white\", \"gridwidth\": 2, \"linecolor\": \"white\", \"showbackground\": true, \"ticks\": \"\", \"zerolinecolor\": \"white\"}, \"zaxis\": {\"backgroundcolor\": \"#E5ECF6\", \"gridcolor\": \"white\", \"gridwidth\": 2, \"linecolor\": \"white\", \"showbackground\": true, \"ticks\": \"\", \"zerolinecolor\": \"white\"}}, \"shapedefaults\": {\"line\": {\"color\": \"#2a3f5f\"}}, \"ternary\": {\"aaxis\": {\"gridcolor\": \"white\", \"linecolor\": \"white\", \"ticks\": \"\"}, \"baxis\": {\"gridcolor\": \"white\", \"linecolor\": \"white\", \"ticks\": \"\"}, \"bgcolor\": \"#E5ECF6\", \"caxis\": {\"gridcolor\": \"white\", \"linecolor\": \"white\", \"ticks\": \"\"}}, \"title\": {\"x\": 0.05}, \"xaxis\": {\"automargin\": true, \"gridcolor\": \"white\", \"linecolor\": \"white\", \"ticks\": \"\", \"title\": {\"standoff\": 15}, \"zerolinecolor\": \"white\", \"zerolinewidth\": 2}, \"yaxis\": {\"automargin\": true, \"gridcolor\": \"white\", \"linecolor\": \"white\", \"ticks\": \"\", \"title\": {\"standoff\": 15}, \"zerolinecolor\": \"white\", \"zerolinewidth\": 2}}}, \"title\": {\"text\": \"OnlineSecurity distribution in customer attrition \"}},\n",
              "                        {\"responsive\": true}\n",
              "                    ).then(function(){\n",
              "                            \n",
              "var gd = document.getElementById('8a314bfb-8d85-44f2-a382-dd54eb5aff83');\n",
              "var x = new MutationObserver(function (mutations, observer) {{\n",
              "        var display = window.getComputedStyle(gd).display;\n",
              "        if (!display || display === 'none') {{\n",
              "            console.log([gd, 'removed!']);\n",
              "            Plotly.purge(gd);\n",
              "            observer.disconnect();\n",
              "        }}\n",
              "}});\n",
              "\n",
              "// Listen for the removal of the full notebook cells\n",
              "var notebookContainer = gd.closest('#notebook-container');\n",
              "if (notebookContainer) {{\n",
              "    x.observe(notebookContainer, {childList: true});\n",
              "}}\n",
              "\n",
              "// Listen for the clearing of the current output cell\n",
              "var outputEl = gd.closest('.output');\n",
              "if (outputEl) {{\n",
              "    x.observe(outputEl, {childList: true});\n",
              "}}\n",
              "\n",
              "                        })\n",
              "                };\n",
              "                \n",
              "            </script>\n",
              "        </div>\n",
              "</body>\n",
              "</html>"
            ]
          },
          "metadata": {
            "tags": []
          }
        },
        {
          "output_type": "display_data",
          "data": {
            "text/html": [
              "<html>\n",
              "<head><meta charset=\"utf-8\" /></head>\n",
              "<body>\n",
              "    <div>\n",
              "            <script src=\"https://cdnjs.cloudflare.com/ajax/libs/mathjax/2.7.5/MathJax.js?config=TeX-AMS-MML_SVG\"></script><script type=\"text/javascript\">if (window.MathJax) {MathJax.Hub.Config({SVG: {font: \"STIX-Web\"}});}</script>\n",
              "                <script type=\"text/javascript\">window.PlotlyConfig = {MathJaxConfig: 'local'};</script>\n",
              "        <script src=\"https://cdn.plot.ly/plotly-latest.min.js\"></script>    \n",
              "            <div id=\"daf4db5b-5a8d-4915-ba27-cb2570f7009f\" class=\"plotly-graph-div\" style=\"height:525px; width:100%;\"></div>\n",
              "            <script type=\"text/javascript\">\n",
              "                \n",
              "                    window.PLOTLYENV=window.PLOTLYENV || {};\n",
              "                    \n",
              "                if (document.getElementById(\"daf4db5b-5a8d-4915-ba27-cb2570f7009f\")) {\n",
              "                    Plotly.newPlot(\n",
              "                        'daf4db5b-5a8d-4915-ba27-cb2570f7009f',\n",
              "                        [{\"domain\": {\"x\": [0, 0.2]}, \"hole\": 0.6, \"hoverinfo\": \"label+percent+name\", \"labels\": [\"no\", \"yes\"], \"marker\": {\"line\": {\"color\": \"rgb(243,243,243)\", \"width\": 2}}, \"name\": \"Churn Customers\", \"type\": \"pie\", \"values\": [1064, 411]}, {\"domain\": {\"x\": [0.52, 1]}, \"hole\": 0.6, \"hoverinfo\": \"label+percent+name\", \"labels\": [\"no\", \"yes\"], \"marker\": {\"line\": {\"color\": \"rgb(243,243,243)\", \"width\": 2}}, \"name\": \"Non Churn Customers\", \"type\": \"pie\", \"values\": [2599, 1551]}],\n",
              "                        {\"annotations\": [{\"font\": {\"size\": 13}, \"showarrow\": false, \"text\": \"Churn Customers\", \"x\": 0.05, \"y\": 0.5}, {\"font\": {\"size\": 13}, \"showarrow\": false, \"text\": \"Non Churn Customers\", \"x\": 0.83, \"y\": 0.5}], \"paper_bgcolor\": \"rgb(243,243,243)\", \"plot_bgcolor\": \"rgb(243,243,243)\", \"template\": {\"data\": {\"bar\": [{\"error_x\": {\"color\": \"#2a3f5f\"}, \"error_y\": {\"color\": \"#2a3f5f\"}, \"marker\": {\"line\": {\"color\": \"#E5ECF6\", \"width\": 0.5}}, \"type\": \"bar\"}], \"barpolar\": [{\"marker\": {\"line\": {\"color\": \"#E5ECF6\", \"width\": 0.5}}, \"type\": \"barpolar\"}], \"carpet\": [{\"aaxis\": {\"endlinecolor\": \"#2a3f5f\", \"gridcolor\": \"white\", \"linecolor\": \"white\", \"minorgridcolor\": \"white\", \"startlinecolor\": \"#2a3f5f\"}, \"baxis\": {\"endlinecolor\": \"#2a3f5f\", \"gridcolor\": \"white\", \"linecolor\": \"white\", \"minorgridcolor\": \"white\", \"startlinecolor\": \"#2a3f5f\"}, \"type\": \"carpet\"}], \"choropleth\": [{\"colorbar\": {\"outlinewidth\": 0, \"ticks\": \"\"}, \"type\": \"choropleth\"}], \"contour\": [{\"colorbar\": {\"outlinewidth\": 0, \"ticks\": \"\"}, \"colorscale\": [[0.0, \"#0d0887\"], [0.1111111111111111, \"#46039f\"], [0.2222222222222222, \"#7201a8\"], [0.3333333333333333, \"#9c179e\"], [0.4444444444444444, \"#bd3786\"], [0.5555555555555556, \"#d8576b\"], [0.6666666666666666, \"#ed7953\"], [0.7777777777777778, \"#fb9f3a\"], [0.8888888888888888, \"#fdca26\"], [1.0, \"#f0f921\"]], \"type\": \"contour\"}], \"contourcarpet\": [{\"colorbar\": {\"outlinewidth\": 0, \"ticks\": \"\"}, \"type\": \"contourcarpet\"}], \"heatmap\": [{\"colorbar\": {\"outlinewidth\": 0, \"ticks\": \"\"}, \"colorscale\": [[0.0, \"#0d0887\"], [0.1111111111111111, \"#46039f\"], [0.2222222222222222, \"#7201a8\"], [0.3333333333333333, \"#9c179e\"], [0.4444444444444444, \"#bd3786\"], [0.5555555555555556, \"#d8576b\"], [0.6666666666666666, \"#ed7953\"], [0.7777777777777778, \"#fb9f3a\"], [0.8888888888888888, \"#fdca26\"], [1.0, \"#f0f921\"]], \"type\": \"heatmap\"}], \"heatmapgl\": [{\"colorbar\": {\"outlinewidth\": 0, \"ticks\": \"\"}, \"colorscale\": [[0.0, \"#0d0887\"], [0.1111111111111111, \"#46039f\"], [0.2222222222222222, \"#7201a8\"], [0.3333333333333333, \"#9c179e\"], [0.4444444444444444, \"#bd3786\"], [0.5555555555555556, \"#d8576b\"], [0.6666666666666666, \"#ed7953\"], [0.7777777777777778, \"#fb9f3a\"], [0.8888888888888888, \"#fdca26\"], [1.0, \"#f0f921\"]], \"type\": \"heatmapgl\"}], \"histogram\": [{\"marker\": {\"colorbar\": {\"outlinewidth\": 0, \"ticks\": \"\"}}, \"type\": \"histogram\"}], \"histogram2d\": [{\"colorbar\": {\"outlinewidth\": 0, \"ticks\": \"\"}, \"colorscale\": [[0.0, \"#0d0887\"], [0.1111111111111111, \"#46039f\"], [0.2222222222222222, \"#7201a8\"], [0.3333333333333333, \"#9c179e\"], [0.4444444444444444, \"#bd3786\"], [0.5555555555555556, \"#d8576b\"], [0.6666666666666666, \"#ed7953\"], [0.7777777777777778, \"#fb9f3a\"], [0.8888888888888888, \"#fdca26\"], [1.0, \"#f0f921\"]], \"type\": \"histogram2d\"}], \"histogram2dcontour\": [{\"colorbar\": {\"outlinewidth\": 0, \"ticks\": \"\"}, \"colorscale\": [[0.0, \"#0d0887\"], [0.1111111111111111, \"#46039f\"], [0.2222222222222222, \"#7201a8\"], [0.3333333333333333, \"#9c179e\"], [0.4444444444444444, \"#bd3786\"], [0.5555555555555556, \"#d8576b\"], [0.6666666666666666, \"#ed7953\"], [0.7777777777777778, \"#fb9f3a\"], [0.8888888888888888, \"#fdca26\"], [1.0, \"#f0f921\"]], \"type\": \"histogram2dcontour\"}], \"mesh3d\": [{\"colorbar\": {\"outlinewidth\": 0, \"ticks\": \"\"}, \"type\": \"mesh3d\"}], \"parcoords\": [{\"line\": {\"colorbar\": {\"outlinewidth\": 0, \"ticks\": \"\"}}, \"type\": \"parcoords\"}], \"pie\": [{\"automargin\": true, \"type\": \"pie\"}], \"scatter\": [{\"marker\": {\"colorbar\": {\"outlinewidth\": 0, \"ticks\": \"\"}}, \"type\": \"scatter\"}], \"scatter3d\": [{\"line\": {\"colorbar\": {\"outlinewidth\": 0, \"ticks\": \"\"}}, \"marker\": {\"colorbar\": {\"outlinewidth\": 0, \"ticks\": \"\"}}, \"type\": \"scatter3d\"}], \"scattercarpet\": [{\"marker\": {\"colorbar\": {\"outlinewidth\": 0, \"ticks\": \"\"}}, \"type\": \"scattercarpet\"}], \"scattergeo\": [{\"marker\": {\"colorbar\": {\"outlinewidth\": 0, \"ticks\": \"\"}}, \"type\": \"scattergeo\"}], \"scattergl\": [{\"marker\": {\"colorbar\": {\"outlinewidth\": 0, \"ticks\": \"\"}}, \"type\": \"scattergl\"}], \"scattermapbox\": [{\"marker\": {\"colorbar\": {\"outlinewidth\": 0, \"ticks\": \"\"}}, \"type\": \"scattermapbox\"}], \"scatterpolar\": [{\"marker\": {\"colorbar\": {\"outlinewidth\": 0, \"ticks\": \"\"}}, \"type\": \"scatterpolar\"}], \"scatterpolargl\": [{\"marker\": {\"colorbar\": {\"outlinewidth\": 0, \"ticks\": \"\"}}, \"type\": \"scatterpolargl\"}], \"scatterternary\": [{\"marker\": {\"colorbar\": {\"outlinewidth\": 0, \"ticks\": \"\"}}, \"type\": \"scatterternary\"}], \"surface\": [{\"colorbar\": {\"outlinewidth\": 0, \"ticks\": \"\"}, \"colorscale\": [[0.0, \"#0d0887\"], [0.1111111111111111, \"#46039f\"], [0.2222222222222222, \"#7201a8\"], [0.3333333333333333, \"#9c179e\"], [0.4444444444444444, \"#bd3786\"], [0.5555555555555556, \"#d8576b\"], [0.6666666666666666, \"#ed7953\"], [0.7777777777777778, \"#fb9f3a\"], [0.8888888888888888, \"#fdca26\"], [1.0, \"#f0f921\"]], \"type\": \"surface\"}], \"table\": [{\"cells\": {\"fill\": {\"color\": \"#EBF0F8\"}, \"line\": {\"color\": \"white\"}}, \"header\": {\"fill\": {\"color\": \"#C8D4E3\"}, \"line\": {\"color\": \"white\"}}, \"type\": \"table\"}]}, \"layout\": {\"annotationdefaults\": {\"arrowcolor\": \"#2a3f5f\", \"arrowhead\": 0, \"arrowwidth\": 1}, \"coloraxis\": {\"colorbar\": {\"outlinewidth\": 0, \"ticks\": \"\"}}, \"colorscale\": {\"diverging\": [[0, \"#8e0152\"], [0.1, \"#c51b7d\"], [0.2, \"#de77ae\"], [0.3, \"#f1b6da\"], [0.4, \"#fde0ef\"], [0.5, \"#f7f7f7\"], [0.6, \"#e6f5d0\"], [0.7, \"#b8e186\"], [0.8, \"#7fbc41\"], [0.9, \"#4d9221\"], [1, \"#276419\"]], \"sequential\": [[0.0, \"#0d0887\"], [0.1111111111111111, \"#46039f\"], [0.2222222222222222, \"#7201a8\"], [0.3333333333333333, \"#9c179e\"], [0.4444444444444444, \"#bd3786\"], [0.5555555555555556, \"#d8576b\"], [0.6666666666666666, \"#ed7953\"], [0.7777777777777778, \"#fb9f3a\"], [0.8888888888888888, \"#fdca26\"], [1.0, \"#f0f921\"]], \"sequentialminus\": [[0.0, \"#0d0887\"], [0.1111111111111111, \"#46039f\"], [0.2222222222222222, \"#7201a8\"], [0.3333333333333333, \"#9c179e\"], [0.4444444444444444, \"#bd3786\"], [0.5555555555555556, \"#d8576b\"], [0.6666666666666666, \"#ed7953\"], [0.7777777777777778, \"#fb9f3a\"], [0.8888888888888888, \"#fdca26\"], [1.0, \"#f0f921\"]]}, \"colorway\": [\"#636efa\", \"#EF553B\", \"#00cc96\", \"#ab63fa\", \"#FFA15A\", \"#19d3f3\", \"#FF6692\", \"#B6E880\", \"#FF97FF\", \"#FECB52\"], \"font\": {\"color\": \"#2a3f5f\"}, \"geo\": {\"bgcolor\": \"white\", \"lakecolor\": \"white\", \"landcolor\": \"#E5ECF6\", \"showlakes\": true, \"showland\": true, \"subunitcolor\": \"white\"}, \"hoverlabel\": {\"align\": \"left\"}, \"hovermode\": \"closest\", \"mapbox\": {\"style\": \"light\"}, \"paper_bgcolor\": \"white\", \"plot_bgcolor\": \"#E5ECF6\", \"polar\": {\"angularaxis\": {\"gridcolor\": \"white\", \"linecolor\": \"white\", \"ticks\": \"\"}, \"bgcolor\": \"#E5ECF6\", \"radialaxis\": {\"gridcolor\": \"white\", \"linecolor\": \"white\", \"ticks\": \"\"}}, \"scene\": {\"xaxis\": {\"backgroundcolor\": \"#E5ECF6\", \"gridcolor\": \"white\", \"gridwidth\": 2, \"linecolor\": \"white\", \"showbackground\": true, \"ticks\": \"\", \"zerolinecolor\": \"white\"}, \"yaxis\": {\"backgroundcolor\": \"#E5ECF6\", \"gridcolor\": \"white\", \"gridwidth\": 2, \"linecolor\": \"white\", \"showbackground\": true, \"ticks\": \"\", \"zerolinecolor\": \"white\"}, \"zaxis\": {\"backgroundcolor\": \"#E5ECF6\", \"gridcolor\": \"white\", \"gridwidth\": 2, \"linecolor\": \"white\", \"showbackground\": true, \"ticks\": \"\", \"zerolinecolor\": \"white\"}}, \"shapedefaults\": {\"line\": {\"color\": \"#2a3f5f\"}}, \"ternary\": {\"aaxis\": {\"gridcolor\": \"white\", \"linecolor\": \"white\", \"ticks\": \"\"}, \"baxis\": {\"gridcolor\": \"white\", \"linecolor\": \"white\", \"ticks\": \"\"}, \"bgcolor\": \"#E5ECF6\", \"caxis\": {\"gridcolor\": \"white\", \"linecolor\": \"white\", \"ticks\": \"\"}}, \"title\": {\"x\": 0.05}, \"xaxis\": {\"automargin\": true, \"gridcolor\": \"white\", \"linecolor\": \"white\", \"ticks\": \"\", \"title\": {\"standoff\": 15}, \"zerolinecolor\": \"white\", \"zerolinewidth\": 2}, \"yaxis\": {\"automargin\": true, \"gridcolor\": \"white\", \"linecolor\": \"white\", \"ticks\": \"\", \"title\": {\"standoff\": 15}, \"zerolinecolor\": \"white\", \"zerolinewidth\": 2}}}, \"title\": {\"text\": \"OnlineBackup distribution in customer attrition \"}},\n",
              "                        {\"responsive\": true}\n",
              "                    ).then(function(){\n",
              "                            \n",
              "var gd = document.getElementById('daf4db5b-5a8d-4915-ba27-cb2570f7009f');\n",
              "var x = new MutationObserver(function (mutations, observer) {{\n",
              "        var display = window.getComputedStyle(gd).display;\n",
              "        if (!display || display === 'none') {{\n",
              "            console.log([gd, 'removed!']);\n",
              "            Plotly.purge(gd);\n",
              "            observer.disconnect();\n",
              "        }}\n",
              "}});\n",
              "\n",
              "// Listen for the removal of the full notebook cells\n",
              "var notebookContainer = gd.closest('#notebook-container');\n",
              "if (notebookContainer) {{\n",
              "    x.observe(notebookContainer, {childList: true});\n",
              "}}\n",
              "\n",
              "// Listen for the clearing of the current output cell\n",
              "var outputEl = gd.closest('.output');\n",
              "if (outputEl) {{\n",
              "    x.observe(outputEl, {childList: true});\n",
              "}}\n",
              "\n",
              "                        })\n",
              "                };\n",
              "                \n",
              "            </script>\n",
              "        </div>\n",
              "</body>\n",
              "</html>"
            ]
          },
          "metadata": {
            "tags": []
          }
        },
        {
          "output_type": "display_data",
          "data": {
            "text/html": [
              "<html>\n",
              "<head><meta charset=\"utf-8\" /></head>\n",
              "<body>\n",
              "    <div>\n",
              "            <script src=\"https://cdnjs.cloudflare.com/ajax/libs/mathjax/2.7.5/MathJax.js?config=TeX-AMS-MML_SVG\"></script><script type=\"text/javascript\">if (window.MathJax) {MathJax.Hub.Config({SVG: {font: \"STIX-Web\"}});}</script>\n",
              "                <script type=\"text/javascript\">window.PlotlyConfig = {MathJaxConfig: 'local'};</script>\n",
              "        <script src=\"https://cdn.plot.ly/plotly-latest.min.js\"></script>    \n",
              "            <div id=\"b4fb6be4-0dd1-4b22-99b2-fde3d6ee721a\" class=\"plotly-graph-div\" style=\"height:525px; width:100%;\"></div>\n",
              "            <script type=\"text/javascript\">\n",
              "                \n",
              "                    window.PLOTLYENV=window.PLOTLYENV || {};\n",
              "                    \n",
              "                if (document.getElementById(\"b4fb6be4-0dd1-4b22-99b2-fde3d6ee721a\")) {\n",
              "                    Plotly.newPlot(\n",
              "                        'b4fb6be4-0dd1-4b22-99b2-fde3d6ee721a',\n",
              "                        [{\"domain\": {\"x\": [0, 0.2]}, \"hole\": 0.6, \"hoverinfo\": \"label+percent+name\", \"labels\": [\"no\", \"yes\"], \"marker\": {\"line\": {\"color\": \"rgb(243,243,243)\", \"width\": 2}}, \"name\": \"Churn Customers\", \"type\": \"pie\", \"values\": [1050, 425]}, {\"domain\": {\"x\": [0.52, 1]}, \"hole\": 0.6, \"hoverinfo\": \"label+percent+name\", \"labels\": [\"no\", \"yes\"], \"marker\": {\"line\": {\"color\": \"rgb(243,243,243)\", \"width\": 2}}, \"name\": \"Non Churn Customers\", \"type\": \"pie\", \"values\": [2635, 1515]}],\n",
              "                        {\"annotations\": [{\"font\": {\"size\": 13}, \"showarrow\": false, \"text\": \"Churn Customers\", \"x\": 0.05, \"y\": 0.5}, {\"font\": {\"size\": 13}, \"showarrow\": false, \"text\": \"Non Churn Customers\", \"x\": 0.83, \"y\": 0.5}], \"paper_bgcolor\": \"rgb(243,243,243)\", \"plot_bgcolor\": \"rgb(243,243,243)\", \"template\": {\"data\": {\"bar\": [{\"error_x\": {\"color\": \"#2a3f5f\"}, \"error_y\": {\"color\": \"#2a3f5f\"}, \"marker\": {\"line\": {\"color\": \"#E5ECF6\", \"width\": 0.5}}, \"type\": \"bar\"}], \"barpolar\": [{\"marker\": {\"line\": {\"color\": \"#E5ECF6\", \"width\": 0.5}}, \"type\": \"barpolar\"}], \"carpet\": [{\"aaxis\": {\"endlinecolor\": \"#2a3f5f\", \"gridcolor\": \"white\", \"linecolor\": \"white\", \"minorgridcolor\": \"white\", \"startlinecolor\": \"#2a3f5f\"}, \"baxis\": {\"endlinecolor\": \"#2a3f5f\", \"gridcolor\": \"white\", \"linecolor\": \"white\", \"minorgridcolor\": \"white\", \"startlinecolor\": \"#2a3f5f\"}, \"type\": \"carpet\"}], \"choropleth\": [{\"colorbar\": {\"outlinewidth\": 0, \"ticks\": \"\"}, \"type\": \"choropleth\"}], \"contour\": [{\"colorbar\": {\"outlinewidth\": 0, \"ticks\": \"\"}, \"colorscale\": [[0.0, \"#0d0887\"], [0.1111111111111111, \"#46039f\"], [0.2222222222222222, \"#7201a8\"], [0.3333333333333333, \"#9c179e\"], [0.4444444444444444, \"#bd3786\"], [0.5555555555555556, \"#d8576b\"], [0.6666666666666666, \"#ed7953\"], [0.7777777777777778, \"#fb9f3a\"], [0.8888888888888888, \"#fdca26\"], [1.0, \"#f0f921\"]], \"type\": \"contour\"}], \"contourcarpet\": [{\"colorbar\": {\"outlinewidth\": 0, \"ticks\": \"\"}, \"type\": \"contourcarpet\"}], \"heatmap\": [{\"colorbar\": {\"outlinewidth\": 0, \"ticks\": \"\"}, \"colorscale\": [[0.0, \"#0d0887\"], [0.1111111111111111, \"#46039f\"], [0.2222222222222222, \"#7201a8\"], [0.3333333333333333, \"#9c179e\"], [0.4444444444444444, \"#bd3786\"], [0.5555555555555556, \"#d8576b\"], [0.6666666666666666, \"#ed7953\"], [0.7777777777777778, \"#fb9f3a\"], [0.8888888888888888, \"#fdca26\"], [1.0, \"#f0f921\"]], \"type\": \"heatmap\"}], \"heatmapgl\": [{\"colorbar\": {\"outlinewidth\": 0, \"ticks\": \"\"}, \"colorscale\": [[0.0, \"#0d0887\"], [0.1111111111111111, \"#46039f\"], [0.2222222222222222, \"#7201a8\"], [0.3333333333333333, \"#9c179e\"], [0.4444444444444444, \"#bd3786\"], [0.5555555555555556, \"#d8576b\"], [0.6666666666666666, \"#ed7953\"], [0.7777777777777778, \"#fb9f3a\"], [0.8888888888888888, \"#fdca26\"], [1.0, \"#f0f921\"]], \"type\": \"heatmapgl\"}], \"histogram\": [{\"marker\": {\"colorbar\": {\"outlinewidth\": 0, \"ticks\": \"\"}}, \"type\": \"histogram\"}], \"histogram2d\": [{\"colorbar\": {\"outlinewidth\": 0, \"ticks\": \"\"}, \"colorscale\": [[0.0, \"#0d0887\"], [0.1111111111111111, \"#46039f\"], [0.2222222222222222, \"#7201a8\"], [0.3333333333333333, \"#9c179e\"], [0.4444444444444444, \"#bd3786\"], [0.5555555555555556, \"#d8576b\"], [0.6666666666666666, \"#ed7953\"], [0.7777777777777778, \"#fb9f3a\"], [0.8888888888888888, \"#fdca26\"], [1.0, \"#f0f921\"]], \"type\": \"histogram2d\"}], \"histogram2dcontour\": [{\"colorbar\": {\"outlinewidth\": 0, \"ticks\": \"\"}, \"colorscale\": [[0.0, \"#0d0887\"], [0.1111111111111111, \"#46039f\"], [0.2222222222222222, \"#7201a8\"], [0.3333333333333333, \"#9c179e\"], [0.4444444444444444, \"#bd3786\"], [0.5555555555555556, \"#d8576b\"], [0.6666666666666666, \"#ed7953\"], [0.7777777777777778, \"#fb9f3a\"], [0.8888888888888888, \"#fdca26\"], [1.0, \"#f0f921\"]], \"type\": \"histogram2dcontour\"}], \"mesh3d\": [{\"colorbar\": {\"outlinewidth\": 0, \"ticks\": \"\"}, \"type\": \"mesh3d\"}], \"parcoords\": [{\"line\": {\"colorbar\": {\"outlinewidth\": 0, \"ticks\": \"\"}}, \"type\": \"parcoords\"}], \"pie\": [{\"automargin\": true, \"type\": \"pie\"}], \"scatter\": [{\"marker\": {\"colorbar\": {\"outlinewidth\": 0, \"ticks\": \"\"}}, \"type\": \"scatter\"}], \"scatter3d\": [{\"line\": {\"colorbar\": {\"outlinewidth\": 0, \"ticks\": \"\"}}, \"marker\": {\"colorbar\": {\"outlinewidth\": 0, \"ticks\": \"\"}}, \"type\": \"scatter3d\"}], \"scattercarpet\": [{\"marker\": {\"colorbar\": {\"outlinewidth\": 0, \"ticks\": \"\"}}, \"type\": \"scattercarpet\"}], \"scattergeo\": [{\"marker\": {\"colorbar\": {\"outlinewidth\": 0, \"ticks\": \"\"}}, \"type\": \"scattergeo\"}], \"scattergl\": [{\"marker\": {\"colorbar\": {\"outlinewidth\": 0, \"ticks\": \"\"}}, \"type\": \"scattergl\"}], \"scattermapbox\": [{\"marker\": {\"colorbar\": {\"outlinewidth\": 0, \"ticks\": \"\"}}, \"type\": \"scattermapbox\"}], \"scatterpolar\": [{\"marker\": {\"colorbar\": {\"outlinewidth\": 0, \"ticks\": \"\"}}, \"type\": \"scatterpolar\"}], \"scatterpolargl\": [{\"marker\": {\"colorbar\": {\"outlinewidth\": 0, \"ticks\": \"\"}}, \"type\": \"scatterpolargl\"}], \"scatterternary\": [{\"marker\": {\"colorbar\": {\"outlinewidth\": 0, \"ticks\": \"\"}}, \"type\": \"scatterternary\"}], \"surface\": [{\"colorbar\": {\"outlinewidth\": 0, \"ticks\": \"\"}, \"colorscale\": [[0.0, \"#0d0887\"], [0.1111111111111111, \"#46039f\"], [0.2222222222222222, \"#7201a8\"], [0.3333333333333333, \"#9c179e\"], [0.4444444444444444, \"#bd3786\"], [0.5555555555555556, \"#d8576b\"], [0.6666666666666666, \"#ed7953\"], [0.7777777777777778, \"#fb9f3a\"], [0.8888888888888888, \"#fdca26\"], [1.0, \"#f0f921\"]], \"type\": \"surface\"}], \"table\": [{\"cells\": {\"fill\": {\"color\": \"#EBF0F8\"}, \"line\": {\"color\": \"white\"}}, \"header\": {\"fill\": {\"color\": \"#C8D4E3\"}, \"line\": {\"color\": \"white\"}}, \"type\": \"table\"}]}, \"layout\": {\"annotationdefaults\": {\"arrowcolor\": \"#2a3f5f\", \"arrowhead\": 0, \"arrowwidth\": 1}, \"coloraxis\": {\"colorbar\": {\"outlinewidth\": 0, \"ticks\": \"\"}}, \"colorscale\": {\"diverging\": [[0, \"#8e0152\"], [0.1, \"#c51b7d\"], [0.2, \"#de77ae\"], [0.3, \"#f1b6da\"], [0.4, \"#fde0ef\"], [0.5, \"#f7f7f7\"], [0.6, \"#e6f5d0\"], [0.7, \"#b8e186\"], [0.8, \"#7fbc41\"], [0.9, \"#4d9221\"], [1, \"#276419\"]], \"sequential\": [[0.0, \"#0d0887\"], [0.1111111111111111, \"#46039f\"], [0.2222222222222222, \"#7201a8\"], [0.3333333333333333, \"#9c179e\"], [0.4444444444444444, \"#bd3786\"], [0.5555555555555556, \"#d8576b\"], [0.6666666666666666, \"#ed7953\"], [0.7777777777777778, \"#fb9f3a\"], [0.8888888888888888, \"#fdca26\"], [1.0, \"#f0f921\"]], \"sequentialminus\": [[0.0, \"#0d0887\"], [0.1111111111111111, \"#46039f\"], [0.2222222222222222, \"#7201a8\"], [0.3333333333333333, \"#9c179e\"], [0.4444444444444444, \"#bd3786\"], [0.5555555555555556, \"#d8576b\"], [0.6666666666666666, \"#ed7953\"], [0.7777777777777778, \"#fb9f3a\"], [0.8888888888888888, \"#fdca26\"], [1.0, \"#f0f921\"]]}, \"colorway\": [\"#636efa\", \"#EF553B\", \"#00cc96\", \"#ab63fa\", \"#FFA15A\", \"#19d3f3\", \"#FF6692\", \"#B6E880\", \"#FF97FF\", \"#FECB52\"], \"font\": {\"color\": \"#2a3f5f\"}, \"geo\": {\"bgcolor\": \"white\", \"lakecolor\": \"white\", \"landcolor\": \"#E5ECF6\", \"showlakes\": true, \"showland\": true, \"subunitcolor\": \"white\"}, \"hoverlabel\": {\"align\": \"left\"}, \"hovermode\": \"closest\", \"mapbox\": {\"style\": \"light\"}, \"paper_bgcolor\": \"white\", \"plot_bgcolor\": \"#E5ECF6\", \"polar\": {\"angularaxis\": {\"gridcolor\": \"white\", \"linecolor\": \"white\", \"ticks\": \"\"}, \"bgcolor\": \"#E5ECF6\", \"radialaxis\": {\"gridcolor\": \"white\", \"linecolor\": \"white\", \"ticks\": \"\"}}, \"scene\": {\"xaxis\": {\"backgroundcolor\": \"#E5ECF6\", \"gridcolor\": \"white\", \"gridwidth\": 2, \"linecolor\": \"white\", \"showbackground\": true, \"ticks\": \"\", \"zerolinecolor\": \"white\"}, \"yaxis\": {\"backgroundcolor\": \"#E5ECF6\", \"gridcolor\": \"white\", \"gridwidth\": 2, \"linecolor\": \"white\", \"showbackground\": true, \"ticks\": \"\", \"zerolinecolor\": \"white\"}, \"zaxis\": {\"backgroundcolor\": \"#E5ECF6\", \"gridcolor\": \"white\", \"gridwidth\": 2, \"linecolor\": \"white\", \"showbackground\": true, \"ticks\": \"\", \"zerolinecolor\": \"white\"}}, \"shapedefaults\": {\"line\": {\"color\": \"#2a3f5f\"}}, \"ternary\": {\"aaxis\": {\"gridcolor\": \"white\", \"linecolor\": \"white\", \"ticks\": \"\"}, \"baxis\": {\"gridcolor\": \"white\", \"linecolor\": \"white\", \"ticks\": \"\"}, \"bgcolor\": \"#E5ECF6\", \"caxis\": {\"gridcolor\": \"white\", \"linecolor\": \"white\", \"ticks\": \"\"}}, \"title\": {\"x\": 0.05}, \"xaxis\": {\"automargin\": true, \"gridcolor\": \"white\", \"linecolor\": \"white\", \"ticks\": \"\", \"title\": {\"standoff\": 15}, \"zerolinecolor\": \"white\", \"zerolinewidth\": 2}, \"yaxis\": {\"automargin\": true, \"gridcolor\": \"white\", \"linecolor\": \"white\", \"ticks\": \"\", \"title\": {\"standoff\": 15}, \"zerolinecolor\": \"white\", \"zerolinewidth\": 2}}}, \"title\": {\"text\": \"DeviceProtection distribution in customer attrition \"}},\n",
              "                        {\"responsive\": true}\n",
              "                    ).then(function(){\n",
              "                            \n",
              "var gd = document.getElementById('b4fb6be4-0dd1-4b22-99b2-fde3d6ee721a');\n",
              "var x = new MutationObserver(function (mutations, observer) {{\n",
              "        var display = window.getComputedStyle(gd).display;\n",
              "        if (!display || display === 'none') {{\n",
              "            console.log([gd, 'removed!']);\n",
              "            Plotly.purge(gd);\n",
              "            observer.disconnect();\n",
              "        }}\n",
              "}});\n",
              "\n",
              "// Listen for the removal of the full notebook cells\n",
              "var notebookContainer = gd.closest('#notebook-container');\n",
              "if (notebookContainer) {{\n",
              "    x.observe(notebookContainer, {childList: true});\n",
              "}}\n",
              "\n",
              "// Listen for the clearing of the current output cell\n",
              "var outputEl = gd.closest('.output');\n",
              "if (outputEl) {{\n",
              "    x.observe(outputEl, {childList: true});\n",
              "}}\n",
              "\n",
              "                        })\n",
              "                };\n",
              "                \n",
              "            </script>\n",
              "        </div>\n",
              "</body>\n",
              "</html>"
            ]
          },
          "metadata": {
            "tags": []
          }
        },
        {
          "output_type": "display_data",
          "data": {
            "text/html": [
              "<html>\n",
              "<head><meta charset=\"utf-8\" /></head>\n",
              "<body>\n",
              "    <div>\n",
              "            <script src=\"https://cdnjs.cloudflare.com/ajax/libs/mathjax/2.7.5/MathJax.js?config=TeX-AMS-MML_SVG\"></script><script type=\"text/javascript\">if (window.MathJax) {MathJax.Hub.Config({SVG: {font: \"STIX-Web\"}});}</script>\n",
              "                <script type=\"text/javascript\">window.PlotlyConfig = {MathJaxConfig: 'local'};</script>\n",
              "        <script src=\"https://cdn.plot.ly/plotly-latest.min.js\"></script>    \n",
              "            <div id=\"d4d17859-f42c-4953-afc8-3c83fec61dd9\" class=\"plotly-graph-div\" style=\"height:525px; width:100%;\"></div>\n",
              "            <script type=\"text/javascript\">\n",
              "                \n",
              "                    window.PLOTLYENV=window.PLOTLYENV || {};\n",
              "                    \n",
              "                if (document.getElementById(\"d4d17859-f42c-4953-afc8-3c83fec61dd9\")) {\n",
              "                    Plotly.newPlot(\n",
              "                        'd4d17859-f42c-4953-afc8-3c83fec61dd9',\n",
              "                        [{\"domain\": {\"x\": [0, 0.2]}, \"hole\": 0.6, \"hoverinfo\": \"label+percent+name\", \"labels\": [\"no\", \"yes\"], \"marker\": {\"line\": {\"color\": \"rgb(243,243,243)\", \"width\": 2}}, \"name\": \"Churn Customers\", \"type\": \"pie\", \"values\": [1234, 241]}, {\"domain\": {\"x\": [0.52, 1]}, \"hole\": 0.6, \"hoverinfo\": \"label+percent+name\", \"labels\": [\"no\", \"yes\"], \"marker\": {\"line\": {\"color\": \"rgb(243,243,243)\", \"width\": 2}}, \"name\": \"Non Churn Customers\", \"type\": \"pie\", \"values\": [2741, 1409]}],\n",
              "                        {\"annotations\": [{\"font\": {\"size\": 13}, \"showarrow\": false, \"text\": \"Churn Customers\", \"x\": 0.05, \"y\": 0.5}, {\"font\": {\"size\": 13}, \"showarrow\": false, \"text\": \"Non Churn Customers\", \"x\": 0.83, \"y\": 0.5}], \"paper_bgcolor\": \"rgb(243,243,243)\", \"plot_bgcolor\": \"rgb(243,243,243)\", \"template\": {\"data\": {\"bar\": [{\"error_x\": {\"color\": \"#2a3f5f\"}, \"error_y\": {\"color\": \"#2a3f5f\"}, \"marker\": {\"line\": {\"color\": \"#E5ECF6\", \"width\": 0.5}}, \"type\": \"bar\"}], \"barpolar\": [{\"marker\": {\"line\": {\"color\": \"#E5ECF6\", \"width\": 0.5}}, \"type\": \"barpolar\"}], \"carpet\": [{\"aaxis\": {\"endlinecolor\": \"#2a3f5f\", \"gridcolor\": \"white\", \"linecolor\": \"white\", \"minorgridcolor\": \"white\", \"startlinecolor\": \"#2a3f5f\"}, \"baxis\": {\"endlinecolor\": \"#2a3f5f\", \"gridcolor\": \"white\", \"linecolor\": \"white\", \"minorgridcolor\": \"white\", \"startlinecolor\": \"#2a3f5f\"}, \"type\": \"carpet\"}], \"choropleth\": [{\"colorbar\": {\"outlinewidth\": 0, \"ticks\": \"\"}, \"type\": \"choropleth\"}], \"contour\": [{\"colorbar\": {\"outlinewidth\": 0, \"ticks\": \"\"}, \"colorscale\": [[0.0, \"#0d0887\"], [0.1111111111111111, \"#46039f\"], [0.2222222222222222, \"#7201a8\"], [0.3333333333333333, \"#9c179e\"], [0.4444444444444444, \"#bd3786\"], [0.5555555555555556, \"#d8576b\"], [0.6666666666666666, \"#ed7953\"], [0.7777777777777778, \"#fb9f3a\"], [0.8888888888888888, \"#fdca26\"], [1.0, \"#f0f921\"]], \"type\": \"contour\"}], \"contourcarpet\": [{\"colorbar\": {\"outlinewidth\": 0, \"ticks\": \"\"}, \"type\": \"contourcarpet\"}], \"heatmap\": [{\"colorbar\": {\"outlinewidth\": 0, \"ticks\": \"\"}, \"colorscale\": [[0.0, \"#0d0887\"], [0.1111111111111111, \"#46039f\"], [0.2222222222222222, \"#7201a8\"], [0.3333333333333333, \"#9c179e\"], [0.4444444444444444, \"#bd3786\"], [0.5555555555555556, \"#d8576b\"], [0.6666666666666666, \"#ed7953\"], [0.7777777777777778, \"#fb9f3a\"], [0.8888888888888888, \"#fdca26\"], [1.0, \"#f0f921\"]], \"type\": \"heatmap\"}], \"heatmapgl\": [{\"colorbar\": {\"outlinewidth\": 0, \"ticks\": \"\"}, \"colorscale\": [[0.0, \"#0d0887\"], [0.1111111111111111, \"#46039f\"], [0.2222222222222222, \"#7201a8\"], [0.3333333333333333, \"#9c179e\"], [0.4444444444444444, \"#bd3786\"], [0.5555555555555556, \"#d8576b\"], [0.6666666666666666, \"#ed7953\"], [0.7777777777777778, \"#fb9f3a\"], [0.8888888888888888, \"#fdca26\"], [1.0, \"#f0f921\"]], \"type\": \"heatmapgl\"}], \"histogram\": [{\"marker\": {\"colorbar\": {\"outlinewidth\": 0, \"ticks\": \"\"}}, \"type\": \"histogram\"}], \"histogram2d\": [{\"colorbar\": {\"outlinewidth\": 0, \"ticks\": \"\"}, \"colorscale\": [[0.0, \"#0d0887\"], [0.1111111111111111, \"#46039f\"], [0.2222222222222222, \"#7201a8\"], [0.3333333333333333, \"#9c179e\"], [0.4444444444444444, \"#bd3786\"], [0.5555555555555556, \"#d8576b\"], [0.6666666666666666, \"#ed7953\"], [0.7777777777777778, \"#fb9f3a\"], [0.8888888888888888, \"#fdca26\"], [1.0, \"#f0f921\"]], \"type\": \"histogram2d\"}], \"histogram2dcontour\": [{\"colorbar\": {\"outlinewidth\": 0, \"ticks\": \"\"}, \"colorscale\": [[0.0, \"#0d0887\"], [0.1111111111111111, \"#46039f\"], [0.2222222222222222, \"#7201a8\"], [0.3333333333333333, \"#9c179e\"], [0.4444444444444444, \"#bd3786\"], [0.5555555555555556, \"#d8576b\"], [0.6666666666666666, \"#ed7953\"], [0.7777777777777778, \"#fb9f3a\"], [0.8888888888888888, \"#fdca26\"], [1.0, \"#f0f921\"]], \"type\": \"histogram2dcontour\"}], \"mesh3d\": [{\"colorbar\": {\"outlinewidth\": 0, \"ticks\": \"\"}, \"type\": \"mesh3d\"}], \"parcoords\": [{\"line\": {\"colorbar\": {\"outlinewidth\": 0, \"ticks\": \"\"}}, \"type\": \"parcoords\"}], \"pie\": [{\"automargin\": true, \"type\": \"pie\"}], \"scatter\": [{\"marker\": {\"colorbar\": {\"outlinewidth\": 0, \"ticks\": \"\"}}, \"type\": \"scatter\"}], \"scatter3d\": [{\"line\": {\"colorbar\": {\"outlinewidth\": 0, \"ticks\": \"\"}}, \"marker\": {\"colorbar\": {\"outlinewidth\": 0, \"ticks\": \"\"}}, \"type\": \"scatter3d\"}], \"scattercarpet\": [{\"marker\": {\"colorbar\": {\"outlinewidth\": 0, \"ticks\": \"\"}}, \"type\": \"scattercarpet\"}], \"scattergeo\": [{\"marker\": {\"colorbar\": {\"outlinewidth\": 0, \"ticks\": \"\"}}, \"type\": \"scattergeo\"}], \"scattergl\": [{\"marker\": {\"colorbar\": {\"outlinewidth\": 0, \"ticks\": \"\"}}, \"type\": \"scattergl\"}], \"scattermapbox\": [{\"marker\": {\"colorbar\": {\"outlinewidth\": 0, \"ticks\": \"\"}}, \"type\": \"scattermapbox\"}], \"scatterpolar\": [{\"marker\": {\"colorbar\": {\"outlinewidth\": 0, \"ticks\": \"\"}}, \"type\": \"scatterpolar\"}], \"scatterpolargl\": [{\"marker\": {\"colorbar\": {\"outlinewidth\": 0, \"ticks\": \"\"}}, \"type\": \"scatterpolargl\"}], \"scatterternary\": [{\"marker\": {\"colorbar\": {\"outlinewidth\": 0, \"ticks\": \"\"}}, \"type\": \"scatterternary\"}], \"surface\": [{\"colorbar\": {\"outlinewidth\": 0, \"ticks\": \"\"}, \"colorscale\": [[0.0, \"#0d0887\"], [0.1111111111111111, \"#46039f\"], [0.2222222222222222, \"#7201a8\"], [0.3333333333333333, \"#9c179e\"], [0.4444444444444444, \"#bd3786\"], [0.5555555555555556, \"#d8576b\"], [0.6666666666666666, \"#ed7953\"], [0.7777777777777778, \"#fb9f3a\"], [0.8888888888888888, \"#fdca26\"], [1.0, \"#f0f921\"]], \"type\": \"surface\"}], \"table\": [{\"cells\": {\"fill\": {\"color\": \"#EBF0F8\"}, \"line\": {\"color\": \"white\"}}, \"header\": {\"fill\": {\"color\": \"#C8D4E3\"}, \"line\": {\"color\": \"white\"}}, \"type\": \"table\"}]}, \"layout\": {\"annotationdefaults\": {\"arrowcolor\": \"#2a3f5f\", \"arrowhead\": 0, \"arrowwidth\": 1}, \"coloraxis\": {\"colorbar\": {\"outlinewidth\": 0, \"ticks\": \"\"}}, \"colorscale\": {\"diverging\": [[0, \"#8e0152\"], [0.1, \"#c51b7d\"], [0.2, \"#de77ae\"], [0.3, \"#f1b6da\"], [0.4, \"#fde0ef\"], [0.5, \"#f7f7f7\"], [0.6, \"#e6f5d0\"], [0.7, \"#b8e186\"], [0.8, \"#7fbc41\"], [0.9, \"#4d9221\"], [1, \"#276419\"]], \"sequential\": [[0.0, \"#0d0887\"], [0.1111111111111111, \"#46039f\"], [0.2222222222222222, \"#7201a8\"], [0.3333333333333333, \"#9c179e\"], [0.4444444444444444, \"#bd3786\"], [0.5555555555555556, \"#d8576b\"], [0.6666666666666666, \"#ed7953\"], [0.7777777777777778, \"#fb9f3a\"], [0.8888888888888888, \"#fdca26\"], [1.0, \"#f0f921\"]], \"sequentialminus\": [[0.0, \"#0d0887\"], [0.1111111111111111, \"#46039f\"], [0.2222222222222222, \"#7201a8\"], [0.3333333333333333, \"#9c179e\"], [0.4444444444444444, \"#bd3786\"], [0.5555555555555556, \"#d8576b\"], [0.6666666666666666, \"#ed7953\"], [0.7777777777777778, \"#fb9f3a\"], [0.8888888888888888, \"#fdca26\"], [1.0, \"#f0f921\"]]}, \"colorway\": [\"#636efa\", \"#EF553B\", \"#00cc96\", \"#ab63fa\", \"#FFA15A\", \"#19d3f3\", \"#FF6692\", \"#B6E880\", \"#FF97FF\", \"#FECB52\"], \"font\": {\"color\": \"#2a3f5f\"}, \"geo\": {\"bgcolor\": \"white\", \"lakecolor\": \"white\", \"landcolor\": \"#E5ECF6\", \"showlakes\": true, \"showland\": true, \"subunitcolor\": \"white\"}, \"hoverlabel\": {\"align\": \"left\"}, \"hovermode\": \"closest\", \"mapbox\": {\"style\": \"light\"}, \"paper_bgcolor\": \"white\", \"plot_bgcolor\": \"#E5ECF6\", \"polar\": {\"angularaxis\": {\"gridcolor\": \"white\", \"linecolor\": \"white\", \"ticks\": \"\"}, \"bgcolor\": \"#E5ECF6\", \"radialaxis\": {\"gridcolor\": \"white\", \"linecolor\": \"white\", \"ticks\": \"\"}}, \"scene\": {\"xaxis\": {\"backgroundcolor\": \"#E5ECF6\", \"gridcolor\": \"white\", \"gridwidth\": 2, \"linecolor\": \"white\", \"showbackground\": true, \"ticks\": \"\", \"zerolinecolor\": \"white\"}, \"yaxis\": {\"backgroundcolor\": \"#E5ECF6\", \"gridcolor\": \"white\", \"gridwidth\": 2, \"linecolor\": \"white\", \"showbackground\": true, \"ticks\": \"\", \"zerolinecolor\": \"white\"}, \"zaxis\": {\"backgroundcolor\": \"#E5ECF6\", \"gridcolor\": \"white\", \"gridwidth\": 2, \"linecolor\": \"white\", \"showbackground\": true, \"ticks\": \"\", \"zerolinecolor\": \"white\"}}, \"shapedefaults\": {\"line\": {\"color\": \"#2a3f5f\"}}, \"ternary\": {\"aaxis\": {\"gridcolor\": \"white\", \"linecolor\": \"white\", \"ticks\": \"\"}, \"baxis\": {\"gridcolor\": \"white\", \"linecolor\": \"white\", \"ticks\": \"\"}, \"bgcolor\": \"#E5ECF6\", \"caxis\": {\"gridcolor\": \"white\", \"linecolor\": \"white\", \"ticks\": \"\"}}, \"title\": {\"x\": 0.05}, \"xaxis\": {\"automargin\": true, \"gridcolor\": \"white\", \"linecolor\": \"white\", \"ticks\": \"\", \"title\": {\"standoff\": 15}, \"zerolinecolor\": \"white\", \"zerolinewidth\": 2}, \"yaxis\": {\"automargin\": true, \"gridcolor\": \"white\", \"linecolor\": \"white\", \"ticks\": \"\", \"title\": {\"standoff\": 15}, \"zerolinecolor\": \"white\", \"zerolinewidth\": 2}}}, \"title\": {\"text\": \"TechSupport distribution in customer attrition \"}},\n",
              "                        {\"responsive\": true}\n",
              "                    ).then(function(){\n",
              "                            \n",
              "var gd = document.getElementById('d4d17859-f42c-4953-afc8-3c83fec61dd9');\n",
              "var x = new MutationObserver(function (mutations, observer) {{\n",
              "        var display = window.getComputedStyle(gd).display;\n",
              "        if (!display || display === 'none') {{\n",
              "            console.log([gd, 'removed!']);\n",
              "            Plotly.purge(gd);\n",
              "            observer.disconnect();\n",
              "        }}\n",
              "}});\n",
              "\n",
              "// Listen for the removal of the full notebook cells\n",
              "var notebookContainer = gd.closest('#notebook-container');\n",
              "if (notebookContainer) {{\n",
              "    x.observe(notebookContainer, {childList: true});\n",
              "}}\n",
              "\n",
              "// Listen for the clearing of the current output cell\n",
              "var outputEl = gd.closest('.output');\n",
              "if (outputEl) {{\n",
              "    x.observe(outputEl, {childList: true});\n",
              "}}\n",
              "\n",
              "                        })\n",
              "                };\n",
              "                \n",
              "            </script>\n",
              "        </div>\n",
              "</body>\n",
              "</html>"
            ]
          },
          "metadata": {
            "tags": []
          }
        },
        {
          "output_type": "display_data",
          "data": {
            "text/html": [
              "<html>\n",
              "<head><meta charset=\"utf-8\" /></head>\n",
              "<body>\n",
              "    <div>\n",
              "            <script src=\"https://cdnjs.cloudflare.com/ajax/libs/mathjax/2.7.5/MathJax.js?config=TeX-AMS-MML_SVG\"></script><script type=\"text/javascript\">if (window.MathJax) {MathJax.Hub.Config({SVG: {font: \"STIX-Web\"}});}</script>\n",
              "                <script type=\"text/javascript\">window.PlotlyConfig = {MathJaxConfig: 'local'};</script>\n",
              "        <script src=\"https://cdn.plot.ly/plotly-latest.min.js\"></script>    \n",
              "            <div id=\"a6055f7e-34c3-43b4-808e-9c0d3f8f2426\" class=\"plotly-graph-div\" style=\"height:525px; width:100%;\"></div>\n",
              "            <script type=\"text/javascript\">\n",
              "                \n",
              "                    window.PLOTLYENV=window.PLOTLYENV || {};\n",
              "                    \n",
              "                if (document.getElementById(\"a6055f7e-34c3-43b4-808e-9c0d3f8f2426\")) {\n",
              "                    Plotly.newPlot(\n",
              "                        'a6055f7e-34c3-43b4-808e-9c0d3f8f2426',\n",
              "                        [{\"domain\": {\"x\": [0, 0.2]}, \"hole\": 0.6, \"hoverinfo\": \"label+percent+name\", \"labels\": [\"no\", \"yes\"], \"marker\": {\"line\": {\"color\": \"rgb(243,243,243)\", \"width\": 2}}, \"name\": \"Churn Customers\", \"type\": \"pie\", \"values\": [833, 642]}, {\"domain\": {\"x\": [0.52, 1]}, \"hole\": 0.6, \"hoverinfo\": \"label+percent+name\", \"labels\": [\"no\", \"yes\"], \"marker\": {\"line\": {\"color\": \"rgb(243,243,243)\", \"width\": 2}}, \"name\": \"Non Churn Customers\", \"type\": \"pie\", \"values\": [2641, 1509]}],\n",
              "                        {\"annotations\": [{\"font\": {\"size\": 13}, \"showarrow\": false, \"text\": \"Churn Customers\", \"x\": 0.05, \"y\": 0.5}, {\"font\": {\"size\": 13}, \"showarrow\": false, \"text\": \"Non Churn Customers\", \"x\": 0.83, \"y\": 0.5}], \"paper_bgcolor\": \"rgb(243,243,243)\", \"plot_bgcolor\": \"rgb(243,243,243)\", \"template\": {\"data\": {\"bar\": [{\"error_x\": {\"color\": \"#2a3f5f\"}, \"error_y\": {\"color\": \"#2a3f5f\"}, \"marker\": {\"line\": {\"color\": \"#E5ECF6\", \"width\": 0.5}}, \"type\": \"bar\"}], \"barpolar\": [{\"marker\": {\"line\": {\"color\": \"#E5ECF6\", \"width\": 0.5}}, \"type\": \"barpolar\"}], \"carpet\": [{\"aaxis\": {\"endlinecolor\": \"#2a3f5f\", \"gridcolor\": \"white\", \"linecolor\": \"white\", \"minorgridcolor\": \"white\", \"startlinecolor\": \"#2a3f5f\"}, \"baxis\": {\"endlinecolor\": \"#2a3f5f\", \"gridcolor\": \"white\", \"linecolor\": \"white\", \"minorgridcolor\": \"white\", \"startlinecolor\": \"#2a3f5f\"}, \"type\": \"carpet\"}], \"choropleth\": [{\"colorbar\": {\"outlinewidth\": 0, \"ticks\": \"\"}, \"type\": \"choropleth\"}], \"contour\": [{\"colorbar\": {\"outlinewidth\": 0, \"ticks\": \"\"}, \"colorscale\": [[0.0, \"#0d0887\"], [0.1111111111111111, \"#46039f\"], [0.2222222222222222, \"#7201a8\"], [0.3333333333333333, \"#9c179e\"], [0.4444444444444444, \"#bd3786\"], [0.5555555555555556, \"#d8576b\"], [0.6666666666666666, \"#ed7953\"], [0.7777777777777778, \"#fb9f3a\"], [0.8888888888888888, \"#fdca26\"], [1.0, \"#f0f921\"]], \"type\": \"contour\"}], \"contourcarpet\": [{\"colorbar\": {\"outlinewidth\": 0, \"ticks\": \"\"}, \"type\": \"contourcarpet\"}], \"heatmap\": [{\"colorbar\": {\"outlinewidth\": 0, \"ticks\": \"\"}, \"colorscale\": [[0.0, \"#0d0887\"], [0.1111111111111111, \"#46039f\"], [0.2222222222222222, \"#7201a8\"], [0.3333333333333333, \"#9c179e\"], [0.4444444444444444, \"#bd3786\"], [0.5555555555555556, \"#d8576b\"], [0.6666666666666666, \"#ed7953\"], [0.7777777777777778, \"#fb9f3a\"], [0.8888888888888888, \"#fdca26\"], [1.0, \"#f0f921\"]], \"type\": \"heatmap\"}], \"heatmapgl\": [{\"colorbar\": {\"outlinewidth\": 0, \"ticks\": \"\"}, \"colorscale\": [[0.0, \"#0d0887\"], [0.1111111111111111, \"#46039f\"], [0.2222222222222222, \"#7201a8\"], [0.3333333333333333, \"#9c179e\"], [0.4444444444444444, \"#bd3786\"], [0.5555555555555556, \"#d8576b\"], [0.6666666666666666, \"#ed7953\"], [0.7777777777777778, \"#fb9f3a\"], [0.8888888888888888, \"#fdca26\"], [1.0, \"#f0f921\"]], \"type\": \"heatmapgl\"}], \"histogram\": [{\"marker\": {\"colorbar\": {\"outlinewidth\": 0, \"ticks\": \"\"}}, \"type\": \"histogram\"}], \"histogram2d\": [{\"colorbar\": {\"outlinewidth\": 0, \"ticks\": \"\"}, \"colorscale\": [[0.0, \"#0d0887\"], [0.1111111111111111, \"#46039f\"], [0.2222222222222222, \"#7201a8\"], [0.3333333333333333, \"#9c179e\"], [0.4444444444444444, \"#bd3786\"], [0.5555555555555556, \"#d8576b\"], [0.6666666666666666, \"#ed7953\"], [0.7777777777777778, \"#fb9f3a\"], [0.8888888888888888, \"#fdca26\"], [1.0, \"#f0f921\"]], \"type\": \"histogram2d\"}], \"histogram2dcontour\": [{\"colorbar\": {\"outlinewidth\": 0, \"ticks\": \"\"}, \"colorscale\": [[0.0, \"#0d0887\"], [0.1111111111111111, \"#46039f\"], [0.2222222222222222, \"#7201a8\"], [0.3333333333333333, \"#9c179e\"], [0.4444444444444444, \"#bd3786\"], [0.5555555555555556, \"#d8576b\"], [0.6666666666666666, \"#ed7953\"], [0.7777777777777778, \"#fb9f3a\"], [0.8888888888888888, \"#fdca26\"], [1.0, \"#f0f921\"]], \"type\": \"histogram2dcontour\"}], \"mesh3d\": [{\"colorbar\": {\"outlinewidth\": 0, \"ticks\": \"\"}, \"type\": \"mesh3d\"}], \"parcoords\": [{\"line\": {\"colorbar\": {\"outlinewidth\": 0, \"ticks\": \"\"}}, \"type\": \"parcoords\"}], \"pie\": [{\"automargin\": true, \"type\": \"pie\"}], \"scatter\": [{\"marker\": {\"colorbar\": {\"outlinewidth\": 0, \"ticks\": \"\"}}, \"type\": \"scatter\"}], \"scatter3d\": [{\"line\": {\"colorbar\": {\"outlinewidth\": 0, \"ticks\": \"\"}}, \"marker\": {\"colorbar\": {\"outlinewidth\": 0, \"ticks\": \"\"}}, \"type\": \"scatter3d\"}], \"scattercarpet\": [{\"marker\": {\"colorbar\": {\"outlinewidth\": 0, \"ticks\": \"\"}}, \"type\": \"scattercarpet\"}], \"scattergeo\": [{\"marker\": {\"colorbar\": {\"outlinewidth\": 0, \"ticks\": \"\"}}, \"type\": \"scattergeo\"}], \"scattergl\": [{\"marker\": {\"colorbar\": {\"outlinewidth\": 0, \"ticks\": \"\"}}, \"type\": \"scattergl\"}], \"scattermapbox\": [{\"marker\": {\"colorbar\": {\"outlinewidth\": 0, \"ticks\": \"\"}}, \"type\": \"scattermapbox\"}], \"scatterpolar\": [{\"marker\": {\"colorbar\": {\"outlinewidth\": 0, \"ticks\": \"\"}}, \"type\": \"scatterpolar\"}], \"scatterpolargl\": [{\"marker\": {\"colorbar\": {\"outlinewidth\": 0, \"ticks\": \"\"}}, \"type\": \"scatterpolargl\"}], \"scatterternary\": [{\"marker\": {\"colorbar\": {\"outlinewidth\": 0, \"ticks\": \"\"}}, \"type\": \"scatterternary\"}], \"surface\": [{\"colorbar\": {\"outlinewidth\": 0, \"ticks\": \"\"}, \"colorscale\": [[0.0, \"#0d0887\"], [0.1111111111111111, \"#46039f\"], [0.2222222222222222, \"#7201a8\"], [0.3333333333333333, \"#9c179e\"], [0.4444444444444444, \"#bd3786\"], [0.5555555555555556, \"#d8576b\"], [0.6666666666666666, \"#ed7953\"], [0.7777777777777778, \"#fb9f3a\"], [0.8888888888888888, \"#fdca26\"], [1.0, \"#f0f921\"]], \"type\": \"surface\"}], \"table\": [{\"cells\": {\"fill\": {\"color\": \"#EBF0F8\"}, \"line\": {\"color\": \"white\"}}, \"header\": {\"fill\": {\"color\": \"#C8D4E3\"}, \"line\": {\"color\": \"white\"}}, \"type\": \"table\"}]}, \"layout\": {\"annotationdefaults\": {\"arrowcolor\": \"#2a3f5f\", \"arrowhead\": 0, \"arrowwidth\": 1}, \"coloraxis\": {\"colorbar\": {\"outlinewidth\": 0, \"ticks\": \"\"}}, \"colorscale\": {\"diverging\": [[0, \"#8e0152\"], [0.1, \"#c51b7d\"], [0.2, \"#de77ae\"], [0.3, \"#f1b6da\"], [0.4, \"#fde0ef\"], [0.5, \"#f7f7f7\"], [0.6, \"#e6f5d0\"], [0.7, \"#b8e186\"], [0.8, \"#7fbc41\"], [0.9, \"#4d9221\"], [1, \"#276419\"]], \"sequential\": [[0.0, \"#0d0887\"], [0.1111111111111111, \"#46039f\"], [0.2222222222222222, \"#7201a8\"], [0.3333333333333333, \"#9c179e\"], [0.4444444444444444, \"#bd3786\"], [0.5555555555555556, \"#d8576b\"], [0.6666666666666666, \"#ed7953\"], [0.7777777777777778, \"#fb9f3a\"], [0.8888888888888888, \"#fdca26\"], [1.0, \"#f0f921\"]], \"sequentialminus\": [[0.0, \"#0d0887\"], [0.1111111111111111, \"#46039f\"], [0.2222222222222222, \"#7201a8\"], [0.3333333333333333, \"#9c179e\"], [0.4444444444444444, \"#bd3786\"], [0.5555555555555556, \"#d8576b\"], [0.6666666666666666, \"#ed7953\"], [0.7777777777777778, \"#fb9f3a\"], [0.8888888888888888, \"#fdca26\"], [1.0, \"#f0f921\"]]}, \"colorway\": [\"#636efa\", \"#EF553B\", \"#00cc96\", \"#ab63fa\", \"#FFA15A\", \"#19d3f3\", \"#FF6692\", \"#B6E880\", \"#FF97FF\", \"#FECB52\"], \"font\": {\"color\": \"#2a3f5f\"}, \"geo\": {\"bgcolor\": \"white\", \"lakecolor\": \"white\", \"landcolor\": \"#E5ECF6\", \"showlakes\": true, \"showland\": true, \"subunitcolor\": \"white\"}, \"hoverlabel\": {\"align\": \"left\"}, \"hovermode\": \"closest\", \"mapbox\": {\"style\": \"light\"}, \"paper_bgcolor\": \"white\", \"plot_bgcolor\": \"#E5ECF6\", \"polar\": {\"angularaxis\": {\"gridcolor\": \"white\", \"linecolor\": \"white\", \"ticks\": \"\"}, \"bgcolor\": \"#E5ECF6\", \"radialaxis\": {\"gridcolor\": \"white\", \"linecolor\": \"white\", \"ticks\": \"\"}}, \"scene\": {\"xaxis\": {\"backgroundcolor\": \"#E5ECF6\", \"gridcolor\": \"white\", \"gridwidth\": 2, \"linecolor\": \"white\", \"showbackground\": true, \"ticks\": \"\", \"zerolinecolor\": \"white\"}, \"yaxis\": {\"backgroundcolor\": \"#E5ECF6\", \"gridcolor\": \"white\", \"gridwidth\": 2, \"linecolor\": \"white\", \"showbackground\": true, \"ticks\": \"\", \"zerolinecolor\": \"white\"}, \"zaxis\": {\"backgroundcolor\": \"#E5ECF6\", \"gridcolor\": \"white\", \"gridwidth\": 2, \"linecolor\": \"white\", \"showbackground\": true, \"ticks\": \"\", \"zerolinecolor\": \"white\"}}, \"shapedefaults\": {\"line\": {\"color\": \"#2a3f5f\"}}, \"ternary\": {\"aaxis\": {\"gridcolor\": \"white\", \"linecolor\": \"white\", \"ticks\": \"\"}, \"baxis\": {\"gridcolor\": \"white\", \"linecolor\": \"white\", \"ticks\": \"\"}, \"bgcolor\": \"#E5ECF6\", \"caxis\": {\"gridcolor\": \"white\", \"linecolor\": \"white\", \"ticks\": \"\"}}, \"title\": {\"x\": 0.05}, \"xaxis\": {\"automargin\": true, \"gridcolor\": \"white\", \"linecolor\": \"white\", \"ticks\": \"\", \"title\": {\"standoff\": 15}, \"zerolinecolor\": \"white\", \"zerolinewidth\": 2}, \"yaxis\": {\"automargin\": true, \"gridcolor\": \"white\", \"linecolor\": \"white\", \"ticks\": \"\", \"title\": {\"standoff\": 15}, \"zerolinecolor\": \"white\", \"zerolinewidth\": 2}}}, \"title\": {\"text\": \"StreamingTV distribution in customer attrition \"}},\n",
              "                        {\"responsive\": true}\n",
              "                    ).then(function(){\n",
              "                            \n",
              "var gd = document.getElementById('a6055f7e-34c3-43b4-808e-9c0d3f8f2426');\n",
              "var x = new MutationObserver(function (mutations, observer) {{\n",
              "        var display = window.getComputedStyle(gd).display;\n",
              "        if (!display || display === 'none') {{\n",
              "            console.log([gd, 'removed!']);\n",
              "            Plotly.purge(gd);\n",
              "            observer.disconnect();\n",
              "        }}\n",
              "}});\n",
              "\n",
              "// Listen for the removal of the full notebook cells\n",
              "var notebookContainer = gd.closest('#notebook-container');\n",
              "if (notebookContainer) {{\n",
              "    x.observe(notebookContainer, {childList: true});\n",
              "}}\n",
              "\n",
              "// Listen for the clearing of the current output cell\n",
              "var outputEl = gd.closest('.output');\n",
              "if (outputEl) {{\n",
              "    x.observe(outputEl, {childList: true});\n",
              "}}\n",
              "\n",
              "                        })\n",
              "                };\n",
              "                \n",
              "            </script>\n",
              "        </div>\n",
              "</body>\n",
              "</html>"
            ]
          },
          "metadata": {
            "tags": []
          }
        },
        {
          "output_type": "display_data",
          "data": {
            "text/html": [
              "<html>\n",
              "<head><meta charset=\"utf-8\" /></head>\n",
              "<body>\n",
              "    <div>\n",
              "            <script src=\"https://cdnjs.cloudflare.com/ajax/libs/mathjax/2.7.5/MathJax.js?config=TeX-AMS-MML_SVG\"></script><script type=\"text/javascript\">if (window.MathJax) {MathJax.Hub.Config({SVG: {font: \"STIX-Web\"}});}</script>\n",
              "                <script type=\"text/javascript\">window.PlotlyConfig = {MathJaxConfig: 'local'};</script>\n",
              "        <script src=\"https://cdn.plot.ly/plotly-latest.min.js\"></script>    \n",
              "            <div id=\"f25460cd-cc5f-42ba-91cf-1f9f4e0b3dd6\" class=\"plotly-graph-div\" style=\"height:525px; width:100%;\"></div>\n",
              "            <script type=\"text/javascript\">\n",
              "                \n",
              "                    window.PLOTLYENV=window.PLOTLYENV || {};\n",
              "                    \n",
              "                if (document.getElementById(\"f25460cd-cc5f-42ba-91cf-1f9f4e0b3dd6\")) {\n",
              "                    Plotly.newPlot(\n",
              "                        'f25460cd-cc5f-42ba-91cf-1f9f4e0b3dd6',\n",
              "                        [{\"domain\": {\"x\": [0, 0.2]}, \"hole\": 0.6, \"hoverinfo\": \"label+percent+name\", \"labels\": [\"no\", \"yes\"], \"marker\": {\"line\": {\"color\": \"rgb(243,243,243)\", \"width\": 2}}, \"name\": \"Churn Customers\", \"type\": \"pie\", \"values\": [832, 643]}, {\"domain\": {\"x\": [0.52, 1]}, \"hole\": 0.6, \"hoverinfo\": \"label+percent+name\", \"labels\": [\"no\", \"yes\"], \"marker\": {\"line\": {\"color\": \"rgb(243,243,243)\", \"width\": 2}}, \"name\": \"Non Churn Customers\", \"type\": \"pie\", \"values\": [2611, 1539]}],\n",
              "                        {\"annotations\": [{\"font\": {\"size\": 13}, \"showarrow\": false, \"text\": \"Churn Customers\", \"x\": 0.05, \"y\": 0.5}, {\"font\": {\"size\": 13}, \"showarrow\": false, \"text\": \"Non Churn Customers\", \"x\": 0.83, \"y\": 0.5}], \"paper_bgcolor\": \"rgb(243,243,243)\", \"plot_bgcolor\": \"rgb(243,243,243)\", \"template\": {\"data\": {\"bar\": [{\"error_x\": {\"color\": \"#2a3f5f\"}, \"error_y\": {\"color\": \"#2a3f5f\"}, \"marker\": {\"line\": {\"color\": \"#E5ECF6\", \"width\": 0.5}}, \"type\": \"bar\"}], \"barpolar\": [{\"marker\": {\"line\": {\"color\": \"#E5ECF6\", \"width\": 0.5}}, \"type\": \"barpolar\"}], \"carpet\": [{\"aaxis\": {\"endlinecolor\": \"#2a3f5f\", \"gridcolor\": \"white\", \"linecolor\": \"white\", \"minorgridcolor\": \"white\", \"startlinecolor\": \"#2a3f5f\"}, \"baxis\": {\"endlinecolor\": \"#2a3f5f\", \"gridcolor\": \"white\", \"linecolor\": \"white\", \"minorgridcolor\": \"white\", \"startlinecolor\": \"#2a3f5f\"}, \"type\": \"carpet\"}], \"choropleth\": [{\"colorbar\": {\"outlinewidth\": 0, \"ticks\": \"\"}, \"type\": \"choropleth\"}], \"contour\": [{\"colorbar\": {\"outlinewidth\": 0, \"ticks\": \"\"}, \"colorscale\": [[0.0, \"#0d0887\"], [0.1111111111111111, \"#46039f\"], [0.2222222222222222, \"#7201a8\"], [0.3333333333333333, \"#9c179e\"], [0.4444444444444444, \"#bd3786\"], [0.5555555555555556, \"#d8576b\"], [0.6666666666666666, \"#ed7953\"], [0.7777777777777778, \"#fb9f3a\"], [0.8888888888888888, \"#fdca26\"], [1.0, \"#f0f921\"]], \"type\": \"contour\"}], \"contourcarpet\": [{\"colorbar\": {\"outlinewidth\": 0, \"ticks\": \"\"}, \"type\": \"contourcarpet\"}], \"heatmap\": [{\"colorbar\": {\"outlinewidth\": 0, \"ticks\": \"\"}, \"colorscale\": [[0.0, \"#0d0887\"], [0.1111111111111111, \"#46039f\"], [0.2222222222222222, \"#7201a8\"], [0.3333333333333333, \"#9c179e\"], [0.4444444444444444, \"#bd3786\"], [0.5555555555555556, \"#d8576b\"], [0.6666666666666666, \"#ed7953\"], [0.7777777777777778, \"#fb9f3a\"], [0.8888888888888888, \"#fdca26\"], [1.0, \"#f0f921\"]], \"type\": \"heatmap\"}], \"heatmapgl\": [{\"colorbar\": {\"outlinewidth\": 0, \"ticks\": \"\"}, \"colorscale\": [[0.0, \"#0d0887\"], [0.1111111111111111, \"#46039f\"], [0.2222222222222222, \"#7201a8\"], [0.3333333333333333, \"#9c179e\"], [0.4444444444444444, \"#bd3786\"], [0.5555555555555556, \"#d8576b\"], [0.6666666666666666, \"#ed7953\"], [0.7777777777777778, \"#fb9f3a\"], [0.8888888888888888, \"#fdca26\"], [1.0, \"#f0f921\"]], \"type\": \"heatmapgl\"}], \"histogram\": [{\"marker\": {\"colorbar\": {\"outlinewidth\": 0, \"ticks\": \"\"}}, \"type\": \"histogram\"}], \"histogram2d\": [{\"colorbar\": {\"outlinewidth\": 0, \"ticks\": \"\"}, \"colorscale\": [[0.0, \"#0d0887\"], [0.1111111111111111, \"#46039f\"], [0.2222222222222222, \"#7201a8\"], [0.3333333333333333, \"#9c179e\"], [0.4444444444444444, \"#bd3786\"], [0.5555555555555556, \"#d8576b\"], [0.6666666666666666, \"#ed7953\"], [0.7777777777777778, \"#fb9f3a\"], [0.8888888888888888, \"#fdca26\"], [1.0, \"#f0f921\"]], \"type\": \"histogram2d\"}], \"histogram2dcontour\": [{\"colorbar\": {\"outlinewidth\": 0, \"ticks\": \"\"}, \"colorscale\": [[0.0, \"#0d0887\"], [0.1111111111111111, \"#46039f\"], [0.2222222222222222, \"#7201a8\"], [0.3333333333333333, \"#9c179e\"], [0.4444444444444444, \"#bd3786\"], [0.5555555555555556, \"#d8576b\"], [0.6666666666666666, \"#ed7953\"], [0.7777777777777778, \"#fb9f3a\"], [0.8888888888888888, \"#fdca26\"], [1.0, \"#f0f921\"]], \"type\": \"histogram2dcontour\"}], \"mesh3d\": [{\"colorbar\": {\"outlinewidth\": 0, \"ticks\": \"\"}, \"type\": \"mesh3d\"}], \"parcoords\": [{\"line\": {\"colorbar\": {\"outlinewidth\": 0, \"ticks\": \"\"}}, \"type\": \"parcoords\"}], \"pie\": [{\"automargin\": true, \"type\": \"pie\"}], \"scatter\": [{\"marker\": {\"colorbar\": {\"outlinewidth\": 0, \"ticks\": \"\"}}, \"type\": \"scatter\"}], \"scatter3d\": [{\"line\": {\"colorbar\": {\"outlinewidth\": 0, \"ticks\": \"\"}}, \"marker\": {\"colorbar\": {\"outlinewidth\": 0, \"ticks\": \"\"}}, \"type\": \"scatter3d\"}], \"scattercarpet\": [{\"marker\": {\"colorbar\": {\"outlinewidth\": 0, \"ticks\": \"\"}}, \"type\": \"scattercarpet\"}], \"scattergeo\": [{\"marker\": {\"colorbar\": {\"outlinewidth\": 0, \"ticks\": \"\"}}, \"type\": \"scattergeo\"}], \"scattergl\": [{\"marker\": {\"colorbar\": {\"outlinewidth\": 0, \"ticks\": \"\"}}, \"type\": \"scattergl\"}], \"scattermapbox\": [{\"marker\": {\"colorbar\": {\"outlinewidth\": 0, \"ticks\": \"\"}}, \"type\": \"scattermapbox\"}], \"scatterpolar\": [{\"marker\": {\"colorbar\": {\"outlinewidth\": 0, \"ticks\": \"\"}}, \"type\": \"scatterpolar\"}], \"scatterpolargl\": [{\"marker\": {\"colorbar\": {\"outlinewidth\": 0, \"ticks\": \"\"}}, \"type\": \"scatterpolargl\"}], \"scatterternary\": [{\"marker\": {\"colorbar\": {\"outlinewidth\": 0, \"ticks\": \"\"}}, \"type\": \"scatterternary\"}], \"surface\": [{\"colorbar\": {\"outlinewidth\": 0, \"ticks\": \"\"}, \"colorscale\": [[0.0, \"#0d0887\"], [0.1111111111111111, \"#46039f\"], [0.2222222222222222, \"#7201a8\"], [0.3333333333333333, \"#9c179e\"], [0.4444444444444444, \"#bd3786\"], [0.5555555555555556, \"#d8576b\"], [0.6666666666666666, \"#ed7953\"], [0.7777777777777778, \"#fb9f3a\"], [0.8888888888888888, \"#fdca26\"], [1.0, \"#f0f921\"]], \"type\": \"surface\"}], \"table\": [{\"cells\": {\"fill\": {\"color\": \"#EBF0F8\"}, \"line\": {\"color\": \"white\"}}, \"header\": {\"fill\": {\"color\": \"#C8D4E3\"}, \"line\": {\"color\": \"white\"}}, \"type\": \"table\"}]}, \"layout\": {\"annotationdefaults\": {\"arrowcolor\": \"#2a3f5f\", \"arrowhead\": 0, \"arrowwidth\": 1}, \"coloraxis\": {\"colorbar\": {\"outlinewidth\": 0, \"ticks\": \"\"}}, \"colorscale\": {\"diverging\": [[0, \"#8e0152\"], [0.1, \"#c51b7d\"], [0.2, \"#de77ae\"], [0.3, \"#f1b6da\"], [0.4, \"#fde0ef\"], [0.5, \"#f7f7f7\"], [0.6, \"#e6f5d0\"], [0.7, \"#b8e186\"], [0.8, \"#7fbc41\"], [0.9, \"#4d9221\"], [1, \"#276419\"]], \"sequential\": [[0.0, \"#0d0887\"], [0.1111111111111111, \"#46039f\"], [0.2222222222222222, \"#7201a8\"], [0.3333333333333333, \"#9c179e\"], [0.4444444444444444, \"#bd3786\"], [0.5555555555555556, \"#d8576b\"], [0.6666666666666666, \"#ed7953\"], [0.7777777777777778, \"#fb9f3a\"], [0.8888888888888888, \"#fdca26\"], [1.0, \"#f0f921\"]], \"sequentialminus\": [[0.0, \"#0d0887\"], [0.1111111111111111, \"#46039f\"], [0.2222222222222222, \"#7201a8\"], [0.3333333333333333, \"#9c179e\"], [0.4444444444444444, \"#bd3786\"], [0.5555555555555556, \"#d8576b\"], [0.6666666666666666, \"#ed7953\"], [0.7777777777777778, \"#fb9f3a\"], [0.8888888888888888, \"#fdca26\"], [1.0, \"#f0f921\"]]}, \"colorway\": [\"#636efa\", \"#EF553B\", \"#00cc96\", \"#ab63fa\", \"#FFA15A\", \"#19d3f3\", \"#FF6692\", \"#B6E880\", \"#FF97FF\", \"#FECB52\"], \"font\": {\"color\": \"#2a3f5f\"}, \"geo\": {\"bgcolor\": \"white\", \"lakecolor\": \"white\", \"landcolor\": \"#E5ECF6\", \"showlakes\": true, \"showland\": true, \"subunitcolor\": \"white\"}, \"hoverlabel\": {\"align\": \"left\"}, \"hovermode\": \"closest\", \"mapbox\": {\"style\": \"light\"}, \"paper_bgcolor\": \"white\", \"plot_bgcolor\": \"#E5ECF6\", \"polar\": {\"angularaxis\": {\"gridcolor\": \"white\", \"linecolor\": \"white\", \"ticks\": \"\"}, \"bgcolor\": \"#E5ECF6\", \"radialaxis\": {\"gridcolor\": \"white\", \"linecolor\": \"white\", \"ticks\": \"\"}}, \"scene\": {\"xaxis\": {\"backgroundcolor\": \"#E5ECF6\", \"gridcolor\": \"white\", \"gridwidth\": 2, \"linecolor\": \"white\", \"showbackground\": true, \"ticks\": \"\", \"zerolinecolor\": \"white\"}, \"yaxis\": {\"backgroundcolor\": \"#E5ECF6\", \"gridcolor\": \"white\", \"gridwidth\": 2, \"linecolor\": \"white\", \"showbackground\": true, \"ticks\": \"\", \"zerolinecolor\": \"white\"}, \"zaxis\": {\"backgroundcolor\": \"#E5ECF6\", \"gridcolor\": \"white\", \"gridwidth\": 2, \"linecolor\": \"white\", \"showbackground\": true, \"ticks\": \"\", \"zerolinecolor\": \"white\"}}, \"shapedefaults\": {\"line\": {\"color\": \"#2a3f5f\"}}, \"ternary\": {\"aaxis\": {\"gridcolor\": \"white\", \"linecolor\": \"white\", \"ticks\": \"\"}, \"baxis\": {\"gridcolor\": \"white\", \"linecolor\": \"white\", \"ticks\": \"\"}, \"bgcolor\": \"#E5ECF6\", \"caxis\": {\"gridcolor\": \"white\", \"linecolor\": \"white\", \"ticks\": \"\"}}, \"title\": {\"x\": 0.05}, \"xaxis\": {\"automargin\": true, \"gridcolor\": \"white\", \"linecolor\": \"white\", \"ticks\": \"\", \"title\": {\"standoff\": 15}, \"zerolinecolor\": \"white\", \"zerolinewidth\": 2}, \"yaxis\": {\"automargin\": true, \"gridcolor\": \"white\", \"linecolor\": \"white\", \"ticks\": \"\", \"title\": {\"standoff\": 15}, \"zerolinecolor\": \"white\", \"zerolinewidth\": 2}}}, \"title\": {\"text\": \"StreamingMovies distribution in customer attrition \"}},\n",
              "                        {\"responsive\": true}\n",
              "                    ).then(function(){\n",
              "                            \n",
              "var gd = document.getElementById('f25460cd-cc5f-42ba-91cf-1f9f4e0b3dd6');\n",
              "var x = new MutationObserver(function (mutations, observer) {{\n",
              "        var display = window.getComputedStyle(gd).display;\n",
              "        if (!display || display === 'none') {{\n",
              "            console.log([gd, 'removed!']);\n",
              "            Plotly.purge(gd);\n",
              "            observer.disconnect();\n",
              "        }}\n",
              "}});\n",
              "\n",
              "// Listen for the removal of the full notebook cells\n",
              "var notebookContainer = gd.closest('#notebook-container');\n",
              "if (notebookContainer) {{\n",
              "    x.observe(notebookContainer, {childList: true});\n",
              "}}\n",
              "\n",
              "// Listen for the clearing of the current output cell\n",
              "var outputEl = gd.closest('.output');\n",
              "if (outputEl) {{\n",
              "    x.observe(outputEl, {childList: true});\n",
              "}}\n",
              "\n",
              "                        })\n",
              "                };\n",
              "                \n",
              "            </script>\n",
              "        </div>\n",
              "</body>\n",
              "</html>"
            ]
          },
          "metadata": {
            "tags": []
          }
        },
        {
          "output_type": "display_data",
          "data": {
            "text/html": [
              "<html>\n",
              "<head><meta charset=\"utf-8\" /></head>\n",
              "<body>\n",
              "    <div>\n",
              "            <script src=\"https://cdnjs.cloudflare.com/ajax/libs/mathjax/2.7.5/MathJax.js?config=TeX-AMS-MML_SVG\"></script><script type=\"text/javascript\">if (window.MathJax) {MathJax.Hub.Config({SVG: {font: \"STIX-Web\"}});}</script>\n",
              "                <script type=\"text/javascript\">window.PlotlyConfig = {MathJaxConfig: 'local'};</script>\n",
              "        <script src=\"https://cdn.plot.ly/plotly-latest.min.js\"></script>    \n",
              "            <div id=\"ee8243ac-91c2-44a6-9ca5-8e42d39b0405\" class=\"plotly-graph-div\" style=\"height:525px; width:100%;\"></div>\n",
              "            <script type=\"text/javascript\">\n",
              "                \n",
              "                    window.PLOTLYENV=window.PLOTLYENV || {};\n",
              "                    \n",
              "                if (document.getElementById(\"ee8243ac-91c2-44a6-9ca5-8e42d39b0405\")) {\n",
              "                    Plotly.newPlot(\n",
              "                        'ee8243ac-91c2-44a6-9ca5-8e42d39b0405',\n",
              "                        [{\"domain\": {\"x\": [0, 0.2]}, \"hole\": 0.6, \"hoverinfo\": \"label+percent+name\", \"labels\": [\"month-to-month\", \"one year\", \"two year\"], \"marker\": {\"line\": {\"color\": \"rgb(243,243,243)\", \"width\": 2}}, \"name\": \"Churn Customers\", \"type\": \"pie\", \"values\": [1306, 134, 35]}, {\"domain\": {\"x\": [0.52, 1]}, \"hole\": 0.6, \"hoverinfo\": \"label+percent+name\", \"labels\": [\"month-to-month\", \"two year\", \"one year\"], \"marker\": {\"line\": {\"color\": \"rgb(243,243,243)\", \"width\": 2}}, \"name\": \"Non Churn Customers\", \"type\": \"pie\", \"values\": [1774, 1292, 1084]}],\n",
              "                        {\"annotations\": [{\"font\": {\"size\": 13}, \"showarrow\": false, \"text\": \"Churn Customers\", \"x\": 0.05, \"y\": 0.5}, {\"font\": {\"size\": 13}, \"showarrow\": false, \"text\": \"Non Churn Customers\", \"x\": 0.83, \"y\": 0.5}], \"paper_bgcolor\": \"rgb(243,243,243)\", \"plot_bgcolor\": \"rgb(243,243,243)\", \"template\": {\"data\": {\"bar\": [{\"error_x\": {\"color\": \"#2a3f5f\"}, \"error_y\": {\"color\": \"#2a3f5f\"}, \"marker\": {\"line\": {\"color\": \"#E5ECF6\", \"width\": 0.5}}, \"type\": \"bar\"}], \"barpolar\": [{\"marker\": {\"line\": {\"color\": \"#E5ECF6\", \"width\": 0.5}}, \"type\": \"barpolar\"}], \"carpet\": [{\"aaxis\": {\"endlinecolor\": \"#2a3f5f\", \"gridcolor\": \"white\", \"linecolor\": \"white\", \"minorgridcolor\": \"white\", \"startlinecolor\": \"#2a3f5f\"}, \"baxis\": {\"endlinecolor\": \"#2a3f5f\", \"gridcolor\": \"white\", \"linecolor\": \"white\", \"minorgridcolor\": \"white\", \"startlinecolor\": \"#2a3f5f\"}, \"type\": \"carpet\"}], \"choropleth\": [{\"colorbar\": {\"outlinewidth\": 0, \"ticks\": \"\"}, \"type\": \"choropleth\"}], \"contour\": [{\"colorbar\": {\"outlinewidth\": 0, \"ticks\": \"\"}, \"colorscale\": [[0.0, \"#0d0887\"], [0.1111111111111111, \"#46039f\"], [0.2222222222222222, \"#7201a8\"], [0.3333333333333333, \"#9c179e\"], [0.4444444444444444, \"#bd3786\"], [0.5555555555555556, \"#d8576b\"], [0.6666666666666666, \"#ed7953\"], [0.7777777777777778, \"#fb9f3a\"], [0.8888888888888888, \"#fdca26\"], [1.0, \"#f0f921\"]], \"type\": \"contour\"}], \"contourcarpet\": [{\"colorbar\": {\"outlinewidth\": 0, \"ticks\": \"\"}, \"type\": \"contourcarpet\"}], \"heatmap\": [{\"colorbar\": {\"outlinewidth\": 0, \"ticks\": \"\"}, \"colorscale\": [[0.0, \"#0d0887\"], [0.1111111111111111, \"#46039f\"], [0.2222222222222222, \"#7201a8\"], [0.3333333333333333, \"#9c179e\"], [0.4444444444444444, \"#bd3786\"], [0.5555555555555556, \"#d8576b\"], [0.6666666666666666, \"#ed7953\"], [0.7777777777777778, \"#fb9f3a\"], [0.8888888888888888, \"#fdca26\"], [1.0, \"#f0f921\"]], \"type\": \"heatmap\"}], \"heatmapgl\": [{\"colorbar\": {\"outlinewidth\": 0, \"ticks\": \"\"}, \"colorscale\": [[0.0, \"#0d0887\"], [0.1111111111111111, \"#46039f\"], [0.2222222222222222, \"#7201a8\"], [0.3333333333333333, \"#9c179e\"], [0.4444444444444444, \"#bd3786\"], [0.5555555555555556, \"#d8576b\"], [0.6666666666666666, \"#ed7953\"], [0.7777777777777778, \"#fb9f3a\"], [0.8888888888888888, \"#fdca26\"], [1.0, \"#f0f921\"]], \"type\": \"heatmapgl\"}], \"histogram\": [{\"marker\": {\"colorbar\": {\"outlinewidth\": 0, \"ticks\": \"\"}}, \"type\": \"histogram\"}], \"histogram2d\": [{\"colorbar\": {\"outlinewidth\": 0, \"ticks\": \"\"}, \"colorscale\": [[0.0, \"#0d0887\"], [0.1111111111111111, \"#46039f\"], [0.2222222222222222, \"#7201a8\"], [0.3333333333333333, \"#9c179e\"], [0.4444444444444444, \"#bd3786\"], [0.5555555555555556, \"#d8576b\"], [0.6666666666666666, \"#ed7953\"], [0.7777777777777778, \"#fb9f3a\"], [0.8888888888888888, \"#fdca26\"], [1.0, \"#f0f921\"]], \"type\": \"histogram2d\"}], \"histogram2dcontour\": [{\"colorbar\": {\"outlinewidth\": 0, \"ticks\": \"\"}, \"colorscale\": [[0.0, \"#0d0887\"], [0.1111111111111111, \"#46039f\"], [0.2222222222222222, \"#7201a8\"], [0.3333333333333333, \"#9c179e\"], [0.4444444444444444, \"#bd3786\"], [0.5555555555555556, \"#d8576b\"], [0.6666666666666666, \"#ed7953\"], [0.7777777777777778, \"#fb9f3a\"], [0.8888888888888888, \"#fdca26\"], [1.0, \"#f0f921\"]], \"type\": \"histogram2dcontour\"}], \"mesh3d\": [{\"colorbar\": {\"outlinewidth\": 0, \"ticks\": \"\"}, \"type\": \"mesh3d\"}], \"parcoords\": [{\"line\": {\"colorbar\": {\"outlinewidth\": 0, \"ticks\": \"\"}}, \"type\": \"parcoords\"}], \"pie\": [{\"automargin\": true, \"type\": \"pie\"}], \"scatter\": [{\"marker\": {\"colorbar\": {\"outlinewidth\": 0, \"ticks\": \"\"}}, \"type\": \"scatter\"}], \"scatter3d\": [{\"line\": {\"colorbar\": {\"outlinewidth\": 0, \"ticks\": \"\"}}, \"marker\": {\"colorbar\": {\"outlinewidth\": 0, \"ticks\": \"\"}}, \"type\": \"scatter3d\"}], \"scattercarpet\": [{\"marker\": {\"colorbar\": {\"outlinewidth\": 0, \"ticks\": \"\"}}, \"type\": \"scattercarpet\"}], \"scattergeo\": [{\"marker\": {\"colorbar\": {\"outlinewidth\": 0, \"ticks\": \"\"}}, \"type\": \"scattergeo\"}], \"scattergl\": [{\"marker\": {\"colorbar\": {\"outlinewidth\": 0, \"ticks\": \"\"}}, \"type\": \"scattergl\"}], \"scattermapbox\": [{\"marker\": {\"colorbar\": {\"outlinewidth\": 0, \"ticks\": \"\"}}, \"type\": \"scattermapbox\"}], \"scatterpolar\": [{\"marker\": {\"colorbar\": {\"outlinewidth\": 0, \"ticks\": \"\"}}, \"type\": \"scatterpolar\"}], \"scatterpolargl\": [{\"marker\": {\"colorbar\": {\"outlinewidth\": 0, \"ticks\": \"\"}}, \"type\": \"scatterpolargl\"}], \"scatterternary\": [{\"marker\": {\"colorbar\": {\"outlinewidth\": 0, \"ticks\": \"\"}}, \"type\": \"scatterternary\"}], \"surface\": [{\"colorbar\": {\"outlinewidth\": 0, \"ticks\": \"\"}, \"colorscale\": [[0.0, \"#0d0887\"], [0.1111111111111111, \"#46039f\"], [0.2222222222222222, \"#7201a8\"], [0.3333333333333333, \"#9c179e\"], [0.4444444444444444, \"#bd3786\"], [0.5555555555555556, \"#d8576b\"], [0.6666666666666666, \"#ed7953\"], [0.7777777777777778, \"#fb9f3a\"], [0.8888888888888888, \"#fdca26\"], [1.0, \"#f0f921\"]], \"type\": \"surface\"}], \"table\": [{\"cells\": {\"fill\": {\"color\": \"#EBF0F8\"}, \"line\": {\"color\": \"white\"}}, \"header\": {\"fill\": {\"color\": \"#C8D4E3\"}, \"line\": {\"color\": \"white\"}}, \"type\": \"table\"}]}, \"layout\": {\"annotationdefaults\": {\"arrowcolor\": \"#2a3f5f\", \"arrowhead\": 0, \"arrowwidth\": 1}, \"coloraxis\": {\"colorbar\": {\"outlinewidth\": 0, \"ticks\": \"\"}}, \"colorscale\": {\"diverging\": [[0, \"#8e0152\"], [0.1, \"#c51b7d\"], [0.2, \"#de77ae\"], [0.3, \"#f1b6da\"], [0.4, \"#fde0ef\"], [0.5, \"#f7f7f7\"], [0.6, \"#e6f5d0\"], [0.7, \"#b8e186\"], [0.8, \"#7fbc41\"], [0.9, \"#4d9221\"], [1, \"#276419\"]], \"sequential\": [[0.0, \"#0d0887\"], [0.1111111111111111, \"#46039f\"], [0.2222222222222222, \"#7201a8\"], [0.3333333333333333, \"#9c179e\"], [0.4444444444444444, \"#bd3786\"], [0.5555555555555556, \"#d8576b\"], [0.6666666666666666, \"#ed7953\"], [0.7777777777777778, \"#fb9f3a\"], [0.8888888888888888, \"#fdca26\"], [1.0, \"#f0f921\"]], \"sequentialminus\": [[0.0, \"#0d0887\"], [0.1111111111111111, \"#46039f\"], [0.2222222222222222, \"#7201a8\"], [0.3333333333333333, \"#9c179e\"], [0.4444444444444444, \"#bd3786\"], [0.5555555555555556, \"#d8576b\"], [0.6666666666666666, \"#ed7953\"], [0.7777777777777778, \"#fb9f3a\"], [0.8888888888888888, \"#fdca26\"], [1.0, \"#f0f921\"]]}, \"colorway\": [\"#636efa\", \"#EF553B\", \"#00cc96\", \"#ab63fa\", \"#FFA15A\", \"#19d3f3\", \"#FF6692\", \"#B6E880\", \"#FF97FF\", \"#FECB52\"], \"font\": {\"color\": \"#2a3f5f\"}, \"geo\": {\"bgcolor\": \"white\", \"lakecolor\": \"white\", \"landcolor\": \"#E5ECF6\", \"showlakes\": true, \"showland\": true, \"subunitcolor\": \"white\"}, \"hoverlabel\": {\"align\": \"left\"}, \"hovermode\": \"closest\", \"mapbox\": {\"style\": \"light\"}, \"paper_bgcolor\": \"white\", \"plot_bgcolor\": \"#E5ECF6\", \"polar\": {\"angularaxis\": {\"gridcolor\": \"white\", \"linecolor\": \"white\", \"ticks\": \"\"}, \"bgcolor\": \"#E5ECF6\", \"radialaxis\": {\"gridcolor\": \"white\", \"linecolor\": \"white\", \"ticks\": \"\"}}, \"scene\": {\"xaxis\": {\"backgroundcolor\": \"#E5ECF6\", \"gridcolor\": \"white\", \"gridwidth\": 2, \"linecolor\": \"white\", \"showbackground\": true, \"ticks\": \"\", \"zerolinecolor\": \"white\"}, \"yaxis\": {\"backgroundcolor\": \"#E5ECF6\", \"gridcolor\": \"white\", \"gridwidth\": 2, \"linecolor\": \"white\", \"showbackground\": true, \"ticks\": \"\", \"zerolinecolor\": \"white\"}, \"zaxis\": {\"backgroundcolor\": \"#E5ECF6\", \"gridcolor\": \"white\", \"gridwidth\": 2, \"linecolor\": \"white\", \"showbackground\": true, \"ticks\": \"\", \"zerolinecolor\": \"white\"}}, \"shapedefaults\": {\"line\": {\"color\": \"#2a3f5f\"}}, \"ternary\": {\"aaxis\": {\"gridcolor\": \"white\", \"linecolor\": \"white\", \"ticks\": \"\"}, \"baxis\": {\"gridcolor\": \"white\", \"linecolor\": \"white\", \"ticks\": \"\"}, \"bgcolor\": \"#E5ECF6\", \"caxis\": {\"gridcolor\": \"white\", \"linecolor\": \"white\", \"ticks\": \"\"}}, \"title\": {\"x\": 0.05}, \"xaxis\": {\"automargin\": true, \"gridcolor\": \"white\", \"linecolor\": \"white\", \"ticks\": \"\", \"title\": {\"standoff\": 15}, \"zerolinecolor\": \"white\", \"zerolinewidth\": 2}, \"yaxis\": {\"automargin\": true, \"gridcolor\": \"white\", \"linecolor\": \"white\", \"ticks\": \"\", \"title\": {\"standoff\": 15}, \"zerolinecolor\": \"white\", \"zerolinewidth\": 2}}}, \"title\": {\"text\": \"Contract distribution in customer attrition \"}},\n",
              "                        {\"responsive\": true}\n",
              "                    ).then(function(){\n",
              "                            \n",
              "var gd = document.getElementById('ee8243ac-91c2-44a6-9ca5-8e42d39b0405');\n",
              "var x = new MutationObserver(function (mutations, observer) {{\n",
              "        var display = window.getComputedStyle(gd).display;\n",
              "        if (!display || display === 'none') {{\n",
              "            console.log([gd, 'removed!']);\n",
              "            Plotly.purge(gd);\n",
              "            observer.disconnect();\n",
              "        }}\n",
              "}});\n",
              "\n",
              "// Listen for the removal of the full notebook cells\n",
              "var notebookContainer = gd.closest('#notebook-container');\n",
              "if (notebookContainer) {{\n",
              "    x.observe(notebookContainer, {childList: true});\n",
              "}}\n",
              "\n",
              "// Listen for the clearing of the current output cell\n",
              "var outputEl = gd.closest('.output');\n",
              "if (outputEl) {{\n",
              "    x.observe(outputEl, {childList: true});\n",
              "}}\n",
              "\n",
              "                        })\n",
              "                };\n",
              "                \n",
              "            </script>\n",
              "        </div>\n",
              "</body>\n",
              "</html>"
            ]
          },
          "metadata": {
            "tags": []
          }
        },
        {
          "output_type": "display_data",
          "data": {
            "text/html": [
              "<html>\n",
              "<head><meta charset=\"utf-8\" /></head>\n",
              "<body>\n",
              "    <div>\n",
              "            <script src=\"https://cdnjs.cloudflare.com/ajax/libs/mathjax/2.7.5/MathJax.js?config=TeX-AMS-MML_SVG\"></script><script type=\"text/javascript\">if (window.MathJax) {MathJax.Hub.Config({SVG: {font: \"STIX-Web\"}});}</script>\n",
              "                <script type=\"text/javascript\">window.PlotlyConfig = {MathJaxConfig: 'local'};</script>\n",
              "        <script src=\"https://cdn.plot.ly/plotly-latest.min.js\"></script>    \n",
              "            <div id=\"ce57aca1-741d-489c-af31-0d17cee55778\" class=\"plotly-graph-div\" style=\"height:525px; width:100%;\"></div>\n",
              "            <script type=\"text/javascript\">\n",
              "                \n",
              "                    window.PLOTLYENV=window.PLOTLYENV || {};\n",
              "                    \n",
              "                if (document.getElementById(\"ce57aca1-741d-489c-af31-0d17cee55778\")) {\n",
              "                    Plotly.newPlot(\n",
              "                        'ce57aca1-741d-489c-af31-0d17cee55778',\n",
              "                        [{\"domain\": {\"x\": [0, 0.2]}, \"hole\": 0.6, \"hoverinfo\": \"label+percent+name\", \"labels\": [\"yes\", \"no\"], \"marker\": {\"line\": {\"color\": \"rgb(243,243,243)\", \"width\": 2}}, \"name\": \"Churn Customers\", \"type\": \"pie\", \"values\": [1107, 368]}, {\"domain\": {\"x\": [0.52, 1]}, \"hole\": 0.6, \"hoverinfo\": \"label+percent+name\", \"labels\": [\"yes\", \"no\"], \"marker\": {\"line\": {\"color\": \"rgb(243,243,243)\", \"width\": 2}}, \"name\": \"Non Churn Customers\", \"type\": \"pie\", \"values\": [2206, 1944]}],\n",
              "                        {\"annotations\": [{\"font\": {\"size\": 13}, \"showarrow\": false, \"text\": \"Churn Customers\", \"x\": 0.05, \"y\": 0.5}, {\"font\": {\"size\": 13}, \"showarrow\": false, \"text\": \"Non Churn Customers\", \"x\": 0.83, \"y\": 0.5}], \"paper_bgcolor\": \"rgb(243,243,243)\", \"plot_bgcolor\": \"rgb(243,243,243)\", \"template\": {\"data\": {\"bar\": [{\"error_x\": {\"color\": \"#2a3f5f\"}, \"error_y\": {\"color\": \"#2a3f5f\"}, \"marker\": {\"line\": {\"color\": \"#E5ECF6\", \"width\": 0.5}}, \"type\": \"bar\"}], \"barpolar\": [{\"marker\": {\"line\": {\"color\": \"#E5ECF6\", \"width\": 0.5}}, \"type\": \"barpolar\"}], \"carpet\": [{\"aaxis\": {\"endlinecolor\": \"#2a3f5f\", \"gridcolor\": \"white\", \"linecolor\": \"white\", \"minorgridcolor\": \"white\", \"startlinecolor\": \"#2a3f5f\"}, \"baxis\": {\"endlinecolor\": \"#2a3f5f\", \"gridcolor\": \"white\", \"linecolor\": \"white\", \"minorgridcolor\": \"white\", \"startlinecolor\": \"#2a3f5f\"}, \"type\": \"carpet\"}], \"choropleth\": [{\"colorbar\": {\"outlinewidth\": 0, \"ticks\": \"\"}, \"type\": \"choropleth\"}], \"contour\": [{\"colorbar\": {\"outlinewidth\": 0, \"ticks\": \"\"}, \"colorscale\": [[0.0, \"#0d0887\"], [0.1111111111111111, \"#46039f\"], [0.2222222222222222, \"#7201a8\"], [0.3333333333333333, \"#9c179e\"], [0.4444444444444444, \"#bd3786\"], [0.5555555555555556, \"#d8576b\"], [0.6666666666666666, \"#ed7953\"], [0.7777777777777778, \"#fb9f3a\"], [0.8888888888888888, \"#fdca26\"], [1.0, \"#f0f921\"]], \"type\": \"contour\"}], \"contourcarpet\": [{\"colorbar\": {\"outlinewidth\": 0, \"ticks\": \"\"}, \"type\": \"contourcarpet\"}], \"heatmap\": [{\"colorbar\": {\"outlinewidth\": 0, \"ticks\": \"\"}, \"colorscale\": [[0.0, \"#0d0887\"], [0.1111111111111111, \"#46039f\"], [0.2222222222222222, \"#7201a8\"], [0.3333333333333333, \"#9c179e\"], [0.4444444444444444, \"#bd3786\"], [0.5555555555555556, \"#d8576b\"], [0.6666666666666666, \"#ed7953\"], [0.7777777777777778, \"#fb9f3a\"], [0.8888888888888888, \"#fdca26\"], [1.0, \"#f0f921\"]], \"type\": \"heatmap\"}], \"heatmapgl\": [{\"colorbar\": {\"outlinewidth\": 0, \"ticks\": \"\"}, \"colorscale\": [[0.0, \"#0d0887\"], [0.1111111111111111, \"#46039f\"], [0.2222222222222222, \"#7201a8\"], [0.3333333333333333, \"#9c179e\"], [0.4444444444444444, \"#bd3786\"], [0.5555555555555556, \"#d8576b\"], [0.6666666666666666, \"#ed7953\"], [0.7777777777777778, \"#fb9f3a\"], [0.8888888888888888, \"#fdca26\"], [1.0, \"#f0f921\"]], \"type\": \"heatmapgl\"}], \"histogram\": [{\"marker\": {\"colorbar\": {\"outlinewidth\": 0, \"ticks\": \"\"}}, \"type\": \"histogram\"}], \"histogram2d\": [{\"colorbar\": {\"outlinewidth\": 0, \"ticks\": \"\"}, \"colorscale\": [[0.0, \"#0d0887\"], [0.1111111111111111, \"#46039f\"], [0.2222222222222222, \"#7201a8\"], [0.3333333333333333, \"#9c179e\"], [0.4444444444444444, \"#bd3786\"], [0.5555555555555556, \"#d8576b\"], [0.6666666666666666, \"#ed7953\"], [0.7777777777777778, \"#fb9f3a\"], [0.8888888888888888, \"#fdca26\"], [1.0, \"#f0f921\"]], \"type\": \"histogram2d\"}], \"histogram2dcontour\": [{\"colorbar\": {\"outlinewidth\": 0, \"ticks\": \"\"}, \"colorscale\": [[0.0, \"#0d0887\"], [0.1111111111111111, \"#46039f\"], [0.2222222222222222, \"#7201a8\"], [0.3333333333333333, \"#9c179e\"], [0.4444444444444444, \"#bd3786\"], [0.5555555555555556, \"#d8576b\"], [0.6666666666666666, \"#ed7953\"], [0.7777777777777778, \"#fb9f3a\"], [0.8888888888888888, \"#fdca26\"], [1.0, \"#f0f921\"]], \"type\": \"histogram2dcontour\"}], \"mesh3d\": [{\"colorbar\": {\"outlinewidth\": 0, \"ticks\": \"\"}, \"type\": \"mesh3d\"}], \"parcoords\": [{\"line\": {\"colorbar\": {\"outlinewidth\": 0, \"ticks\": \"\"}}, \"type\": \"parcoords\"}], \"pie\": [{\"automargin\": true, \"type\": \"pie\"}], \"scatter\": [{\"marker\": {\"colorbar\": {\"outlinewidth\": 0, \"ticks\": \"\"}}, \"type\": \"scatter\"}], \"scatter3d\": [{\"line\": {\"colorbar\": {\"outlinewidth\": 0, \"ticks\": \"\"}}, \"marker\": {\"colorbar\": {\"outlinewidth\": 0, \"ticks\": \"\"}}, \"type\": \"scatter3d\"}], \"scattercarpet\": [{\"marker\": {\"colorbar\": {\"outlinewidth\": 0, \"ticks\": \"\"}}, \"type\": \"scattercarpet\"}], \"scattergeo\": [{\"marker\": {\"colorbar\": {\"outlinewidth\": 0, \"ticks\": \"\"}}, \"type\": \"scattergeo\"}], \"scattergl\": [{\"marker\": {\"colorbar\": {\"outlinewidth\": 0, \"ticks\": \"\"}}, \"type\": \"scattergl\"}], \"scattermapbox\": [{\"marker\": {\"colorbar\": {\"outlinewidth\": 0, \"ticks\": \"\"}}, \"type\": \"scattermapbox\"}], \"scatterpolar\": [{\"marker\": {\"colorbar\": {\"outlinewidth\": 0, \"ticks\": \"\"}}, \"type\": \"scatterpolar\"}], \"scatterpolargl\": [{\"marker\": {\"colorbar\": {\"outlinewidth\": 0, \"ticks\": \"\"}}, \"type\": \"scatterpolargl\"}], \"scatterternary\": [{\"marker\": {\"colorbar\": {\"outlinewidth\": 0, \"ticks\": \"\"}}, \"type\": \"scatterternary\"}], \"surface\": [{\"colorbar\": {\"outlinewidth\": 0, \"ticks\": \"\"}, \"colorscale\": [[0.0, \"#0d0887\"], [0.1111111111111111, \"#46039f\"], [0.2222222222222222, \"#7201a8\"], [0.3333333333333333, \"#9c179e\"], [0.4444444444444444, \"#bd3786\"], [0.5555555555555556, \"#d8576b\"], [0.6666666666666666, \"#ed7953\"], [0.7777777777777778, \"#fb9f3a\"], [0.8888888888888888, \"#fdca26\"], [1.0, \"#f0f921\"]], \"type\": \"surface\"}], \"table\": [{\"cells\": {\"fill\": {\"color\": \"#EBF0F8\"}, \"line\": {\"color\": \"white\"}}, \"header\": {\"fill\": {\"color\": \"#C8D4E3\"}, \"line\": {\"color\": \"white\"}}, \"type\": \"table\"}]}, \"layout\": {\"annotationdefaults\": {\"arrowcolor\": \"#2a3f5f\", \"arrowhead\": 0, \"arrowwidth\": 1}, \"coloraxis\": {\"colorbar\": {\"outlinewidth\": 0, \"ticks\": \"\"}}, \"colorscale\": {\"diverging\": [[0, \"#8e0152\"], [0.1, \"#c51b7d\"], [0.2, \"#de77ae\"], [0.3, \"#f1b6da\"], [0.4, \"#fde0ef\"], [0.5, \"#f7f7f7\"], [0.6, \"#e6f5d0\"], [0.7, \"#b8e186\"], [0.8, \"#7fbc41\"], [0.9, \"#4d9221\"], [1, \"#276419\"]], \"sequential\": [[0.0, \"#0d0887\"], [0.1111111111111111, \"#46039f\"], [0.2222222222222222, \"#7201a8\"], [0.3333333333333333, \"#9c179e\"], [0.4444444444444444, \"#bd3786\"], [0.5555555555555556, \"#d8576b\"], [0.6666666666666666, \"#ed7953\"], [0.7777777777777778, \"#fb9f3a\"], [0.8888888888888888, \"#fdca26\"], [1.0, \"#f0f921\"]], \"sequentialminus\": [[0.0, \"#0d0887\"], [0.1111111111111111, \"#46039f\"], [0.2222222222222222, \"#7201a8\"], [0.3333333333333333, \"#9c179e\"], [0.4444444444444444, \"#bd3786\"], [0.5555555555555556, \"#d8576b\"], [0.6666666666666666, \"#ed7953\"], [0.7777777777777778, \"#fb9f3a\"], [0.8888888888888888, \"#fdca26\"], [1.0, \"#f0f921\"]]}, \"colorway\": [\"#636efa\", \"#EF553B\", \"#00cc96\", \"#ab63fa\", \"#FFA15A\", \"#19d3f3\", \"#FF6692\", \"#B6E880\", \"#FF97FF\", \"#FECB52\"], \"font\": {\"color\": \"#2a3f5f\"}, \"geo\": {\"bgcolor\": \"white\", \"lakecolor\": \"white\", \"landcolor\": \"#E5ECF6\", \"showlakes\": true, \"showland\": true, \"subunitcolor\": \"white\"}, \"hoverlabel\": {\"align\": \"left\"}, \"hovermode\": \"closest\", \"mapbox\": {\"style\": \"light\"}, \"paper_bgcolor\": \"white\", \"plot_bgcolor\": \"#E5ECF6\", \"polar\": {\"angularaxis\": {\"gridcolor\": \"white\", \"linecolor\": \"white\", \"ticks\": \"\"}, \"bgcolor\": \"#E5ECF6\", \"radialaxis\": {\"gridcolor\": \"white\", \"linecolor\": \"white\", \"ticks\": \"\"}}, \"scene\": {\"xaxis\": {\"backgroundcolor\": \"#E5ECF6\", \"gridcolor\": \"white\", \"gridwidth\": 2, \"linecolor\": \"white\", \"showbackground\": true, \"ticks\": \"\", \"zerolinecolor\": \"white\"}, \"yaxis\": {\"backgroundcolor\": \"#E5ECF6\", \"gridcolor\": \"white\", \"gridwidth\": 2, \"linecolor\": \"white\", \"showbackground\": true, \"ticks\": \"\", \"zerolinecolor\": \"white\"}, \"zaxis\": {\"backgroundcolor\": \"#E5ECF6\", \"gridcolor\": \"white\", \"gridwidth\": 2, \"linecolor\": \"white\", \"showbackground\": true, \"ticks\": \"\", \"zerolinecolor\": \"white\"}}, \"shapedefaults\": {\"line\": {\"color\": \"#2a3f5f\"}}, \"ternary\": {\"aaxis\": {\"gridcolor\": \"white\", \"linecolor\": \"white\", \"ticks\": \"\"}, \"baxis\": {\"gridcolor\": \"white\", \"linecolor\": \"white\", \"ticks\": \"\"}, \"bgcolor\": \"#E5ECF6\", \"caxis\": {\"gridcolor\": \"white\", \"linecolor\": \"white\", \"ticks\": \"\"}}, \"title\": {\"x\": 0.05}, \"xaxis\": {\"automargin\": true, \"gridcolor\": \"white\", \"linecolor\": \"white\", \"ticks\": \"\", \"title\": {\"standoff\": 15}, \"zerolinecolor\": \"white\", \"zerolinewidth\": 2}, \"yaxis\": {\"automargin\": true, \"gridcolor\": \"white\", \"linecolor\": \"white\", \"ticks\": \"\", \"title\": {\"standoff\": 15}, \"zerolinecolor\": \"white\", \"zerolinewidth\": 2}}}, \"title\": {\"text\": \"PaperlessBilling distribution in customer attrition \"}},\n",
              "                        {\"responsive\": true}\n",
              "                    ).then(function(){\n",
              "                            \n",
              "var gd = document.getElementById('ce57aca1-741d-489c-af31-0d17cee55778');\n",
              "var x = new MutationObserver(function (mutations, observer) {{\n",
              "        var display = window.getComputedStyle(gd).display;\n",
              "        if (!display || display === 'none') {{\n",
              "            console.log([gd, 'removed!']);\n",
              "            Plotly.purge(gd);\n",
              "            observer.disconnect();\n",
              "        }}\n",
              "}});\n",
              "\n",
              "// Listen for the removal of the full notebook cells\n",
              "var notebookContainer = gd.closest('#notebook-container');\n",
              "if (notebookContainer) {{\n",
              "    x.observe(notebookContainer, {childList: true});\n",
              "}}\n",
              "\n",
              "// Listen for the clearing of the current output cell\n",
              "var outputEl = gd.closest('.output');\n",
              "if (outputEl) {{\n",
              "    x.observe(outputEl, {childList: true});\n",
              "}}\n",
              "\n",
              "                        })\n",
              "                };\n",
              "                \n",
              "            </script>\n",
              "        </div>\n",
              "</body>\n",
              "</html>"
            ]
          },
          "metadata": {
            "tags": []
          }
        },
        {
          "output_type": "display_data",
          "data": {
            "text/html": [
              "<html>\n",
              "<head><meta charset=\"utf-8\" /></head>\n",
              "<body>\n",
              "    <div>\n",
              "            <script src=\"https://cdnjs.cloudflare.com/ajax/libs/mathjax/2.7.5/MathJax.js?config=TeX-AMS-MML_SVG\"></script><script type=\"text/javascript\">if (window.MathJax) {MathJax.Hub.Config({SVG: {font: \"STIX-Web\"}});}</script>\n",
              "                <script type=\"text/javascript\">window.PlotlyConfig = {MathJaxConfig: 'local'};</script>\n",
              "        <script src=\"https://cdn.plot.ly/plotly-latest.min.js\"></script>    \n",
              "            <div id=\"39f67c35-1862-4c5f-ae20-79895da76906\" class=\"plotly-graph-div\" style=\"height:525px; width:100%;\"></div>\n",
              "            <script type=\"text/javascript\">\n",
              "                \n",
              "                    window.PLOTLYENV=window.PLOTLYENV || {};\n",
              "                    \n",
              "                if (document.getElementById(\"39f67c35-1862-4c5f-ae20-79895da76906\")) {\n",
              "                    Plotly.newPlot(\n",
              "                        '39f67c35-1862-4c5f-ae20-79895da76906',\n",
              "                        [{\"domain\": {\"x\": [0, 0.2]}, \"hole\": 0.6, \"hoverinfo\": \"label+percent+name\", \"labels\": [\"electronic check\", \"mailed check\", \"bank transfer (automatic)\", \"credit card (automatic)\"], \"marker\": {\"line\": {\"color\": \"rgb(243,243,243)\", \"width\": 2}}, \"name\": \"Churn Customers\", \"type\": \"pie\", \"values\": [836, 241, 213, 185]}, {\"domain\": {\"x\": [0.52, 1]}, \"hole\": 0.6, \"hoverinfo\": \"label+percent+name\", \"labels\": [\"credit card (automatic)\", \"mailed check\", \"electronic check\", \"bank transfer (automatic)\"], \"marker\": {\"line\": {\"color\": \"rgb(243,243,243)\", \"width\": 2}}, \"name\": \"Non Churn Customers\", \"type\": \"pie\", \"values\": [1056, 1054, 1033, 1007]}],\n",
              "                        {\"annotations\": [{\"font\": {\"size\": 13}, \"showarrow\": false, \"text\": \"Churn Customers\", \"x\": 0.05, \"y\": 0.5}, {\"font\": {\"size\": 13}, \"showarrow\": false, \"text\": \"Non Churn Customers\", \"x\": 0.83, \"y\": 0.5}], \"paper_bgcolor\": \"rgb(243,243,243)\", \"plot_bgcolor\": \"rgb(243,243,243)\", \"template\": {\"data\": {\"bar\": [{\"error_x\": {\"color\": \"#2a3f5f\"}, \"error_y\": {\"color\": \"#2a3f5f\"}, \"marker\": {\"line\": {\"color\": \"#E5ECF6\", \"width\": 0.5}}, \"type\": \"bar\"}], \"barpolar\": [{\"marker\": {\"line\": {\"color\": \"#E5ECF6\", \"width\": 0.5}}, \"type\": \"barpolar\"}], \"carpet\": [{\"aaxis\": {\"endlinecolor\": \"#2a3f5f\", \"gridcolor\": \"white\", \"linecolor\": \"white\", \"minorgridcolor\": \"white\", \"startlinecolor\": \"#2a3f5f\"}, \"baxis\": {\"endlinecolor\": \"#2a3f5f\", \"gridcolor\": \"white\", \"linecolor\": \"white\", \"minorgridcolor\": \"white\", \"startlinecolor\": \"#2a3f5f\"}, \"type\": \"carpet\"}], \"choropleth\": [{\"colorbar\": {\"outlinewidth\": 0, \"ticks\": \"\"}, \"type\": \"choropleth\"}], \"contour\": [{\"colorbar\": {\"outlinewidth\": 0, \"ticks\": \"\"}, \"colorscale\": [[0.0, \"#0d0887\"], [0.1111111111111111, \"#46039f\"], [0.2222222222222222, \"#7201a8\"], [0.3333333333333333, \"#9c179e\"], [0.4444444444444444, \"#bd3786\"], [0.5555555555555556, \"#d8576b\"], [0.6666666666666666, \"#ed7953\"], [0.7777777777777778, \"#fb9f3a\"], [0.8888888888888888, \"#fdca26\"], [1.0, \"#f0f921\"]], \"type\": \"contour\"}], \"contourcarpet\": [{\"colorbar\": {\"outlinewidth\": 0, \"ticks\": \"\"}, \"type\": \"contourcarpet\"}], \"heatmap\": [{\"colorbar\": {\"outlinewidth\": 0, \"ticks\": \"\"}, \"colorscale\": [[0.0, \"#0d0887\"], [0.1111111111111111, \"#46039f\"], [0.2222222222222222, \"#7201a8\"], [0.3333333333333333, \"#9c179e\"], [0.4444444444444444, \"#bd3786\"], [0.5555555555555556, \"#d8576b\"], [0.6666666666666666, \"#ed7953\"], [0.7777777777777778, \"#fb9f3a\"], [0.8888888888888888, \"#fdca26\"], [1.0, \"#f0f921\"]], \"type\": \"heatmap\"}], \"heatmapgl\": [{\"colorbar\": {\"outlinewidth\": 0, \"ticks\": \"\"}, \"colorscale\": [[0.0, \"#0d0887\"], [0.1111111111111111, \"#46039f\"], [0.2222222222222222, \"#7201a8\"], [0.3333333333333333, \"#9c179e\"], [0.4444444444444444, \"#bd3786\"], [0.5555555555555556, \"#d8576b\"], [0.6666666666666666, \"#ed7953\"], [0.7777777777777778, \"#fb9f3a\"], [0.8888888888888888, \"#fdca26\"], [1.0, \"#f0f921\"]], \"type\": \"heatmapgl\"}], \"histogram\": [{\"marker\": {\"colorbar\": {\"outlinewidth\": 0, \"ticks\": \"\"}}, \"type\": \"histogram\"}], \"histogram2d\": [{\"colorbar\": {\"outlinewidth\": 0, \"ticks\": \"\"}, \"colorscale\": [[0.0, \"#0d0887\"], [0.1111111111111111, \"#46039f\"], [0.2222222222222222, \"#7201a8\"], [0.3333333333333333, \"#9c179e\"], [0.4444444444444444, \"#bd3786\"], [0.5555555555555556, \"#d8576b\"], [0.6666666666666666, \"#ed7953\"], [0.7777777777777778, \"#fb9f3a\"], [0.8888888888888888, \"#fdca26\"], [1.0, \"#f0f921\"]], \"type\": \"histogram2d\"}], \"histogram2dcontour\": [{\"colorbar\": {\"outlinewidth\": 0, \"ticks\": \"\"}, \"colorscale\": [[0.0, \"#0d0887\"], [0.1111111111111111, \"#46039f\"], [0.2222222222222222, \"#7201a8\"], [0.3333333333333333, \"#9c179e\"], [0.4444444444444444, \"#bd3786\"], [0.5555555555555556, \"#d8576b\"], [0.6666666666666666, \"#ed7953\"], [0.7777777777777778, \"#fb9f3a\"], [0.8888888888888888, \"#fdca26\"], [1.0, \"#f0f921\"]], \"type\": \"histogram2dcontour\"}], \"mesh3d\": [{\"colorbar\": {\"outlinewidth\": 0, \"ticks\": \"\"}, \"type\": \"mesh3d\"}], \"parcoords\": [{\"line\": {\"colorbar\": {\"outlinewidth\": 0, \"ticks\": \"\"}}, \"type\": \"parcoords\"}], \"pie\": [{\"automargin\": true, \"type\": \"pie\"}], \"scatter\": [{\"marker\": {\"colorbar\": {\"outlinewidth\": 0, \"ticks\": \"\"}}, \"type\": \"scatter\"}], \"scatter3d\": [{\"line\": {\"colorbar\": {\"outlinewidth\": 0, \"ticks\": \"\"}}, \"marker\": {\"colorbar\": {\"outlinewidth\": 0, \"ticks\": \"\"}}, \"type\": \"scatter3d\"}], \"scattercarpet\": [{\"marker\": {\"colorbar\": {\"outlinewidth\": 0, \"ticks\": \"\"}}, \"type\": \"scattercarpet\"}], \"scattergeo\": [{\"marker\": {\"colorbar\": {\"outlinewidth\": 0, \"ticks\": \"\"}}, \"type\": \"scattergeo\"}], \"scattergl\": [{\"marker\": {\"colorbar\": {\"outlinewidth\": 0, \"ticks\": \"\"}}, \"type\": \"scattergl\"}], \"scattermapbox\": [{\"marker\": {\"colorbar\": {\"outlinewidth\": 0, \"ticks\": \"\"}}, \"type\": \"scattermapbox\"}], \"scatterpolar\": [{\"marker\": {\"colorbar\": {\"outlinewidth\": 0, \"ticks\": \"\"}}, \"type\": \"scatterpolar\"}], \"scatterpolargl\": [{\"marker\": {\"colorbar\": {\"outlinewidth\": 0, \"ticks\": \"\"}}, \"type\": \"scatterpolargl\"}], \"scatterternary\": [{\"marker\": {\"colorbar\": {\"outlinewidth\": 0, \"ticks\": \"\"}}, \"type\": \"scatterternary\"}], \"surface\": [{\"colorbar\": {\"outlinewidth\": 0, \"ticks\": \"\"}, \"colorscale\": [[0.0, \"#0d0887\"], [0.1111111111111111, \"#46039f\"], [0.2222222222222222, \"#7201a8\"], [0.3333333333333333, \"#9c179e\"], [0.4444444444444444, \"#bd3786\"], [0.5555555555555556, \"#d8576b\"], [0.6666666666666666, \"#ed7953\"], [0.7777777777777778, \"#fb9f3a\"], [0.8888888888888888, \"#fdca26\"], [1.0, \"#f0f921\"]], \"type\": \"surface\"}], \"table\": [{\"cells\": {\"fill\": {\"color\": \"#EBF0F8\"}, \"line\": {\"color\": \"white\"}}, \"header\": {\"fill\": {\"color\": \"#C8D4E3\"}, \"line\": {\"color\": \"white\"}}, \"type\": \"table\"}]}, \"layout\": {\"annotationdefaults\": {\"arrowcolor\": \"#2a3f5f\", \"arrowhead\": 0, \"arrowwidth\": 1}, \"coloraxis\": {\"colorbar\": {\"outlinewidth\": 0, \"ticks\": \"\"}}, \"colorscale\": {\"diverging\": [[0, \"#8e0152\"], [0.1, \"#c51b7d\"], [0.2, \"#de77ae\"], [0.3, \"#f1b6da\"], [0.4, \"#fde0ef\"], [0.5, \"#f7f7f7\"], [0.6, \"#e6f5d0\"], [0.7, \"#b8e186\"], [0.8, \"#7fbc41\"], [0.9, \"#4d9221\"], [1, \"#276419\"]], \"sequential\": [[0.0, \"#0d0887\"], [0.1111111111111111, \"#46039f\"], [0.2222222222222222, \"#7201a8\"], [0.3333333333333333, \"#9c179e\"], [0.4444444444444444, \"#bd3786\"], [0.5555555555555556, \"#d8576b\"], [0.6666666666666666, \"#ed7953\"], [0.7777777777777778, \"#fb9f3a\"], [0.8888888888888888, \"#fdca26\"], [1.0, \"#f0f921\"]], \"sequentialminus\": [[0.0, \"#0d0887\"], [0.1111111111111111, \"#46039f\"], [0.2222222222222222, \"#7201a8\"], [0.3333333333333333, \"#9c179e\"], [0.4444444444444444, \"#bd3786\"], [0.5555555555555556, \"#d8576b\"], [0.6666666666666666, \"#ed7953\"], [0.7777777777777778, \"#fb9f3a\"], [0.8888888888888888, \"#fdca26\"], [1.0, \"#f0f921\"]]}, \"colorway\": [\"#636efa\", \"#EF553B\", \"#00cc96\", \"#ab63fa\", \"#FFA15A\", \"#19d3f3\", \"#FF6692\", \"#B6E880\", \"#FF97FF\", \"#FECB52\"], \"font\": {\"color\": \"#2a3f5f\"}, \"geo\": {\"bgcolor\": \"white\", \"lakecolor\": \"white\", \"landcolor\": \"#E5ECF6\", \"showlakes\": true, \"showland\": true, \"subunitcolor\": \"white\"}, \"hoverlabel\": {\"align\": \"left\"}, \"hovermode\": \"closest\", \"mapbox\": {\"style\": \"light\"}, \"paper_bgcolor\": \"white\", \"plot_bgcolor\": \"#E5ECF6\", \"polar\": {\"angularaxis\": {\"gridcolor\": \"white\", \"linecolor\": \"white\", \"ticks\": \"\"}, \"bgcolor\": \"#E5ECF6\", \"radialaxis\": {\"gridcolor\": \"white\", \"linecolor\": \"white\", \"ticks\": \"\"}}, \"scene\": {\"xaxis\": {\"backgroundcolor\": \"#E5ECF6\", \"gridcolor\": \"white\", \"gridwidth\": 2, \"linecolor\": \"white\", \"showbackground\": true, \"ticks\": \"\", \"zerolinecolor\": \"white\"}, \"yaxis\": {\"backgroundcolor\": \"#E5ECF6\", \"gridcolor\": \"white\", \"gridwidth\": 2, \"linecolor\": \"white\", \"showbackground\": true, \"ticks\": \"\", \"zerolinecolor\": \"white\"}, \"zaxis\": {\"backgroundcolor\": \"#E5ECF6\", \"gridcolor\": \"white\", \"gridwidth\": 2, \"linecolor\": \"white\", \"showbackground\": true, \"ticks\": \"\", \"zerolinecolor\": \"white\"}}, \"shapedefaults\": {\"line\": {\"color\": \"#2a3f5f\"}}, \"ternary\": {\"aaxis\": {\"gridcolor\": \"white\", \"linecolor\": \"white\", \"ticks\": \"\"}, \"baxis\": {\"gridcolor\": \"white\", \"linecolor\": \"white\", \"ticks\": \"\"}, \"bgcolor\": \"#E5ECF6\", \"caxis\": {\"gridcolor\": \"white\", \"linecolor\": \"white\", \"ticks\": \"\"}}, \"title\": {\"x\": 0.05}, \"xaxis\": {\"automargin\": true, \"gridcolor\": \"white\", \"linecolor\": \"white\", \"ticks\": \"\", \"title\": {\"standoff\": 15}, \"zerolinecolor\": \"white\", \"zerolinewidth\": 2}, \"yaxis\": {\"automargin\": true, \"gridcolor\": \"white\", \"linecolor\": \"white\", \"ticks\": \"\", \"title\": {\"standoff\": 15}, \"zerolinecolor\": \"white\", \"zerolinewidth\": 2}}}, \"title\": {\"text\": \"PaymentMethod distribution in customer attrition \"}},\n",
              "                        {\"responsive\": true}\n",
              "                    ).then(function(){\n",
              "                            \n",
              "var gd = document.getElementById('39f67c35-1862-4c5f-ae20-79895da76906');\n",
              "var x = new MutationObserver(function (mutations, observer) {{\n",
              "        var display = window.getComputedStyle(gd).display;\n",
              "        if (!display || display === 'none') {{\n",
              "            console.log([gd, 'removed!']);\n",
              "            Plotly.purge(gd);\n",
              "            observer.disconnect();\n",
              "        }}\n",
              "}});\n",
              "\n",
              "// Listen for the removal of the full notebook cells\n",
              "var notebookContainer = gd.closest('#notebook-container');\n",
              "if (notebookContainer) {{\n",
              "    x.observe(notebookContainer, {childList: true});\n",
              "}}\n",
              "\n",
              "// Listen for the clearing of the current output cell\n",
              "var outputEl = gd.closest('.output');\n",
              "if (outputEl) {{\n",
              "    x.observe(outputEl, {childList: true});\n",
              "}}\n",
              "\n",
              "                        })\n",
              "                };\n",
              "                \n",
              "            </script>\n",
              "        </div>\n",
              "</body>\n",
              "</html>"
            ]
          },
          "metadata": {
            "tags": []
          }
        }
      ]
    },
    {
      "cell_type": "code",
      "metadata": {
        "id": "G0wZjCTU6D-H",
        "colab_type": "code",
        "colab": {
          "base_uri": "https://localhost:8080/",
          "height": 1000
        },
        "outputId": "f4b691fe-0f5f-43a3-fe6f-42d14e63783d"
      },
      "source": [
        "# Function for histogram on data variables with customer churn\n",
        "def histogram(column) :\n",
        "    trace1 = go.Histogram(x  = cust_churn[column],\n",
        "                          histnorm= \"percent\",\n",
        "                          name = \"Churn Customers\",\n",
        "                          marker = dict(line = dict(width = .5,\n",
        "                                                    color = \"black\"\n",
        "                                                    )\n",
        "                                        ),\n",
        "                         opacity = .9 \n",
        "                         ) \n",
        "    \n",
        "    trace2 = go.Histogram(x  = cust_not_churn[column],\n",
        "                          histnorm = \"percent\",\n",
        "                          name = \"Non churn customers\",\n",
        "                          marker = dict(line = dict(width = .5,\n",
        "                                              color = \"black\"\n",
        "                                             )\n",
        "                                 ),\n",
        "                          opacity = .9\n",
        "                         )\n",
        "    \n",
        "    data = [trace1,trace2]\n",
        "    layout = go.Layout(dict(title =column + \" distribution in customer attrition \",\n",
        "                            plot_bgcolor  = \"rgb(243,243,243)\",\n",
        "                            paper_bgcolor = \"rgb(243,243,243)\",\n",
        "                            xaxis = dict(gridcolor = 'rgb(255, 255, 255)',\n",
        "                                             title = column,\n",
        "                                             zerolinewidth=1,\n",
        "                                             ticklen=5,\n",
        "                                             gridwidth=2\n",
        "                                            ),\n",
        "                            yaxis = dict(gridcolor = 'rgb(255, 255, 255)',\n",
        "                                             title = \"percent\",\n",
        "                                             zerolinewidth=1,\n",
        "                                             ticklen=5,\n",
        "                                             gridwidth=2\n",
        "                                            ),\n",
        "                           )\n",
        "                      )\n",
        "    fig  = go.Figure(data=data,layout=layout)\n",
        "    \n",
        "    py.iplot(fig)\n",
        "\n",
        "# To run histogram functions for all numerical columns  \n",
        "for i in num_cols :\n",
        "    histogram(i)"
      ],
      "execution_count": null,
      "outputs": [
        {
          "output_type": "display_data",
          "data": {
            "text/html": [
              "<html>\n",
              "<head><meta charset=\"utf-8\" /></head>\n",
              "<body>\n",
              "    <div>\n",
              "            <script src=\"https://cdnjs.cloudflare.com/ajax/libs/mathjax/2.7.5/MathJax.js?config=TeX-AMS-MML_SVG\"></script><script type=\"text/javascript\">if (window.MathJax) {MathJax.Hub.Config({SVG: {font: \"STIX-Web\"}});}</script>\n",
              "                <script type=\"text/javascript\">window.PlotlyConfig = {MathJaxConfig: 'local'};</script>\n",
              "        <script src=\"https://cdn.plot.ly/plotly-latest.min.js\"></script>    \n",
              "            <div id=\"c58e2b68-3beb-4f32-b127-64cec2b7c805\" class=\"plotly-graph-div\" style=\"height:525px; width:100%;\"></div>\n",
              "            <script type=\"text/javascript\">\n",
              "                \n",
              "                    window.PLOTLYENV=window.PLOTLYENV || {};\n",
              "                    \n",
              "                if (document.getElementById(\"c58e2b68-3beb-4f32-b127-64cec2b7c805\")) {\n",
              "                    Plotly.newPlot(\n",
              "                        'c58e2b68-3beb-4f32-b127-64cec2b7c805',\n",
              "                        [{\"histnorm\": \"percent\", \"marker\": {\"line\": {\"color\": \"black\", \"width\": 0.5}}, \"name\": \"Churn Customers\", \"opacity\": 0.9, \"type\": \"histogram\", \"x\": [53, 29, 36, 11, 1, 3, 17, 41, 2, 13, 42, 14, 27, 10, 1, 42, 9, 1, 1, 16, 1, 51, 4, 1, 12, 2, 44, 30, 57, 3, 10, 18, 2, 3, 8, 69, 22, 66, 35, 14, 2, 43, 13, 1, 22, 1, 72, 18, 11, 2, 61, 7, 7, 4, 5, 1, 13, 38, 32, 38, 29, 11, 10, 13, 1, 19, 8, 5, 6, 1, 4, 4, 32, 1, 43, 4, 1, 3, 5, 15, 67, 2, 1, 3, 64, 4, 18, 1, 22, 1, 31, 14, 37, 6, 19, 2, 2, 1, 17, 7, 1, 59, 1, 1, 1, 1, 13, 1, 11, 3, 3, 9, 9, 20, 49, 12, 1, 23, 2, 8, 16, 1, 1, 1, 1, 41, 3, 58, 1, 3, 11, 15, 10, 1, 4, 3, 1, 49, 2, 1, 12, 5, 7, 38, 2, 1, 53, 1, 17, 29, 3, 8, 20, 42, 6, 21, 4, 1, 4, 9, 48, 3, 35, 5, 2, 45, 17, 39, 54, 29, 22, 16, 12, 53, 1, 4, 33, 13, 7, 1, 1, 1, 2, 5, 39, 3, 58, 1, 1, 10, 4, 1, 18, 1, 9, 8, 27, 4, 2, 9, 25, 57, 2, 36, 57, 2, 5, 5, 2, 1, 3, 12, 1, 5, 1, 54, 45, 1, 2, 35, 1, 15, 1, 2, 65, 1, 1, 71, 22, 16, 1, 1, 10, 1, 61, 11, 1, 72, 16, 1, 68, 38, 1, 9, 1, 5, 1, 8, 18, 8, 47, 39, 24, 68, 27, 1, 71, 30, 16, 35, 1, 8, 10, 70, 40, 5, 5, 2, 2, 4, 23, 9, 1, 7, 56, 16, 3, 11, 1, 16, 50, 24, 1, 1, 4, 53, 1, 4, 5, 29, 1, 54, 27, 31, 5, 2, 6, 44, 12, 39, 11, 2, 65, 3, 22, 1, 6, 1, 34, 1, 1, 4, 5, 32, 5, 54, 46, 17, 5, 8, 58, 28, 10, 7, 1, 43, 2, 2, 9, 26, 2, 1, 1, 32, 8, 37, 1, 56, 1, 2, 1, 6, 1, 2, 9, 4, 15, 9, 13, 57, 24, 3, 69, 33, 50, 2, 5, 72, 22, 1, 7, 8, 1, 12, 36, 2, 1, 4, 1, 10, 11, 36, 16, 12, 7, 26, 2, 3, 1, 1, 6, 1, 28, 1, 47, 44, 41, 12, 44, 1, 31, 1, 27, 4, 4, 7, 3, 42, 65, 7, 25, 1, 32, 17, 32, 1, 15, 49, 6, 10, 11, 58, 25, 13, 1, 7, 10, 17, 2, 1, 48, 15, 52, 46, 3, 4, 6, 3, 1, 3, 4, 65, 2, 22, 7, 49, 42, 2, 1, 49, 1, 55, 8, 72, 3, 68, 9, 2, 56, 4, 27, 2, 37, 16, 66, 1, 15, 18, 22, 7, 8, 2, 25, 4, 22, 20, 25, 47, 8, 29, 10, 1, 4, 56, 16, 25, 3, 9, 1, 20, 1, 33, 5, 1, 1, 25, 6, 30, 1, 11, 22, 1, 34, 52, 3, 11, 7, 1, 21, 14, 13, 1, 21, 1, 6, 7, 58, 49, 2, 1, 1, 1, 12, 64, 55, 25, 2, 50, 41, 3, 25, 3, 1, 5, 8, 38, 3, 1, 40, 15, 44, 28, 24, 2, 20, 1, 34, 5, 1, 1, 35, 6, 10, 10, 1, 1, 49, 8, 42, 18, 9, 17, 22, 12, 6, 10, 13, 1, 70, 5, 10, 8, 10, 1, 29, 24, 1, 37, 13, 54, 2, 5, 3, 20, 26, 1, 38, 25, 3, 2, 42, 43, 7, 25, 1, 2, 1, 1, 15, 3, 12, 12, 20, 19, 5, 13, 25, 1, 1, 39, 56, 16, 1, 1, 11, 26, 1, 22, 70, 23, 9, 24, 11, 24, 1, 70, 12, 4, 1, 18, 61, 4, 28, 32, 10, 16, 2, 1, 10, 2, 1, 42, 14, 17, 29, 1, 37, 3, 52, 15, 4, 15, 31, 30, 3, 1, 43, 1, 2, 2, 2, 1, 3, 9, 51, 12, 26, 27, 50, 17, 50, 11, 48, 16, 1, 38, 12, 2, 4, 1, 39, 1, 29, 55, 28, 6, 61, 1, 19, 12, 13, 42, 7, 3, 7, 20, 4, 41, 2, 5, 10, 1, 10, 1, 12, 48, 2, 2, 1, 11, 8, 15, 18, 5, 8, 33, 7, 1, 1, 26, 53, 1, 1, 13, 3, 29, 5, 40, 46, 25, 51, 53, 4, 15, 52, 9, 17, 16, 1, 30, 15, 42, 1, 1, 17, 7, 15, 70, 14, 10, 1, 22, 9, 4, 47, 12, 43, 9, 3, 15, 4, 54, 69, 16, 48, 1, 50, 53, 2, 14, 66, 2, 2, 1, 22, 4, 36, 27, 5, 38, 6, 7, 9, 7, 11, 47, 34, 7, 54, 12, 60, 1, 5, 35, 1, 12, 5, 19, 31, 13, 1, 26, 2, 20, 48, 50, 66, 4, 41, 51, 46, 59, 5, 31, 21, 1, 15, 1, 15, 9, 18, 15, 1, 47, 6, 49, 4, 4, 7, 1, 22, 19, 1, 7, 1, 12, 41, 3, 60, 29, 4, 24, 8, 2, 1, 8, 5, 32, 4, 1, 3, 7, 1, 5, 1, 54, 46, 7, 2, 58, 1, 18, 6, 13, 68, 1, 10, 9, 1, 1, 16, 1, 6, 10, 2, 28, 4, 70, 39, 34, 11, 1, 3, 3, 47, 20, 4, 17, 1, 28, 21, 23, 2, 5, 18, 1, 46, 7, 3, 53, 2, 11, 6, 4, 17, 1, 12, 27, 17, 55, 10, 41, 1, 19, 4, 11, 62, 30, 1, 17, 1, 7, 69, 6, 58, 32, 10, 6, 1, 18, 1, 16, 4, 12, 1, 57, 18, 23, 69, 21, 32, 6, 19, 20, 32, 17, 15, 10, 13, 13, 8, 15, 19, 1, 43, 6, 1, 5, 1, 70, 3, 8, 47, 9, 21, 9, 18, 22, 12, 1, 16, 1, 5, 3, 1, 38, 4, 51, 39, 67, 12, 7, 4, 2, 5, 41, 39, 2, 20, 1, 37, 49, 24, 3, 3, 1, 2, 31, 21, 1, 6, 9, 4, 70, 1, 3, 1, 68, 59, 1, 11, 3, 63, 4, 14, 1, 12, 9, 21, 13, 22, 2, 3, 3, 1, 1, 19, 13, 28, 3, 3, 7, 8, 20, 47, 21, 4, 2, 19, 30, 10, 9, 37, 1, 1, 24, 4, 26, 14, 2, 47, 1, 15, 9, 34, 10, 1, 10, 1, 1, 33, 7, 1, 23, 64, 47, 18, 25, 7, 10, 4, 5, 56, 1, 18, 4, 3, 55, 1, 52, 58, 17, 21, 15, 1, 7, 52, 4, 35, 37, 22, 1, 6, 20, 4, 1, 1, 58, 63, 8, 5, 36, 12, 2, 1, 1, 5, 9, 32, 31, 6, 1, 15, 68, 66, 43, 9, 6, 2, 1, 53, 33, 65, 48, 9, 1, 13, 1, 2, 1, 10, 2, 43, 4, 16, 4, 25, 6, 25, 22, 6, 40, 1, 5, 71, 13, 3, 36, 10, 70, 1, 11, 2, 2, 1, 66, 1, 1, 3, 19, 1, 55, 2, 7, 42, 36, 24, 1, 1, 16, 5, 66, 37, 3, 14, 13, 33, 1, 61, 14, 1, 1, 18, 13, 5, 51, 11, 1, 53, 14, 1, 18, 32, 32, 39, 3, 3, 1, 4, 7, 1, 47, 7, 1, 3, 1, 2, 1, 1, 53, 1, 1, 30, 4, 5, 5, 1, 2, 1, 1, 2, 29, 9, 37, 62, 4, 12, 56, 1, 1, 71, 5, 3, 2, 5, 25, 8, 18, 4, 42, 31, 1, 2, 15, 5, 2, 4, 30, 2, 1, 4, 66, 1, 17, 10, 3, 28, 19, 43, 49, 15, 38, 9, 12, 8, 13, 72, 33, 1, 36, 8, 62, 14, 2, 57, 1, 3, 6, 15, 2, 33, 25, 47, 1, 65, 30, 60, 1, 1, 16, 1, 21, 32, 2, 65, 13, 51, 30, 14, 25, 32, 1, 14, 24, 35, 8, 1, 23, 1, 3, 1, 13, 71, 2, 24, 4, 17, 58, 3, 11, 67, 22, 5, 18, 24, 50, 46, 1, 1, 20, 1, 9, 2, 6, 56, 71, 2, 39, 34, 2, 10, 2, 59, 35, 4, 1, 3, 19, 30, 67, 1, 11, 60, 66, 3, 40, 2, 41, 3, 40, 70, 5, 9, 53, 1, 1, 1, 24, 10, 1, 28, 30, 15, 2, 1, 2, 1, 24, 3, 8, 1, 12, 41, 3, 54, 1, 34, 4, 14, 2, 12, 41, 12, 1, 4, 9, 32, 16, 31, 6, 46, 31, 23, 1, 4, 1, 1, 2, 2, 12, 56, 40, 1, 1, 54, 34, 1, 54, 2, 14, 3, 22, 9, 26, 6, 26, 2, 1, 15, 8, 53, 1, 40, 40, 1, 37, 30, 5, 8, 1, 22, 4, 2, 4, 13, 9, 31, 7, 32, 62, 7, 21, 2, 1, 3, 1, 3, 28, 6, 9, 40, 46, 1, 1, 1, 40, 6, 69, 1, 1, 1, 1, 50, 2, 1, 21, 1, 21, 19, 4, 51, 56, 2, 6, 66]}, {\"histnorm\": \"percent\", \"marker\": {\"line\": {\"color\": \"black\", \"width\": 0.5}}, \"name\": \"Non churn customers\", \"opacity\": 0.9, \"type\": \"histogram\", \"x\": [3, 4, 72, 37, 72, 71, 35, 34, 10, 61, 66, 40, 22, 12, 52, 18, 67, 12, 34, 46, 48, 69, 40, 7, 22, 48, 3, 1, 55, 70, 2, 69, 37, 34, 7, 45, 39, 5, 35, 67, 22, 15, 21, 9, 1, 9, 58, 8, 56, 32, 54, 2, 7, 71, 71, 35, 56, 56, 24, 70, 71, 7, 64, 51, 63, 19, 24, 15, 1, 68, 56, 26, 30, 8, 72, 63, 48, 1, 1, 71, 65, 12, 42, 72, 41, 56, 53, 44, 26, 52, 3, 29, 48, 3, 11, 46, 32, 41, 31, 55, 63, 17, 71, 1, 58, 34, 8, 44, 16, 37, 10, 58, 72, 42, 72, 66, 70, 62, 14, 58, 12, 6, 45, 11, 35, 5, 42, 17, 72, 68, 56, 61, 20, 56, 63, 12, 46, 15, 63, 66, 31, 46, 44, 68, 70, 20, 15, 2, 30, 28, 59, 38, 66, 3, 23, 22, 16, 38, 71, 23, 22, 35, 51, 38, 1, 26, 31, 9, 56, 43, 20, 1, 70, 68, 24, 37, 47, 36, 19, 46, 38, 35, 26, 36, 64, 66, 35, 66, 72, 65, 19, 67, 71, 70, 41, 63, 35, 67, 13, 24, 34, 68, 65, 20, 66, 24, 18, 50, 53, 54, 71, 54, 8, 4, 26, 4, 29, 4, 36, 62, 9, 1, 68, 71, 4, 22, 54, 72, 45, 25, 72, 35, 23, 28, 14, 1, 62, 62, 30, 1, 31, 60, 38, 64, 72, 29, 67, 11, 56, 30, 11, 38, 20, 52, 68, 7, 4, 61, 18, 50, 4, 55, 46, 72, 22, 6, 11, 24, 8, 2, 53, 20, 5, 72, 4, 27, 1, 53, 15, 63, 35, 72, 38, 38, 6, 60, 43, 63, 11, 24, 21, 16, 65, 24, 62, 5, 64, 9, 72, 66, 10, 28, 25, 7, 66, 42, 1, 67, 67, 3, 54, 19, 7, 16, 14, 1, 22, 11, 37, 1, 13, 46, 72, 31, 65, 63, 26, 7, 23, 53, 5, 60, 70, 13, 22, 4, 1, 7, 8, 6, 71, 4, 16, 55, 72, 37, 53, 31, 65, 51, 27, 25, 47, 71, 53, 58, 7, 5, 64, 55, 34, 31, 24, 28, 60, 22, 48, 60, 22, 30, 1, 2, 67, 1, 65, 14, 3, 70, 19, 47, 68, 53, 1, 70, 42, 70, 71, 7, 40, 12, 21, 31, 59, 66, 72, 32, 67, 45, 14, 72, 65, 47, 31, 35, 52, 49, 32, 32, 15, 7, 21, 51, 17, 72, 14, 70, 3, 72, 67, 32, 18, 11, 8, 32, 29, 39, 71, 37, 27, 32, 72, 60, 11, 72, 22, 70, 2, 44, 21, 67, 2, 72, 46, 46, 61, 10, 26, 27, 33, 68, 39, 37, 5, 50, 72, 70, 23, 2, 2, 66, 39, 42, 54, 1, 1, 49, 57, 57, 21, 72, 17, 64, 37, 36, 5, 14, 2, 72, 23, 60, 61, 67, 64, 57, 24, 50, 33, 13, 60, 46, 72, 38, 9, 69, 5, 3, 71, 18, 12, 55, 1, 61, 20, 72, 47, 72, 70, 72, 14, 10, 63, 70, 69, 1, 71, 33, 40, 9, 4, 31, 2, 50, 67, 41, 42, 56, 51, 45, 72, 1, 71, 51, 44, 34, 24, 11, 32, 2, 13, 72, 13, 8, 64, 45, 35, 52, 6, 4, 60, 17, 28, 48, 72, 2, 44, 69, 72, 58, 1, 70, 72, 25, 63, 72, 24, 22, 58, 24, 5, 61, 45, 46, 38, 29, 43, 35, 12, 58, 65, 27, 28, 1, 65, 51, 9, 41, 72, 72, 72, 9, 1, 49, 67, 41, 14, 24, 68, 57, 72, 45, 20, 34, 60, 67, 70, 63, 70, 72, 6, 58, 68, 28, 71, 72, 71, 26, 36, 55, 1, 35, 25, 49, 15, 9, 35, 65, 42, 9, 1, 70, 59, 61, 25, 72, 30, 49, 28, 29, 60, 20, 14, 25, 66, 23, 38, 9, 69, 59, 23, 53, 72, 71, 12, 66, 71, 21, 6, 70, 15, 61, 15, 1, 67, 10, 2, 44, 40, 3, 67, 12, 62, 24, 71, 8, 23, 66, 8, 51, 26, 41, 51, 69, 34, 19, 26, 69, 42, 50, 28, 45, 62, 9, 21, 66, 61, 50, 36, 71, 5, 1, 41, 49, 36, 42, 1, 50, 41, 47, 55, 3, 6, 10, 37, 46, 72, 60, 35, 56, 69, 72, 61, 31, 40, 3, 45, 1, 26, 35, 11, 44, 1, 62, 52, 52, 20, 6, 49, 72, 52, 36, 61, 62, 1, 12, 14, 72, 6, 23, 65, 8, 19, 22, 7, 61, 72, 15, 46, 19, 65, 25, 53, 38, 48, 68, 14, 34, 13, 12, 7, 1, 24, 45, 7, 16, 7, 72, 66, 11, 13, 56, 1, 72, 38, 70, 46, 8, 18, 27, 71, 3, 72, 50, 1, 44, 20, 32, 2, 36, 51, 10, 31, 32, 72, 31, 69, 28, 26, 33, 58, 72, 64, 22, 65, 72, 1, 31, 45, 72, 40, 64, 23, 59, 59, 37, 21, 49, 72, 40, 72, 4, 71, 30, 71, 24, 27, 43, 1, 68, 7, 68, 37, 66, 50, 2, 40, 47, 44, 13, 70, 9, 58, 65, 51, 67, 40, 27, 60, 40, 57, 34, 12, 35, 1, 23, 28, 1, 12, 35, 11, 72, 1, 37, 36, 21, 14, 64, 8, 55, 72, 11, 20, 34, 7, 2, 72, 2, 22, 26, 7, 9, 27, 4, 13, 72, 69, 44, 15, 52, 1, 72, 69, 47, 56, 63, 28, 34, 34, 4, 59, 70, 72, 20, 59, 49, 62, 1, 70, 61, 42, 9, 3, 26, 53, 71, 17, 25, 71, 34, 42, 36, 6, 30, 45, 51, 72, 68, 72, 25, 71, 37, 1, 29, 24, 50, 24, 66, 40, 51, 1, 48, 21, 29, 19, 15, 3, 24, 42, 4, 39, 69, 35, 54, 72, 26, 44, 69, 4, 50, 30, 5, 9, 1, 72, 38, 9, 2, 11, 33, 71, 68, 42, 10, 72, 12, 26, 72, 3, 71, 49, 19, 15, 72, 50, 20, 12, 68, 27, 55, 4, 20, 45, 64, 71, 17, 61, 71, 18, 35, 56, 72, 29, 7, 26, 32, 35, 3, 63, 3, 57, 4, 3, 58, 72, 37, 53, 69, 16, 47, 10, 43, 62, 72, 14, 50, 27, 50, 60, 68, 57, 48, 72, 57, 70, 49, 6, 1, 61, 59, 17, 71, 68, 10, 70, 3, 35, 30, 55, 10, 2, 5, 24, 70, 11, 34, 15, 20, 72, 9, 44, 61, 48, 44, 46, 60, 32, 19, 48, 72, 65, 72, 33, 12, 70, 44, 52, 4, 55, 67, 52, 30, 28, 1, 1, 61, 24, 62, 63, 42, 44, 70, 72, 39, 1, 29, 72, 13, 53, 46, 10, 39, 1, 27, 4, 48, 43, 66, 11, 15, 45, 71, 2, 70, 22, 28, 62, 37, 61, 12, 70, 52, 54, 36, 12, 51, 71, 10, 30, 52, 28, 72, 12, 69, 8, 52, 15, 25, 61, 41, 72, 35, 17, 45, 63, 62, 58, 66, 72, 56, 41, 61, 8, 55, 55, 2, 72, 28, 19, 6, 56, 1, 10, 34, 11, 20, 61, 22, 63, 35, 56, 61, 54, 15, 51, 68, 33, 64, 58, 11, 57, 3, 59, 24, 63, 50, 41, 18, 72, 10, 50, 13, 72, 55, 10, 57, 71, 33, 18, 11, 60, 39, 22, 23, 44, 20, 6, 1, 41, 5, 13, 48, 4, 17, 1, 20, 50, 41, 68, 33, 21, 67, 66, 7, 8, 71, 51, 26, 72, 57, 35, 14, 3, 71, 6, 59, 32, 72, 23, 72, 68, 66, 55, 44, 59, 18, 21, 9, 64, 1, 56, 28, 27, 39, 1, 24, 46, 72, 13, 72, 2, 68, 41, 50, 11, 72, 45, 51, 71, 20, 72, 11, 14, 5, 25, 10, 34, 16, 55, 13, 43, 65, 63, 18, 2, 1, 52, 9, 33, 49, 34, 62, 62, 39, 72, 10, 8, 62, 17, 3, 40, 69, 39, 36, 20, 33, 26, 55, 10, 61, 16, 2, 32, 69, 41, 71, 51, 50, 52, 55, 60, 27, 65, 71, 21, 3, 33, 33, 34, 14, 70, 72, 28, 57, 67, 45, 72, 1, 71, 58, 62, 6, 55, 6, 3, 29, 10, 72, 46, 9, 16, 11, 45, 65, 34, 23, 7, 45, 59, 71, 48, 56, 67, 11, 60, 22, 66, 34, 64, 18, 72, 52, 15, 72, 58, 25, 20, 2, 20, 48, 27, 44, 72, 59, 67, 51, 48, 19, 64, 31, 70, 72, 40, 47, 72, 70, 2, 1, 4, 24, 25, 29, 68, 30, 61, 56, 27, 69, 72, 5, 56, 52, 20, 26, 10, 46, 54, 52, 41, 1, 1, 25, 72, 59, 23, 51, 8, 58, 65, 41, 1, 63, 72, 67, 6, 57, 2, 39, 71, 2, 18, 26, 3, 1, 59, 52, 2, 63, 72, 71, 62, 31, 31, 4, 72, 59, 47, 72, 56, 7, 37, 71, 20, 65, 25, 1, 39, 55, 10, 22, 20, 41, 69, 67, 19, 26, 26, 32, 48, 40, 2, 8, 3, 57, 64, 9, 34, 72, 9, 52, 55, 49, 12, 67, 48, 56, 57, 3, 1, 2, 71, 5, 63, 46, 47, 46, 69, 32, 25, 62, 6, 55, 50, 33, 57, 52, 7, 31, 11, 9, 33, 60, 53, 45, 34, 5, 25, 11, 72, 46, 25, 4, 34, 34, 48, 51, 11, 54, 41, 2, 54, 12, 1, 62, 1, 72, 17, 13, 23, 28, 68, 34, 55, 25, 70, 16, 37, 49, 66, 24, 71, 27, 10, 17, 32, 4, 3, 14, 62, 27, 38, 33, 40, 1, 8, 72, 46, 2, 61, 41, 38, 9, 34, 71, 72, 41, 6, 54, 34, 1, 69, 65, 4, 15, 3, 23, 3, 67, 1, 12, 9, 72, 3, 12, 14, 31, 23, 13, 2, 67, 9, 62, 5, 57, 14, 72, 26, 59, 44, 68, 11, 50, 31, 68, 72, 12, 1, 69, 55, 51, 26, 44, 51, 69, 6, 1, 23, 20, 15, 1, 28, 68, 72, 52, 43, 17, 20, 66, 68, 8, 64, 68, 47, 22, 21, 72, 10, 16, 70, 49, 55, 20, 20, 33, 69, 46, 48, 53, 69, 63, 42, 15, 17, 72, 64, 39, 12, 44, 56, 22, 16, 23, 72, 71, 59, 1, 5, 62, 39, 72, 30, 59, 30, 34, 29, 8, 57, 70, 42, 15, 46, 29, 71, 45, 69, 48, 12, 1, 41, 61, 72, 48, 70, 24, 67, 72, 58, 20, 44, 52, 6, 17, 72, 54, 33, 1, 33, 2, 68, 49, 70, 60, 72, 31, 23, 3, 5, 72, 26, 13, 72, 21, 66, 70, 40, 64, 3, 58, 27, 70, 69, 70, 13, 8, 72, 7, 12, 67, 13, 72, 59, 69, 6, 21, 53, 14, 36, 61, 4, 49, 72, 70, 54, 54, 56, 10, 72, 10, 60, 1, 30, 12, 11, 39, 11, 32, 51, 48, 72, 69, 66, 59, 19, 44, 41, 50, 12, 39, 36, 65, 12, 72, 19, 23, 41, 61, 45, 11, 48, 9, 18, 9, 15, 54, 17, 60, 63, 66, 29, 51, 51, 1, 58, 2, 26, 9, 2, 70, 72, 17, 54, 24, 68, 54, 14, 3, 9, 11, 46, 63, 58, 9, 25, 35, 1, 49, 43, 7, 29, 21, 7, 35, 40, 56, 66, 63, 18, 49, 9, 5, 71, 27, 70, 47, 47, 56, 24, 70, 2, 72, 1, 72, 35, 70, 21, 33, 50, 3, 10, 52, 52, 65, 3, 12, 56, 70, 28, 71, 72, 21, 59, 1, 38, 1, 5, 25, 11, 57, 39, 72, 18, 3, 66, 17, 64, 44, 9, 69, 66, 57, 5, 3, 10, 13, 7, 59, 60, 48, 8, 35, 45, 72, 47, 12, 60, 10, 55, 68, 1, 30, 14, 4, 67, 43, 1, 17, 7, 50, 6, 6, 55, 47, 6, 44, 72, 22, 68, 68, 58, 40, 11, 4, 72, 72, 18, 72, 14, 34, 11, 20, 1, 19, 47, 48, 69, 50, 56, 58, 56, 1, 29, 37, 61, 17, 72, 22, 46, 71, 28, 64, 63, 56, 69, 25, 16, 6, 36, 64, 72, 5, 36, 19, 58, 40, 72, 72, 18, 23, 29, 65, 62, 17, 25, 72, 72, 14, 7, 64, 4, 72, 29, 47, 25, 45, 3, 52, 72, 59, 35, 10, 64, 45, 23, 40, 39, 72, 30, 45, 3, 53, 72, 71, 51, 13, 22, 44, 51, 68, 23, 27, 47, 53, 71, 46, 17, 37, 65, 40, 17, 42, 31, 72, 25, 42, 18, 62, 71, 27, 48, 4, 68, 56, 58, 42, 72, 3, 18, 50, 56, 64, 57, 13, 29, 50, 8, 72, 29, 49, 57, 30, 68, 52, 5, 64, 58, 59, 1, 1, 69, 72, 33, 49, 8, 55, 36, 13, 1, 22, 29, 72, 66, 51, 3, 2, 52, 49, 72, 72, 13, 21, 52, 43, 23, 8, 1, 8, 22, 41, 4, 2, 71, 61, 71, 54, 16, 50, 71, 18, 9, 14, 69, 7, 53, 49, 3, 70, 52, 72, 7, 12, 41, 45, 72, 37, 60, 2, 71, 8, 63, 13, 72, 45, 13, 69, 30, 1, 48, 40, 47, 19, 72, 11, 71, 72, 47, 40, 55, 49, 60, 59, 72, 69, 26, 30, 72, 39, 7, 47, 22, 5, 67, 71, 42, 48, 1, 17, 71, 29, 43, 36, 51, 70, 64, 67, 17, 1, 26, 12, 27, 59, 64, 11, 48, 67, 64, 46, 68, 71, 30, 8, 18, 20, 18, 35, 12, 31, 46, 52, 7, 3, 27, 31, 27, 35, 54, 35, 67, 72, 7, 31, 18, 68, 2, 15, 8, 65, 70, 71, 6, 61, 61, 48, 29, 71, 14, 28, 3, 45, 18, 61, 56, 17, 13, 20, 69, 6, 55, 57, 31, 36, 27, 40, 72, 43, 58, 4, 58, 2, 68, 17, 64, 40, 68, 40, 72, 17, 58, 60, 53, 4, 54, 32, 11, 10, 13, 29, 16, 32, 5, 63, 60, 21, 1, 60, 51, 21, 24, 9, 60, 27, 10, 10, 16, 2, 15, 23, 47, 61, 57, 1, 16, 11, 67, 59, 65, 42, 12, 54, 57, 72, 3, 68, 66, 67, 57, 2, 63, 48, 22, 1, 50, 71, 6, 62, 6, 5, 71, 46, 7, 69, 38, 51, 25, 63, 18, 54, 31, 33, 5, 46, 69, 19, 56, 49, 29, 47, 1, 72, 26, 1, 23, 62, 30, 10, 12, 1, 32, 60, 37, 38, 72, 65, 8, 72, 57, 51, 8, 68, 50, 61, 53, 55, 72, 26, 56, 10, 47, 58, 25, 5, 22, 28, 41, 72, 3, 67, 1, 49, 44, 70, 28, 62, 71, 10, 72, 2, 26, 50, 35, 63, 3, 32, 68, 68, 18, 42, 64, 4, 48, 69, 29, 20, 8, 16, 16, 66, 13, 8, 44, 35, 71, 69, 57, 25, 35, 17, 23, 58, 55, 2, 26, 60, 8, 72, 3, 38, 9, 4, 11, 29, 12, 68, 1, 27, 71, 66, 3, 27, 72, 70, 72, 48, 37, 72, 5, 36, 10, 71, 25, 25, 22, 17, 4, 23, 68, 3, 70, 68, 5, 22, 1, 50, 3, 33, 37, 28, 19, 3, 2, 11, 15, 40, 4, 46, 47, 67, 72, 72, 23, 26, 23, 12, 8, 56, 72, 68, 72, 4, 50, 66, 3, 72, 71, 16, 40, 71, 45, 12, 1, 17, 23, 4, 13, 1, 23, 60, 6, 59, 18, 10, 50, 52, 6, 4, 7, 2, 42, 6, 33, 41, 8, 68, 34, 28, 5, 40, 66, 15, 72, 13, 55, 68, 47, 64, 62, 70, 49, 26, 13, 24, 23, 15, 18, 3, 68, 50, 13, 6, 53, 10, 59, 72, 61, 11, 53, 2, 58, 57, 25, 51, 28, 9, 10, 68, 17, 72, 11, 72, 70, 23, 1, 25, 33, 27, 56, 22, 65, 23, 37, 56, 66, 22, 25, 23, 27, 4, 65, 19, 54, 71, 59, 71, 28, 40, 70, 56, 17, 52, 64, 1, 59, 41, 59, 1, 16, 51, 49, 1, 14, 12, 35, 18, 19, 10, 58, 35, 33, 32, 72, 10, 52, 44, 9, 51, 13, 39, 20, 34, 44, 20, 6, 26, 19, 30, 62, 1, 70, 46, 61, 19, 41, 7, 12, 7, 11, 72, 30, 17, 60, 29, 12, 63, 30, 13, 26, 21, 32, 66, 1, 43, 15, 22, 47, 2, 72, 72, 11, 1, 48, 2, 54, 69, 43, 59, 7, 60, 50, 72, 12, 29, 1, 62, 57, 56, 14, 52, 15, 18, 26, 69, 67, 59, 9, 1, 58, 55, 5, 1, 12, 30, 39, 2, 40, 12, 46, 54, 66, 1, 71, 34, 24, 24, 5, 45, 18, 48, 13, 71, 5, 61, 9, 2, 18, 5, 4, 65, 16, 54, 26, 60, 39, 22, 11, 49, 49, 12, 1, 72, 55, 32, 65, 53, 26, 46, 54, 1, 22, 41, 24, 69, 37, 1, 61, 2, 9, 12, 8, 72, 7, 28, 72, 50, 70, 3, 63, 8, 1, 52, 69, 34, 8, 18, 30, 16, 46, 7, 51, 25, 35, 54, 64, 52, 23, 72, 16, 23, 7, 44, 60, 52, 62, 44, 67, 67, 61, 36, 58, 65, 53, 20, 24, 49, 60, 72, 35, 1, 3, 69, 18, 68, 5, 6, 72, 1, 2, 21, 1, 10, 51, 26, 63, 4, 68, 67, 62, 16, 63, 18, 64, 72, 71, 28, 39, 72, 45, 59, 62, 71, 41, 16, 51, 24, 64, 32, 15, 7, 66, 4, 49, 64, 58, 33, 13, 9, 3, 63, 52, 32, 65, 70, 1, 30, 46, 56, 72, 43, 65, 41, 72, 3, 27, 72, 45, 27, 4, 15, 72, 49, 70, 45, 34, 47, 47, 57, 34, 2, 9, 27, 16, 33, 49, 1, 65, 10, 13, 34, 22, 67, 68, 25, 36, 8, 66, 13, 72, 1, 70, 29, 7, 16, 71, 46, 54, 7, 68, 9, 43, 16, 43, 12, 71, 1, 36, 35, 24, 58, 30, 21, 56, 63, 43, 35, 19, 3, 1, 57, 35, 7, 3, 24, 72, 51, 65, 3, 12, 57, 64, 1, 1, 54, 37, 15, 45, 32, 20, 31, 54, 68, 61, 35, 21, 7, 31, 17, 65, 56, 2, 71, 40, 24, 54, 49, 3, 72, 1, 42, 18, 45, 37, 72, 72, 2, 10, 1, 70, 64, 65, 12, 26, 30, 6, 46, 47, 37, 68, 67, 1, 25, 19, 41, 16, 71, 28, 42, 16, 17, 56, 31, 63, 8, 7, 54, 8, 19, 56, 64, 67, 18, 17, 50, 4, 62, 6, 24, 11, 21, 1, 7, 29, 66, 25, 27, 18, 67, 17, 45, 72, 24, 54, 8, 53, 67, 63, 51, 25, 21, 72, 65, 4, 25, 57, 19, 72, 71, 45, 55, 17, 26, 17, 46, 64, 64, 32, 47, 70, 49, 1, 1, 66, 49, 46, 62, 48, 2, 70, 69, 40, 34, 72, 56, 37, 4, 69, 33, 26, 65, 16, 42, 15, 19, 16, 61, 31, 20, 69, 32, 1, 32, 17, 66, 29, 2, 26, 1, 54, 13, 15, 46, 19, 72, 30, 69, 45, 24, 11, 2, 42, 72, 61, 15, 9, 72, 4, 54, 47, 30, 52, 39, 62, 5, 72, 3, 2, 4, 2, 52, 46, 38, 13, 71, 72, 68, 9, 23, 68, 9, 72, 13, 58, 72, 14, 44, 16, 14, 62, 59, 49, 24, 1, 8, 4, 21, 48, 55, 25, 33, 5, 29, 16, 12, 32, 23, 3, 5, 12, 14, 52, 38, 18, 58, 69, 8, 29, 29, 19, 70, 47, 64, 30, 46, 29, 38, 68, 3, 39, 14, 8, 4, 4, 18, 71, 67, 30, 17, 41, 23, 22, 67, 30, 14, 66, 37, 59, 27, 4, 72, 48, 11, 72, 18, 30, 72, 22, 60, 63, 71, 2, 13, 22, 5, 8, 42, 67, 23, 30, 6, 45, 36, 69, 19, 22, 9, 72, 22, 11, 70, 35, 32, 47, 8, 39, 52, 42, 1, 19, 45, 1, 43, 53, 13, 12, 8, 14, 54, 66, 62, 50, 7, 23, 6, 1, 40, 62, 67, 67, 66, 24, 32, 53, 19, 63, 59, 72, 69, 12, 72, 10, 1, 4, 24, 6, 40, 25, 7, 52, 24, 60, 72, 34, 40, 39, 3, 27, 22, 31, 53, 72, 44, 71, 46, 72, 64, 21, 60, 61, 70, 60, 19, 25, 10, 34, 35, 65, 51, 65, 4, 1, 64, 60, 68, 12, 50, 50, 43, 18, 27, 60, 66, 61, 62, 3, 1, 29, 23, 35, 1, 2, 33, 69, 1, 67, 72, 15, 31, 3, 60, 66, 35, 66, 33, 71, 40, 70, 72, 17, 1, 35, 58, 71, 37, 25, 9, 67, 32, 1, 68, 71, 10, 10, 2, 16, 67, 52, 57, 21, 55, 18, 70, 15, 42, 1, 22, 1, 12, 64, 22, 69, 35, 8, 26, 23, 50, 29, 71, 53, 4, 61, 47, 66, 30, 52, 70, 49, 10, 55, 10, 72, 59, 59, 2, 3, 11, 32, 31, 66, 12, 71, 21, 70, 4, 21, 23, 2, 71, 72, 72, 71, 19, 52, 43, 36, 38, 72, 58, 63, 63, 71, 72, 66, 19, 8, 5, 46, 2, 41, 37, 1, 17, 12, 23, 4, 67, 64, 15, 72, 7, 19, 72, 67, 2, 50, 37, 43, 18, 6, 9, 24, 14, 2, 57, 72, 63, 72, 8, 5, 8, 71, 19, 2, 13, 72, 5, 37, 1, 67, 2, 52, 3, 8, 53, 57, 3, 1, 1, 52, 66, 32, 51, 18, 59, 31, 5, 6, 3, 40, 4, 31, 33, 1, 15, 6, 47, 6, 52, 53, 22, 68, 56, 16, 14, 71, 72, 72, 33, 20, 70, 2, 32, 71, 7, 51, 47, 72, 15, 53, 72, 20, 15, 2, 72, 70, 16, 1, 66, 64, 65, 45, 37, 49, 38, 68, 8, 5, 4, 57, 67, 13, 55, 72, 71, 2, 51, 60, 65, 64, 56, 70, 40, 57, 68, 53, 33, 24, 24, 42, 65, 9, 27, 24, 7, 57, 58, 17, 71, 10, 30, 13, 31, 35, 55, 1, 20, 63, 55, 52, 6, 3, 4, 11, 6, 60, 70, 37, 56, 36, 71, 1, 2, 3, 56, 72, 19, 10, 26, 11, 53, 15, 71, 2, 2, 70, 72, 38, 62, 6, 61, 57, 69, 54, 18, 66, 70, 27, 47, 21, 10, 47, 64, 60, 16, 71, 43, 12, 72, 46, 23, 4, 24, 14, 22, 33, 53, 26, 1, 72, 56, 23, 47, 27, 72, 15, 36, 63, 18, 23, 29, 22, 70, 25, 49, 72, 68, 63, 70, 72, 24, 30, 12, 2, 63, 24, 23, 42, 15, 37, 5, 7, 17, 18, 34, 48, 7, 71, 71, 61, 71, 46, 22, 71, 61, 53, 7, 63, 42, 17, 72, 70, 7, 4, 11, 12, 72, 56, 63, 70, 67, 72, 48, 3, 14, 72, 64, 55, 49, 38, 27, 68, 2, 35, 67, 1, 1, 50, 69, 13, 53, 67, 2, 27, 11, 68, 69, 60, 71, 71, 5, 10, 28, 72, 17, 57, 63, 10, 23, 45, 64, 1, 61, 64, 8, 72, 1, 21, 71, 43, 31, 13, 56, 61, 63, 72, 65, 55, 43, 72, 72, 2, 2, 72, 8, 69, 23, 72, 18, 3, 54, 62, 72, 62, 59, 26, 9, 5, 60, 12, 12, 36, 8, 70, 1, 72, 48, 1, 29, 48, 5, 72, 68, 1, 38, 43, 70, 17, 13, 12, 40, 31, 35, 1, 1, 71, 16, 40, 7, 72, 4, 61, 47, 57, 57, 52, 42, 9, 54, 6, 24, 53, 55, 51, 43, 33, 10, 47, 19, 64, 60, 57, 48, 42, 58, 4, 71, 8, 2, 3, 29, 19, 20, 18, 27, 15, 52, 7, 34, 11, 26, 69, 32, 18, 49, 30, 36, 14, 69, 22, 67, 18, 14, 2, 70, 66, 50, 53, 3, 71, 44, 56, 30, 60, 71, 9, 38, 42, 18, 7, 54, 38, 45, 27, 47, 48, 51, 21, 3, 3, 36, 12, 6, 69, 66, 62, 15, 72, 1, 10, 3, 67, 69, 58, 59, 21, 42, 58, 39, 61, 6, 11, 52, 42, 57, 71, 7, 1, 19, 1, 1, 32, 66, 64, 48, 5, 67, 50, 72, 30, 62, 68, 2, 53, 56, 51, 66, 72, 70, 6, 45, 17, 43, 7, 36, 3, 56, 15, 1, 6, 1, 38, 69, 30, 52, 16, 37, 7, 16, 19, 35, 67, 22, 1, 1, 68, 11, 1, 38, 71, 58, 12, 10, 13, 14, 67, 62, 59, 60, 33, 30, 72, 62, 72, 68, 21, 63, 15, 41, 41, 42, 72, 70, 2, 32, 28, 35, 69, 57, 60, 1, 16, 17, 68, 72, 61, 72, 35, 47, 72, 31, 3, 56, 19, 69, 10, 38, 1, 15, 60, 21, 61, 24, 42, 72, 7, 50, 56, 22, 43, 69, 15, 52, 71, 42, 25, 72, 63, 16, 70, 20, 31, 18, 7, 28, 26, 71, 7, 26, 49, 45, 67, 69, 33, 41, 53, 1, 1, 35, 71, 47, 34, 33, 7, 69, 66, 1, 57, 8, 39, 27, 66, 9, 68, 4, 41, 47, 17, 72, 1, 69, 57, 38, 35, 60, 71, 65, 2, 1, 68, 62, 37, 45, 10, 49, 68, 33]}],\n",
              "                        {\"paper_bgcolor\": \"rgb(243,243,243)\", \"plot_bgcolor\": \"rgb(243,243,243)\", \"template\": {\"data\": {\"bar\": [{\"error_x\": {\"color\": \"#2a3f5f\"}, \"error_y\": {\"color\": \"#2a3f5f\"}, \"marker\": {\"line\": {\"color\": \"#E5ECF6\", \"width\": 0.5}}, \"type\": \"bar\"}], \"barpolar\": [{\"marker\": {\"line\": {\"color\": \"#E5ECF6\", \"width\": 0.5}}, \"type\": \"barpolar\"}], \"carpet\": [{\"aaxis\": {\"endlinecolor\": \"#2a3f5f\", \"gridcolor\": \"white\", \"linecolor\": \"white\", \"minorgridcolor\": \"white\", \"startlinecolor\": \"#2a3f5f\"}, \"baxis\": {\"endlinecolor\": \"#2a3f5f\", \"gridcolor\": \"white\", \"linecolor\": \"white\", \"minorgridcolor\": \"white\", \"startlinecolor\": \"#2a3f5f\"}, \"type\": \"carpet\"}], \"choropleth\": [{\"colorbar\": {\"outlinewidth\": 0, \"ticks\": \"\"}, \"type\": \"choropleth\"}], \"contour\": [{\"colorbar\": {\"outlinewidth\": 0, \"ticks\": \"\"}, \"colorscale\": [[0.0, \"#0d0887\"], [0.1111111111111111, \"#46039f\"], [0.2222222222222222, \"#7201a8\"], [0.3333333333333333, \"#9c179e\"], [0.4444444444444444, \"#bd3786\"], [0.5555555555555556, \"#d8576b\"], [0.6666666666666666, \"#ed7953\"], [0.7777777777777778, \"#fb9f3a\"], [0.8888888888888888, \"#fdca26\"], [1.0, \"#f0f921\"]], \"type\": \"contour\"}], \"contourcarpet\": [{\"colorbar\": {\"outlinewidth\": 0, \"ticks\": \"\"}, \"type\": \"contourcarpet\"}], \"heatmap\": [{\"colorbar\": {\"outlinewidth\": 0, \"ticks\": \"\"}, \"colorscale\": [[0.0, \"#0d0887\"], [0.1111111111111111, \"#46039f\"], [0.2222222222222222, \"#7201a8\"], [0.3333333333333333, \"#9c179e\"], [0.4444444444444444, \"#bd3786\"], [0.5555555555555556, \"#d8576b\"], [0.6666666666666666, \"#ed7953\"], [0.7777777777777778, \"#fb9f3a\"], [0.8888888888888888, \"#fdca26\"], [1.0, \"#f0f921\"]], \"type\": \"heatmap\"}], \"heatmapgl\": [{\"colorbar\": {\"outlinewidth\": 0, \"ticks\": \"\"}, \"colorscale\": [[0.0, \"#0d0887\"], [0.1111111111111111, \"#46039f\"], [0.2222222222222222, \"#7201a8\"], [0.3333333333333333, \"#9c179e\"], [0.4444444444444444, \"#bd3786\"], [0.5555555555555556, \"#d8576b\"], [0.6666666666666666, \"#ed7953\"], [0.7777777777777778, \"#fb9f3a\"], [0.8888888888888888, \"#fdca26\"], [1.0, \"#f0f921\"]], \"type\": \"heatmapgl\"}], \"histogram\": [{\"marker\": {\"colorbar\": {\"outlinewidth\": 0, \"ticks\": \"\"}}, \"type\": \"histogram\"}], \"histogram2d\": [{\"colorbar\": {\"outlinewidth\": 0, \"ticks\": \"\"}, \"colorscale\": [[0.0, \"#0d0887\"], [0.1111111111111111, \"#46039f\"], [0.2222222222222222, \"#7201a8\"], [0.3333333333333333, \"#9c179e\"], [0.4444444444444444, \"#bd3786\"], [0.5555555555555556, \"#d8576b\"], [0.6666666666666666, \"#ed7953\"], [0.7777777777777778, \"#fb9f3a\"], [0.8888888888888888, \"#fdca26\"], [1.0, \"#f0f921\"]], \"type\": \"histogram2d\"}], \"histogram2dcontour\": [{\"colorbar\": {\"outlinewidth\": 0, \"ticks\": \"\"}, \"colorscale\": [[0.0, \"#0d0887\"], [0.1111111111111111, \"#46039f\"], [0.2222222222222222, \"#7201a8\"], [0.3333333333333333, \"#9c179e\"], [0.4444444444444444, \"#bd3786\"], [0.5555555555555556, \"#d8576b\"], [0.6666666666666666, \"#ed7953\"], [0.7777777777777778, \"#fb9f3a\"], [0.8888888888888888, \"#fdca26\"], [1.0, \"#f0f921\"]], \"type\": \"histogram2dcontour\"}], \"mesh3d\": [{\"colorbar\": {\"outlinewidth\": 0, \"ticks\": \"\"}, \"type\": \"mesh3d\"}], \"parcoords\": [{\"line\": {\"colorbar\": {\"outlinewidth\": 0, \"ticks\": \"\"}}, \"type\": \"parcoords\"}], \"pie\": [{\"automargin\": true, \"type\": \"pie\"}], \"scatter\": [{\"marker\": {\"colorbar\": {\"outlinewidth\": 0, \"ticks\": \"\"}}, \"type\": \"scatter\"}], \"scatter3d\": [{\"line\": {\"colorbar\": {\"outlinewidth\": 0, \"ticks\": \"\"}}, \"marker\": {\"colorbar\": {\"outlinewidth\": 0, \"ticks\": \"\"}}, \"type\": \"scatter3d\"}], \"scattercarpet\": [{\"marker\": {\"colorbar\": {\"outlinewidth\": 0, \"ticks\": \"\"}}, \"type\": \"scattercarpet\"}], \"scattergeo\": [{\"marker\": {\"colorbar\": {\"outlinewidth\": 0, \"ticks\": \"\"}}, \"type\": \"scattergeo\"}], \"scattergl\": [{\"marker\": {\"colorbar\": {\"outlinewidth\": 0, \"ticks\": \"\"}}, \"type\": \"scattergl\"}], \"scattermapbox\": [{\"marker\": {\"colorbar\": {\"outlinewidth\": 0, \"ticks\": \"\"}}, \"type\": \"scattermapbox\"}], \"scatterpolar\": [{\"marker\": {\"colorbar\": {\"outlinewidth\": 0, \"ticks\": \"\"}}, \"type\": \"scatterpolar\"}], \"scatterpolargl\": [{\"marker\": {\"colorbar\": {\"outlinewidth\": 0, \"ticks\": \"\"}}, \"type\": \"scatterpolargl\"}], \"scatterternary\": [{\"marker\": {\"colorbar\": {\"outlinewidth\": 0, \"ticks\": \"\"}}, \"type\": \"scatterternary\"}], \"surface\": [{\"colorbar\": {\"outlinewidth\": 0, \"ticks\": \"\"}, \"colorscale\": [[0.0, \"#0d0887\"], [0.1111111111111111, \"#46039f\"], [0.2222222222222222, \"#7201a8\"], [0.3333333333333333, \"#9c179e\"], [0.4444444444444444, \"#bd3786\"], [0.5555555555555556, \"#d8576b\"], [0.6666666666666666, \"#ed7953\"], [0.7777777777777778, \"#fb9f3a\"], [0.8888888888888888, \"#fdca26\"], [1.0, \"#f0f921\"]], \"type\": \"surface\"}], \"table\": [{\"cells\": {\"fill\": {\"color\": \"#EBF0F8\"}, \"line\": {\"color\": \"white\"}}, \"header\": {\"fill\": {\"color\": \"#C8D4E3\"}, \"line\": {\"color\": \"white\"}}, \"type\": \"table\"}]}, \"layout\": {\"annotationdefaults\": {\"arrowcolor\": \"#2a3f5f\", \"arrowhead\": 0, \"arrowwidth\": 1}, \"coloraxis\": {\"colorbar\": {\"outlinewidth\": 0, \"ticks\": \"\"}}, \"colorscale\": {\"diverging\": [[0, \"#8e0152\"], [0.1, \"#c51b7d\"], [0.2, \"#de77ae\"], [0.3, \"#f1b6da\"], [0.4, \"#fde0ef\"], [0.5, \"#f7f7f7\"], [0.6, \"#e6f5d0\"], [0.7, \"#b8e186\"], [0.8, \"#7fbc41\"], [0.9, \"#4d9221\"], [1, \"#276419\"]], \"sequential\": [[0.0, \"#0d0887\"], [0.1111111111111111, \"#46039f\"], [0.2222222222222222, \"#7201a8\"], [0.3333333333333333, \"#9c179e\"], [0.4444444444444444, \"#bd3786\"], [0.5555555555555556, \"#d8576b\"], [0.6666666666666666, \"#ed7953\"], [0.7777777777777778, \"#fb9f3a\"], [0.8888888888888888, \"#fdca26\"], [1.0, \"#f0f921\"]], \"sequentialminus\": [[0.0, \"#0d0887\"], [0.1111111111111111, \"#46039f\"], [0.2222222222222222, \"#7201a8\"], [0.3333333333333333, \"#9c179e\"], [0.4444444444444444, \"#bd3786\"], [0.5555555555555556, \"#d8576b\"], [0.6666666666666666, \"#ed7953\"], [0.7777777777777778, \"#fb9f3a\"], [0.8888888888888888, \"#fdca26\"], [1.0, \"#f0f921\"]]}, \"colorway\": [\"#636efa\", \"#EF553B\", \"#00cc96\", \"#ab63fa\", \"#FFA15A\", \"#19d3f3\", \"#FF6692\", \"#B6E880\", \"#FF97FF\", \"#FECB52\"], \"font\": {\"color\": \"#2a3f5f\"}, \"geo\": {\"bgcolor\": \"white\", \"lakecolor\": \"white\", \"landcolor\": \"#E5ECF6\", \"showlakes\": true, \"showland\": true, \"subunitcolor\": \"white\"}, \"hoverlabel\": {\"align\": \"left\"}, \"hovermode\": \"closest\", \"mapbox\": {\"style\": \"light\"}, \"paper_bgcolor\": \"white\", \"plot_bgcolor\": \"#E5ECF6\", \"polar\": {\"angularaxis\": {\"gridcolor\": \"white\", \"linecolor\": \"white\", \"ticks\": \"\"}, \"bgcolor\": \"#E5ECF6\", \"radialaxis\": {\"gridcolor\": \"white\", \"linecolor\": \"white\", \"ticks\": \"\"}}, \"scene\": {\"xaxis\": {\"backgroundcolor\": \"#E5ECF6\", \"gridcolor\": \"white\", \"gridwidth\": 2, \"linecolor\": \"white\", \"showbackground\": true, \"ticks\": \"\", \"zerolinecolor\": \"white\"}, \"yaxis\": {\"backgroundcolor\": \"#E5ECF6\", \"gridcolor\": \"white\", \"gridwidth\": 2, \"linecolor\": \"white\", \"showbackground\": true, \"ticks\": \"\", \"zerolinecolor\": \"white\"}, \"zaxis\": {\"backgroundcolor\": \"#E5ECF6\", \"gridcolor\": \"white\", \"gridwidth\": 2, \"linecolor\": \"white\", \"showbackground\": true, \"ticks\": \"\", \"zerolinecolor\": \"white\"}}, \"shapedefaults\": {\"line\": {\"color\": \"#2a3f5f\"}}, \"ternary\": {\"aaxis\": {\"gridcolor\": \"white\", \"linecolor\": \"white\", \"ticks\": \"\"}, \"baxis\": {\"gridcolor\": \"white\", \"linecolor\": \"white\", \"ticks\": \"\"}, \"bgcolor\": \"#E5ECF6\", \"caxis\": {\"gridcolor\": \"white\", \"linecolor\": \"white\", \"ticks\": \"\"}}, \"title\": {\"x\": 0.05}, \"xaxis\": {\"automargin\": true, \"gridcolor\": \"white\", \"linecolor\": \"white\", \"ticks\": \"\", \"title\": {\"standoff\": 15}, \"zerolinecolor\": \"white\", \"zerolinewidth\": 2}, \"yaxis\": {\"automargin\": true, \"gridcolor\": \"white\", \"linecolor\": \"white\", \"ticks\": \"\", \"title\": {\"standoff\": 15}, \"zerolinecolor\": \"white\", \"zerolinewidth\": 2}}}, \"title\": {\"text\": \"tenure distribution in customer attrition \"}, \"xaxis\": {\"gridcolor\": \"rgb(255, 255, 255)\", \"gridwidth\": 2, \"ticklen\": 5, \"title\": {\"text\": \"tenure\"}, \"zerolinewidth\": 1}, \"yaxis\": {\"gridcolor\": \"rgb(255, 255, 255)\", \"gridwidth\": 2, \"ticklen\": 5, \"title\": {\"text\": \"percent\"}, \"zerolinewidth\": 1}},\n",
              "                        {\"responsive\": true}\n",
              "                    ).then(function(){\n",
              "                            \n",
              "var gd = document.getElementById('c58e2b68-3beb-4f32-b127-64cec2b7c805');\n",
              "var x = new MutationObserver(function (mutations, observer) {{\n",
              "        var display = window.getComputedStyle(gd).display;\n",
              "        if (!display || display === 'none') {{\n",
              "            console.log([gd, 'removed!']);\n",
              "            Plotly.purge(gd);\n",
              "            observer.disconnect();\n",
              "        }}\n",
              "}});\n",
              "\n",
              "// Listen for the removal of the full notebook cells\n",
              "var notebookContainer = gd.closest('#notebook-container');\n",
              "if (notebookContainer) {{\n",
              "    x.observe(notebookContainer, {childList: true});\n",
              "}}\n",
              "\n",
              "// Listen for the clearing of the current output cell\n",
              "var outputEl = gd.closest('.output');\n",
              "if (outputEl) {{\n",
              "    x.observe(outputEl, {childList: true});\n",
              "}}\n",
              "\n",
              "                        })\n",
              "                };\n",
              "                \n",
              "            </script>\n",
              "        </div>\n",
              "</body>\n",
              "</html>"
            ]
          },
          "metadata": {
            "tags": []
          }
        },
        {
          "output_type": "display_data",
          "data": {
            "text/html": [
              "<html>\n",
              "<head><meta charset=\"utf-8\" /></head>\n",
              "<body>\n",
              "    <div>\n",
              "            <script src=\"https://cdnjs.cloudflare.com/ajax/libs/mathjax/2.7.5/MathJax.js?config=TeX-AMS-MML_SVG\"></script><script type=\"text/javascript\">if (window.MathJax) {MathJax.Hub.Config({SVG: {font: \"STIX-Web\"}});}</script>\n",
              "                <script type=\"text/javascript\">window.PlotlyConfig = {MathJaxConfig: 'local'};</script>\n",
              "        <script src=\"https://cdn.plot.ly/plotly-latest.min.js\"></script>    \n",
              "            <div id=\"f211e3ce-d5b9-486c-804b-4b33f1dbaaaa\" class=\"plotly-graph-div\" style=\"height:525px; width:100%;\"></div>\n",
              "            <script type=\"text/javascript\">\n",
              "                \n",
              "                    window.PLOTLYENV=window.PLOTLYENV || {};\n",
              "                    \n",
              "                if (document.getElementById(\"f211e3ce-d5b9-486c-804b-4b33f1dbaaaa\")) {\n",
              "                    Plotly.newPlot(\n",
              "                        'f211e3ce-d5b9-486c-804b-4b33f1dbaaaa',\n",
              "                        [{\"histnorm\": \"percent\", \"marker\": {\"line\": {\"color\": \"black\", \"width\": 0.5}}, \"name\": \"Churn Customers\", \"opacity\": 0.9, \"type\": \"histogram\", \"x\": [54.45, 25.1, 84.75, 76.5, 56.25, 96.6, 24.1, 70.25, 96.0, 80.85, 77.95, 75.35, 88.3, 80.25, 70.65, 101.75, 74.75, 70.3, 24.6, 85.35, 74.7, 97.8, 54.3, 89.9, 59.8, 40.4, 88.4, 51.2, 100.6, 74.25, 84.7, 33.5, 54.4, 24.75, 83.55, 104.05, 61.15, 99.5, 99.05, 65.45, 73.55, 75.2, 102.25, 19.7, 84.3, 86.05, 104.15, 99.85, 19.95, 75.9, 106.0, 75.1, 93.85, 73.9, 81.3, 35.75, 83.2, 70.15, 85.0, 74.95, 68.85, 74.95, 80.7, 48.75, 69.8, 86.0, 101.15, 96.25, 74.4, 20.2, 94.3, 79.9, 99.55, 69.9, 56.15, 70.2, 71.35, 85.3, 80.6, 29.7, 104.1, 95.65, 80.15, 91.85, 100.05, 74.4, 80.65, 69.55, 89.25, 70.15, 35.4, 64.7, 101.9, 30.5, 100.95, 45.85, 74.7, 90.75, 64.7, 70.1, 69.95, 99.5, 19.9, 20.2, 19.65, 71.15, 95.25, 45.1, 73.85, 40.15, 95.1, 18.95, 85.35, 90.8, 84.35, 89.4, 20.15, 81.0, 79.6, 84.95, 93.2, 19.85, 68.65, 31.35, 20.9, 104.7, 49.15, 108.85, 20.55, 45.0, 84.8, 59.45, 74.15, 60.15, 78.45, 41.15, 70.6, 100.45, 42.6, 54.75, 53.65, 89.8, 95.0, 80.3, 75.7, 81.7, 85.45, 75.3, 76.45, 94.45, 76.95, 74.5, 105.85, 84.65, 80.5, 106.1, 50.85, 19.9, 44.55, 40.65, 103.25, 75.85, 86.45, 19.85, 79.2, 20.4, 69.0, 80.0, 55.0, 98.6, 69.25, 96.4, 50.25, 98.4, 75.7, 70.15, 93.8, 90.5, 89.35, 79.55, 69.6, 20.0, 55.05, 49.2, 50.75, 56.15, 105.5, 94.4, 82.3, 110.1, 98.1, 76.45, 90.7, 75.8, 85.35, 85.2, 75.5, 56.5, 79.75, 66.25, 88.95, 39.3, 80.65, 99.15, 95.25, 49.6, 69.75, 84.85, 44.65, 70.45, 88.3, 84.45, 80.25, 74.35, 69.1, 106.55, 100.85, 89.3, 76.4, 102.35, 20.6, 75.65, 20.55, 56.7, 89.75, 44.45, 69.8, 93.7, 101.35, 100.0, 70.5, 25.05, 95.2, 24.45, 105.55, 74.95, 25.8, 109.25, 20.25, 78.95, 96.55, 79.45, 91.7, 100.5, 90.85, 80.15, 45.85, 45.15, 48.35, 25.5, 83.35, 48.95, 93.15, 89.6, 104.3, 78.8, 105.1, 85.35, 89.05, 75.2, 44.4, 51.05, 85.55, 109.5, 55.25, 51.0, 21.05, 70.7, 69.6, 105.65, 104.05, 94.85, 85.7, 48.7, 104.75, 95.6, 74.1, 23.15, 89.1, 81.0, 84.4, 102.95, 25.05, 74.45, 70.05, 103.85, 54.9, 85.95, 94.45, 80.15, 20.9, 103.95, 36.5, 103.45, 89.5, 86.2, 90.1, 96.1, 80.85, 95.65, 74.35, 75.55, 74.8, 19.85, 54.45, 73.65, 50.8, 50.45, 62.65, 44.7, 20.1, 88.85, 91.4, 80.3, 85.4, 109.75, 85.0, 45.05, 75.55, 74.5, 60.3, 104.8, 79.25, 73.6, 19.8, 110.75, 49.25, 45.25, 80.8, 98.35, 78.55, 49.9, 25.7, 93.2, 84.0, 98.8, 36.45, 24.9, 20.25, 44.7, 34.7, 83.9, 80.05, 74.9, 74.25, 49.35, 74.2, 99.45, 79.8, 44.85, 93.55, 75.8, 108.4, 73.9, 88.05, 68.95, 69.7, 103.4, 90.0, 50.8, 80.3, 105.5, 85.8, 96.05, 87.55, 66.4, 85.45, 51.75, 90.85, 45.55, 95.15, 84.1, 53.9, 19.0, 90.45, 80.5, 70.2, 75.1, 70.4, 74.6, 79.05, 20.2, 74.9, 75.3, 106.4, 100.55, 98.4, 99.95, 30.35, 49.65, 79.45, 19.95, 79.5, 95.45, 94.4, 89.75, 35.2, 73.9, 109.15, 34.5, 58.6, 69.7, 84.05, 88.25, 108.15, 73.5, 101.35, 51.8, 75.5, 33.9, 41.6, 93.4, 25.3, 55.95, 70.3, 73.85, 72.85, 98.6, 76.5, 76.35, 107.4, 58.6, 104.2, 80.4, 105.0, 77.85, 85.15, 89.45, 24.8, 74.4, 89.6, 106.25, 20.65, 85.1, 49.75, 107.95, 104.75, 44.95, 70.1, 90.05, 84.6, 98.8, 101.35, 92.45, 31.0, 113.15, 83.85, 46.05, 100.65, 45.65, 101.25, 80.95, 76.25, 84.75, 105.95, 69.2, 83.05, 94.7, 89.4, 76.45, 80.65, 34.7, 34.0, 74.35, 79.2, 71.3, 79.85, 100.05, 70.1, 98.65, 98.55, 100.25, 20.95, 25.15, 74.3, 74.3, 69.55, 84.4, 91.3, 98.55, 35.55, 86.15, 50.35, 75.3, 46.3, 89.15, 94.5, 99.7, 21.0, 66.35, 54.2, 84.5, 87.45, 105.05, 19.8, 99.55, 59.5, 20.5, 97.35, 89.8, 94.1, 69.4, 104.4, 74.4, 55.3, 40.1, 45.3, 75.2, 80.25, 20.4, 50.35, 20.95, 99.7, 47.85, 96.75, 89.5, 80.55, 105.95, 66.5, 83.75, 94.7, 84.75, 70.85, 94.85, 20.15, 99.55, 45.35, 75.75, 84.85, 79.4, 53.95, 81.05, 80.25, 44.6, 24.45, 45.7, 70.0, 85.4, 78.05, 80.5, 101.4, 69.25, 34.7, 85.25, 74.9, 70.45, 95.6, 99.65, 106.15, 20.15, 55.35, 70.4, 55.15, 61.65, 98.15, 98.5, 81.15, 69.35, 65.3, 80.0, 100.25, 100.6, 100.6, 50.5, 78.9, 89.85, 70.9, 101.1, 23.9, 79.5, 67.75, 28.45, 75.0, 19.4, 84.95, 45.3, 99.25, 89.05, 53.4, 80.6, 84.3, 109.55, 95.6, 89.1, 70.0, 19.3, 79.65, 70.1, 105.1, 55.35, 91.3, 84.5, 89.0, 89.65, 45.7, 84.6, 70.95, 50.1, 75.45, 86.3, 100.3, 94.25, 70.15, 49.25, 97.85, 95.0, 79.35, 94.7, 93.9, 90.6, 71.0, 78.85, 95.0, 54.75, 40.2, 102.95, 73.75, 80.35, 80.55, 78.55, 104.4, 79.0, 92.35, 74.4, 44.85, 89.45, 94.2, 90.55, 86.05, 69.75, 94.6, 95.25, 74.95, 89.15, 94.65, 79.35, 92.5, 80.1, 49.15, 89.85, 72.2, 49.1, 79.85, 94.4, 79.9, 50.8, 89.55, 50.45, 90.0, 86.85, 50.15, 43.95, 76.05, 83.3, 94.8, 44.55, 74.95, 94.55, 95.05, 90.2, 109.65, 44.05, 34.7, 49.95, 18.85, 57.15, 81.7, 79.0, 80.6, 69.65, 75.25, 45.3, 30.6, 96.8, 106.1, 84.2, 94.1, 74.5, 95.15, 43.65, 88.35, 74.15, 84.8, 19.6, 74.65, 90.2, 77.95, 83.75, 85.55, 75.55, 29.65, 80.0, 104.4, 50.6, 89.75, 45.3, 44.6, 65.7, 75.35, 96.2, 30.45, 86.2, 95.15, 70.05, 49.85, 68.25, 99.8, 69.6, 90.6, 91.25, 106.95, 94.0, 44.65, 95.05, 50.15, 70.75, 89.35, 97.1, 93.7, 84.8, 94.65, 93.9, 70.9, 20.0, 85.35, 45.15, 94.4, 98.75, 89.55, 85.0, 55.0, 94.2, 45.65, 69.85, 70.0, 74.4, 75.3, 114.2, 104.85, 79.95, 85.0, 43.75, 94.75, 85.65, 99.35, 74.05, 49.05, 89.45, 54.7, 19.4, 99.8, 82.45, 99.45, 65.2, 95.5, 60.1, 103.7, 94.25, 87.15, 46.35, 110.9, 70.65, 62.05, 73.6, 100.75, 68.65, 96.5, 75.2, 54.2, 105.0, 91.0, 94.7, 91.75, 70.75, 74.55, 107.35, 94.25, 69.35, 105.4, 80.45, 106.0, 89.15, 78.75, 70.3, 70.15, 78.95, 88.9, 73.85, 91.15, 75.3, 79.1, 90.8, 19.5, 79.15, 106.1, 95.7, 102.45, 78.85, 113.6, 93.8, 95.25, 19.35, 75.9, 99.95, 103.9, 70.25, 84.3, 46.2, 74.45, 24.1, 90.1, 80.2, 45.3, 85.3, 47.95, 90.85, 24.45, 74.4, 98.05, 24.75, 67.5, 79.85, 45.05, 19.25, 19.9, 29.2, 111.95, 86.85, 94.4, 89.2, 85.65, 101.05, 80.1, 80.2, 73.55, 71.15, 70.0, 84.15, 50.7, 45.1, 55.1, 74.9, 45.85, 83.15, 95.65, 110.35, 100.7, 69.95, 70.0, 103.25, 44.4, 39.05, 44.75, 96.65, 100.2, 69.35, 94.85, 44.95, 29.95, 74.9, 84.95, 85.45, 89.5, 70.0, 30.4, 103.3, 50.9, 109.5, 95.55, 64.4, 53.75, 75.3, 70.3, 29.7, 98.75, 61.6, 74.65, 93.85, 45.7, 106.15, 86.5, 106.4, 44.15, 43.25, 88.35, 71.1, 105.2, 101.95, 63.6, 106.1, 45.35, 104.05, 99.95, 93.5, 51.5, 86.6, 45.4, 85.25, 89.4, 57.55, 74.75, 73.0, 30.2, 95.9, 84.6, 79.5, 100.15, 40.3, 19.65, 94.4, 20.2, 94.25, 106.5, 49.65, 106.45, 85.3, 70.1, 83.55, 19.95, 85.45, 84.3, 86.6, 50.05, 94.2, 93.55, 95.25, 95.45, 90.05, 78.6, 96.8, 91.05, 56.25, 90.6, 85.25, 78.9, 55.85, 99.1, 92.5, 99.0, 84.05, 94.45, 74.9, 99.95, 45.95, 100.0, 44.6, 19.4, 40.0, 44.4, 115.55, 79.4, 92.1, 85.2, 98.3, 74.05, 79.55, 82.0, 59.0, 78.1, 20.15, 59.4, 24.8, 46.0, 20.55, 55.0, 70.45, 101.15, 84.2, 105.65, 116.2, 95.5, 86.5, 101.7, 70.7, 96.5, 102.6, 103.45, 24.4, 94.55, 69.6, 76.5, 100.6, 96.0, 69.35, 55.15, 48.55, 55.1, 78.45, 41.9, 81.95, 74.9, 54.55, 76.65, 98.3, 45.75, 79.25, 79.6, 75.8, 93.85, 80.85, 99.5, 105.35, 107.5, 50.4, 100.55, 29.7, 106.7, 34.7, 111.2, 89.4, 55.15, 70.75, 34.25, 105.9, 99.75, 20.15, 103.3, 75.0, 89.95, 97.9, 70.4, 75.45, 94.0, 73.65, 109.55, 60.05, 90.05, 91.4, 100.0, 94.05, 84.6, 45.4, 96.55, 95.45, 74.6, 99.3, 80.8, 88.8, 90.45, 29.85, 70.55, 55.2, 69.0, 80.85, 97.65, 99.85, 45.3, 94.9, 78.45, 35.05, 24.5, 20.0, 74.95, 99.25, 70.2, 80.35, 49.4, 89.7, 86.25, 89.5, 74.9, 92.5, 111.95, 45.1, 99.75, 81.0, 91.05, 104.15, 45.4, 96.25, 104.65, 91.85, 55.95, 93.35, 45.95, 79.65, 111.25, 45.3, 85.3, 106.75, 79.35, 50.15, 91.1, 82.4, 29.65, 84.65, 79.55, 102.1, 99.9, 100.85, 81.0, 65.4, 78.3, 80.2, 74.45, 80.3, 67.95, 75.75, 74.9, 98.9, 89.3, 50.9, 51.55, 105.3, 100.05, 55.55, 95.5, 93.55, 75.8, 71.65, 20.8, 83.35, 105.25, 82.05, 85.05, 69.1, 35.1, 55.0, 46.0, 76.0, 72.15, 79.65, 103.0, 46.0, 50.15, 88.45, 104.95, 49.15, 95.9, 74.4, 95.75, 99.2, 74.4, 100.5, 108.05, 79.25, 74.4, 97.35, 86.65, 115.65, 69.65, 94.0, 88.55, 49.05, 68.95, 80.45, 69.65, 60.0, 44.3, 73.2, 95.1, 54.55, 69.8, 75.15, 99.45, 85.25, 104.65, 69.5, 69.9, 88.45, 85.2, 99.5, 99.5, 75.05, 100.2, 91.1, 80.6, 76.2, 19.4, 78.95, 55.8, 45.05, 99.4, 31.05, 85.3, 77.5, 48.55, 101.45, 60.05, 50.75, 69.1, 35.0, 104.9, 96.2, 30.1, 80.4, 36.45, 68.5, 79.15, 95.35, 44.9, 95.05, 89.5, 20.85, 69.65, 75.35, 30.9, 69.55, 69.15, 19.75, 85.55, 80.8, 100.2, 60.4, 47.15, 79.9, 45.7, 70.7, 74.7, 79.25, 86.25, 99.05, 74.65, 78.95, 103.75, 20.35, 98.9, 104.55, 20.05, 19.1, 49.35, 104.1, 55.3, 95.15, 50.6, 99.5, 75.75, 85.2, 25.2, 33.55, 89.9, 44.15, 79.75, 19.75, 84.5, 35.1, 87.1, 79.65, 93.85, 19.6, 46.0, 104.05, 73.0, 76.65, 95.35, 35.45, 94.5, 78.25, 77.85, 103.7, 85.9, 84.25, 29.95, 19.8, 86.55, 82.0, 117.8, 104.4, 70.3, 84.9, 87.05, 96.75, 89.65, 69.65, 70.1, 45.15, 70.3, 84.35, 96.3, 74.4, 110.45, 98.5, 110.85, 90.6, 91.85, 91.7, 95.75, 69.2, 69.9, 71.8, 90.55, 82.35, 96.15, 74.85, 72.45, 89.05, 59.3, 50.4, 86.3, 24.75, 85.95, 86.0, 87.25, 98.75, 85.15, 19.75, 69.6, 79.15, 71.65, 94.6, 50.45, 84.45, 108.6, 70.35, 49.55, 91.65, 100.45, 98.7, 99.0, 89.7, 111.3, 83.3, 93.9, 90.0, 40.65, 71.05, 96.05, 74.2, 69.85, 88.7, 20.5, 79.9, 79.85, 80.5, 73.85, 106.0, 45.0, 89.55, 100.05, 85.85, 102.1, 86.0, 85.55, 100.5, 74.8, 85.05, 83.9, 83.65, 94.1, 90.6, 20.1, 19.25, 90.95, 80.55, 25.25, 79.2, 49.4, 114.5, 79.1, 39.3, 104.0, 96.1, 20.25, 101.9, 20.2, 39.65, 69.95, 90.55, 55.2, 81.1, 90.1, 90.25, 88.15, 24.35, 84.85, 94.95, 25.15, 90.35, 81.35, 94.2, 25.1, 112.95, 113.2, 19.85, 70.15, 69.25, 73.95, 80.85, 90.9, 95.1, 99.45, 99.8, 56.65, 70.55, 70.4, 48.75, 106.35, 96.15, 55.25, 84.4, 110.0, 86.55, 94.75, 88.8, 24.25, 19.45, 19.45, 70.95, 94.0, 98.1, 98.25, 101.85, 93.3, 79.5, 101.5, 106.35, 69.75, 104.3, 85.7, 91.65, 77.0, 48.8, 58.5, 93.85, 19.5, 60.05, 94.2, 30.5, 25.4, 19.65, 60.45, 50.55, 42.35, 104.8, 70.8, 85.7, 19.65, 83.6, 103.35, 79.55, 94.65, 33.65, 90.4, 97.95, 74.3, 84.45, 93.8, 79.0, 69.75, 100.15, 99.25, 94.25, 75.45, 45.6, 43.3, 19.6, 88.35, 101.3, 55.9, 72.9, 94.55, 54.35, 74.35, 50.55, 70.6, 101.3, 105.3, 89.95, 24.05, 46.0, 54.35, 20.25, 103.85, 53.85, 25.2, 77.5, 71.0, 69.1, 55.0, 48.55, 80.0, 94.45, 79.7, 85.35, 110.85]}, {\"histnorm\": \"percent\", \"marker\": {\"line\": {\"color\": \"black\", \"width\": 0.5}}, \"name\": \"Non churn customers\", \"opacity\": 0.9, \"type\": \"histogram\", \"x\": [50.15, 20.4, 64.8, 19.85, 20.55, 23.9, 99.25, 55.0, 36.25, 88.1, 74.25, 51.1, 56.25, 58.35, 95.65, 55.95, 84.8, 45.0, 84.75, 94.65, 111.45, 113.25, 19.65, 20.65, 85.35, 105.1, 76.1, 19.9, 55.7, 107.9, 18.75, 114.35, 36.65, 99.85, 69.45, 50.9, 101.25, 75.65, 108.35, 109.7, 83.05, 76.5, 75.9, 59.9, 18.8, 79.55, 24.7, 20.45, 85.6, 75.5, 104.1, 19.9, 29.8, 85.45, 95.5, 19.15, 73.25, 99.9, 34.25, 74.8, 118.65, 81.25, 92.85, 95.15, 103.5, 78.7, 25.15, 91.0, 20.05, 73.0, 68.75, 87.15, 106.4, 55.75, 64.45, 75.55, 23.55, 44.75, 19.75, 80.4, 69.55, 105.3, 48.15, 103.75, 56.3, 98.6, 96.75, 109.8, 75.5, 48.8, 20.4, 19.85, 20.15, 25.0, 20.9, 60.75, 30.15, 98.8, 20.1, 19.5, 104.5, 70.35, 116.25, 24.7, 80.65, 56.95, 43.35, 59.85, 100.7, 95.15, 19.9, 94.7, 19.95, 49.55, 66.75, 114.3, 68.95, 72.0, 19.75, 50.0, 20.3, 59.45, 89.3, 20.0, 20.2, 44.05, 20.65, 19.55, 24.65, 88.15, 80.9, 106.35, 84.35, 61.3, 83.0, 19.35, 19.4, 94.0, 109.2, 62.5, 59.05, 19.95, 70.95, 76.75, 110.2, 68.9, 19.35, 44.45, 104.1, 59.0, 25.0, 91.7, 20.35, 20.25, 90.0, 104.6, 54.1, 101.15, 65.15, 49.7, 20.25, 19.85, 111.5, 103.65, 50.15, 92.4, 84.75, 88.4, 106.8, 90.65, 24.9, 74.7, 90.05, 117.2, 21.1, 92.95, 90.5, 35.35, 20.85, 98.85, 69.5, 25.6, 49.15, 20.85, 105.4, 89.4, 53.15, 103.15, 74.35, 19.85, 89.1, 86.15, 70.85, 44.05, 19.75, 24.65, 73.45, 75.5, 20.2, 84.8, 67.65, 53.0, 104.1, 20.35, 67.45, 20.1, 56.8, 90.1, 25.1, 69.9, 109.3, 80.6, 19.45, 70.65, 61.55, 19.7, 45.0, 23.9, 25.1, 80.4, 86.25, 44.55, 64.35, 24.35, 50.55, 20.15, 20.35, 106.1, 95.0, 60.35, 118.2, 109.95, 20.3, 30.1, 66.6, 45.6, 96.1, 74.3, 50.0, 20.25, 25.0, 24.15, 20.05, 19.45, 74.4, 35.65, 72.35, 64.9, 109.8, 55.3, 55.6, 19.3, 68.7, 35.45, 54.1, 69.2, 80.15, 106.45, 50.3, 19.4, 20.5, 45.05, 90.95, 103.65, 20.55, 20.65, 19.5, 51.15, 60.9, 46.6, 74.1, 51.8, 75.15, 115.75, 19.0, 25.85, 19.15, 77.4, 85.3, 108.25, 21.1, 98.65, 19.6, 84.1, 94.05, 89.45, 94.3, 86.7, 60.9, 21.05, 71.7, 54.55, 108.8, 20.75, 19.95, 55.75, 102.1, 50.1, 115.55, 58.2, 88.85, 100.2, 48.25, 64.2, 50.55, 19.8, 20.3, 50.55, 19.65, 82.3, 74.0, 25.35, 20.75, 80.75, 19.6, 19.1, 56.75, 51.0, 79.25, 20.05, 49.95, 95.65, 79.2, 89.3, 94.4, 109.4, 19.8, 20.45, 75.4, 95.95, 63.95, 19.95, 60.35, 100.75, 65.25, 29.9, 20.4, 23.5, 19.2, 20.2, 24.85, 38.55, 68.25, 20.0, 79.55, 55.05, 53.6, 20.45, 108.05, 85.5, 80.65, 20.1, 19.75, 83.3, 65.0, 79.8, 50.3, 44.8, 94.25, 55.25, 90.15, 90.55, 80.5, 20.3, 80.55, 55.1, 103.85, 39.6, 19.05, 64.5, 24.7, 53.45, 59.55, 25.25, 26.5, 50.45, 71.1, 51.05, 87.3, 113.45, 84.65, 78.75, 43.95, 94.8, 19.55, 110.5, 82.0, 44.65, 103.75, 20.3, 53.15, 99.45, 81.25, 100.8, 60.0, 19.4, 105.4, 81.65, 92.9, 104.45, 24.8, 95.2, 25.75, 89.2, 109.3, 67.4, 83.7, 101.35, 58.95, 19.85, 95.4, 19.6, 96.65, 89.85, 44.6, 108.15, 80.35, 97.75, 75.7, 62.45, 24.65, 72.9, 20.0, 19.45, 75.3, 25.0, 80.7, 26.45, 83.85, 20.55, 93.25, 109.45, 55.05, 90.95, 95.1, 24.05, 20.3, 20.0, 73.7, 19.8, 20.35, 78.5, 70.6, 19.2, 115.1, 20.0, 19.4, 20.05, 74.75, 105.25, 49.8, 90.35, 80.2, 20.15, 108.05, 80.15, 20.85, 20.1, 20.2, 75.1, 51.05, 92.15, 20.0, 20.15, 19.75, 39.2, 97.55, 74.35, 35.1, 25.0, 83.55, 69.25, 19.8, 93.6, 45.4, 59.1, 49.25, 108.5, 59.95, 44.45, 99.9, 20.85, 25.0, 53.35, 79.85, 19.35, 100.0, 35.4, 74.85, 101.1, 101.35, 20.2, 69.5, 80.65, 96.55, 44.6, 106.75, 35.2, 21.05, 21.0, 54.5, 103.3, 96.8, 84.1, 90.05, 19.8, 19.55, 84.5, 80.05, 60.2, 68.8, 113.65, 25.6, 46.3, 24.45, 54.65, 50.85, 43.75, 30.5, 50.05, 19.95, 24.9, 74.0, 74.7, 79.35, 64.65, 79.6, 20.85, 19.55, 44.0, 54.5, 83.4, 56.25, 116.25, 49.3, 76.4, 54.65, 49.2, 49.15, 105.0, 19.3, 69.95, 91.8, 24.65, 55.6, 101.25, 20.1, 70.2, 61.35, 24.8, 60.0, 78.9, 104.8, 19.4, 19.5, 24.6, 116.4, 100.4, 75.1, 64.95, 67.8, 54.1, 83.5, 74.55, 81.0, 20.3, 89.85, 74.4, 64.35, 96.5, 20.0, 20.05, 20.3, 80.1, 75.35, 19.6, 86.55, 25.15, 82.5, 85.9, 35.75, 19.55, 105.05, 34.2, 20.45, 45.2, 95.9, 97.25, 19.3, 75.6, 19.85, 19.9, 112.35, 68.5, 55.5, 50.6, 83.65, 87.55, 104.9, 97.05, 59.2, 25.05, 116.6, 81.35, 115.15, 67.25, 95.0, 85.45, 59.15, 91.55, 54.45, 54.3, 100.45, 98.2, 89.9, 73.05, 19.2, 20.5, 21.05, 59.6, 61.6, 40.65, 19.8, 70.05, 39.85, 95.5, 97.1, 19.5, 61.15, 79.25, 66.4, 19.45, 99.3, 86.65, 82.05, 66.15, 60.9, 20.0, 19.95, 89.1, 78.1, 19.05, 108.45, 66.25, 74.05, 54.8, 19.95, 86.75, 79.35, 60.6, 84.1, 96.35, 24.95, 25.15, 93.2, 104.55, 25.1, 111.15, 83.2, 99.0, 19.9, 19.55, 105.4, 35.75, 44.5, 89.2, 70.75, 70.3, 60.95, 84.6, 81.0, 84.85, 19.45, 64.4, 68.75, 84.0, 20.25, 60.15, 39.95, 106.5, 87.35, 84.45, 96.35, 24.85, 20.25, 82.45, 59.65, 20.15, 59.55, 84.55, 23.4, 88.05, 86.55, 95.3, 43.7, 25.2, 75.55, 109.25, 74.65, 55.7, 80.55, 95.4, 104.5, 85.9, 20.8, 35.0, 94.9, 94.8, 20.3, 19.95, 19.0, 20.05, 67.45, 20.1, 92.3, 80.95, 61.0, 81.25, 105.1, 109.9, 20.25, 49.85, 78.85, 21.2, 24.65, 19.5, 35.75, 19.65, 20.05, 19.55, 79.15, 105.5, 80.2, 85.15, 89.4, 90.75, 74.6, 115.55, 63.9, 94.8, 106.2, 20.65, 20.4, 85.15, 19.9, 24.75, 19.85, 19.5, 84.85, 85.65, 61.55, 20.15, 75.35, 25.3, 19.3, 69.5, 24.95, 19.9, 94.55, 105.5, 62.85, 81.0, 64.4, 76.9, 80.45, 79.95, 85.95, 79.95, 75.4, 20.7, 69.45, 81.0, 20.25, 55.3, 19.5, 114.0, 104.25, 75.9, 54.15, 75.75, 20.5, 55.3, 83.45, 105.55, 99.8, 68.55, 19.0, 24.5, 25.55, 20.0, 78.95, 106.8, 45.8, 20.6, 89.95, 36.25, 97.1, 55.8, 19.1, 20.45, 79.3, 91.35, 24.25, 81.15, 95.75, 91.0, 50.35, 88.95, 19.15, 84.2, 99.0, 65.05, 53.5, 111.65, 19.75, 50.4, 73.85, 103.95, 105.75, 54.6, 60.0, 90.3, 106.15, 91.2, 19.6, 19.45, 92.0, 65.1, 109.15, 56.4, 58.25, 94.4, 19.85, 104.15, 19.85, 106.0, 50.75, 38.9, 49.65, 55.9, 90.6, 49.4, 70.35, 69.0, 20.4, 19.65, 61.9, 40.55, 106.15, 94.05, 20.5, 99.05, 24.75, 26.1, 36.0, 52.85, 100.5, 50.25, 18.8, 19.6, 79.2, 54.95, 44.55, 95.1, 54.4, 51.25, 34.0, 20.1, 70.2, 90.35, 25.0, 75.1, 85.85, 68.65, 75.1, 89.45, 19.55, 69.05, 109.55, 35.65, 20.05, 88.85, 58.85, 20.1, 85.3, 51.4, 87.0, 82.0, 74.35, 79.75, 20.25, 20.05, 20.3, 88.7, 99.15, 54.9, 65.6, 25.6, 74.35, 48.9, 19.1, 86.95, 45.05, 109.25, 50.8, 89.85, 64.2, 78.9, 69.1, 19.2, 113.65, 64.15, 65.5, 20.05, 56.15, 48.45, 84.1, 20.4, 67.7, 102.6, 69.95, 95.85, 69.7, 116.05, 70.5, 20.95, 90.1, 85.2, 20.75, 95.0, 19.55, 55.65, 78.75, 98.85, 105.75, 100.3, 25.2, 25.5, 71.0, 100.3, 19.2, 45.9, 88.95, 39.45, 20.25, 90.95, 19.1, 44.45, 51.2, 65.65, 20.75, 20.0, 49.6, 48.85, 107.95, 57.6, 40.15, 69.35, 41.1, 81.95, 95.5, 105.2, 110.65, 78.95, 54.0, 66.9, 20.85, 83.4, 19.7, 25.45, 55.3, 48.6, 105.6, 80.45, 73.8, 79.95, 35.8, 70.4, 114.0, 24.0, 60.15, 73.55, 68.15, 19.45, 44.65, 64.7, 54.65, 19.8, 106.65, 86.85, 48.85, 21.0, 20.55, 81.0, 20.45, 64.1, 100.75, 19.1, 19.65, 19.25, 19.2, 81.05, 99.65, 95.65, 86.45, 20.5, 40.2, 102.05, 24.45, 20.35, 90.1, 19.95, 49.5, 19.8, 20.5, 40.3, 39.35, 24.6, 20.75, 56.75, 50.4, 50.3, 95.1, 24.1, 61.1, 20.15, 63.05, 26.9, 51.65, 75.2, 26.0, 24.75, 20.4, 70.8, 20.3, 20.15, 99.0, 80.35, 94.0, 78.75, 114.3, 53.5, 66.0, 43.8, 20.95, 50.15, 64.05, 64.05, 70.8, 105.9, 25.75, 19.75, 19.85, 20.25, 73.0, 68.95, 90.4, 21.2, 19.2, 80.1, 24.7, 111.95, 90.6, 26.1, 20.45, 91.0, 25.1, 81.15, 50.15, 100.7, 69.55, 20.4, 65.65, 64.75, 87.65, 20.5, 20.0, 94.45, 59.6, 104.1, 107.55, 49.85, 84.7, 85.25, 95.7, 75.65, 19.35, 36.15, 19.65, 97.0, 59.9, 74.0, 70.2, 79.8, 94.6, 107.6, 104.75, 54.5, 54.3, 39.15, 100.65, 40.3, 19.65, 19.35, 19.7, 45.3, 94.45, 79.2, 46.0, 53.85, 70.7, 81.3, 20.7, 108.1, 50.2, 90.05, 75.2, 46.3, 18.85, 90.3, 70.35, 20.15, 69.7, 110.85, 96.1, 19.8, 103.9, 67.25, 90.85, 58.75, 91.3, 20.35, 54.2, 56.15, 84.4, 54.95, 90.5, 57.95, 56.05, 89.05, 19.3, 84.9, 100.15, 25.75, 75.35, 26.8, 65.2, 20.65, 104.9, 113.2, 86.75, 93.9, 81.15, 71.4, 44.1, 63.3, 112.25, 110.5, 20.0, 79.4, 19.2, 90.45, 44.85, 20.0, 88.05, 90.45, 58.2, 19.7, 59.5, 20.45, 19.3, 85.35, 75.25, 108.2, 80.9, 75.8, 20.0, 33.45, 44.85, 103.95, 18.95, 19.6, 19.4, 80.65, 20.35, 25.55, 75.8, 69.35, 86.9, 75.3, 20.6, 89.25, 84.0, 19.75, 19.85, 20.45, 106.1, 59.65, 69.5, 65.85, 64.8, 19.4, 45.8, 53.75, 19.8, 79.0, 71.1, 25.2, 105.9, 19.85, 20.75, 20.4, 95.1, 98.55, 69.1, 44.0, 53.95, 84.7, 81.9, 73.85, 25.3, 79.85, 19.0, 20.0, 103.05, 104.4, 19.6, 50.0, 58.85, 19.45, 109.25, 20.65, 19.85, 69.2, 20.65, 85.7, 84.7, 19.9, 25.75, 20.05, 19.6, 89.9, 19.7, 19.85, 35.15, 109.75, 19.65, 49.2, 85.0, 66.1, 25.7, 90.4, 61.35, 93.9, 80.35, 24.95, 104.4, 44.8, 19.8, 29.75, 104.65, 59.8, 72.1, 66.3, 44.95, 115.8, 19.45, 112.4, 70.3, 70.9, 35.4, 103.4, 20.45, 85.9, 102.15, 56.4, 108.55, 96.55, 24.1, 20.25, 69.2, 34.25, 19.2, 85.95, 65.0, 75.4, 100.15, 20.4, 71.9, 105.1, 79.85, 69.5, 50.95, 19.2, 72.95, 68.25, 19.8, 97.95, 116.15, 108.15, 65.1, 40.6, 106.85, 78.15, 44.55, 94.0, 74.55, 29.8, 80.0, 110.25, 81.9, 40.65, 60.0, 44.55, 69.05, 76.25, 91.1, 89.2, 74.45, 56.55, 19.9, 60.8, 35.45, 104.65, 20.45, 44.45, 21.0, 56.8, 101.4, 56.7, 26.0, 53.95, 90.05, 20.2, 100.6, 93.55, 19.7, 50.2, 69.2, 88.7, 92.9, 84.5, 111.25, 99.7, 108.4, 89.35, 24.4, 59.75, 92.05, 20.6, 74.0, 45.0, 35.1, 39.5, 20.1, 92.4, 104.45, 48.6, 64.25, 34.7, 62.55, 84.2, 24.95, 57.75, 78.5, 24.7, 111.1, 80.7, 60.6, 75.85, 65.65, 78.1, 60.2, 59.05, 104.6, 24.7, 24.4, 20.1, 85.25, 30.1, 48.8, 115.8, 107.75, 85.9, 18.9, 74.95, 107.05, 20.2, 69.05, 106.05, 86.05, 88.75, 19.4, 23.95, 99.0, 25.6, 108.5, 49.2, 75.65, 116.85, 26.2, 59.6, 38.5, 75.35, 90.35, 20.55, 69.55, 89.55, 55.1, 20.65, 56.4, 107.5, 101.15, 101.05, 19.15, 61.45, 24.75, 20.35, 24.8, 39.1, 80.7, 60.7, 51.2, 35.05, 24.75, 68.75, 78.45, 20.35, 19.1, 20.6, 115.5, 68.7, 95.3, 24.6, 70.7, 55.5, 95.45, 74.55, 49.05, 98.0, 73.0, 101.4, 89.25, 90.65, 70.15, 100.0, 71.1, 69.8, 78.2, 69.5, 46.1, 29.85, 20.35, 53.75, 61.2, 71.9, 116.75, 79.05, 115.55, 71.05, 54.35, 20.7, 110.8, 109.15, 54.25, 98.35, 106.6, 69.55, 20.35, 84.2, 94.3, 110.8, 74.3, 45.4, 81.5, 79.4, 19.8, 84.75, 25.55, 81.3, 110.5, 75.1, 56.1, 26.0, 84.3, 93.95, 102.5, 74.8, 59.0, 19.5, 69.15, 65.2, 102.45, 65.6, 40.55, 80.2, 20.4, 98.15, 58.6, 100.65, 81.45, 43.9, 70.95, 100.55, 109.4, 64.6, 19.4, 19.3, 104.1, 24.3, 80.0, 91.3, 20.25, 20.2, 95.35, 18.95, 20.05, 92.3, 19.55, 77.75, 101.9, 79.95, 89.55, 24.8, 35.3, 90.7, 20.0, 20.35, 59.55, 79.05, 105.55, 75.15, 61.25, 75.6, 76.15, 19.55, 82.3, 19.95, 20.75, 35.0, 90.05, 105.35, 19.25, 84.2, 45.9, 109.55, 88.5, 95.5, 94.75, 29.35, 20.6, 60.15, 19.25, 106.1, 92.7, 56.0, 20.9, 18.25, 95.9, 105.35, 77.8, 38.1, 26.05, 112.95, 78.9, 35.8, 104.9, 60.45, 89.45, 20.55, 24.8, 25.15, 85.65, 19.95, 19.55, 24.8, 39.0, 69.35, 95.0, 93.35, 98.15, 20.2, 58.2, 88.55, 33.7, 74.2, 99.4, 104.45, 101.15, 80.55, 77.2, 66.2, 83.6, 111.15, 55.0, 97.2, 100.45, 19.8, 23.95, 59.95, 58.5, 19.45, 50.25, 79.1, 34.8, 104.0, 20.25, 94.55, 40.75, 102.65, 19.65, 79.55, 19.5, 88.65, 34.6, 76.2, 19.5, 69.35, 49.2, 81.45, 59.9, 103.05, 95.8, 90.25, 19.65, 72.1, 68.85, 24.55, 20.4, 24.95, 72.45, 110.25, 23.3, 49.2, 24.4, 105.4, 100.9, 60.5, 75.0, 54.3, 106.8, 90.65, 19.5, 75.35, 85.6, 19.7, 45.9, 59.55, 35.9, 86.45, 94.65, 102.7, 34.0, 49.8, 19.35, 45.55, 114.7, 87.1, 99.25, 54.4, 20.55, 59.75, 45.65, 19.8, 20.9, 20.5, 101.1, 55.35, 64.75, 20.0, 76.0, 20.1, 110.05, 19.75, 70.65, 108.95, 56.55, 96.0, 45.1, 101.9, 20.05, 107.5, 103.5, 54.85, 75.85, 20.05, 105.6, 76.0, 71.4, 69.5, 89.8, 92.0, 34.8, 20.4, 68.95, 20.45, 45.05, 109.55, 86.45, 82.95, 90.05, 84.05, 84.9, 54.4, 90.45, 113.05, 25.1, 68.6, 94.9, 58.55, 25.6, 34.2, 105.2, 24.35, 19.2, 71.1, 25.25, 88.65, 107.4, 75.15, 99.35, 85.95, 100.25, 82.65, 20.3, 19.5, 19.6, 80.85, 73.85, 65.75, 108.4, 69.95, 60.9, 45.2, 19.45, 74.75, 20.05, 74.45, 84.8, 20.55, 25.7, 83.85, 20.75, 64.5, 84.0, 53.8, 51.55, 78.3, 25.75, 20.0, 25.3, 114.3, 24.8, 80.3, 55.9, 70.1, 55.45, 77.3, 20.55, 20.05, 67.8, 65.5, 55.65, 20.65, 85.05, 83.85, 54.8, 110.45, 89.75, 20.2, 85.95, 20.5, 25.55, 19.55, 80.4, 62.15, 20.5, 93.65, 114.1, 80.6, 90.05, 86.2, 99.75, 20.0, 24.9, 95.1, 97.95, 19.5, 70.25, 21.15, 86.2, 50.65, 64.05, 19.75, 90.15, 45.0, 111.65, 19.8, 91.7, 80.1, 56.2, 77.55, 89.55, 19.85, 29.3, 99.95, 54.1, 71.0, 20.1, 90.8, 50.1, 75.3, 20.15, 49.7, 20.35, 58.95, 111.8, 20.25, 75.6, 64.95, 20.05, 99.05, 55.35, 95.4, 84.65, 47.4, 85.8, 90.35, 69.15, 80.55, 92.85, 20.0, 85.9, 70.5, 84.05, 104.3, 108.2, 19.45, 60.0, 93.0, 70.8, 79.85, 31.1, 50.5, 19.75, 94.2, 45.55, 99.65, 84.3, 19.85, 55.55, 89.7, 50.1, 87.2, 55.45, 25.05, 33.75, 60.25, 44.25, 80.05, 102.65, 98.0, 20.0, 108.5, 19.65, 20.45, 24.6, 80.7, 19.9, 19.9, 92.2, 78.9, 84.95, 80.3, 24.2, 90.25, 50.2, 110.6, 25.7, 109.65, 89.85, 76.95, 20.5, 109.9, 54.9, 20.5, 55.55, 20.4, 23.05, 105.85, 19.45, 49.4, 24.15, 58.35, 64.45, 113.15, 25.65, 75.3, 51.7, 50.15, 69.95, 44.0, 56.15, 35.05, 36.05, 19.5, 20.15, 84.05, 73.15, 74.5, 116.25, 20.15, 66.15, 65.4, 19.6, 74.1, 115.8, 59.75, 82.75, 69.6, 64.9, 25.0, 89.15, 99.5, 61.4, 29.5, 43.55, 70.55, 86.1, 108.3, 19.3, 25.25, 49.75, 60.95, 64.2, 25.5, 44.05, 66.3, 59.8, 19.0, 102.9, 92.55, 24.2, 44.6, 69.9, 114.35, 74.1, 80.8, 103.65, 85.3, 49.5, 90.65, 109.7, 100.05, 92.2, 89.05, 100.35, 96.35, 111.4, 19.75, 85.95, 107.45, 54.4, 116.8, 19.95, 30.4, 25.2, 19.4, 20.05, 88.8, 19.9, 104.5, 87.3, 104.4, 115.85, 20.8, 105.35, 49.55, 79.3, 68.1, 114.1, 80.05, 25.45, 25.25, 100.25, 23.85, 20.25, 53.85, 19.25, 96.85, 95.65, 79.0, 78.75, 78.95, 79.2, 24.7, 99.15, 50.55, 92.9, 34.95, 95.3, 93.4, 26.45, 59.75, 94.75, 55.8, 19.8, 90.45, 54.75, 21.1, 74.6, 26.0, 25.2, 95.6, 54.85, 20.2, 20.05, 112.75, 58.75, 86.05, 25.4, 85.7, 55.8, 103.05, 109.55, 111.35, 60.55, 95.25, 110.5, 84.35, 34.65, 20.4, 24.2, 112.9, 90.4, 24.45, 54.2, 71.85, 45.25, 87.25, 24.95, 43.8, 88.75, 85.15, 69.75, 79.6, 19.6, 90.15, 73.6, 24.05, 84.8, 108.65, 44.45, 94.3, 100.75, 20.15, 90.95, 20.35, 66.4, 75.4, 81.75, 78.45, 19.35, 23.65, 61.4, 110.5, 69.7, 80.3, 95.1, 88.9, 61.05, 73.15, 110.15, 74.45, 68.35, 69.75, 109.6, 100.3, 53.45, 19.3, 71.0, 44.8, 65.45, 20.5, 70.9, 78.0, 101.3, 94.3, 84.7, 19.35, 25.05, 86.8, 59.9, 95.8, 19.2, 25.35, 46.25, 20.1, 25.7, 20.7, 66.05, 51.65, 104.8, 19.95, 74.1, 19.95, 31.2, 91.35, 25.45, 47.85, 20.0, 91.15, 93.25, 20.45, 89.7, 88.6, 19.95, 61.65, 20.85, 63.95, 40.65, 66.65, 25.4, 19.65, 80.0, 74.65, 19.95, 54.15, 20.85, 101.05, 95.15, 89.4, 35.5, 19.8, 25.95, 19.25, 39.55, 59.45, 19.3, 48.2, 92.55, 71.8, 19.6, 114.75, 110.75, 91.15, 62.8, 20.5, 40.35, 103.65, 91.95, 35.8, 71.75, 19.4, 79.1, 54.75, 63.55, 61.8, 92.0, 98.7, 80.5, 29.8, 64.5, 21.1, 45.55, 80.75, 94.9, 20.25, 84.45, 59.65, 19.6, 115.75, 75.45, 20.6, 81.55, 56.3, 25.0, 18.4, 114.5, 85.4, 56.05, 19.4, 114.45, 25.2, 64.95, 96.1, 25.25, 85.55, 60.4, 115.05, 20.25, 44.8, 84.6, 56.1, 107.5, 101.45, 44.15, 63.7, 30.05, 40.05, 58.35, 50.95, 64.8, 45.25, 73.5, 25.4, 20.35, 75.95, 65.8, 79.0, 70.55, 88.8, 115.0, 43.95, 102.1, 100.55, 74.65, 75.0, 23.75, 69.8, 103.6, 76.05, 45.9, 75.25, 45.2, 20.1, 74.9, 75.05, 19.6, 89.45, 81.7, 25.45, 114.65, 19.25, 26.3, 65.6, 71.35, 101.4, 25.1, 110.2, 45.0, 25.05, 25.25, 92.7, 90.15, 111.3, 55.15, 104.0, 24.2, 19.95, 26.1, 99.65, 76.45, 82.85, 107.95, 113.3, 33.6, 61.45, 89.7, 25.1, 52.1, 44.35, 99.5, 40.55, 19.7, 95.0, 20.65, 54.45, 19.15, 50.15, 113.8, 86.45, 94.3, 50.95, 25.3, 84.05, 84.4, 102.55, 94.6, 71.35, 88.0, 105.95, 68.75, 50.3, 71.6, 70.15, 20.2, 57.2, 65.65, 93.4, 20.3, 65.5, 66.4, 103.95, 19.75, 20.05, 51.0, 74.5, 19.65, 43.55, 45.55, 94.15, 93.5, 44.95, 24.6, 20.25, 110.0, 20.1, 79.85, 20.55, 73.25, 60.85, 84.35, 78.55, 104.1, 81.0, 95.3, 55.55, 86.25, 79.15, 105.65, 100.05, 109.3, 54.55, 20.4, 108.0, 100.6, 109.2, 19.95, 62.65, 54.8, 35.7, 57.5, 24.9, 105.4, 95.4, 51.1, 20.75, 98.25, 82.55, 69.8, 94.95, 26.35, 19.65, 20.9, 69.1, 59.1, 79.2, 24.25, 96.4, 69.3, 102.4, 64.8, 61.0, 84.85, 20.15, 30.5, 80.0, 79.45, 48.8, 107.25, 52.15, 19.55, 66.05, 44.0, 104.15, 81.9, 20.35, 86.8, 20.3, 101.5, 54.25, 19.4, 35.0, 98.85, 104.7, 100.05, 20.45, 86.6, 104.25, 19.8, 55.45, 79.75, 78.65, 66.7, 82.45, 35.4, 82.15, 108.25, 84.25, 117.6, 19.2, 60.25, 20.0, 65.0, 24.5, 19.9, 71.45, 81.7, 100.35, 70.2, 67.2, 69.55, 107.05, 19.65, 99.4, 54.05, 79.7, 89.9, 20.05, 95.75, 34.55, 84.3, 19.75, 78.8, 70.35, 46.35, 75.7, 73.6, 70.5, 70.95, 54.45, 87.9, 56.1, 110.3, 20.45, 97.05, 104.0, 76.0, 20.65, 75.25, 74.75, 85.05, 61.35, 73.35, 29.25, 104.15, 72.1, 105.7, 108.75, 74.6, 20.05, 20.6, 94.2, 25.1, 20.3, 60.0, 70.3, 47.85, 50.05, 45.45, 82.3, 26.4, 110.7, 95.9, 19.95, 51.1, 45.0, 21.05, 109.05, 19.3, 95.0, 82.7, 20.55, 86.05, 19.4, 116.05, 97.55, 114.9, 19.55, 95.25, 19.85, 64.0, 19.55, 65.9, 25.45, 40.65, 19.15, 39.2, 19.65, 24.1, 98.7, 80.35, 94.85, 59.5, 101.35, 20.45, 20.45, 24.9, 94.4, 20.0, 59.4, 20.3, 51.0, 39.7, 23.6, 20.75, 40.4, 19.75, 55.8, 80.1, 64.2, 25.4, 111.05, 89.4, 90.45, 104.45, 100.5, 44.95, 45.05, 49.55, 93.15, 80.45, 25.8, 100.9, 44.55, 99.4, 79.5, 90.4, 66.85, 56.45, 69.1, 19.6, 86.4, 81.3, 74.75, 20.75, 80.5, 90.15, 20.15, 20.0, 70.6, 19.3, 49.45, 50.95, 44.3, 44.35, 19.6, 100.2, 79.75, 60.9, 42.4, 20.05, 20.3, 22.95, 48.8, 51.45, 20.65, 20.2, 41.95, 105.1, 54.9, 19.95, 80.8, 54.65, 20.55, 110.3, 104.15, 25.65, 105.75, 99.7, 81.3, 97.95, 98.9, 19.0, 81.95, 20.85, 79.65, 20.45, 95.7, 69.8, 41.35, 39.9, 20.35, 19.75, 89.35, 69.7, 24.0, 19.5, 19.75, 94.35, 20.55, 99.5, 80.45, 98.9, 70.35, 95.15, 107.45, 80.6, 85.3, 49.55, 110.8, 92.6, 100.55, 20.6, 25.4, 67.95, 81.85, 43.85, 54.2, 80.6, 80.85, 68.75, 20.3, 103.9, 73.75, 96.1, 68.45, 105.65, 95.9, 20.2, 55.3, 84.8, 63.75, 25.75, 19.7, 95.1, 85.75, 76.45, 19.7, 64.4, 40.25, 89.0, 95.65, 20.5, 24.55, 85.0, 20.2, 99.5, 89.2, 24.45, 20.05, 75.1, 79.15, 98.35, 69.95, 81.95, 53.75, 56.85, 19.8, 20.2, 54.5, 68.4, 62.1, 54.6, 109.55, 21.15, 19.5, 79.2, 19.9, 19.05, 81.0, 55.15, 19.35, 39.4, 20.05, 100.1, 20.05, 20.4, 86.65, 105.0, 70.4, 25.8, 19.9, 19.8, 84.8, 19.1, 20.6, 20.45, 20.35, 19.7, 50.7, 50.55, 110.75, 19.3, 66.7, 103.75, 84.3, 51.25, 19.95, 84.3, 50.55, 29.8, 84.1, 61.4, 68.75, 55.05, 84.25, 19.65, 20.05, 39.65, 55.3, 89.7, 89.1, 65.15, 19.75, 26.3, 20.25, 94.1, 54.95, 29.3, 83.25, 75.15, 59.8, 82.5, 111.95, 89.15, 94.2, 20.15, 38.6, 19.6, 85.65, 25.55, 50.2, 49.0, 61.5, 20.65, 19.9, 19.25, 54.15, 59.5, 19.85, 65.25, 85.1, 19.95, 95.85, 95.7, 48.8, 25.45, 70.4, 74.55, 33.6, 20.2, 72.1, 25.3, 19.9, 59.7, 108.9, 64.35, 35.75, 70.05, 51.0, 19.65, 105.25, 24.5, 90.55, 65.6, 19.75, 75.2, 69.7, 25.3, 20.25, 20.15, 79.4, 49.45, 45.2, 59.45, 102.5, 25.25, 26.25, 29.6, 99.25, 49.8, 20.15, 43.8, 25.0, 94.75, 73.6, 107.45, 91.15, 79.3, 55.0, 87.1, 55.3, 57.95, 80.25, 78.6, 19.4, 40.2, 89.25, 115.1, 20.0, 20.1, 49.85, 19.95, 69.85, 29.8, 96.6, 109.7, 75.7, 48.4, 20.2, 20.6, 65.5, 20.05, 91.6, 105.0, 44.85, 19.7, 95.05, 69.1, 19.35, 72.8, 44.4, 29.45, 19.9, 83.15, 59.8, 84.3, 39.9, 20.15, 110.1, 94.65, 88.45, 45.75, 19.35, 94.1, 25.05, 19.2, 61.5, 105.7, 111.3, 24.4, 53.1, 24.35, 76.15, 85.7, 55.0, 84.35, 90.4, 20.5, 107.7, 20.1, 55.25, 19.85, 59.1, 75.9, 78.45, 20.1, 44.7, 24.3, 54.3, 45.25, 65.35, 19.45, 20.55, 86.35, 38.85, 79.8, 65.6, 103.25, 20.05, 70.75, 90.7, 89.4, 80.55, 19.45, 64.45, 23.9, 54.35, 73.15, 114.45, 105.15, 99.45, 110.75, 73.5, 86.2, 20.15, 75.2, 20.8, 25.65, 90.95, 84.45, 89.0, 65.85, 55.2, 30.2, 104.4, 94.35, 24.25, 70.15, 69.05, 18.8, 80.3, 19.85, 20.35, 110.0, 105.35, 19.65, 40.35, 99.65, 94.8, 115.15, 100.55, 105.05, 51.35, 79.5, 29.2, 53.45, 80.85, 54.65, 89.2, 25.45, 24.8, 90.6, 93.85, 19.45, 100.15, 64.35, 20.45, 20.05, 59.3, 20.8, 70.35, 19.85, 59.45, 18.95, 53.75, 84.5, 20.25, 109.4, 19.95, 96.85, 20.65, 78.85, 94.1, 25.4, 54.75, 19.25, 56.3, 89.9, 19.65, 118.75, 44.3, 114.6, 75.55, 43.9, 19.6, 105.75, 108.9, 79.95, 20.25, 25.05, 50.8, 19.65, 20.4, 86.1, 30.25, 104.15, 50.7, 18.55, 25.4, 20.45, 75.2, 100.4, 94.3, 65.2, 19.7, 91.25, 62.15, 19.95, 84.3, 29.15, 20.65, 19.25, 48.8, 92.0, 19.7, 89.85, 25.0, 61.35, 20.75, 20.05, 104.9, 102.1, 25.85, 69.9, 24.95, 90.0, 105.35, 96.75, 79.25, 19.7, 93.8, 20.05, 60.3, 98.45, 96.75, 103.85, 53.65, 20.95, 19.7, 104.35, 36.1, 20.35, 25.05, 60.3, 19.9, 105.85, 98.7, 73.85, 90.95, 45.35, 108.3, 57.65, 25.5, 40.2, 65.2, 96.6, 60.95, 75.3, 74.6, 72.95, 74.35, 109.05, 60.65, 85.2, 74.75, 19.85, 24.9, 58.6, 72.25, 99.55, 25.6, 18.9, 65.8, 24.1, 99.65, 19.35, 105.55, 92.2, 84.35, 20.1, 20.1, 19.55, 59.95, 108.75, 75.6, 35.5, 46.2, 38.5, 59.8, 54.05, 86.4, 20.8, 20.1, 54.6, 95.7, 25.15, 43.6, 50.05, 52.5, 60.25, 99.15, 20.2, 18.95, 58.0, 79.85, 19.5, 19.4, 95.95, 93.15, 35.65, 70.05, 105.5, 70.3, 99.1, 44.45, 19.5, 69.9, 79.7, 110.05, 88.4, 19.6, 115.15, 45.25, 65.55, 19.6, 69.75, 96.8, 89.55, 106.8, 95.2, 50.55, 19.95, 19.15, 19.9, 19.6, 113.35, 108.95, 90.8, 20.55, 25.15, 85.3, 20.65, 19.95, 70.85, 59.6, 84.25, 89.1, 25.05, 80.55, 65.2, 109.95, 64.1, 103.8, 20.3, 52.0, 19.5, 64.4, 20.35, 59.45, 45.8, 59.8, 20.6, 20.0, 38.8, 65.35, 19.75, 50.7, 20.4, 70.55, 59.75, 50.6, 49.95, 81.1, 75.4, 25.7, 55.35, 91.45, 93.6, 20.95, 63.35, 19.85, 103.45, 89.15, 48.95, 70.45, 105.7, 35.75, 115.65, 51.1, 20.35, 20.5, 79.9, 78.45, 33.6, 19.5, 103.1, 97.7, 20.05, 70.7, 74.45, 20.7, 104.45, 35.55, 104.3, 20.2, 24.85, 19.9, 20.05, 20.2, 19.85, 59.45, 81.0, 104.85, 72.8, 66.8, 86.4, 91.7, 76.85, 24.35, 20.0, 75.85, 25.4, 20.0, 99.15, 71.45, 50.1, 89.15, 91.55, 51.45, 104.05, 19.3, 101.55, 58.35, 20.0, 20.25, 61.3, 36.0, 99.7, 90.15, 19.8, 72.75, 20.65, 51.6, 55.85, 19.35, 19.8, 75.0, 70.15, 20.55, 20.05, 80.9, 59.85, 78.95, 20.25, 64.9, 19.75, 19.05, 89.65, 74.2, 87.7, 106.5, 103.1, 111.6, 80.8, 19.4, 55.25, 20.05, 85.5, 20.85, 47.85, 54.25, 60.0, 19.6, 86.05, 77.8, 24.5, 88.4, 44.5, 61.95, 101.6, 19.65, 19.25, 92.45, 101.3, 80.35, 85.25, 80.05, 79.2, 66.15, 48.75, 103.2, 58.95, 70.5, 112.1, 85.6, 83.55, 89.75, 84.15, 23.95, 58.55, 24.7, 24.3, 93.8, 69.75, 51.35, 19.5, 54.75, 105.05, 19.8, 49.9, 80.25, 53.3, 95.4, 85.35, 66.4, 50.6, 50.85, 85.15, 19.9, 79.5, 25.4, 81.6, 104.05, 100.5, 43.45, 58.6, 108.1, 80.45, 49.8, 75.9, 75.95, 49.3, 90.25, 93.45, 73.75, 84.05, 69.7, 19.35, 84.4, 63.85, 89.8, 70.5, 19.3, 99.95, 19.65, 19.55, 24.6, 23.75, 60.05, 25.25, 89.0, 24.1, 100.4, 73.9, 84.75, 89.6, 76.75, 110.9, 24.45, 74.15, 80.8, 19.85, 20.45, 55.9, 96.55, 87.95, 89.6, 53.65, 19.45, 85.8, 24.6, 84.95, 109.75, 60.8, 106.0, 20.45, 29.65, 53.8, 63.55, 90.7, 110.5, 79.35, 92.95, 86.1, 20.25, 90.15, 19.55, 71.05, 104.35, 20.55, 101.0, 65.85, 34.3, 108.9, 40.7, 25.6, 94.55, 67.05, 80.75, 100.15, 55.5, 44.45, 115.1, 79.2, 24.15, 24.0, 75.15, 20.55, 56.35, 19.55, 50.35, 110.6, 90.55, 84.9, 43.7, 89.85, 19.05, 67.45, 20.0, 89.65, 20.2, 24.85, 95.0, 24.25, 20.3, 60.5, 117.35, 20.1, 104.35, 69.85, 76.95, 65.7, 106.9, 29.45, 61.05, 47.6, 62.05, 104.45, 63.8, 94.8, 20.45, 49.2, 19.55, 72.9, 45.4, 18.7, 69.05, 105.6, 98.85, 55.45, 89.95, 90.55, 56.75, 70.3, 49.95, 20.1, 20.5, 100.3, 20.75, 54.6, 88.8, 101.3, 20.35, 56.15, 25.25, 44.15, 89.05, 20.2, 19.7, 19.8, 49.8, 61.4, 19.9, 94.75, 85.8, 59.7, 108.75, 100.55, 111.25, 64.15, 49.25, 89.65, 87.2, 56.6, 95.0, 61.35, 25.35, 49.65, 70.15, 59.2, 53.7, 87.55, 107.0, 64.65, 64.2, 80.0, 53.8, 54.2, 94.5, 25.1, 35.5, 104.05, 20.85, 113.65, 40.05, 20.35, 19.65, 54.35, 81.85, 106.3, 115.8, 116.3, 19.9, 19.2, 19.55, 74.9, 68.15, 116.6, 109.1, 90.45, 19.55, 19.6, 19.4, 61.15, 89.95, 54.25, 55.7, 103.15, 51.55, 68.6, 72.1, 19.55, 34.4, 73.3, 93.5, 50.8, 104.6, 104.65, 20.35, 64.45, 20.65, 20.0, 25.1, 50.55, 100.2, 80.05, 19.8, 35.2, 88.85, 19.15, 74.05, 29.1, 84.8, 45.85, 20.55, 20.25, 102.6, 25.1, 49.4, 19.25, 20.05, 46.35, 19.65, 81.5, 64.75, 84.4, 85.3, 19.6, 19.65, 69.2, 24.5, 19.65, 20.7, 20.85, 95.85, 49.9, 80.5, 49.8, 70.1, 91.25, 85.9, 79.5, 87.55, 20.35, 93.35, 81.7, 20.05, 50.35, 77.4, 81.2, 100.85, 76.05, 88.6, 49.9, 30.2, 29.45, 58.9, 20.2, 106.3, 24.6, 20.05, 118.6, 19.95, 20.0, 55.0, 89.3, 24.45, 65.7, 66.4, 19.5, 89.75, 59.5, 76.3, 19.1, 84.35, 60.5, 21.3, 114.55, 19.65, 19.05, 104.9, 50.0, 50.75, 19.65, 107.45, 19.85, 69.65, 62.8, 63.85, 20.05, 19.55, 42.3, 88.8, 106.65, 19.6, 60.65, 90.25, 20.05, 45.25, 59.6, 94.65, 70.15, 89.8, 114.95, 113.15, 20.05, 81.15, 60.5, 93.55, 81.25, 103.2, 24.25, 20.15, 20.1, 82.85, 48.7, 91.25, 56.25, 19.75, 94.45, 85.75, 44.4, 74.4, 94.1, 94.1, 94.7, 105.2, 19.15, 80.6, 29.75, 21.25, 31.65, 73.55, 91.0, 113.6, 74.3, 95.5, 97.45, 116.5, 75.4, 19.7, 64.4, 90.65, 20.95, 89.75, 99.8, 114.95, 104.5, 21.2, 70.7, 114.6, 70.25, 19.95, 65.25, 72.6, 23.55, 89.35, 24.4, 19.3, 61.25, 105.25, 19.8, 86.85, 20.05, 20.45, 49.85, 114.05, 95.1, 115.05, 25.4, 25.0, 74.3, 73.7, 20.5, 20.05, 59.75, 106.05, 19.55, 106.35, 19.95, 29.6, 100.75, 109.2, 89.55, 19.7, 116.1, 91.65, 20.05, 90.8, 110.2, 54.15, 45.9, 53.6, 55.7, 20.85, 24.9, 54.9, 66.05, 19.5, 103.95, 24.45, 54.4, 103.7, 19.7, 69.65, 99.7, 89.65, 91.35, 46.4, 40.1, 19.4, 100.65, 85.95, 20.8, 88.2, 86.65, 19.95, 24.2, 44.6, 113.1, 20.3, 110.45, 49.05, 19.65, 40.6, 89.55, 30.35, 94.4, 55.2, 91.15, 78.75, 66.85, 19.4, 20.1, 78.95, 19.95, 69.85, 19.9, 100.2, 20.55, 89.85, 74.8, 89.1, 86.7, 94.2, 18.7, 24.35, 109.85, 66.5, 69.0, 97.0, 116.55, 64.3, 74.45, 78.0, 19.45, 112.6, 99.8, 99.7, 88.0, 67.85, 42.1, 24.0, 30.4, 48.8, 19.7, 70.15, 85.1, 109.2, 20.4, 49.85, 85.3, 20.7, 40.9, 100.9, 71.25, 24.0, 109.65, 99.35, 30.15, 98.6, 70.9, 70.7, 70.55, 54.55, 103.75, 20.2, 101.15, 25.45, 58.65, 55.8, 20.15, 39.1, 25.85, 106.65, 55.7, 90.05, 26.1, 23.85, 73.55, 49.85, 19.4, 118.6, 73.55, 19.6, 66.5, 19.45, 99.85, 85.45, 60.4, 80.45, 19.95, 59.8, 80.8, 110.1, 99.9, 58.9, 75.75, 24.45, 85.1, 70.65, 50.3, 19.35, 115.5, 20.7, 26.3, 84.4, 101.3, 20.05, 90.7, 19.65, 24.8, 24.15, 48.7, 94.75, 20.05, 69.4, 89.15, 20.95, 19.8, 76.6, 51.05, 19.35, 88.55, 19.85, 61.2, 91.05, 20.9, 34.3, 55.5, 19.55, 60.95, 19.5, 19.65, 85.4, 85.1, 101.75, 20.65, 19.45, 20.1, 54.55, 75.5, 21.45, 45.15, 19.9, 24.65, 38.9, 63.9, 19.45, 114.05, 55.3, 85.55, 20.25, 54.65, 93.75, 94.6, 69.4, 90.35, 20.1, 55.7, 20.4, 111.8, 100.9, 19.95, 80.45, 90.65, 45.25, 24.55, 20.15, 105.25, 106.15, 58.75, 83.45, 19.05, 71.1, 82.85, 105.15, 20.35, 72.6, 45.45, 25.15, 44.9, 49.6, 74.8, 20.6, 89.0, 109.1, 71.05, 56.25, 44.65, 54.55, 39.1, 94.8, 74.7, 94.8, 77.9, 76.35, 69.65, 60.05, 80.15, 54.2, 84.3, 76.1, 71.3, 79.15, 56.75, 84.15, 104.05, 20.55, 19.9, 73.85, 20.05, 100.45, 79.0, 109.6, 20.15, 81.85, 20.25, 55.2, 74.85, 65.3, 25.05, 112.2, 48.7, 55.3, 100.05, 93.65, 104.35, 57.55, 60.65, 94.7, 79.8, 78.65, 86.9, 19.95, 24.4, 18.8, 110.9, 19.55, 18.85, 20.85, 89.55, 92.45, 99.25, 94.05, 86.05, 100.3, 20.75, 19.75, 69.9, 48.95, 54.6, 84.05, 103.8, 74.3, 23.95, 44.75, 25.75, 25.15, 19.4, 20.3, 91.05, 19.7, 24.9, 20.65, 69.35, 65.55, 100.65, 117.5, 19.55, 69.4, 88.85, 62.15, 97.75, 81.8, 19.85, 92.15, 110.15, 57.8, 18.95, 50.9, 55.5, 33.45, 75.7, 60.7, 19.3, 90.55, 19.8, 83.4, 19.45, 19.95, 20.25, 60.25, 64.5, 89.25, 19.3, 91.2, 19.4, 19.75, 20.2, 55.25, 89.55, 78.65, 49.9, 20.65, 19.35, 20.45, 24.4, 70.6, 19.85, 66.8, 26.4, 75.75, 19.55, 78.85, 19.95, 104.85, 79.85, 59.85, 20.1, 19.8, 75.1, 79.95, 76.8, 58.25, 64.85, 19.5, 19.6, 50.05, 19.5, 66.4, 65.65, 84.6, 45.4, 89.6, 25.7, 108.95, 97.65, 89.85, 74.35, 20.35, 80.55, 80.85, 90.8, 65.1, 59.8, 26.25, 19.7, 67.45, 65.55, 81.15, 94.9, 98.7, 19.8, 110.55, 75.05, 24.85, 50.75, 96.5, 60.8, 79.2, 25.45, 55.15, 55.65, 105.0, 38.55, 39.7, 85.85, 93.2, 78.8, 116.0, 25.25, 50.95, 76.9, 95.05, 20.15, 72.1, 25.25, 19.05, 64.55, 19.7, 21.0, 25.15, 94.05, 70.4, 19.6, 106.7, 78.55, 20.9, 81.35, 100.3, 24.85, 105.35, 39.1, 79.85, 80.6, 20.25, 24.4, 20.75, 24.45, 41.9, 100.85, 34.05, 19.9, 112.55, 105.2, 44.9, 19.4, 44.65, 59.3, 71.6, 66.9, 85.5, 79.6, 94.9, 24.85, 60.0, 19.9, 99.4, 20.3, 75.75, 100.75, 94.75, 50.15, 59.85, 113.65, 25.1, 45.55, 19.75, 86.5, 113.95, 62.8, 25.9, 40.25, 61.75, 101.05, 20.05]}],\n",
              "                        {\"paper_bgcolor\": \"rgb(243,243,243)\", \"plot_bgcolor\": \"rgb(243,243,243)\", \"template\": {\"data\": {\"bar\": [{\"error_x\": {\"color\": \"#2a3f5f\"}, \"error_y\": {\"color\": \"#2a3f5f\"}, \"marker\": {\"line\": {\"color\": \"#E5ECF6\", \"width\": 0.5}}, \"type\": \"bar\"}], \"barpolar\": [{\"marker\": {\"line\": {\"color\": \"#E5ECF6\", \"width\": 0.5}}, \"type\": \"barpolar\"}], \"carpet\": [{\"aaxis\": {\"endlinecolor\": \"#2a3f5f\", \"gridcolor\": \"white\", \"linecolor\": \"white\", \"minorgridcolor\": \"white\", \"startlinecolor\": \"#2a3f5f\"}, \"baxis\": {\"endlinecolor\": \"#2a3f5f\", \"gridcolor\": \"white\", \"linecolor\": \"white\", \"minorgridcolor\": \"white\", \"startlinecolor\": \"#2a3f5f\"}, \"type\": \"carpet\"}], \"choropleth\": [{\"colorbar\": {\"outlinewidth\": 0, \"ticks\": \"\"}, \"type\": \"choropleth\"}], \"contour\": [{\"colorbar\": {\"outlinewidth\": 0, \"ticks\": \"\"}, \"colorscale\": [[0.0, \"#0d0887\"], [0.1111111111111111, \"#46039f\"], [0.2222222222222222, \"#7201a8\"], [0.3333333333333333, \"#9c179e\"], [0.4444444444444444, \"#bd3786\"], [0.5555555555555556, \"#d8576b\"], [0.6666666666666666, \"#ed7953\"], [0.7777777777777778, \"#fb9f3a\"], [0.8888888888888888, \"#fdca26\"], [1.0, \"#f0f921\"]], \"type\": \"contour\"}], \"contourcarpet\": [{\"colorbar\": {\"outlinewidth\": 0, \"ticks\": \"\"}, \"type\": \"contourcarpet\"}], \"heatmap\": [{\"colorbar\": {\"outlinewidth\": 0, \"ticks\": \"\"}, \"colorscale\": [[0.0, \"#0d0887\"], [0.1111111111111111, \"#46039f\"], [0.2222222222222222, \"#7201a8\"], [0.3333333333333333, \"#9c179e\"], [0.4444444444444444, \"#bd3786\"], [0.5555555555555556, \"#d8576b\"], [0.6666666666666666, \"#ed7953\"], [0.7777777777777778, \"#fb9f3a\"], [0.8888888888888888, \"#fdca26\"], [1.0, \"#f0f921\"]], \"type\": \"heatmap\"}], \"heatmapgl\": [{\"colorbar\": {\"outlinewidth\": 0, \"ticks\": \"\"}, \"colorscale\": [[0.0, \"#0d0887\"], [0.1111111111111111, \"#46039f\"], [0.2222222222222222, \"#7201a8\"], [0.3333333333333333, \"#9c179e\"], [0.4444444444444444, \"#bd3786\"], [0.5555555555555556, \"#d8576b\"], [0.6666666666666666, \"#ed7953\"], [0.7777777777777778, \"#fb9f3a\"], [0.8888888888888888, \"#fdca26\"], [1.0, \"#f0f921\"]], \"type\": \"heatmapgl\"}], \"histogram\": [{\"marker\": {\"colorbar\": {\"outlinewidth\": 0, \"ticks\": \"\"}}, \"type\": \"histogram\"}], \"histogram2d\": [{\"colorbar\": {\"outlinewidth\": 0, \"ticks\": \"\"}, \"colorscale\": [[0.0, \"#0d0887\"], [0.1111111111111111, \"#46039f\"], [0.2222222222222222, \"#7201a8\"], [0.3333333333333333, \"#9c179e\"], [0.4444444444444444, \"#bd3786\"], [0.5555555555555556, \"#d8576b\"], [0.6666666666666666, \"#ed7953\"], [0.7777777777777778, \"#fb9f3a\"], [0.8888888888888888, \"#fdca26\"], [1.0, \"#f0f921\"]], \"type\": \"histogram2d\"}], \"histogram2dcontour\": [{\"colorbar\": {\"outlinewidth\": 0, \"ticks\": \"\"}, \"colorscale\": [[0.0, \"#0d0887\"], [0.1111111111111111, \"#46039f\"], [0.2222222222222222, \"#7201a8\"], [0.3333333333333333, \"#9c179e\"], [0.4444444444444444, \"#bd3786\"], [0.5555555555555556, \"#d8576b\"], [0.6666666666666666, \"#ed7953\"], [0.7777777777777778, \"#fb9f3a\"], [0.8888888888888888, \"#fdca26\"], [1.0, \"#f0f921\"]], \"type\": \"histogram2dcontour\"}], \"mesh3d\": [{\"colorbar\": {\"outlinewidth\": 0, \"ticks\": \"\"}, \"type\": \"mesh3d\"}], \"parcoords\": [{\"line\": {\"colorbar\": {\"outlinewidth\": 0, \"ticks\": \"\"}}, \"type\": \"parcoords\"}], \"pie\": [{\"automargin\": true, \"type\": \"pie\"}], \"scatter\": [{\"marker\": {\"colorbar\": {\"outlinewidth\": 0, \"ticks\": \"\"}}, \"type\": \"scatter\"}], \"scatter3d\": [{\"line\": {\"colorbar\": {\"outlinewidth\": 0, \"ticks\": \"\"}}, \"marker\": {\"colorbar\": {\"outlinewidth\": 0, \"ticks\": \"\"}}, \"type\": \"scatter3d\"}], \"scattercarpet\": [{\"marker\": {\"colorbar\": {\"outlinewidth\": 0, \"ticks\": \"\"}}, \"type\": \"scattercarpet\"}], \"scattergeo\": [{\"marker\": {\"colorbar\": {\"outlinewidth\": 0, \"ticks\": \"\"}}, \"type\": \"scattergeo\"}], \"scattergl\": [{\"marker\": {\"colorbar\": {\"outlinewidth\": 0, \"ticks\": \"\"}}, \"type\": \"scattergl\"}], \"scattermapbox\": [{\"marker\": {\"colorbar\": {\"outlinewidth\": 0, \"ticks\": \"\"}}, \"type\": \"scattermapbox\"}], \"scatterpolar\": [{\"marker\": {\"colorbar\": {\"outlinewidth\": 0, \"ticks\": \"\"}}, \"type\": \"scatterpolar\"}], \"scatterpolargl\": [{\"marker\": {\"colorbar\": {\"outlinewidth\": 0, \"ticks\": \"\"}}, \"type\": \"scatterpolargl\"}], \"scatterternary\": [{\"marker\": {\"colorbar\": {\"outlinewidth\": 0, \"ticks\": \"\"}}, \"type\": \"scatterternary\"}], \"surface\": [{\"colorbar\": {\"outlinewidth\": 0, \"ticks\": \"\"}, \"colorscale\": [[0.0, \"#0d0887\"], [0.1111111111111111, \"#46039f\"], [0.2222222222222222, \"#7201a8\"], [0.3333333333333333, \"#9c179e\"], [0.4444444444444444, \"#bd3786\"], [0.5555555555555556, \"#d8576b\"], [0.6666666666666666, \"#ed7953\"], [0.7777777777777778, \"#fb9f3a\"], [0.8888888888888888, \"#fdca26\"], [1.0, \"#f0f921\"]], \"type\": \"surface\"}], \"table\": [{\"cells\": {\"fill\": {\"color\": \"#EBF0F8\"}, \"line\": {\"color\": \"white\"}}, \"header\": {\"fill\": {\"color\": \"#C8D4E3\"}, \"line\": {\"color\": \"white\"}}, \"type\": \"table\"}]}, \"layout\": {\"annotationdefaults\": {\"arrowcolor\": \"#2a3f5f\", \"arrowhead\": 0, \"arrowwidth\": 1}, \"coloraxis\": {\"colorbar\": {\"outlinewidth\": 0, \"ticks\": \"\"}}, \"colorscale\": {\"diverging\": [[0, \"#8e0152\"], [0.1, \"#c51b7d\"], [0.2, \"#de77ae\"], [0.3, \"#f1b6da\"], [0.4, \"#fde0ef\"], [0.5, \"#f7f7f7\"], [0.6, \"#e6f5d0\"], [0.7, \"#b8e186\"], [0.8, \"#7fbc41\"], [0.9, \"#4d9221\"], [1, \"#276419\"]], \"sequential\": [[0.0, \"#0d0887\"], [0.1111111111111111, \"#46039f\"], [0.2222222222222222, \"#7201a8\"], [0.3333333333333333, \"#9c179e\"], [0.4444444444444444, \"#bd3786\"], [0.5555555555555556, \"#d8576b\"], [0.6666666666666666, \"#ed7953\"], [0.7777777777777778, \"#fb9f3a\"], [0.8888888888888888, \"#fdca26\"], [1.0, \"#f0f921\"]], \"sequentialminus\": [[0.0, \"#0d0887\"], [0.1111111111111111, \"#46039f\"], [0.2222222222222222, \"#7201a8\"], [0.3333333333333333, \"#9c179e\"], [0.4444444444444444, \"#bd3786\"], [0.5555555555555556, \"#d8576b\"], [0.6666666666666666, \"#ed7953\"], [0.7777777777777778, \"#fb9f3a\"], [0.8888888888888888, \"#fdca26\"], [1.0, \"#f0f921\"]]}, \"colorway\": [\"#636efa\", \"#EF553B\", \"#00cc96\", \"#ab63fa\", \"#FFA15A\", \"#19d3f3\", \"#FF6692\", \"#B6E880\", \"#FF97FF\", \"#FECB52\"], \"font\": {\"color\": \"#2a3f5f\"}, \"geo\": {\"bgcolor\": \"white\", \"lakecolor\": \"white\", \"landcolor\": \"#E5ECF6\", \"showlakes\": true, \"showland\": true, \"subunitcolor\": \"white\"}, \"hoverlabel\": {\"align\": \"left\"}, \"hovermode\": \"closest\", \"mapbox\": {\"style\": \"light\"}, \"paper_bgcolor\": \"white\", \"plot_bgcolor\": \"#E5ECF6\", \"polar\": {\"angularaxis\": {\"gridcolor\": \"white\", \"linecolor\": \"white\", \"ticks\": \"\"}, \"bgcolor\": \"#E5ECF6\", \"radialaxis\": {\"gridcolor\": \"white\", \"linecolor\": \"white\", \"ticks\": \"\"}}, \"scene\": {\"xaxis\": {\"backgroundcolor\": \"#E5ECF6\", \"gridcolor\": \"white\", \"gridwidth\": 2, \"linecolor\": \"white\", \"showbackground\": true, \"ticks\": \"\", \"zerolinecolor\": \"white\"}, \"yaxis\": {\"backgroundcolor\": \"#E5ECF6\", \"gridcolor\": \"white\", \"gridwidth\": 2, \"linecolor\": \"white\", \"showbackground\": true, \"ticks\": \"\", \"zerolinecolor\": \"white\"}, \"zaxis\": {\"backgroundcolor\": \"#E5ECF6\", \"gridcolor\": \"white\", \"gridwidth\": 2, \"linecolor\": \"white\", \"showbackground\": true, \"ticks\": \"\", \"zerolinecolor\": \"white\"}}, \"shapedefaults\": {\"line\": {\"color\": \"#2a3f5f\"}}, \"ternary\": {\"aaxis\": {\"gridcolor\": \"white\", \"linecolor\": \"white\", \"ticks\": \"\"}, \"baxis\": {\"gridcolor\": \"white\", \"linecolor\": \"white\", \"ticks\": \"\"}, \"bgcolor\": \"#E5ECF6\", \"caxis\": {\"gridcolor\": \"white\", \"linecolor\": \"white\", \"ticks\": \"\"}}, \"title\": {\"x\": 0.05}, \"xaxis\": {\"automargin\": true, \"gridcolor\": \"white\", \"linecolor\": \"white\", \"ticks\": \"\", \"title\": {\"standoff\": 15}, \"zerolinecolor\": \"white\", \"zerolinewidth\": 2}, \"yaxis\": {\"automargin\": true, \"gridcolor\": \"white\", \"linecolor\": \"white\", \"ticks\": \"\", \"title\": {\"standoff\": 15}, \"zerolinecolor\": \"white\", \"zerolinewidth\": 2}}}, \"title\": {\"text\": \"MonthlyCharges distribution in customer attrition \"}, \"xaxis\": {\"gridcolor\": \"rgb(255, 255, 255)\", \"gridwidth\": 2, \"ticklen\": 5, \"title\": {\"text\": \"MonthlyCharges\"}, \"zerolinewidth\": 1}, \"yaxis\": {\"gridcolor\": \"rgb(255, 255, 255)\", \"gridwidth\": 2, \"ticklen\": 5, \"title\": {\"text\": \"percent\"}, \"zerolinewidth\": 1}},\n",
              "                        {\"responsive\": true}\n",
              "                    ).then(function(){\n",
              "                            \n",
              "var gd = document.getElementById('f211e3ce-d5b9-486c-804b-4b33f1dbaaaa');\n",
              "var x = new MutationObserver(function (mutations, observer) {{\n",
              "        var display = window.getComputedStyle(gd).display;\n",
              "        if (!display || display === 'none') {{\n",
              "            console.log([gd, 'removed!']);\n",
              "            Plotly.purge(gd);\n",
              "            observer.disconnect();\n",
              "        }}\n",
              "}});\n",
              "\n",
              "// Listen for the removal of the full notebook cells\n",
              "var notebookContainer = gd.closest('#notebook-container');\n",
              "if (notebookContainer) {{\n",
              "    x.observe(notebookContainer, {childList: true});\n",
              "}}\n",
              "\n",
              "// Listen for the clearing of the current output cell\n",
              "var outputEl = gd.closest('.output');\n",
              "if (outputEl) {{\n",
              "    x.observe(outputEl, {childList: true});\n",
              "}}\n",
              "\n",
              "                        })\n",
              "                };\n",
              "                \n",
              "            </script>\n",
              "        </div>\n",
              "</body>\n",
              "</html>"
            ]
          },
          "metadata": {
            "tags": []
          }
        },
        {
          "output_type": "display_data",
          "data": {
            "text/html": [
              "<html>\n",
              "<head><meta charset=\"utf-8\" /></head>\n",
              "<body>\n",
              "    <div>\n",
              "            <script src=\"https://cdnjs.cloudflare.com/ajax/libs/mathjax/2.7.5/MathJax.js?config=TeX-AMS-MML_SVG\"></script><script type=\"text/javascript\">if (window.MathJax) {MathJax.Hub.Config({SVG: {font: \"STIX-Web\"}});}</script>\n",
              "                <script type=\"text/javascript\">window.PlotlyConfig = {MathJaxConfig: 'local'};</script>\n",
              "        <script src=\"https://cdn.plot.ly/plotly-latest.min.js\"></script>    \n",
              "            <div id=\"1a02ced5-6b8f-4a37-a9c6-29e2aa4d1dd4\" class=\"plotly-graph-div\" style=\"height:525px; width:100%;\"></div>\n",
              "            <script type=\"text/javascript\">\n",
              "                \n",
              "                    window.PLOTLYENV=window.PLOTLYENV || {};\n",
              "                    \n",
              "                if (document.getElementById(\"1a02ced5-6b8f-4a37-a9c6-29e2aa4d1dd4\")) {\n",
              "                    Plotly.newPlot(\n",
              "                        '1a02ced5-6b8f-4a37-a9c6-29e2aa4d1dd4',\n",
              "                        [{\"histnorm\": \"percent\", \"marker\": {\"line\": {\"color\": \"black\", \"width\": 0.5}}, \"name\": \"Churn Customers\", \"opacity\": 0.9, \"type\": \"histogram\", \"x\": [2854.55, 712.85, 3050.15, 837.95, 56.25, 291.9, 409.9, 2868.05, 174.8, 1008.7, 3384.0, 1025.95, 2467.75, 846.0, 70.65, 4273.45, 706.6, 70.3, 24.6, 1375.15, 74.7, 4913.3, 195.3, 89.9, 727.8, 77.15, 3912.9, 1561.5, 5746.15, 210.3, 832.05, 600.0, 114.1, 66.95, 680.05, 7262.0, 1422.05, 6822.15, 3395.8, 937.6, 145.4, 3198.6, 1359.0, 19.7, 1855.65, 86.05, 7689.95, 1776.95, 214.75, 143.35, 6547.7, 552.95, 635.6, 280.85, 416.3, 35.75, 1060.6, 2497.35, 2642.05, 2869.85, 1970.5, 825.7, 788.8, 633.4, 69.8, 1532.45, 842.9, 512.45, 434.1, 20.2, 424.45, 324.3, 3204.65, 69.9, 2499.3, 237.95, 71.35, 264.8, 415.55, 438.25, 7040.85, 167.3, 80.15, 257.05, 6254.2, 306.6, 1451.9, 69.55, 1907.85, 70.15, 1077.5, 941.0, 3545.35, 208.7, 1875.55, 81.0, 165.4, 90.75, 1093.1, 467.55, 69.95, 5961.1, 19.9, 20.2, 19.65, 71.15, 1233.65, 45.1, 926.25, 130.75, 307.4, 185.6, 758.6, 1951.0, 4059.35, 1095.65, 20.15, 1917.1, 195.05, 668.4, 1573.7, 19.85, 68.65, 31.35, 20.9, 4346.4, 169.05, 6287.25, 20.55, 127.1, 906.85, 892.65, 811.8, 60.15, 330.05, 132.2, 70.6, 4941.8, 72.4, 54.75, 696.35, 502.6, 655.5, 3058.65, 189.2, 81.7, 4517.25, 75.3, 1233.4, 2653.65, 228.4, 606.55, 2239.65, 3541.35, 502.85, 2249.95, 239.55, 19.9, 174.3, 328.95, 5037.55, 256.6, 3029.1, 108.05, 172.85, 930.45, 1149.65, 3182.95, 3092.65, 2933.2, 1554.0, 1581.2, 593.75, 5149.5, 75.7, 268.35, 3124.5, 1201.15, 631.85, 79.55, 69.6, 20.0, 102.75, 216.9, 2011.4, 168.15, 6205.5, 94.4, 82.3, 1043.3, 396.3, 76.45, 1597.25, 75.8, 754.65, 627.4, 1893.95, 235.1, 159.4, 620.55, 2291.2, 2111.45, 144.15, 3615.6, 5427.05, 114.7, 324.6, 415.55, 74.9, 70.45, 273.75, 1059.55, 80.25, 334.8, 69.1, 5763.3, 4740.0, 89.3, 160.8, 3626.1, 20.6, 1146.65, 20.55, 113.55, 5769.6, 44.45, 69.8, 6585.35, 2317.1, 1534.75, 70.5, 25.05, 930.4, 24.45, 6281.45, 815.5, 25.8, 8109.8, 327.45, 78.95, 6581.9, 3013.05, 91.7, 918.6, 90.85, 385.0, 45.85, 438.4, 810.7, 215.2, 4065.0, 1880.85, 2231.05, 6127.6, 2867.75, 78.8, 7548.1, 2530.4, 1448.6, 2576.2, 44.4, 415.05, 851.75, 7674.55, 2139.2, 305.95, 113.85, 151.65, 131.65, 443.9, 2470.1, 890.6, 85.7, 340.25, 5510.65, 1555.65, 228.0, 245.2, 89.1, 1312.15, 4116.15, 2496.7, 25.05, 74.45, 266.9, 5485.5, 54.9, 381.3, 498.1, 2265.25, 20.9, 5639.05, 1032.0, 3066.45, 477.7, 178.7, 521.3, 4364.1, 866.45, 3759.05, 834.2, 166.3, 4820.15, 64.55, 1127.35, 73.65, 288.05, 50.45, 2274.9, 44.7, 20.1, 372.45, 449.75, 2483.05, 401.1, 6110.2, 3969.4, 770.6, 413.65, 609.9, 3563.8, 3046.05, 793.55, 520.0, 19.8, 4687.9, 91.1, 85.5, 713.1, 2515.3, 149.55, 49.9, 25.7, 2931.0, 613.4, 3475.55, 36.45, 1334.0, 20.25, 93.7, 34.7, 497.55, 80.05, 147.15, 639.65, 219.65, 1133.9, 919.4, 973.45, 2572.95, 2264.05, 246.3, 7318.2, 2405.05, 4367.35, 119.75, 316.9, 7372.65, 1993.8, 50.8, 526.7, 829.55, 85.8, 1148.1, 3078.1, 94.55, 85.45, 201.1, 90.85, 402.6, 997.65, 3021.6, 834.15, 233.55, 593.45, 2088.8, 115.95, 270.7, 70.4, 74.6, 434.5, 20.2, 2068.55, 75.3, 5127.95, 4398.15, 4187.75, 1132.75, 1359.7, 49.65, 2587.7, 19.95, 2180.55, 396.1, 387.2, 608.8, 108.95, 3160.55, 6941.2, 279.25, 1502.65, 69.7, 2781.85, 1460.65, 3432.9, 73.5, 1553.95, 2541.25, 438.0, 298.45, 470.6, 5435.6, 676.35, 734.35, 70.3, 511.25, 688.65, 1704.95, 162.45, 76.35, 5121.3, 939.7, 5568.35, 3605.2, 294.45, 299.2, 503.6, 240.45, 24.8, 215.8, 365.65, 6979.8, 38.7, 1873.7, 331.3, 5293.2, 4323.45, 85.15, 70.1, 4547.25, 84.6, 5617.75, 780.5, 6440.25, 95.05, 7856.0, 790.15, 80.35, 5688.05, 191.05, 2754.45, 171.15, 2841.55, 1350.15, 6975.25, 69.2, 1258.3, 1687.95, 2001.5, 503.6, 633.3, 62.25, 853.0, 265.35, 1742.75, 1389.2, 2015.35, 4871.05, 551.35, 2862.75, 1008.55, 100.25, 85.5, 1327.15, 1178.25, 1863.8, 222.3, 732.5, 91.3, 1842.8, 35.55, 2745.7, 237.25, 75.3, 46.3, 2257.75, 575.45, 2967.35, 21.0, 740.8, 1152.7, 84.5, 2874.15, 5624.85, 58.15, 1131.2, 415.95, 20.5, 2119.5, 1129.1, 1215.6, 69.4, 2200.25, 74.4, 324.25, 293.3, 2651.2, 3678.3, 144.55, 20.4, 50.35, 20.95, 1238.45, 3147.5, 5238.9, 2196.15, 184.1, 5341.8, 2728.6, 247.25, 2362.1, 264.85, 70.85, 462.8, 156.25, 3734.25, 141.5, 75.75, 3303.05, 1156.1, 2375.4, 2227.1, 1861.5, 80.55, 482.8, 45.7, 2416.1, 425.9, 78.05, 80.5, 3496.3, 418.4, 329.8, 855.3, 74.9, 70.45, 4783.5, 820.5, 4512.7, 390.85, 449.75, 1214.05, 1206.05, 713.75, 567.45, 1037.75, 952.3, 69.35, 4759.75, 412.5, 1064.65, 819.4, 1060.2, 50.5, 2384.15, 2165.05, 70.9, 3744.05, 300.8, 4370.25, 116.65, 131.05, 209.1, 374.5, 2169.75, 45.3, 3777.15, 2177.45, 188.7, 155.8, 3588.4, 4830.25, 644.35, 2368.4, 70.0, 28.3, 79.65, 70.1, 1582.75, 165.2, 1094.5, 916.9, 1820.45, 1761.05, 198.0, 1115.2, 1767.35, 50.1, 75.45, 3266.0, 5614.45, 1483.25, 70.15, 49.25, 1105.4, 2497.2, 79.35, 1914.9, 6579.05, 1943.2, 672.55, 1772.25, 1120.3, 1338.15, 40.2, 7101.5, 871.4, 307.4, 80.55, 1422.65, 6405.0, 303.15, 2602.9, 2276.95, 435.4, 1430.25, 193.8, 90.55, 834.1, 144.55, 94.6, 3959.35, 1036.75, 1496.9, 2649.15, 79.35, 3473.4, 217.55, 2550.9, 1424.95, 305.55, 679.55, 2404.15, 2838.7, 260.9, 50.8, 3856.75, 50.45, 190.05, 156.35, 115.1, 43.95, 231.8, 803.3, 4837.6, 480.6, 1834.95, 2724.6, 4888.7, 1454.15, 5551.15, 483.7, 1604.5, 810.2, 18.85, 2250.65, 858.6, 143.65, 319.15, 69.65, 3017.65, 45.3, 856.35, 5283.95, 2847.4, 519.15, 5638.3, 74.5, 1789.25, 526.95, 1222.8, 3229.4, 546.95, 59.75, 544.55, 1776.55, 305.55, 3273.55, 187.45, 349.65, 291.4, 80.0, 1081.45, 50.6, 1052.4, 2145.0, 97.1, 134.35, 75.35, 1222.05, 226.45, 1270.2, 1779.95, 346.4, 365.55, 2171.15, 673.25, 69.6, 90.6, 2351.8, 5785.5, 94.0, 44.65, 1290.0, 168.15, 1974.8, 461.7, 3706.95, 4154.8, 2043.45, 4812.75, 5029.2, 273.0, 288.05, 4338.6, 416.45, 1607.2, 1587.55, 89.55, 2624.25, 757.1, 4186.3, 45.65, 69.85, 1144.5, 527.9, 1147.45, 7723.9, 1531.4, 857.2, 85.0, 903.6, 889.9, 321.65, 4749.15, 872.65, 2076.2, 853.1, 169.45, 289.3, 442.85, 4350.1, 7007.6, 1043.35, 4627.85, 60.1, 5071.05, 4867.95, 183.75, 667.7, 7432.05, 142.35, 118.3, 73.6, 2095.0, 261.25, 3436.1, 1929.35, 308.25, 4026.4, 531.0, 673.1, 865.8, 450.8, 824.75, 5118.95, 3217.55, 451.1, 5643.4, 950.2, 6441.4, 89.15, 412.1, 2416.55, 70.15, 927.35, 454.15, 1424.5, 2995.45, 989.45, 79.1, 2361.8, 31.55, 1520.9, 5082.8, 4816.7, 6615.15, 292.8, 4594.95, 4750.95, 4424.2, 1099.6, 357.75, 3186.65, 2254.2, 70.25, 1308.4, 46.2, 1145.7, 259.8, 1612.75, 1217.25, 45.3, 4045.65, 305.1, 4515.85, 86.6, 299.7, 713.0, 24.75, 1544.05, 1471.75, 45.05, 112.3, 19.9, 309.1, 4534.9, 220.95, 5610.25, 2698.35, 338.9, 2391.8, 679.3, 181.1, 73.55, 563.65, 347.4, 2585.95, 151.3, 45.1, 154.65, 541.15, 45.85, 446.05, 95.65, 5893.15, 4541.2, 529.5, 153.05, 6017.65, 44.4, 669.85, 270.95, 1244.5, 6851.65, 69.35, 953.45, 431.0, 29.95, 74.9, 1378.25, 85.45, 573.3, 740.0, 78.65, 2890.65, 225.6, 7534.65, 3692.85, 2088.75, 608.0, 75.3, 235.5, 91.7, 4533.7, 1174.35, 301.4, 1625.65, 45.7, 3152.5, 1808.7, 2483.5, 92.65, 219.0, 1639.3, 71.1, 4822.85, 700.85, 155.65, 5769.75, 89.5, 1133.65, 547.65, 362.2, 900.5, 86.6, 518.9, 2287.25, 1539.45, 3046.4, 799.65, 3001.2, 30.2, 1777.9, 360.1, 868.5, 6413.65, 1172.95, 19.65, 1617.5, 20.2, 669.0, 7348.8, 267.35, 6145.85, 2661.1, 659.65, 477.55, 19.95, 1505.85, 84.3, 1281.0, 179.35, 1046.1, 93.55, 5464.65, 1752.55, 2169.8, 5356.45, 2030.3, 2954.5, 389.1, 1660.0, 1734.5, 2447.95, 937.5, 1426.4, 934.1, 1301.7, 1095.3, 742.95, 1107.25, 1931.75, 45.95, 4211.55, 260.8, 19.4, 223.45, 44.4, 8127.6, 205.05, 729.95, 3969.35, 923.5, 1565.7, 723.4, 1425.45, 1254.7, 947.3, 20.15, 1023.9, 24.8, 221.7, 51.15, 55.0, 2597.6, 385.9, 4146.05, 4284.8, 7752.3, 1115.15, 582.5, 364.55, 141.45, 492.55, 4213.35, 3994.45, 36.55, 1899.65, 69.6, 2868.15, 5069.65, 2122.45, 191.35, 159.15, 48.55, 113.35, 2435.15, 840.1, 81.95, 469.8, 494.05, 333.6, 6859.5, 45.75, 267.6, 79.6, 5293.95, 5574.75, 80.85, 1056.95, 323.25, 6873.75, 206.6, 1415.55, 29.7, 1253.9, 296.1, 2317.1, 1132.35, 1193.05, 146.9, 139.35, 334.65, 99.75, 20.15, 2012.7, 999.45, 2625.55, 315.3, 204.7, 480.75, 773.65, 1463.5, 5124.55, 1236.15, 368.1, 193.6, 1888.65, 2866.45, 865.55, 418.8, 3580.3, 95.45, 74.6, 2431.35, 332.45, 2274.35, 1266.1, 75.6, 3309.25, 55.2, 994.8, 751.65, 3207.55, 990.9, 45.3, 1048.85, 78.45, 35.05, 740.3, 137.6, 74.95, 2186.4, 4481.0, 3825.85, 874.8, 2187.55, 587.1, 863.1, 321.75, 452.7, 6418.9, 45.1, 1836.25, 340.85, 289.1, 5743.05, 45.4, 4990.25, 6219.6, 1574.45, 1157.05, 1444.65, 45.95, 604.7, 5916.45, 196.95, 2917.5, 4056.75, 1730.35, 50.15, 455.3, 1592.35, 118.5, 84.65, 79.55, 5885.4, 6137.0, 819.55, 371.65, 2498.4, 909.25, 146.05, 74.45, 80.3, 350.3, 655.9, 2303.35, 2911.3, 577.6, 50.9, 765.5, 7299.65, 6871.9, 2342.2, 829.1, 536.4, 160.75, 71.65, 1021.8, 2757.85, 6786.4, 4029.95, 746.5, 69.1, 446.1, 55.0, 84.5, 76.0, 794.25, 152.7, 4414.3, 181.6, 762.25, 370.65, 2566.5, 270.8, 2448.75, 1692.6, 573.75, 4062.2, 74.4, 514.0, 7532.15, 1111.65, 229.55, 3457.9, 856.65, 7968.85, 69.65, 1078.9, 179.25, 91.1, 68.95, 5224.35, 69.65, 60.0, 134.5, 1441.1, 95.1, 2978.3, 134.7, 496.9, 4138.05, 3132.75, 2542.45, 69.5, 69.9, 1422.1, 474.8, 6710.5, 3762.0, 256.25, 1369.8, 1135.7, 2656.5, 76.2, 1182.55, 1101.85, 55.8, 45.05, 1742.95, 347.25, 424.15, 3807.35, 501.0, 101.45, 3229.65, 712.75, 69.1, 553.0, 3351.55, 3183.4, 1131.3, 224.05, 93.7, 68.5, 317.25, 660.9, 44.9, 4504.55, 676.7, 20.85, 220.1, 75.35, 59.05, 69.55, 69.15, 1052.35, 85.55, 80.8, 2983.8, 272.15, 223.15, 343.95, 45.7, 140.7, 74.7, 79.25, 181.65, 2952.85, 703.55, 2839.65, 6383.35, 76.35, 1120.95, 5794.65, 20.05, 19.1, 3515.25, 541.9, 196.15, 196.9, 249.95, 2369.05, 606.25, 1553.9, 102.5, 1445.3, 2806.9, 44.15, 164.5, 297.3, 453.75, 68.75, 341.45, 2365.15, 196.75, 19.6, 193.6, 6890.0, 73.0, 1313.55, 898.35, 106.85, 2659.4, 1490.95, 3365.85, 5036.3, 1269.55, 3264.5, 248.95, 229.6, 649.65, 1127.2, 8684.8, 3409.6, 70.3, 3067.2, 762.1, 6125.4, 1208.35, 145.15, 3913.3, 45.15, 208.85, 474.9, 1426.75, 139.4, 3655.45, 2514.5, 5275.8, 90.6, 5940.85, 2758.15, 5742.9, 69.2, 69.9, 1167.8, 90.55, 1852.85, 3019.25, 156.4, 4653.85, 1169.35, 3014.65, 1527.5, 1180.95, 692.1, 2628.6, 86.0, 1258.6, 2407.3, 3030.6, 145.0, 69.6, 1676.95, 71.65, 279.55, 50.45, 1058.6, 7690.9, 139.05, 1210.4, 365.4, 1622.45, 5812.6, 287.4, 1047.7, 7482.1, 1845.9, 486.85, 1527.35, 933.3, 3444.85, 4399.5, 74.2, 69.85, 1761.45, 20.5, 741.7, 152.45, 463.05, 4092.85, 7723.7, 96.45, 3474.45, 3480.0, 167.3, 1068.85, 165.45, 5084.65, 3653.35, 321.9, 85.05, 267.4, 1465.75, 2804.45, 6056.15, 20.1, 180.3, 5453.4, 5265.1, 58.9, 3233.85, 106.55, 4527.45, 246.5, 1637.4, 7250.15, 453.4, 178.5, 5549.4, 20.2, 39.65, 69.95, 2282.55, 528.35, 81.1, 2598.95, 2755.35, 1390.6, 41.85, 84.85, 178.1, 25.15, 2238.5, 233.7, 777.3, 25.1, 1384.75, 4689.5, 63.75, 3715.65, 69.25, 2524.45, 302.75, 1259.0, 180.25, 1200.15, 4259.3, 654.85, 70.55, 281.0, 442.2, 3520.75, 1529.2, 1715.65, 556.35, 4874.8, 2697.4, 2293.6, 88.8, 96.05, 19.45, 19.45, 137.95, 181.7, 1060.2, 5508.35, 4086.3, 93.3, 79.5, 5373.1, 3549.25, 69.75, 5278.15, 169.8, 1301.0, 237.75, 1054.6, 539.85, 2381.55, 146.3, 1616.15, 167.5, 30.5, 399.6, 164.3, 3184.25, 50.55, 1716.45, 4131.95, 70.8, 3171.15, 655.85, 404.2, 847.3, 79.55, 2104.55, 137.85, 168.2, 384.5, 940.35, 762.5, 3019.5, 522.95, 2347.9, 6283.3, 665.45, 1973.75, 158.4, 45.6, 123.65, 19.6, 262.05, 2812.2, 365.35, 651.4, 3640.45, 2460.15, 74.35, 50.55, 70.6, 4113.1, 545.2, 6143.15, 24.05, 46.0, 54.35, 20.25, 5017.9, 108.15, 25.2, 1625.0, 71.0, 1474.75, 1046.5, 201.0, 4242.35, 5124.6, 165.0, 489.45, 7491.75]}, {\"histnorm\": \"percent\", \"marker\": {\"line\": {\"color\": \"black\", \"width\": 0.5}}, \"name\": \"Non churn customers\", \"opacity\": 0.9, \"type\": \"histogram\", \"x\": [160.85, 94.5, 4719.75, 717.5, 1432.55, 1626.4, 3532.0, 1885.15, 374.0, 5526.75, 4859.25, 2092.9, 1292.2, 740.55, 5088.4, 1082.8, 5598.3, 524.35, 2839.45, 4312.5, 5315.1, 7895.15, 830.25, 158.95, 1961.6, 5083.55, 257.6, 19.9, 3131.8, 7475.85, 53.15, 7665.8, 1315.0, 3343.15, 477.05, 2298.55, 3949.15, 399.45, 3726.15, 7344.45, 1799.3, 1155.6, 1549.75, 542.4, 18.8, 718.55, 1519.0, 162.3, 4902.8, 2324.7, 5645.8, 57.4, 220.45, 6300.85, 6707.15, 638.0, 4054.2, 5706.3, 828.2, 5315.8, 8477.6, 580.1, 5980.75, 5000.05, 6479.4, 1495.1, 553.0, 1430.05, 20.05, 5163.0, 3815.4, 2274.1, 3211.9, 446.8, 4720.0, 4707.85, 1173.35, 44.75, 19.75, 5727.15, 4459.15, 1275.65, 2032.3, 7346.2, 2364.0, 5581.05, 5206.55, 4860.35, 2018.1, 2555.05, 63.15, 535.05, 982.95, 78.25, 202.3, 2893.4, 927.65, 3959.15, 589.25, 1026.35, 6590.8, 1201.65, 8564.75, 24.7, 4807.35, 1889.5, 371.4, 2603.95, 1522.7, 3532.85, 199.45, 5430.35, 1322.85, 2077.95, 4760.3, 7383.7, 4858.7, 4284.2, 309.35, 2919.85, 224.5, 357.6, 4192.15, 196.35, 684.4, 202.15, 958.1, 280.85, 1830.05, 6148.45, 4557.5, 6751.35, 1745.2, 3346.8, 5243.05, 212.3, 967.85, 1505.45, 7049.75, 4136.4, 1882.8, 927.1, 3250.45, 5233.25, 7689.8, 1370.35, 278.85, 82.7, 3121.1, 1654.45, 1510.5, 3479.05, 1359.5, 71.2, 2024.1, 2180.55, 889.0, 3956.7, 4681.75, 1081.25, 488.25, 739.35, 5703.25, 3988.5, 50.15, 2349.8, 2613.4, 788.6, 5914.4, 3882.3, 505.95, 74.7, 6333.4, 8035.95, 490.65, 3415.25, 4318.35, 1317.95, 467.5, 4564.9, 2625.25, 901.25, 1237.3, 720.05, 6794.75, 5976.9, 1930.9, 7031.3, 5237.4, 1267.05, 1620.8, 5883.85, 4973.4, 3011.65, 899.45, 1574.5, 2661.1, 5229.45, 273.25, 1990.5, 2339.3, 3656.25, 6700.05, 442.6, 4508.65, 533.9, 1074.65, 4549.45, 1275.6, 3883.3, 7782.85, 4299.95, 159.2, 293.85, 1581.95, 117.8, 1228.65, 97.5, 930.95, 4981.15, 770.5, 44.55, 4539.6, 1654.6, 235.65, 432.5, 1092.35, 7848.5, 4368.85, 1404.65, 8547.15, 3782.4, 470.6, 810.85, 979.5, 45.6, 6001.45, 4698.05, 1474.9, 20.25, 789.2, 1505.9, 678.2, 1225.65, 5360.75, 1025.15, 4991.5, 697.25, 6109.65, 1530.6, 580.8, 755.5, 1416.2, 1958.95, 3794.5, 477.55, 319.85, 6300.15, 908.75, 1023.95, 77.6, 2462.6, 4236.6, 7634.8, 469.85, 109.3, 226.8, 1275.7, 551.95, 87.9, 3833.95, 1023.85, 392.65, 8399.15, 78.9, 788.55, 19.15, 4155.95, 1219.85, 6780.1, 741.0, 7129.45, 717.3, 3187.65, 518.75, 5294.6, 3953.15, 5309.5, 688.5, 531.55, 1497.05, 825.1, 7082.45, 487.05, 1244.8, 266.95, 6688.1, 484.05, 8425.3, 3810.8, 929.45, 2688.45, 1293.8, 475.0, 3364.55, 849.9, 20.3, 3431.75, 1335.2, 214.4, 3919.15, 566.1, 141.1, 1321.3, 300.4, 19.1, 1304.85, 581.7, 2911.8, 20.05, 587.45, 4664.2, 5401.9, 2823.0, 6126.15, 7031.45, 457.3, 150.75, 1643.55, 5036.9, 318.1, 1189.9, 4138.7, 1313.25, 1441.8, 118.25, 20.4, 173.0, 161.95, 123.65, 1901.0, 156.1, 1114.85, 1087.25, 5810.9, 2030.75, 2879.2, 638.55, 7118.9, 4421.95, 2209.75, 486.05, 948.9, 5894.5, 3363.8, 4526.85, 355.1, 220.45, 6081.4, 3119.9, 3128.8, 2929.75, 2088.45, 487.95, 4847.05, 1253.15, 4946.05, 2424.5, 454.05, 1888.45, 24.7, 119.5, 4103.9, 25.25, 1698.55, 765.45, 213.35, 3635.15, 1637.3, 5317.8, 5683.6, 3942.45, 43.95, 6859.05, 839.4, 7752.05, 5999.85, 322.5, 4188.4, 246.7, 1183.2, 3109.9, 4639.45, 6690.75, 4264.0, 641.15, 7035.6, 3618.7, 1337.45, 7459.0, 1600.95, 4563.0, 755.6, 3251.3, 5731.4, 3306.85, 2633.3, 3334.9, 955.15, 144.15, 2025.1, 967.9, 1588.25, 6562.9, 641.25, 7930.55, 253.8, 6991.6, 5060.85, 2045.55, 471.35, 818.45, 141.6, 674.55, 2263.4, 1004.35, 5705.05, 911.6, 2310.2, 654.55, 6688.95, 6572.85, 608.15, 6468.6, 2162.6, 1764.75, 41.2, 860.85, 1558.7, 1311.3, 35.1, 5602.25, 3231.05, 908.15, 6993.65, 198.6, 525.55, 552.9, 2453.3, 7173.15, 1971.15, 3419.3, 384.25, 989.05, 7806.6, 5600.15, 473.9, 39.8, 34.75, 5013.0, 2066.0, 3875.4, 1149.65, 20.15, 19.75, 1838.15, 5598.0, 4317.35, 770.4, 1802.55, 1329.15, 4447.75, 726.1, 3366.05, 214.75, 772.85, 97.0, 8003.8, 1406.0, 2773.9, 6241.35, 1327.4, 1584.8, 3090.05, 1857.75, 1033.0, 3320.6, 450.4, 4456.35, 4674.4, 7323.15, 746.05, 653.25, 5542.55, 500.1, 122.7, 7283.25, 607.3, 262.05, 1210.3, 54.5, 6518.35, 1826.7, 6129.65, 4137.2, 1468.75, 1462.05, 6130.85, 1112.3, 563.5, 4111.35, 7939.25, 1673.4, 46.3, 1730.65, 1665.2, 2036.55, 405.7, 118.4, 1523.4, 38.15, 1195.25, 4868.4, 3187.65, 3344.1, 3665.55, 3974.7, 892.15, 1463.45, 44.0, 3778.2, 4149.45, 2419.55, 3899.05, 1233.25, 838.7, 1830.1, 103.7, 649.4, 7578.05, 259.65, 562.7, 5960.5, 1138.8, 2016.45, 5301.1, 100.35, 280.35, 3766.2, 475.25, 1682.05, 3771.5, 7470.1, 50.6, 835.5, 1678.05, 8543.25, 5749.8, 75.1, 4523.25, 4804.65, 1373.0, 5435.0, 5430.65, 1923.85, 475.1, 5125.75, 1712.9, 352.65, 5673.7, 886.4, 902.0, 749.35, 2211.8, 3161.4, 686.95, 1066.9, 1509.9, 5215.1, 2220.1, 961.4, 19.55, 6914.95, 1782.0, 147.55, 1841.9, 6954.15, 7133.1, 1304.8, 661.55, 19.85, 1022.6, 7388.45, 2839.95, 767.55, 1288.75, 5733.4, 4884.85, 7559.55, 4385.05, 1191.2, 852.7, 7049.5, 5398.6, 8250.0, 4234.15, 6602.9, 6227.5, 336.7, 5511.65, 3687.75, 1546.3, 7159.7, 7015.9, 6342.7, 1959.5, 702.9, 1177.95, 21.05, 2094.9, 1611.0, 2070.75, 272.95, 657.5, 1434.6, 6153.85, 4016.75, 178.85, 61.15, 5731.85, 3958.2, 1336.35, 2513.5, 6224.8, 2570.2, 3199.0, 1785.65, 599.3, 1258.15, 1879.25, 1122.4, 461.3, 7076.35, 1533.8, 2802.3, 452.8, 1399.35, 5186.0, 1835.3, 3297.0, 5981.65, 6766.95, 280.4, 1683.6, 6506.15, 2239.4, 171.0, 7737.55, 1130.0, 5969.3, 320.45, 19.55, 6989.45, 389.8, 90.05, 4040.2, 2921.75, 220.4, 4119.4, 1017.35, 4985.9, 2048.8, 1378.45, 581.7, 1689.45, 5714.25, 174.65, 3077.0, 1023.75, 4282.4, 4473.0, 5848.6, 3190.25, 434.8, 493.95, 5555.3, 2536.55, 970.85, 1646.45, 3713.95, 1429.65, 801.3, 1857.25, 6273.4, 2696.55, 1306.3, 2680.15, 7707.7, 383.65, 55.7, 3263.9, 4613.95, 3684.95, 3729.75, 20.8, 1782.4, 3848.0, 4535.85, 1079.05, 58.3, 105.5, 218.5, 2443.3, 936.85, 6719.9, 4859.1, 2130.45, 4620.4, 7234.8, 7624.2, 1278.8, 1520.1, 3126.85, 52.05, 1171.3, 19.5, 1022.5, 708.8, 237.7, 819.95, 79.15, 6487.2, 4297.6, 4461.85, 1871.15, 512.25, 3720.35, 8312.4, 3334.95, 3565.65, 6375.2, 1218.45, 20.4, 979.05, 283.75, 1777.6, 138.85, 470.2, 5459.2, 659.45, 1093.2, 419.9, 564.65, 1554.9, 1414.8, 1071.4, 1165.9, 357.7, 6078.75, 2686.05, 3419.5, 3084.9, 3035.35, 5023.0, 1137.05, 2727.3, 1215.65, 1043.4, 533.05, 20.7, 1614.05, 3533.6, 144.35, 875.35, 128.6, 8093.15, 6860.6, 866.4, 701.05, 4284.65, 20.5, 3983.6, 3147.15, 7195.35, 4391.25, 564.35, 348.8, 761.95, 1898.1, 49.65, 5730.15, 5347.95, 45.8, 926.0, 1648.45, 1151.05, 184.15, 1941.5, 1007.8, 242.4, 2484.0, 2896.55, 1784.5, 2640.55, 6511.25, 2626.15, 1277.5, 3027.65, 1035.5, 5986.55, 6375.8, 1427.55, 3517.9, 8022.85, 19.75, 1580.1, 3371.0, 7517.7, 4228.55, 3423.5, 1347.15, 5194.05, 6256.2, 3247.55, 397.0, 921.3, 6782.15, 2586.0, 7789.6, 234.85, 4145.9, 2638.1, 1379.6, 2494.65, 470.0, 4532.3, 50.75, 2719.2, 305.55, 3848.8, 3358.65, 3251.85, 3533.6, 147.8, 745.3, 973.1, 2924.05, 590.35, 7475.1, 811.65, 1191.4, 6416.7, 1234.6, 1759.55, 1382.9, 1498.65, 6029.0, 2023.55, 1094.35, 678.8, 943.85, 1916.0, 44.55, 2326.05, 1516.6, 51.25, 442.45, 644.5, 760.05, 6563.4, 25.0, 2658.8, 3003.55, 1493.2, 1013.35, 5692.65, 161.15, 3842.6, 7920.7, 425.1, 400.0, 3000.25, 465.7, 43.15, 6129.2, 96.8, 1850.65, 2083.1, 533.6, 769.1, 538.2, 83.3, 275.4, 6301.7, 6875.35, 2549.1, 1010.0, 1334.5, 74.35, 3527.0, 1268.85, 4138.9, 2560.1, 6841.4, 1386.8, 3091.75, 2106.3, 299.75, 4096.9, 1401.4, 8182.75, 1274.45, 3801.3, 923.1, 3487.95, 48.45, 5979.7, 1226.45, 2882.25, 897.75, 220.45, 2475.35, 3686.05, 8297.5, 1165.6, 495.15, 6310.9, 2874.45, 844.45, 3440.25, 128.6, 1653.85, 3600.65, 4947.55, 7629.85, 6754.35, 1798.9, 630.6, 5012.1, 3541.4, 19.2, 1332.4, 2072.75, 2021.35, 439.75, 5930.05, 780.1, 2181.55, 51.2, 3094.65, 452.2, 540.05, 962.9, 736.8, 318.6, 1367.75, 1626.05, 261.65, 1597.05, 5601.4, 3418.2, 5637.85, 8065.65, 2034.25, 2440.25, 4577.9, 62.9, 4113.7, 625.05, 134.75, 501.2, 48.6, 7581.5, 3162.65, 704.3, 174.45, 363.15, 2406.1, 8175.9, 1664.3, 2421.6, 693.3, 4808.7, 246.25, 1156.55, 4746.05, 189.1, 1388.45, 5174.35, 1564.4, 631.4, 1493.75, 1067.65, 1683.7, 255.35, 4326.25, 2793.55, 1001.5, 67.55, 375.25, 903.7, 5135.35, 7181.25, 1640.0, 5175.3, 1500.95, 711.95, 3452.55, 1385.85, 1354.4, 2656.7, 147.5, 1265.65, 587.7, 759.35, 92.5, 2395.05, 86.35, 1118.8, 245.15, 137.25, 2878.55, 6843.15, 861.85, 3357.9, 1337.5, 1067.05, 1250.85, 524.5, 3254.35, 1638.7, 1769.6, 275.7, 3478.15, 595.05, 930.9, 6017.9, 5589.3, 5438.95, 3682.45, 8058.55, 3035.8, 4891.5, 2106.05, 109.5, 50.15, 3902.6, 3886.85, 1207.0, 7521.95, 1686.15, 208.25, 1433.8, 61.45, 2471.25, 2038.7, 5099.15, 222.65, 37.2, 398.55, 571.75, 7795.95, 1020.2, 980.35, 330.8, 1859.5, 1789.9, 784.45, 2139.1, 6018.65, 3435.6, 905.55, 3047.15, 4039.5, 2766.4, 398.55, 935.9, 6921.7, 3739.8, 7447.7, 3645.5, 552.1, 5991.05, 3704.15, 4976.15, 302.35, 1153.25, 2434.45, 928.4, 3021.3, 1654.7, 74.0, 70.2, 4914.8, 2283.15, 6912.7, 6536.5, 2301.15, 2390.45, 2692.75, 7334.05, 1630.4, 19.65, 601.6, 1379.8, 528.45, 5042.75, 3593.8, 492.1, 2200.7, 70.7, 2272.8, 73.05, 5067.45, 2169.4, 5965.95, 775.3, 639.45, 867.3, 6287.3, 139.25, 1411.2, 1490.4, 3204.4, 6019.35, 677.05, 6449.15, 832.3, 6470.1, 3038.55, 4965.0, 695.85, 690.5, 2898.95, 5969.3, 568.85, 2595.85, 3042.25, 1522.65, 6254.45, 228.75, 5785.65, 908.55, 1345.85, 1114.55, 733.55, 3965.05, 835.15, 7732.65, 3914.05, 1410.25, 4200.25, 5224.5, 4487.3, 2413.05, 4189.7, 8041.65, 6139.5, 879.8, 4820.55, 156.85, 5044.8, 2479.05, 32.7, 6425.65, 2509.25, 1045.25, 113.5, 3389.25, 20.45, 185.2, 2896.6, 888.65, 2203.7, 4932.5, 1615.1, 1209.25, 1175.85, 2564.95, 6423.0, 1031.1, 331.6, 997.75, 5330.2, 689.75, 1714.95, 4415.75, 712.25, 4939.25, 244.1, 1286.0, 2210.2, 5329.55, 989.05, 810.45, 357.0, 7657.4, 638.95, 3418.2, 902.25, 4732.35, 1083.0, 436.2, 3196.0, 1396.25, 2576.8, 1247.75, 321.05, 6401.25, 854.8, 452.35, 478.75, 4060.55, 2031.95, 435.0, 44.0, 2215.4, 392.5, 1028.9, 3581.4, 116.95, 1387.35, 19.0, 417.65, 5153.5, 4133.95, 1441.65, 1750.85, 1215.45, 1195.95, 7082.5, 150.0, 146.6, 4982.5, 1020.75, 2067.0, 5893.9, 1115.6, 882.55, 299.3, 61.35, 6457.15, 111.65, 1188.25, 1051.05, 7932.5, 478.1, 3580.95, 5607.75, 4428.45, 1443.65, 4063.0, 3645.5, 1743.9, 1747.2, 190.25, 6692.65, 44.8, 1119.9, 790.7, 2964.0, 2343.85, 72.1, 1559.45, 2168.9, 8476.5, 232.1, 8046.85, 144.0, 4911.35, 1412.4, 5236.4, 250.8, 6110.75, 4735.35, 2928.5, 7616.0, 1901.65, 1734.65, 208.0, 944.65, 163.55, 532.1, 858.6, 2157.5, 1189.4, 5409.75, 251.65, 3173.35, 6631.85, 4861.45, 1199.4, 123.05, 19.2, 3829.75, 576.95, 641.35, 4917.9, 3946.9, 6825.65, 3846.75, 1494.5, 7677.4, 765.15, 343.45, 5757.2, 1215.8, 94.4, 3168.75, 7467.55, 3219.75, 1547.35, 1259.35, 1462.6, 1815.65, 4154.55, 964.35, 5500.6, 1261.35, 118.25, 601.55, 4263.4, 1391.65, 7288.4, 1042.65, 2188.45, 1107.2, 3112.05, 6176.6, 1652.95, 1654.85, 3888.65, 1862.9, 65.95, 3270.25, 3055.5, 675.6, 668.85, 4872.35, 6501.35, 2768.35, 4845.4, 7511.65, 4634.35, 7719.5, 89.35, 1725.4, 3624.35, 5755.8, 116.6, 4052.4, 298.7, 101.1, 1082.75, 184.4, 6786.1, 4863.85, 422.3, 1024.0, 383.55, 2796.45, 5324.5, 894.3, 1282.85, 571.05, 1174.35, 6555.2, 5676.0, 2985.25, 4261.2, 4322.85, 864.85, 3582.4, 1253.5, 6819.45, 780.2, 1601.2, 401.85, 6083.1, 1623.4, 720.1, 8332.15, 6332.75, 2199.05, 347.65, 151.75, 2172.05, 1027.25, 1793.25, 4510.8, 6309.65, 5348.65, 1284.2, 1216.35, 4744.35, 485.9, 6880.85, 1498.55, 5411.4, 8477.7, 1077.5, 2754.0, 2763.0, 5437.75, 190.5, 20.55, 284.9, 2259.35, 1466.1, 654.85, 3948.45, 3242.5, 6383.9, 5594.0, 501.35, 4131.2, 1859.1, 92.75, 1424.2, 1982.1, 1614.2, 1597.4, 498.25, 1620.25, 1342.15, 3482.85, 3126.45, 20.35, 19.1, 541.5, 8312.75, 4070.95, 2192.9, 1266.4, 553.4, 3166.9, 6223.3, 3023.55, 49.05, 6218.45, 5265.2, 6841.05, 487.05, 5199.8, 123.8, 3835.55, 5224.95, 146.65, 1468.75, 1800.05, 130.15, 29.85, 1267.0, 2790.65, 125.95, 4479.2, 8277.05, 5552.5, 7159.05, 2168.15, 1647.0, 83.75, 7882.25, 6557.75, 2538.2, 6929.4, 5893.95, 521.35, 697.65, 5956.85, 1818.3, 7245.9, 1952.25, 45.4, 3107.3, 4238.45, 198.25, 1816.75, 507.4, 3190.65, 7455.45, 5064.45, 1033.9, 684.05, 2281.6, 2861.45, 4904.25, 2971.7, 114.15, 162.15, 235.0, 3687.85, 6654.1, 593.3, 1325.85, 5714.2, 181.8, 4993.4, 3068.6, 4917.75, 912.0, 3097.2, 3629.2, 5514.95, 6252.7, 174.2, 19.4, 44.4, 7412.25, 100.2, 5040.2, 4126.35, 873.4, 917.45, 6382.0, 613.95, 520.1, 5731.45, 124.45, 4266.4, 5265.5, 2684.85, 5012.35, 1229.1, 264.8, 2835.5, 211.95, 191.1, 2016.3, 4663.4, 5682.25, 3480.35, 1993.2, 402.5, 1992.95, 223.15, 5815.15, 907.05, 499.4, 135.75, 3097.0, 3540.65, 855.1, 4299.75, 521.9, 6118.95, 3645.05, 181.65, 5121.75, 381.2, 20.6, 3753.2, 19.25, 7548.6, 1556.85, 764.55, 454.0, 534.7, 6503.2, 3688.6, 4323.35, 970.4, 1856.4, 1882.55, 2976.95, 1782.0, 6891.45, 1440.75, 6435.25, 583.3, 223.9, 412.6, 2664.3, 68.2, 61.05, 321.7, 2337.45, 1927.3, 3605.6, 3092.0, 4116.8, 20.2, 469.25, 6362.35, 1537.85, 140.1, 5943.65, 4162.05, 3741.85, 653.9, 2753.8, 4692.55, 5959.3, 4507.15, 340.4, 5129.45, 3414.65, 19.8, 1713.1, 3921.1, 224.85, 340.85, 152.3, 1783.75, 113.95, 7039.05, 20.25, 1173.55, 359.4, 7550.3, 68.35, 958.25, 272.0, 2683.2, 813.45, 981.45, 27.55, 4653.25, 447.9, 4983.05, 287.85, 5925.75, 1346.3, 6369.45, 494.9, 4194.85, 2958.95, 1657.4, 231.45, 1261.45, 2156.25, 7279.35, 1623.15, 571.15, 24.4, 6998.95, 5448.6, 3145.15, 1908.35, 2317.1, 5498.8, 6322.1, 106.8, 75.35, 1868.4, 406.95, 693.45, 59.55, 973.65, 5762.95, 6747.35, 5138.1, 1505.35, 836.35, 433.75, 3027.25, 7849.85, 713.6, 6549.45, 3723.65, 945.7, 1374.35, 985.05, 1414.65, 247.0, 290.55, 6994.8, 2633.95, 3617.1, 416.45, 1588.75, 620.55, 7430.75, 856.5, 3545.05, 5718.2, 3952.65, 6109.75, 2049.05, 1667.25, 337.9, 7853.7, 6548.65, 2191.7, 854.45, 845.25, 6068.65, 1783.6, 1212.1, 1652.1, 6510.45, 6585.2, 1980.3, 20.4, 351.5, 1297.35, 1790.6, 7887.25, 2538.05, 4903.15, 2627.2, 2909.95, 2516.2, 475.1, 5229.8, 7869.05, 1097.15, 1108.6, 4422.95, 1718.95, 1888.25, 1596.6, 7386.05, 1133.7, 239.0, 71.1, 996.45, 5321.25, 7748.75, 3772.65, 6944.5, 2107.15, 6689.0, 5919.35, 1131.5, 413.0, 780.25, 4079.55, 401.3, 1111.2, 7767.25, 3871.85, 2033.85, 45.2, 600.25, 144.8, 1386.9, 3721.9, 5917.55, 1205.05, 1937.4, 2674.15, 485.2, 177.4, 424.75, 3952.45, 1295.4, 1033.95, 1864.2, 417.7, 1672.35, 8244.3, 1024.7, 5017.7, 157.55, 4048.95, 1477.65, 5498.2, 1403.1, 1360.25, 842.25, 573.15, 3880.05, 155.9, 999.8, 5588.8, 731.3, 8058.85, 5496.9, 1376.5, 514.6, 429.55, 1336.1, 294.5, 2937.65, 3778.85, 79.05, 4520.15, 8086.4, 5460.2, 4931.8, 4524.05, 5608.4, 185.4, 1859.2, 865.1, 5867.0, 19.5, 2198.9, 306.05, 893.2, 1905.4, 733.95, 624.15, 4554.85, 2196.3, 7943.45, 1436.95, 6075.9, 4693.2, 1093.4, 3471.1, 3729.75, 943.1, 355.9, 3767.4, 1992.85, 4386.2, 223.6, 6511.8, 910.45, 1702.9, 802.35, 2961.4, 929.2, 601.6, 5443.65, 186.15, 1395.05, 547.8, 284.3, 5295.7, 920.5, 5812.0, 5377.8, 3177.25, 2440.25, 4614.55, 3649.6, 80.55, 5305.05, 40.9, 2196.45, 597.9, 186.05, 7188.5, 7840.6, 369.05, 3273.95, 2248.05, 4859.95, 4308.25, 419.7, 147.75, 210.65, 999.9, 2062.15, 6311.2, 4916.4, 183.15, 1405.3, 3165.6, 50.1, 4345.0, 2444.25, 152.95, 1009.25, 1258.35, 313.45, 2835.9, 4108.15, 5270.6, 1374.2, 6991.9, 411.25, 1024.65, 190.1, 374.8, 1355.1, 550.1, 6474.45, 3650.35, 4018.05, 4513.65, 609.05, 6385.95, 109.25, 7962.2, 25.7, 7880.25, 3161.2, 5289.8, 402.85, 3694.7, 2614.1, 76.95, 551.3, 1090.65, 1255.1, 6725.5, 69.25, 611.65, 1402.25, 4214.25, 1867.6, 7953.25, 1887.0, 1570.7, 3005.8, 50.15, 2657.55, 44.0, 291.45, 844.45, 402.6, 1167.6, 826.0, 6052.25, 1305.95, 217.45, 7862.25, 353.65, 4392.5, 2774.55, 197.4, 5031.0, 7942.15, 3450.15, 417.75, 207.4, 685.55, 332.5, 574.35, 5861.75, 3638.25, 1423.05, 335.4, 2419.0, 3861.45, 7679.65, 890.5, 274.7, 3069.45, 629.55, 3627.3, 1821.8, 44.05, 1923.5, 824.85, 73.45, 6989.7, 4039.0, 24.2, 681.4, 497.3, 5791.1, 450.9, 457.1, 5676.65, 4107.25, 312.7, 3974.15, 7898.45, 2090.25, 6392.85, 6185.8, 5681.1, 3915.4, 1183.05, 78.3, 6151.9, 7576.7, 957.1, 8456.75, 268.4, 938.65, 245.15, 415.4, 20.05, 1672.35, 942.95, 5068.05, 6055.55, 5232.9, 6567.9, 1212.25, 5794.45, 49.55, 2414.55, 2479.25, 7132.15, 1345.65, 1866.45, 566.5, 4753.85, 1672.1, 535.35, 3399.85, 1237.65, 5219.65, 6744.2, 1902.0, 1218.25, 494.95, 2854.95, 1642.75, 7422.1, 244.75, 3379.25, 610.2, 5817.7, 3756.4, 1914.5, 4265.0, 1691.9, 1327.85, 572.2, 5957.9, 3425.35, 385.55, 1797.75, 1776.0, 1787.35, 1273.3, 370.4, 1277.75, 85.5, 8192.6, 1696.2, 3865.6, 546.85, 3778.1, 154.55, 5364.8, 8165.1, 6519.75, 1982.6, 1021.55, 7069.25, 3858.05, 768.45, 854.9, 914.6, 8061.5, 2820.65, 1088.25, 140.4, 3827.9, 3139.8, 6328.7, 1222.25, 592.65, 1885.15, 3670.5, 3562.5, 5515.8, 426.65, 2423.4, 3522.65, 1301.9, 6046.1, 4903.2, 792.15, 3460.95, 6674.65, 777.35, 1612.2, 869.9, 2019.8, 5480.25, 2028.8, 3373.4, 309.25, 1416.75, 4310.35, 2857.6, 3023.65, 324.2, 6683.4, 4968.0, 3478.75, 3088.25, 7998.8, 221.1, 1299.8, 3557.7, 5953.0, 6603.8, 3053.0, 279.3, 2080.1, 2230.85, 554.45, 1502.25, 1964.6, 3824.2, 5779.6, 2679.7, 5711.05, 1031.7, 125.5, 5327.25, 3505.1, 5655.45, 19.2, 25.35, 3121.4, 1326.25, 826.1, 1032.05, 574.5, 2838.55, 3886.45, 253.8, 74.1, 433.5, 926.2, 6697.2, 1699.15, 2356.75, 61.7, 168.5, 4631.7, 900.9, 6588.95, 6201.95, 243.65, 1393.6, 1071.6, 2737.05, 947.4, 520.95, 25.4, 169.75, 1706.45, 3090.65, 82.9, 101.65, 1539.75, 5971.25, 6770.85, 4869.5, 552.7, 1013.2, 1801.9, 331.35, 373.0, 780.85, 1447.9, 340.35, 4779.45, 3472.05, 55.25, 7842.3, 5832.0, 6637.9, 418.3, 255.5, 1677.85, 4747.85, 6614.9, 1316.9, 4374.55, 61.05, 5564.85, 445.85, 4014.2, 750.1, 6632.75, 4525.8, 1011.8, 2134.3, 1985.15, 21.1, 2108.35, 3208.65, 4615.25, 383.65, 6033.1, 683.25, 1416.5, 8443.7, 3545.1, 827.3, 4509.5, 2780.6, 1505.05, 1057.85, 8331.95, 5869.4, 1553.2, 578.5, 8100.55, 987.95, 493.65, 4391.45, 555.4, 408.5, 3953.7, 8016.6, 835.5, 2104.55, 84.6, 946.95, 7713.55, 2948.6, 1931.3, 2188.5, 1529.45, 2799.75, 3756.45, 3521.7, 1175.6, 45.25, 1905.7, 313.0, 531.6, 4542.35, 4068.0, 929.3, 3420.5, 5903.15, 7396.15, 2007.85, 7149.35, 7113.75, 2308.6, 658.1, 424.5, 1540.35, 1806.35, 2747.2, 505.95, 2344.5, 2065.15, 1078.75, 490.55, 202.9, 561.15, 2807.65, 2212.55, 809.25, 6049.5, 677.9, 1688.9, 4566.5, 515.75, 3143.65, 428.45, 7467.5, 89.75, 369.1, 186.3, 5968.4, 6237.05, 7985.9, 322.9, 6363.45, 1445.2, 936.7, 692.55, 6951.15, 1117.55, 2320.8, 313.6, 5032.25, 550.35, 3751.15, 4952.95, 382.8, 670.65, 927.15, 6841.45, 217.5, 1140.05, 5535.8, 702.05, 1893.5, 537.35, 2058.5, 7845.8, 3574.5, 5610.15, 207.35, 1474.35, 134.05, 5746.75, 1742.5, 5948.7, 2847.2, 6161.9, 4335.2, 4888.2, 846.8, 4230.25, 4224.7, 1068.15, 223.75, 3566.7, 2979.3, 246.3, 616.9, 831.75, 2964.8, 313.4, 614.45, 286.8, 4674.55, 1161.75, 1011.5, 45.55, 5811.8, 4619.55, 926.25, 605.25, 172.35, 6668.35, 562.6, 797.25, 252.75, 1195.75, 111.4, 1302.65, 1843.05, 5135.15, 4976.15, 5567.45, 55.55, 1340.1, 827.7, 6717.9, 6034.85, 7337.55, 2455.05, 266.6, 5760.65, 5611.7, 7878.3, 58.0, 4375.8, 3465.7, 2545.7, 3265.95, 49.7, 6713.2, 4445.3, 1232.9, 20.75, 4858.7, 5832.65, 377.85, 5791.85, 184.05, 92.05, 1493.2, 3255.35, 369.25, 5420.65, 914.4, 4911.05, 1813.1, 6444.05, 1166.7, 3283.05, 2633.4, 682.15, 167.2, 3769.7, 5502.55, 953.65, 6033.3, 2583.75, 521.8, 3021.45, 44.0, 7303.05, 2078.55, 20.35, 1940.8, 1296.15, 2917.65, 583.0, 198.1, 35.0, 3145.9, 6333.8, 3810.55, 781.25, 6350.5, 6812.95, 160.05, 4179.2, 4438.2, 3950.85, 579.0, 5646.6, 1748.9, 4904.85, 5935.1, 4589.85, 8308.9, 459.6, 3282.75, 198.7, 2879.9, 1497.9, 510.8, 371.6, 1820.9, 2799.0, 2894.55, 4671.7, 200.2, 7142.5, 19.65, 5025.0, 2375.2, 5743.3, 2433.5, 1263.9, 6849.4, 362.6, 5997.1, 39.3, 2006.1, 3454.6, 1662.05, 4676.7, 232.5, 2201.75, 4741.45, 3674.95, 1500.5, 2386.85, 6997.3, 82.85, 4692.95, 7028.5, 2215.25, 417.5, 576.7, 1129.35, 1391.15, 4193.4, 931.55, 226.95, 4495.65, 2495.15, 7472.15, 7493.05, 4368.95, 471.7, 754.0, 1608.15, 611.45, 1160.75, 3316.1, 132.4, 1190.5, 2911.5, 411.75, 5980.55, 121.25, 4428.6, 827.45, 59.25, 531.15, 1242.45, 235.8, 7508.55, 19.3, 2462.55, 5831.2, 1357.1, 244.85, 460.25, 8404.9, 6669.05, 8496.7, 883.35, 3314.15, 1434.1, 370.25, 620.75, 660.05, 1813.35, 970.55, 477.6, 849.9, 351.55, 73.1, 2249.1, 5375.15, 335.75, 4144.8, 7110.75, 106.9, 471.55, 24.9, 4914.9, 63.6, 1952.8, 755.4, 1381.8, 710.05, 89.05, 44.2, 422.6, 311.6, 2283.3, 336.15, 3009.5, 1139.2, 7321.05, 6376.55, 6565.85, 2184.85, 2599.95, 996.85, 523.1, 393.45, 5253.95, 5886.85, 1911.5, 7459.05, 220.75, 5059.75, 5196.1, 268.45, 4758.8, 3985.35, 1083.7, 808.95, 6172.0, 3541.1, 827.05, 20.75, 1336.9, 2044.95, 84.5, 218.55, 70.6, 486.2, 2907.55, 307.6, 2666.75, 768.05, 189.45, 5038.45, 4217.8, 414.1, 146.4, 96.8, 31.9, 1014.25, 297.35, 1758.9, 875.55, 140.95, 2965.75, 3634.8, 1505.15, 107.05, 3132.75, 3632.0, 295.95, 7966.9, 1299.1, 1388.0, 7322.5, 4747.2, 5129.3, 5936.55, 6838.6, 918.7, 2070.05, 272.35, 1928.7, 481.1, 1451.1, 1221.65, 107.25, 2796.35, 938.95, 246.7, 567.8, 3729.6, 226.55, 1222.65, 1567.0, 5703.0, 184.95, 5424.25, 137.1, 5780.7, 4124.65, 2395.7, 5680.9, 2244.95, 781.4, 475.7, 7553.6, 1579.7, 7325.1, 233.9, 1809.35, 4664.15, 1810.85, 43.85, 1423.15, 2651.1, 2204.35, 3808.0, 467.15, 6767.1, 1756.6, 3646.8, 4014.0, 6844.5, 2234.95, 507.9, 1284.2, 2309.55, 226.2, 1654.75, 386.5, 5064.85, 6223.8, 4519.5, 1301.1, 1802.15, 1564.05, 6293.2, 5471.75, 365.8, 1331.05, 5484.4, 20.2, 5890.0, 3645.75, 1493.1, 20.05, 1212.85, 4018.55, 4889.2, 69.95, 1181.75, 648.65, 1861.1, 342.3, 382.2, 568.2, 3972.25, 2096.1, 1803.7, 3608.0, 1419.4, 225.85, 4016.3, 868.1, 157.65, 4085.75, 742.9, 779.2, 825.4, 679.0, 4378.35, 406.05, 107.6, 2208.75, 2007.25, 2044.75, 1563.95, 19.9, 1378.75, 3958.85, 1143.8, 414.95, 775.6, 150.6, 258.35, 350.35, 565.35, 7751.7, 602.9, 1077.05, 5969.95, 2357.75, 612.1, 1234.8, 2438.6, 610.75, 786.5, 1737.45, 1864.65, 4447.55, 55.05, 3539.25, 270.6, 470.2, 1798.65, 108.65, 6339.3, 6352.4, 723.35, 19.75, 1245.05, 36.8, 5060.9, 3772.5, 1224.05, 4949.1, 525.0, 3561.15, 4179.1, 8033.1, 1057.55, 2607.6, 20.15, 2345.55, 1134.25, 4824.45, 372.45, 2554.0, 749.25, 1087.45, 595.5, 1363.45, 1372.9, 3116.15, 530.05, 19.85, 3791.6, 4600.95, 109.6, 95.85, 1184.0, 1536.75, 958.45, 154.8, 3015.75, 435.45, 845.6, 3886.05, 1673.8, 19.9, 4122.65, 3625.2, 1558.65, 830.8, 302.6, 2264.5, 391.7, 4997.5, 343.6, 6404.0, 339.9, 1124.2, 633.85, 135.2, 454.65, 109.8, 68.45, 5071.9, 799.0, 2460.55, 1507.0, 6157.6, 947.75, 605.9, 346.45, 4920.8, 2398.4, 260.7, 43.8, 1738.9, 5276.1, 2316.85, 7047.5, 4862.5, 2015.8, 2473.95, 4735.2, 55.3, 1271.8, 3439.0, 1846.65, 1346.2, 1478.85, 89.25, 7008.15, 38.0, 190.25, 617.15, 170.9, 5102.35, 201.95, 2684.35, 8129.3, 3876.2, 3442.8, 50.6, 1298.7, 564.35, 20.05, 4627.8, 7297.75, 1442.6, 130.25, 1679.4, 2093.9, 295.55, 3249.4, 265.8, 1459.35, 505.45, 2848.45, 3246.45, 5289.05, 2020.9, 405.6, 7746.7, 1461.15, 2130.55, 344.2, 847.25, 5475.9, 1270.25, 1123.65, 2722.2, 6816.95, 7567.2, 1417.9, 1901.25, 1423.85, 4929.55, 4616.1, 1165.55, 1938.05, 4494.65, 1198.8, 7919.8, 655.3, 55.25, 57.2, 4134.7, 1373.05, 5333.35, 85.1, 276.5, 1643.25, 54.3, 74.2, 1424.4, 19.45, 187.35, 4267.15, 1025.15, 5034.05, 250.1, 7074.4, 1263.05, 4263.45, 1374.9, 5597.65, 1406.65, 1208.6, 4528.0, 1663.5, 1426.45, 2730.85, 8375.05, 4730.9, 5623.7, 7053.35, 5357.75, 3339.05, 341.35, 3901.25, 469.65, 1740.8, 2897.95, 1287.85, 605.45, 4097.05, 220.65, 1453.1, 6721.6, 5563.65, 838.5, 931.75, 651.5, 56.0, 4995.35, 1070.5, 707.5, 7138.65, 7511.9, 19.65, 1187.05, 4630.2, 5264.3, 8349.45, 4304.0, 6744.25, 2075.1, 5661.7, 98.5, 1461.45, 5824.75, 2553.7, 2383.6, 84.2, 324.15, 6441.85, 4733.1, 1303.5, 4459.8, 2053.05, 943.0, 1016.7, 3274.35, 635.9, 120.25, 178.8, 1611.65, 326.8, 1857.3, 3906.7, 20.25, 7227.45, 219.5, 1235.55, 716.4, 1600.25, 6302.8, 1620.2, 1266.35, 679.8, 401.5, 5958.85, 244.8, 8672.45, 44.3, 7882.5, 2054.4, 278.4, 314.45, 7382.85, 4854.3, 4362.05, 129.15, 1629.2, 463.6, 779.25, 321.4, 3551.65, 368.85, 7365.3, 50.7, 689.0, 949.8, 527.35, 4300.8, 2936.25, 1948.35, 3512.15, 1275.85, 4013.8, 2215.45, 373.5, 235.05, 29.15, 1125.6, 617.65, 349.8, 266.8, 494.05, 6697.35, 1260.7, 3874.1, 67.1, 264.55, 5913.95, 6538.45, 25.85, 69.9, 1364.75, 3371.75, 1559.25, 4442.75, 2619.15, 419.4, 2939.8, 1102.4, 4109.0, 6145.2, 3403.4, 2215.0, 404.35, 683.25, 340.35, 6578.55, 1971.5, 45.3, 1873.7, 2448.5, 533.5, 5826.65, 4920.55, 196.4, 6652.45, 45.35, 4586.15, 992.7, 1121.05, 1525.35, 4784.45, 6827.5, 134.6, 720.45, 74.6, 5265.55, 4759.55, 7108.2, 743.3, 2184.6, 2111.3, 119.3, 1174.8, 2723.4, 2575.45, 6668.0, 1784.9, 18.9, 1679.65, 439.2, 4220.35, 275.9, 7405.5, 2568.15, 3571.6, 296.15, 279.5, 1080.55, 1848.8, 6871.7, 535.55, 249.55, 2431.95, 330.8, 1130.85, 2959.8, 5442.05, 1411.9, 407.05, 934.8, 4729.75, 99.95, 2748.7, 288.35, 1208.15, 662.95, 1956.4, 20.2, 130.55, 1734.5, 5234.95, 516.3, 529.8, 1745.5, 6368.2, 646.05, 3062.45, 7544.0, 1706.45, 5437.1, 369.3, 1050.5, 4615.9, 4786.15, 5686.4, 2191.15, 390.4, 8349.7, 2933.95, 237.2, 411.15, 3894.4, 1743.05, 6448.85, 7623.2, 4285.8, 2832.75, 310.6, 515.75, 323.15, 851.2, 7222.75, 7111.3, 3023.85, 1013.05, 1790.15, 4297.95, 20.65, 19.95, 4738.85, 2970.3, 3847.6, 5411.65, 1171.5, 188.1, 4543.15, 7634.25, 2460.35, 3470.8, 1401.15, 2884.9, 805.2, 253.0, 1442.65, 1884.65, 1147.0, 3808.2, 330.25, 833.55, 603.0, 1231.85, 284.35, 3088.75, 609.1, 1493.55, 4069.9, 1653.45, 49.95, 2619.25, 1322.55, 1714.55, 1636.95, 171.45, 2404.1, 20.95, 3409.1, 252.0, 1539.8, 4245.55, 955.6, 5165.7, 3181.8, 2492.25, 5125.5, 1269.6, 215.25, 38.25, 3313.4, 5682.25, 2117.2, 239.75, 970.45, 6869.7, 91.45, 3770.0, 3510.3, 587.1, 5481.25, 1309.15, 6613.65, 83.75, 1871.85, 45.75, 42.7, 55.7, 52.0, 3043.7, 3846.35, 3887.25, 930.05, 4689.15, 6058.95, 6424.7, 663.55, 538.5, 1396.0, 724.65, 1710.9, 268.45, 5720.95, 5025.85, 709.5, 3990.75, 1540.05, 727.85, 6590.5, 1192.7, 5070.4, 1346.9, 20.0, 158.35, 249.4, 780.15, 4977.2, 4916.95, 475.2, 2447.45, 93.55, 1442.0, 857.8, 219.35, 607.7, 1778.5, 194.2, 99.45, 267.0, 1152.8, 3103.25, 2862.55, 401.95, 3795.45, 1375.4, 201.7, 2623.65, 1993.25, 1725.95, 7397.0, 4889.3, 7099.0, 2369.3, 958.15, 1620.2, 741.5, 5696.6, 60.65, 1886.4, 773.2, 487.75, 93.45, 308.1, 1358.6, 1816.2, 5798.3, 1307.8, 1070.7, 3930.55, 451.55, 412.55, 6140.85, 2974.5, 1058.1, 5538.35, 3019.1, 4590.35, 1874.45, 179.85, 7362.9, 2789.7, 829.3, 7965.95, 1601.5, 2570.2, 6595.9, 1821.95, 1506.4, 3503.5, 1810.55, 38.45, 1261.0, 1545.4, 262.3, 159.35, 2348.45, 7171.7, 465.45, 1441.95, 493.4, 2296.25, 3474.2, 5897.4, 1286.05, 1073.3, 466.6, 6316.2, 400.3, 795.65, 1782.05, 2815.25, 3416.85, 4707.1, 345.5, 2224.5, 5839.3, 3375.9, 49.8, 1375.6, 3273.8, 49.3, 3838.75, 4872.2, 956.65, 966.55, 572.85, 324.8, 4484.05, 4174.35, 5629.55, 3486.65, 144.95, 2292.75, 100.9, 19.55, 973.95, 1446.8, 3994.05, 1733.15, 5898.6, 587.4, 3217.65, 3958.25, 1651.95, 5538.8, 4541.9, 7922.75, 1718.2, 741.4, 5728.55, 193.05, 20.45, 238.5, 2263.45, 522.35, 3488.15, 1355.45, 136.75, 4433.3, 592.65, 4984.85, 7758.9, 2042.05, 4178.65, 790.0, 90.05, 1389.85, 1381.8, 2845.15, 5835.5, 5753.25, 4122.9, 6045.9, 890.35, 6716.45, 1240.15, 1524.85, 6339.45, 1252.0, 7085.5, 3928.3, 577.15, 2809.05, 449.3, 917.15, 3365.4, 4309.55, 4116.9, 6643.5, 227.35, 44.45, 7334.05, 4765.0, 1498.85, 269.65, 3822.45, 1070.25, 2391.15, 389.25, 1411.35, 6586.85, 6130.95, 5264.5, 2618.3, 244.45, 19.05, 1801.1, 445.3, 3161.6, 20.2, 62.0, 3008.15, 1641.8, 20.3, 3870.0, 8436.25, 302.45, 3205.6, 199.85, 4543.95, 4378.9, 3756.45, 1983.15, 2018.4, 3377.8, 2511.55, 7349.35, 4684.3, 1563.9, 20.45, 1701.65, 1079.65, 5139.65, 1593.1, 383.65, 653.95, 7112.15, 3089.6, 55.45, 5974.3, 6239.05, 503.25, 676.15, 107.1, 318.6, 1430.95, 5244.45, 1123.15, 1125.2, 4805.3, 1794.65, 1458.1, 931.9, 1108.2, 44.15, 1886.25, 20.2, 260.9, 1336.65, 1049.05, 4059.85, 666.0, 759.55, 2193.65, 1414.2, 5431.9, 2830.45, 7984.15, 3491.55, 208.45, 5308.7, 4017.45, 3789.2, 2852.4, 3169.55, 1715.15, 2409.9, 735.5, 3175.85, 521.0, 6463.15, 6152.3, 3735.45, 143.65, 241.3, 651.55, 1739.6, 2979.2, 1697.7, 432.25, 7413.55, 435.25, 7714.65, 162.45, 422.7, 436.9, 117.05, 5924.4, 7565.35, 8424.9, 8309.55, 367.55, 1054.75, 876.15, 2659.45, 2656.3, 8337.45, 6393.65, 5825.5, 1245.6, 1387.45, 1363.25, 4017.45, 1682.4, 447.75, 259.4, 4594.65, 106.2, 2877.05, 2658.4, 19.55, 592.75, 828.05, 2341.55, 202.3, 6885.75, 6889.8, 335.95, 4641.1, 134.05, 377.55, 1790.8, 3260.1, 198.5, 4042.2, 695.05, 1463.7, 1594.75, 124.4, 678.45, 688.0, 1203.9, 105.6, 1252.85, 1566.9, 6296.75, 1857.85, 408.25, 86.05, 163.6, 3353.4, 358.15, 162.55, 877.35, 6096.45, 420.45, 727.8, 19.65, 4671.65, 46.4, 1025.05, 57.5, 161.65, 5016.25, 2782.4, 232.35, 49.8, 70.1, 4738.3, 5595.3, 2665.0, 4475.9, 369.6, 5386.5, 2548.65, 95.55, 314.55, 206.15, 3292.3, 399.25, 2227.8, 2888.7, 49.9, 469.65, 161.45, 2813.05, 98.35, 5487.0, 1279.0, 417.0, 7990.05, 1126.75, 275.7, 771.95, 6388.65, 1709.1, 4575.35, 2245.4, 403.15, 6367.2, 130.5, 2404.15, 1372.45, 609.65, 3121.45, 1041.8, 8306.05, 332.65, 990.45, 7537.5, 1003.05, 688.2, 38.8, 7658.3, 1328.35, 1043.3, 62.8, 4264.6, 1198.05, 1218.65, 1840.75, 3340.55, 5168.1, 763.1, 3975.9, 743.75, 94.15, 155.35, 3509.4, 6079.0, 886.7, 4959.6, 8196.4, 7993.3, 33.7, 4126.2, 3694.45, 6069.25, 5567.55, 5873.75, 1724.15, 804.85, 1087.7, 5776.45, 2495.2, 2964.05, 1454.25, 483.15, 3923.8, 5688.45, 348.15, 1972.35, 2322.85, 701.3, 5468.95, 6225.4, 343.45, 5708.2, 301.9, 711.9, 389.95, 2094.65, 3180.5, 6292.7, 74.3, 1916.2, 6253.0, 6382.55, 3865.45, 129.55, 195.65, 367.95, 267.35, 552.65, 5985.75, 7711.25, 3778.0, 1238.65, 2511.95, 8100.25, 70.25, 47.7, 209.9, 4084.35, 1723.95, 1686.85, 253.9, 504.2, 729.95, 5576.3, 304.6, 6263.8, 39.25, 42.45, 3370.2, 8289.2, 3691.2, 7133.45, 153.3, 1501.75, 4166.35, 4885.85, 1035.7, 388.6, 3996.8, 7554.05, 520.55, 4849.1, 416.4, 299.05, 4669.2, 6741.15, 5231.2, 301.55, 8310.55, 3954.1, 265.45, 6397.6, 4972.1, 1312.45, 199.75, 1315.35, 795.15, 450.65, 847.8, 3045.75, 1652.4, 19.5, 7556.9, 1431.65, 1249.25, 4730.6, 509.3, 4908.25, 1566.75, 3348.1, 5764.7, 812.4, 857.75, 554.25, 2415.95, 5931.75, 460.2, 4159.45, 6094.25, 1377.7, 1618.2, 3058.15, 8248.5, 459.95, 3327.05, 593.05, 31.2, 2588.95, 2187.15, 678.75, 4014.6, 864.55, 3369.25, 426.35, 458.1, 358.05, 370.5, 2647.2, 1004.5, 515.45, 1389.35, 7209.0, 1305.95, 6293.45, 3548.3, 1949.4, 6179.35, 5895.45, 1005.7, 150.85, 7002.95, 2762.75, 1108.0, 7104.2, 8152.3, 445.95, 294.45, 851.8, 227.45, 8126.65, 5515.45, 6330.4, 5986.45, 4627.65, 2962.0, 1183.05, 82.15, 664.4, 1421.9, 4480.7, 4657.95, 5290.45, 743.5, 1336.15, 5560.0, 39.85, 1383.6, 6733.15, 71.25, 24.0, 5405.8, 6856.45, 382.2, 5311.85, 4677.1, 129.2, 1943.9, 601.25, 7039.45, 1412.65, 6067.4, 1789.65, 4145.25, 300.4, 220.8, 1096.6, 1872.2, 1672.1, 3171.6, 5817.0, 225.55, 625.65, 3349.1, 3210.35, 19.4, 7365.7, 4764.0, 125.0, 4811.6, 19.45, 1992.55, 6028.95, 2640.55, 2429.1, 257.0, 3457.45, 4860.85, 6705.7, 7251.7, 3857.1, 4264.25, 993.15, 6155.4, 5011.15, 92.75, 46.35, 8425.15, 137.6, 1763.55, 1936.85, 7261.25, 358.5, 237.65, 1008.7, 1476.25, 1776.45, 3008.55, 5597.65, 505.9, 571.45, 413.25, 1270.55, 202.25, 893.0, 1815.0, 152.6, 6306.5, 19.85, 4390.25, 4370.75, 20.9, 1004.75, 2627.35, 99.6, 4549.05, 1193.55, 19.65, 3297.0, 3662.25, 7069.3, 330.6, 270.2, 232.4, 2236.2, 2424.45, 705.45, 45.15, 19.9, 1710.15, 664.4, 2635.0, 165.35, 8468.2, 238.5, 5251.75, 1029.8, 3134.7, 5625.55, 5025.8, 3058.3, 767.9, 1079.45, 335.65, 482.8, 5809.75, 5552.05, 1028.75, 3398.9, 2989.6, 428.7, 1160.45, 387.7, 6823.4, 6411.25, 3437.45, 3887.85, 761.85, 4299.2, 319.6, 7555.0, 178.7, 154.3, 141.7, 702.0, 839.65, 939.8, 1438.05, 581.85, 1288.3, 5647.95, 472.65, 1765.95, 472.25, 1362.85, 2779.5, 3131.55, 1294.6, 4690.65, 2351.45, 2606.35, 921.4, 4176.7, 1790.65, 3623.95, 1537.9, 1054.8, 157.75, 5536.5, 3708.4, 4164.4, 5566.4, 57.4, 1397.3, 3122.4, 1090.1, 3096.9, 4801.1, 7854.15, 238.15, 3141.7, 854.9, 1058.1, 485.25, 3512.9, 963.95, 5031.85, 1421.75, 2654.05, 4834.0, 4839.15, 2271.85, 161.45, 196.9, 3512.5, 1001.2, 483.3, 6194.1, 1269.1, 1413.0, 294.95, 8240.85, 19.55, 163.2, 72.0, 6038.55, 6460.55, 5846.65, 5483.9, 1818.9, 4222.95, 1185.95, 757.95, 4226.7, 273.25, 617.85, 4326.8, 4327.5, 4018.35, 1756.2, 333.65, 25.75, 468.35, 19.4, 20.3, 2871.5, 1253.8, 1595.5, 1057.0, 341.6, 4361.55, 5189.75, 8670.1, 608.5, 4237.5, 6132.7, 113.1, 5043.2, 4534.45, 996.95, 6056.9, 7881.2, 4039.3, 110.15, 2333.85, 934.15, 1500.25, 554.05, 2234.55, 54.7, 5116.6, 309.4, 83.4, 113.5, 19.95, 814.75, 4055.5, 1929.95, 4652.4, 360.35, 3382.3, 168.65, 294.9, 387.4, 1924.1, 6373.1, 1663.75, 49.9, 20.65, 1292.65, 237.3, 24.4, 2708.2, 1326.35, 3970.4, 314.95, 777.3, 265.3, 1043.8, 1311.75, 6312.9, 4786.1, 3590.2, 579.4, 576.65, 5336.35, 4819.75, 5468.45, 3975.7, 1336.8, 1215.1, 299.4, 2029.05, 798.2, 2727.8, 4664.5, 5706.2, 80.95, 2901.8, 734.6, 4025.5, 6743.55, 4925.35, 4453.3, 20.35, 1248.9, 1445.95, 6302.85, 4754.3, 3641.5, 1988.05, 730.4, 3252.0, 4807.45, 2545.75, 273.2, 5669.5, 344.5, 7610.1, 786.3, 955.75, 50.75, 1392.25, 3603.45, 1742.45, 1538.6, 1319.85, 2421.75, 7589.8, 280.0, 1932.75, 4793.8, 2157.3, 3460.3, 8182.85, 394.85, 2610.65, 5522.7, 3944.5, 536.35, 5016.65, 1559.3, 326.65, 4504.9, 395.6, 697.7, 476.8, 633.45, 1992.2, 471.85, 7382.25, 522.95, 518.3, 4060.9, 4483.95, 1583.5, 7240.65, 1309.0, 3320.75, 4348.1, 20.25, 24.4, 739.9, 1681.6, 1875.25, 3527.3, 1113.95, 173.15, 7806.5, 6936.85, 44.9, 1061.6, 369.15, 2209.15, 1957.1, 4370.25, 791.7, 5461.45, 360.55, 962.25, 2768.65, 329.75, 7285.7, 20.3, 5388.15, 5985.0, 3653.0, 1655.35, 3483.45, 8166.8, 1725.0, 84.4, 19.75, 5882.75, 6891.4, 2278.75, 1216.6, 411.45, 3024.15, 6770.5, 669.45]}],\n",
              "                        {\"paper_bgcolor\": \"rgb(243,243,243)\", \"plot_bgcolor\": \"rgb(243,243,243)\", \"template\": {\"data\": {\"bar\": [{\"error_x\": {\"color\": \"#2a3f5f\"}, \"error_y\": {\"color\": \"#2a3f5f\"}, \"marker\": {\"line\": {\"color\": \"#E5ECF6\", \"width\": 0.5}}, \"type\": \"bar\"}], \"barpolar\": [{\"marker\": {\"line\": {\"color\": \"#E5ECF6\", \"width\": 0.5}}, \"type\": \"barpolar\"}], \"carpet\": [{\"aaxis\": {\"endlinecolor\": \"#2a3f5f\", \"gridcolor\": \"white\", \"linecolor\": \"white\", \"minorgridcolor\": \"white\", \"startlinecolor\": \"#2a3f5f\"}, \"baxis\": {\"endlinecolor\": \"#2a3f5f\", \"gridcolor\": \"white\", \"linecolor\": \"white\", \"minorgridcolor\": \"white\", \"startlinecolor\": \"#2a3f5f\"}, \"type\": \"carpet\"}], \"choropleth\": [{\"colorbar\": {\"outlinewidth\": 0, \"ticks\": \"\"}, \"type\": \"choropleth\"}], \"contour\": [{\"colorbar\": {\"outlinewidth\": 0, \"ticks\": \"\"}, \"colorscale\": [[0.0, \"#0d0887\"], [0.1111111111111111, \"#46039f\"], [0.2222222222222222, \"#7201a8\"], [0.3333333333333333, \"#9c179e\"], [0.4444444444444444, \"#bd3786\"], [0.5555555555555556, \"#d8576b\"], [0.6666666666666666, \"#ed7953\"], [0.7777777777777778, \"#fb9f3a\"], [0.8888888888888888, \"#fdca26\"], [1.0, \"#f0f921\"]], \"type\": \"contour\"}], \"contourcarpet\": [{\"colorbar\": {\"outlinewidth\": 0, \"ticks\": \"\"}, \"type\": \"contourcarpet\"}], \"heatmap\": [{\"colorbar\": {\"outlinewidth\": 0, \"ticks\": \"\"}, \"colorscale\": [[0.0, \"#0d0887\"], [0.1111111111111111, \"#46039f\"], [0.2222222222222222, \"#7201a8\"], [0.3333333333333333, \"#9c179e\"], [0.4444444444444444, \"#bd3786\"], [0.5555555555555556, \"#d8576b\"], [0.6666666666666666, \"#ed7953\"], [0.7777777777777778, \"#fb9f3a\"], [0.8888888888888888, \"#fdca26\"], [1.0, \"#f0f921\"]], \"type\": \"heatmap\"}], \"heatmapgl\": [{\"colorbar\": {\"outlinewidth\": 0, \"ticks\": \"\"}, \"colorscale\": [[0.0, \"#0d0887\"], [0.1111111111111111, \"#46039f\"], [0.2222222222222222, \"#7201a8\"], [0.3333333333333333, \"#9c179e\"], [0.4444444444444444, \"#bd3786\"], [0.5555555555555556, \"#d8576b\"], [0.6666666666666666, \"#ed7953\"], [0.7777777777777778, \"#fb9f3a\"], [0.8888888888888888, \"#fdca26\"], [1.0, \"#f0f921\"]], \"type\": \"heatmapgl\"}], \"histogram\": [{\"marker\": {\"colorbar\": {\"outlinewidth\": 0, \"ticks\": \"\"}}, \"type\": \"histogram\"}], \"histogram2d\": [{\"colorbar\": {\"outlinewidth\": 0, \"ticks\": \"\"}, \"colorscale\": [[0.0, \"#0d0887\"], [0.1111111111111111, \"#46039f\"], [0.2222222222222222, \"#7201a8\"], [0.3333333333333333, \"#9c179e\"], [0.4444444444444444, \"#bd3786\"], [0.5555555555555556, \"#d8576b\"], [0.6666666666666666, \"#ed7953\"], [0.7777777777777778, \"#fb9f3a\"], [0.8888888888888888, \"#fdca26\"], [1.0, \"#f0f921\"]], \"type\": \"histogram2d\"}], \"histogram2dcontour\": [{\"colorbar\": {\"outlinewidth\": 0, \"ticks\": \"\"}, \"colorscale\": [[0.0, \"#0d0887\"], [0.1111111111111111, \"#46039f\"], [0.2222222222222222, \"#7201a8\"], [0.3333333333333333, \"#9c179e\"], [0.4444444444444444, \"#bd3786\"], [0.5555555555555556, \"#d8576b\"], [0.6666666666666666, \"#ed7953\"], [0.7777777777777778, \"#fb9f3a\"], [0.8888888888888888, \"#fdca26\"], [1.0, \"#f0f921\"]], \"type\": \"histogram2dcontour\"}], \"mesh3d\": [{\"colorbar\": {\"outlinewidth\": 0, \"ticks\": \"\"}, \"type\": \"mesh3d\"}], \"parcoords\": [{\"line\": {\"colorbar\": {\"outlinewidth\": 0, \"ticks\": \"\"}}, \"type\": \"parcoords\"}], \"pie\": [{\"automargin\": true, \"type\": \"pie\"}], \"scatter\": [{\"marker\": {\"colorbar\": {\"outlinewidth\": 0, \"ticks\": \"\"}}, \"type\": \"scatter\"}], \"scatter3d\": [{\"line\": {\"colorbar\": {\"outlinewidth\": 0, \"ticks\": \"\"}}, \"marker\": {\"colorbar\": {\"outlinewidth\": 0, \"ticks\": \"\"}}, \"type\": \"scatter3d\"}], \"scattercarpet\": [{\"marker\": {\"colorbar\": {\"outlinewidth\": 0, \"ticks\": \"\"}}, \"type\": \"scattercarpet\"}], \"scattergeo\": [{\"marker\": {\"colorbar\": {\"outlinewidth\": 0, \"ticks\": \"\"}}, \"type\": \"scattergeo\"}], \"scattergl\": [{\"marker\": {\"colorbar\": {\"outlinewidth\": 0, \"ticks\": \"\"}}, \"type\": \"scattergl\"}], \"scattermapbox\": [{\"marker\": {\"colorbar\": {\"outlinewidth\": 0, \"ticks\": \"\"}}, \"type\": \"scattermapbox\"}], \"scatterpolar\": [{\"marker\": {\"colorbar\": {\"outlinewidth\": 0, \"ticks\": \"\"}}, \"type\": \"scatterpolar\"}], \"scatterpolargl\": [{\"marker\": {\"colorbar\": {\"outlinewidth\": 0, \"ticks\": \"\"}}, \"type\": \"scatterpolargl\"}], \"scatterternary\": [{\"marker\": {\"colorbar\": {\"outlinewidth\": 0, \"ticks\": \"\"}}, \"type\": \"scatterternary\"}], \"surface\": [{\"colorbar\": {\"outlinewidth\": 0, \"ticks\": \"\"}, \"colorscale\": [[0.0, \"#0d0887\"], [0.1111111111111111, \"#46039f\"], [0.2222222222222222, \"#7201a8\"], [0.3333333333333333, \"#9c179e\"], [0.4444444444444444, \"#bd3786\"], [0.5555555555555556, \"#d8576b\"], [0.6666666666666666, \"#ed7953\"], [0.7777777777777778, \"#fb9f3a\"], [0.8888888888888888, \"#fdca26\"], [1.0, \"#f0f921\"]], \"type\": \"surface\"}], \"table\": [{\"cells\": {\"fill\": {\"color\": \"#EBF0F8\"}, \"line\": {\"color\": \"white\"}}, \"header\": {\"fill\": {\"color\": \"#C8D4E3\"}, \"line\": {\"color\": \"white\"}}, \"type\": \"table\"}]}, \"layout\": {\"annotationdefaults\": {\"arrowcolor\": \"#2a3f5f\", \"arrowhead\": 0, \"arrowwidth\": 1}, \"coloraxis\": {\"colorbar\": {\"outlinewidth\": 0, \"ticks\": \"\"}}, \"colorscale\": {\"diverging\": [[0, \"#8e0152\"], [0.1, \"#c51b7d\"], [0.2, \"#de77ae\"], [0.3, \"#f1b6da\"], [0.4, \"#fde0ef\"], [0.5, \"#f7f7f7\"], [0.6, \"#e6f5d0\"], [0.7, \"#b8e186\"], [0.8, \"#7fbc41\"], [0.9, \"#4d9221\"], [1, \"#276419\"]], \"sequential\": [[0.0, \"#0d0887\"], [0.1111111111111111, \"#46039f\"], [0.2222222222222222, \"#7201a8\"], [0.3333333333333333, \"#9c179e\"], [0.4444444444444444, \"#bd3786\"], [0.5555555555555556, \"#d8576b\"], [0.6666666666666666, \"#ed7953\"], [0.7777777777777778, \"#fb9f3a\"], [0.8888888888888888, \"#fdca26\"], [1.0, \"#f0f921\"]], \"sequentialminus\": [[0.0, \"#0d0887\"], [0.1111111111111111, \"#46039f\"], [0.2222222222222222, \"#7201a8\"], [0.3333333333333333, \"#9c179e\"], [0.4444444444444444, \"#bd3786\"], [0.5555555555555556, \"#d8576b\"], [0.6666666666666666, \"#ed7953\"], [0.7777777777777778, \"#fb9f3a\"], [0.8888888888888888, \"#fdca26\"], [1.0, \"#f0f921\"]]}, \"colorway\": [\"#636efa\", \"#EF553B\", \"#00cc96\", \"#ab63fa\", \"#FFA15A\", \"#19d3f3\", \"#FF6692\", \"#B6E880\", \"#FF97FF\", \"#FECB52\"], \"font\": {\"color\": \"#2a3f5f\"}, \"geo\": {\"bgcolor\": \"white\", \"lakecolor\": \"white\", \"landcolor\": \"#E5ECF6\", \"showlakes\": true, \"showland\": true, \"subunitcolor\": \"white\"}, \"hoverlabel\": {\"align\": \"left\"}, \"hovermode\": \"closest\", \"mapbox\": {\"style\": \"light\"}, \"paper_bgcolor\": \"white\", \"plot_bgcolor\": \"#E5ECF6\", \"polar\": {\"angularaxis\": {\"gridcolor\": \"white\", \"linecolor\": \"white\", \"ticks\": \"\"}, \"bgcolor\": \"#E5ECF6\", \"radialaxis\": {\"gridcolor\": \"white\", \"linecolor\": \"white\", \"ticks\": \"\"}}, \"scene\": {\"xaxis\": {\"backgroundcolor\": \"#E5ECF6\", \"gridcolor\": \"white\", \"gridwidth\": 2, \"linecolor\": \"white\", \"showbackground\": true, \"ticks\": \"\", \"zerolinecolor\": \"white\"}, \"yaxis\": {\"backgroundcolor\": \"#E5ECF6\", \"gridcolor\": \"white\", \"gridwidth\": 2, \"linecolor\": \"white\", \"showbackground\": true, \"ticks\": \"\", \"zerolinecolor\": \"white\"}, \"zaxis\": {\"backgroundcolor\": \"#E5ECF6\", \"gridcolor\": \"white\", \"gridwidth\": 2, \"linecolor\": \"white\", \"showbackground\": true, \"ticks\": \"\", \"zerolinecolor\": \"white\"}}, \"shapedefaults\": {\"line\": {\"color\": \"#2a3f5f\"}}, \"ternary\": {\"aaxis\": {\"gridcolor\": \"white\", \"linecolor\": \"white\", \"ticks\": \"\"}, \"baxis\": {\"gridcolor\": \"white\", \"linecolor\": \"white\", \"ticks\": \"\"}, \"bgcolor\": \"#E5ECF6\", \"caxis\": {\"gridcolor\": \"white\", \"linecolor\": \"white\", \"ticks\": \"\"}}, \"title\": {\"x\": 0.05}, \"xaxis\": {\"automargin\": true, \"gridcolor\": \"white\", \"linecolor\": \"white\", \"ticks\": \"\", \"title\": {\"standoff\": 15}, \"zerolinecolor\": \"white\", \"zerolinewidth\": 2}, \"yaxis\": {\"automargin\": true, \"gridcolor\": \"white\", \"linecolor\": \"white\", \"ticks\": \"\", \"title\": {\"standoff\": 15}, \"zerolinecolor\": \"white\", \"zerolinewidth\": 2}}}, \"title\": {\"text\": \"TotalCharges distribution in customer attrition \"}, \"xaxis\": {\"gridcolor\": \"rgb(255, 255, 255)\", \"gridwidth\": 2, \"ticklen\": 5, \"title\": {\"text\": \"TotalCharges\"}, \"zerolinewidth\": 1}, \"yaxis\": {\"gridcolor\": \"rgb(255, 255, 255)\", \"gridwidth\": 2, \"ticklen\": 5, \"title\": {\"text\": \"percent\"}, \"zerolinewidth\": 1}},\n",
              "                        {\"responsive\": true}\n",
              "                    ).then(function(){\n",
              "                            \n",
              "var gd = document.getElementById('1a02ced5-6b8f-4a37-a9c6-29e2aa4d1dd4');\n",
              "var x = new MutationObserver(function (mutations, observer) {{\n",
              "        var display = window.getComputedStyle(gd).display;\n",
              "        if (!display || display === 'none') {{\n",
              "            console.log([gd, 'removed!']);\n",
              "            Plotly.purge(gd);\n",
              "            observer.disconnect();\n",
              "        }}\n",
              "}});\n",
              "\n",
              "// Listen for the removal of the full notebook cells\n",
              "var notebookContainer = gd.closest('#notebook-container');\n",
              "if (notebookContainer) {{\n",
              "    x.observe(notebookContainer, {childList: true});\n",
              "}}\n",
              "\n",
              "// Listen for the clearing of the current output cell\n",
              "var outputEl = gd.closest('.output');\n",
              "if (outputEl) {{\n",
              "    x.observe(outputEl, {childList: true});\n",
              "}}\n",
              "\n",
              "                        })\n",
              "                };\n",
              "                \n",
              "            </script>\n",
              "        </div>\n",
              "</body>\n",
              "</html>"
            ]
          },
          "metadata": {
            "tags": []
          }
        }
      ]
    },
    {
      "cell_type": "markdown",
      "metadata": {
        "id": "WMZguPBDxnN1",
        "colab_type": "text"
      },
      "source": [
        "**Gender** \n",
        "- This chart below shows the gender distribution in the customer attrition. It is shown that the percentage of female is more than male for churn customers but the percentage of male is slightly more than female for non churn customers. \n",
        "\n",
        "**Senior Citizen**\n",
        "- This chart is used to see the distribution of senior citizens in churn customer and non churn customer. Based on both pie charts, we can see that there is not much difference in the distribution of senior citizens between churn customers and non-churn customers. The percentage of senior citizens is less in both pie charts.\n",
        "\n",
        "**Partner**\n",
        "- The pie chart below shows the partner distribution in customer attrition. From here, we can see that the percentage of churn customers with no partner is more whereas the percentage of non churn customers with no partner is slightly lesser.\n",
        "\n",
        "**Dependents**\n",
        "- This pie chart shows the dependents distribution in customer attrition. The percentage of dependents in both churn and non churn customers is more compared to no dependents. Thus, the relationship between the attributes and customer churn rate is not strong.\n",
        "\n",
        "**Tenure**\n",
        "- By looking at the histogram below, we can see that a lot of churn customers have been with the telecom company for only less than a month. This could be potentially because different customers have different contracts. Thus by looking at the contract they are into, it could be easier for the customers to decide whether to stay or leave the company. The longer they are attached to the company, the lower the risk of customer churn to take place.\n",
        "\n",
        "**Phone Service**\n",
        "- Below shows the phone service distribution in customer attrition.  Most of the customers in telecom have phone service. However, it seems no difference for the customer churn and customer non-churn. Thus, it can be concluded that there are no large impacts for phone service on customer churn.\n",
        "\n",
        "**Multiple Lines**\n",
        "- Among those customers with phone service, 44.7% of churn customers and 40.7% of non churn customers have multiple lines.\n",
        "\n",
        "**Internet Service**\n",
        "- The most popular internet service provider used by churn customers is fibre optic (69.7%)  and then followed by dsl (24.4%)  whereas 5.9% does not have internet service. This is interesting because even though fibre optic internet services are faster, customer churn are also most likely to happen because of it.\n",
        "\n",
        "**Online Security**\n",
        "- Most of the customers do not have online security. Thus, it does not strongly affect the customer churn.\n",
        "\n",
        "**Online Backup**\n",
        "- The ratio of customers with online backup is almost similar between churn customers and non churn customers. For both categories, the percentage of customers without online backup are higher compared to customers with online backup. \n",
        "\n",
        "**Online Backup**\n",
        "- The ratio of customers with online backup is almost similar between churn customers and non churn customers. For both categories, the percentage of customers without online backup are higher compared to customers with online backup. \n",
        "\n",
        "**Tech Support**\n",
        "- In both charts, customers without technical support are more than customers with technical support. Thus, it is less likely for this data to affect the customer churn.\n",
        "\n",
        "**Streaming TV**\n",
        "- Similarly, customers with or without a streaming tv is less likely to affect the customer churn. This is because the ratio of customers with streaming is more or less the same between churn and non churn customers.\n",
        "\n",
        "**Streaming movies**\n",
        "- 43.6% of churn customers stream movies while 56.4% of churn customers do not stream movies. Thus, there is no strong relationship between streaming movies and customer churn.\n",
        "\n",
        "**Contract**\n",
        "- From the pie chart, we can see that most of the churn customers are having month to month contracts followed by one year contracts. Churn customers with two years contracts are the least among all. Thus, we can conclude that when the contract period is short, the chances of customer churn to occur will be higher.\n",
        "\n",
        "**Paperless Billing**\n",
        "- The use of paperless billing in churn customers is slightly higher compared to non churn customers.\n",
        "\n",
        "**Payment Method**\n",
        "- Based on the payment method distribution, electronic check payment occupied 56.7% of the churn customer. Thus, it can be said that electronic check payment will have a huge impact in customer attrition.\n",
        "\n",
        "**Monthly Charges**\n",
        "- From the histogram, the monthly charges for most of the non churn customers in Telecom is around 20, which is the lowest charge. This could potentially mean that the lower the charges is, the easier it is to retain the customers.\n",
        "\n",
        "**Total Charges**\n",
        "- Based on the histogram below, it can be seen that the churn is higher when the total charges are lower. \n"
      ]
    },
    {
      "cell_type": "code",
      "metadata": {
        "id": "RSXT39kF6Glb",
        "colab_type": "code",
        "colab": {
          "base_uri": "https://localhost:8080/",
          "height": 791
        },
        "outputId": "aab3f3b1-ba05-4dab-8dd5-2a6198f39e2a"
      },
      "source": [
        "# Additional EDA for contract type with churn rate\n",
        "contract_churn = train_data.groupby(['Contract','Churn']).size().unstack()\n",
        "\n",
        "ax = (contract_churn.T*100.0 / contract_churn.T.sum()).T.plot(kind='bar',\n",
        "                                                                width = 0.3,\n",
        "                                                                stacked = True,\n",
        "                                                                rot = 0, \n",
        "                                                                figsize = (10,13),\n",
        "                                                                )\n",
        "ax.yaxis.set_major_formatter(mtick.PercentFormatter())\n",
        "ax.legend(loc='best',prop={'size':14},title = 'Churn')\n",
        "ax.set_ylabel('% Customers',size = 14)\n",
        "ax.set_title('Churn by Contract Type',size = 14)\n",
        "\n",
        "# Code to add the data labels on the stacked bar chart\n",
        "for p in ax.patches:\n",
        "    width, height = p.get_width(), p.get_height()\n",
        "    x, y = p.get_xy() \n",
        "    ax.annotate('{:.0f}%'.format(height), (p.get_x()+.25*width, p.get_y()+.4*height),\n",
        "                color = 'white',\n",
        "               weight = 'bold',\n",
        "               size = 14)"
      ],
      "execution_count": null,
      "outputs": [
        {
          "output_type": "display_data",
          "data": {
            "image/png": "[encoded data removed]",
            "text/plain": [
              "<Figure size 720x936 with 1 Axes>"
            ]
          },
          "metadata": {
            "tags": [],
            "needs_background": "light"
          }
        }
      ]
    },
    {
      "cell_type": "code",
      "metadata": {
        "id": "8_90LezL6Lk_",
        "colab_type": "code",
        "colab": {
          "base_uri": "https://localhost:8080/",
          "height": 318
        },
        "outputId": "79214f18-971b-4dbd-ea8f-ec53b501ff5b"
      },
      "source": [
        "ax = sns.distplot(train_data['tenure'], hist=True, kde=False, \n",
        "             bins=int(180/5), color = 'darkblue', \n",
        "             hist_kws={'edgecolor':'black'},\n",
        "             kde_kws={'linewidth': 4})\n",
        "ax.set_ylabel('# of Customers')\n",
        "ax.set_xlabel('Tenure (months)')\n",
        "ax.set_title('# of Customers by their tenure')"
      ],
      "execution_count": null,
      "outputs": [
        {
          "output_type": "execute_result",
          "data": {
            "text/plain": [
              "Text(0.5, 1.0, '# of Customers by their tenure')"
            ]
          },
          "metadata": {
            "tags": []
          },
          "execution_count": 16
        },
        {
          "output_type": "display_data",
          "data": {
            "image/png": "[encoded data removed]",
            "text/plain": [
              "<Figure size 432x288 with 1 Axes>"
            ]
          },
          "metadata": {
            "tags": [],
            "needs_background": "light"
          }
        }
      ]
    },
    {
      "cell_type": "code",
      "metadata": {
        "id": "t00pcZf56OZc",
        "colab_type": "code",
        "colab": {
          "base_uri": "https://localhost:8080/",
          "height": 301
        },
        "outputId": "14828ed0-e4c3-4b3c-f9af-caec6d013338"
      },
      "source": [
        "ax = train_data['Contract'].value_counts().plot(kind = 'bar',rot = 0, width = 0.3)\n",
        "ax.set_ylabel('# of Customers')\n",
        "ax.set_title('# of Customers by Contract Type')"
      ],
      "execution_count": null,
      "outputs": [
        {
          "output_type": "execute_result",
          "data": {
            "text/plain": [
              "Text(0.5, 1.0, '# of Customers by Contract Type')"
            ]
          },
          "metadata": {
            "tags": []
          },
          "execution_count": 17
        },
        {
          "output_type": "display_data",
          "data": {
            "image/png": "[encoded data removed]",
            "text/plain": [
              "<Figure size 432x288 with 1 Axes>"
            ]
          },
          "metadata": {
            "tags": [],
            "needs_background": "light"
          }
        }
      ]
    },
    {
      "cell_type": "markdown",
      "metadata": {
        "id": "2gkAGMFp6Tz0",
        "colab_type": "text"
      },
      "source": [
        "# **Balance the number of churners and non-churners**\n"
      ]
    },
    {
      "cell_type": "code",
      "metadata": {
        "id": "dA9r9WDg6Ug-",
        "colab_type": "code",
        "colab": {
          "base_uri": "https://localhost:8080/",
          "height": 412
        },
        "outputId": "9083214e-e25d-4c00-9d51-0ce630c476ca"
      },
      "source": [
        "# Showing original ratio for both churn and non-churn customer\n",
        "colors = ['#00FFFF','#6AFB92']\n",
        "ax = (train_data['Churn'].value_counts()*100.0 /len(train_data)).plot(kind='bar',stacked = True,\n",
        "                                                         rot = 0, color = colors,\n",
        "                                                        figsize = (8,6))\n",
        "ax.yaxis.set_major_formatter(mtick.PercentFormatter())\n",
        "ax.set_ylabel('% Customers',size = 14)\n",
        "ax.set_xlabel('Churn',size = 14)\n",
        "ax.set_title('Churn Rate', size = 14)\n",
        "\n",
        "# Create a list to collect the plt.patches data\n",
        "totals = []\n",
        "\n",
        "# Find the values and append to list\n",
        "for i in ax.patches:\n",
        "    totals.append(i.get_width())\n",
        "\n",
        "# Set individual bar lables using above list\n",
        "total = sum(totals)\n",
        "\n",
        "for i in ax.patches:\n",
        "    # get_width pulls left or right; get_y pushes up or down\n",
        "    ax.text(i.get_x()+.15, i.get_height()-4.0, \\\n",
        "           str(round((i.get_height()/total), 1))+'%',\n",
        "           fontsize=12,\n",
        "           color='black',\n",
        "           weight = 'bold',\n",
        "           size = 14)"
      ],
      "execution_count": null,
      "outputs": [
        {
          "output_type": "display_data",
          "data": {
            "image/png": "[encoded data removed]",
            "text/plain": [
              "<Figure size 576x432 with 1 Axes>"
            ]
          },
          "metadata": {
            "tags": [],
            "needs_background": "light"
          }
        }
      ]
    },
    {
      "cell_type": "code",
      "metadata": {
        "id": "JDfqDdZN6XvE",
        "colab_type": "code",
        "colab": {
          "base_uri": "https://localhost:8080/",
          "height": 50
        },
        "outputId": "40857bc3-39d0-40d2-8227-ecb742a31ca0"
      },
      "source": [
        "# Balance the number of the churners and non-churners\n",
        "churners_number = len(train_data[train_data['Churn'] == 'yes'])\n",
        "print(\"Number of churners: \", churners_number)\n",
        "\n",
        "churners = (train_data[train_data['Churn'] == 'yes'])\n",
        "\n",
        "non_churners = train_data[train_data['Churn'] == 'no'].sample(n=churners_number)\n",
        "print(\"Number of non-churners: \", len(non_churners))\n",
        "balance_train_data = churners.append(non_churners)"
      ],
      "execution_count": null,
      "outputs": [
        {
          "output_type": "stream",
          "text": [
            "Number of churners:  1475\n",
            "Number of non-churners:  1475\n"
          ],
          "name": "stdout"
        }
      ]
    },
    {
      "cell_type": "code",
      "metadata": {
        "id": "goQZAzkS6ZS2",
        "colab_type": "code",
        "colab": {
          "base_uri": "https://localhost:8080/",
          "height": 299
        },
        "outputId": "d3453d5a-144a-4c8d-de9e-be9e5e20d712"
      },
      "source": [
        "# Split X_train set, X_test set and y_train set,y_test set\n",
        "X_train = balance_train_data.drop('Churn',axis=1)\n",
        "X_test = test_data.drop('Churn',axis=1)\n",
        "y_train = balance_train_data['Churn']\n",
        "y_test = test_data['Churn']\n",
        "X_test.head()"
      ],
      "execution_count": null,
      "outputs": [
        {
          "output_type": "execute_result",
          "data": {
            "text/html": [
              "<div>\n",
              "<style scoped>\n",
              "    .dataframe tbody tr th:only-of-type {\n",
              "        vertical-align: middle;\n",
              "    }\n",
              "\n",
              "    .dataframe tbody tr th {\n",
              "        vertical-align: top;\n",
              "    }\n",
              "\n",
              "    .dataframe thead th {\n",
              "        text-align: right;\n",
              "    }\n",
              "</style>\n",
              "<table border=\"1\" class=\"dataframe\">\n",
              "  <thead>\n",
              "    <tr style=\"text-align: right;\">\n",
              "      <th></th>\n",
              "      <th>gender</th>\n",
              "      <th>SeniorCitizen</th>\n",
              "      <th>Partner</th>\n",
              "      <th>Dependents</th>\n",
              "      <th>tenure</th>\n",
              "      <th>PhoneService</th>\n",
              "      <th>MultipleLines</th>\n",
              "      <th>InternetService</th>\n",
              "      <th>OnlineSecurity</th>\n",
              "      <th>OnlineBackup</th>\n",
              "      <th>DeviceProtection</th>\n",
              "      <th>TechSupport</th>\n",
              "      <th>StreamingTV</th>\n",
              "      <th>StreamingMovies</th>\n",
              "      <th>Contract</th>\n",
              "      <th>PaperlessBilling</th>\n",
              "      <th>PaymentMethod</th>\n",
              "      <th>MonthlyCharges</th>\n",
              "      <th>TotalCharges</th>\n",
              "    </tr>\n",
              "  </thead>\n",
              "  <tbody>\n",
              "    <tr>\n",
              "      <th>942</th>\n",
              "      <td>male</td>\n",
              "      <td>no</td>\n",
              "      <td>no</td>\n",
              "      <td>no</td>\n",
              "      <td>24</td>\n",
              "      <td>yes</td>\n",
              "      <td>no</td>\n",
              "      <td>fiber optic</td>\n",
              "      <td>no</td>\n",
              "      <td>no</td>\n",
              "      <td>no</td>\n",
              "      <td>no</td>\n",
              "      <td>no</td>\n",
              "      <td>yes</td>\n",
              "      <td>month-to-month</td>\n",
              "      <td>yes</td>\n",
              "      <td>credit card (automatic)</td>\n",
              "      <td>79.85</td>\n",
              "      <td>2001.00</td>\n",
              "    </tr>\n",
              "    <tr>\n",
              "      <th>3730</th>\n",
              "      <td>female</td>\n",
              "      <td>no</td>\n",
              "      <td>yes</td>\n",
              "      <td>no</td>\n",
              "      <td>57</td>\n",
              "      <td>yes</td>\n",
              "      <td>yes</td>\n",
              "      <td>fiber optic</td>\n",
              "      <td>no</td>\n",
              "      <td>yes</td>\n",
              "      <td>yes</td>\n",
              "      <td>no</td>\n",
              "      <td>yes</td>\n",
              "      <td>yes</td>\n",
              "      <td>month-to-month</td>\n",
              "      <td>yes</td>\n",
              "      <td>credit card (automatic)</td>\n",
              "      <td>104.50</td>\n",
              "      <td>5921.35</td>\n",
              "    </tr>\n",
              "    <tr>\n",
              "      <th>1761</th>\n",
              "      <td>male</td>\n",
              "      <td>no</td>\n",
              "      <td>no</td>\n",
              "      <td>no</td>\n",
              "      <td>58</td>\n",
              "      <td>yes</td>\n",
              "      <td>yes</td>\n",
              "      <td>no</td>\n",
              "      <td>no</td>\n",
              "      <td>no</td>\n",
              "      <td>no</td>\n",
              "      <td>no</td>\n",
              "      <td>no</td>\n",
              "      <td>no</td>\n",
              "      <td>two year</td>\n",
              "      <td>yes</td>\n",
              "      <td>credit card (automatic)</td>\n",
              "      <td>24.45</td>\n",
              "      <td>1513.60</td>\n",
              "    </tr>\n",
              "    <tr>\n",
              "      <th>2283</th>\n",
              "      <td>male</td>\n",
              "      <td>no</td>\n",
              "      <td>no</td>\n",
              "      <td>no</td>\n",
              "      <td>1</td>\n",
              "      <td>yes</td>\n",
              "      <td>no</td>\n",
              "      <td>fiber optic</td>\n",
              "      <td>no</td>\n",
              "      <td>no</td>\n",
              "      <td>no</td>\n",
              "      <td>no</td>\n",
              "      <td>no</td>\n",
              "      <td>no</td>\n",
              "      <td>month-to-month</td>\n",
              "      <td>yes</td>\n",
              "      <td>mailed check</td>\n",
              "      <td>71.55</td>\n",
              "      <td>71.55</td>\n",
              "    </tr>\n",
              "    <tr>\n",
              "      <th>1872</th>\n",
              "      <td>female</td>\n",
              "      <td>no</td>\n",
              "      <td>yes</td>\n",
              "      <td>yes</td>\n",
              "      <td>41</td>\n",
              "      <td>yes</td>\n",
              "      <td>no</td>\n",
              "      <td>no</td>\n",
              "      <td>no</td>\n",
              "      <td>no</td>\n",
              "      <td>no</td>\n",
              "      <td>no</td>\n",
              "      <td>no</td>\n",
              "      <td>no</td>\n",
              "      <td>two year</td>\n",
              "      <td>no</td>\n",
              "      <td>bank transfer (automatic)</td>\n",
              "      <td>19.70</td>\n",
              "      <td>804.25</td>\n",
              "    </tr>\n",
              "  </tbody>\n",
              "</table>\n",
              "</div>"
            ],
            "text/plain": [
              "      gender SeniorCitizen  ... MonthlyCharges TotalCharges\n",
              "942     male            no  ...          79.85      2001.00\n",
              "3730  female            no  ...         104.50      5921.35\n",
              "1761    male            no  ...          24.45      1513.60\n",
              "2283    male            no  ...          71.55        71.55\n",
              "1872  female            no  ...          19.70       804.25\n",
              "\n",
              "[5 rows x 19 columns]"
            ]
          },
          "metadata": {
            "tags": []
          },
          "execution_count": 20
        }
      ]
    },
    {
      "cell_type": "markdown",
      "metadata": {
        "id": "MLZ23a721caz",
        "colab_type": "text"
      },
      "source": [
        "# **Data Preparation**"
      ]
    },
    {
      "cell_type": "markdown",
      "metadata": {
        "id": "6cSSNjVk1XQS",
        "colab_type": "text"
      },
      "source": [
        "After doing the EDA, we think that tenure, contract, InternetService, PaymentMethod and MonthlyCharges from our datasets are important in predicting the churn rate. This is because these five features are having a stronger association with the churn rate. Hence, we plan to construct one modelling with all features in our dataset excluding the customer ID and another one with only the five key features to determine which of them is more suitable to predict our customer churn.\n"
      ]
    },
    {
      "cell_type": "markdown",
      "metadata": {
        "id": "q79_JSHn6cWc",
        "colab_type": "text"
      },
      "source": [
        "# **Data Preprocessing**"
      ]
    },
    {
      "cell_type": "code",
      "metadata": {
        "id": "ZXNYhDOP6cxX",
        "colab_type": "code",
        "colab": {
          "base_uri": "https://localhost:8080/",
          "height": 422
        },
        "outputId": "209fdd22-0f0e-426b-f37f-e20ab667b7ab"
      },
      "source": [
        "# Categorical columns\n",
        "encode_cat_cols   = X_train.nunique()[X_train.nunique() < 6].keys().tolist()\n",
        "\n",
        "# Label encoding categorical columns\n",
        "le = LabelEncoder()\n",
        "for i in encode_cat_cols :\n",
        "    X_train[i] = le.fit_transform(X_train[i])\n",
        "    X_test[i] = le.transform(X_test[i])\n",
        "  \n",
        "#Standard scaling the numerical columns\n",
        "scaler = StandardScaler()\n",
        "\n",
        "col_names_1 = ['MonthlyCharges']\n",
        "features_train_1 = X_train[col_names_1] \n",
        "features_test_1 = X_test[col_names_1]\n",
        "\n",
        "X_train['MonthlyCharges'] = scaler.fit_transform(features_train_1)\n",
        "X_test['MonthlyCharges'] = scaler.transform(features_test_1)\n",
        "\n",
        "col_names_2 = ['tenure']\n",
        "features_train_2 = X_train[col_names_2] \n",
        "features_test_2 = X_test[col_names_2]\n",
        "\n",
        "X_train['tenure'] = scaler.fit_transform(features_train_2)\n",
        "X_test['tenure'] = scaler.transform(features_test_2)\n",
        "\n",
        "col_names_3 = ['TotalCharges']\n",
        "features_train_3 = X_train[col_names_3] \n",
        "features_test_3 = X_test[col_names_3]\n",
        "\n",
        "X_train['TotalCharges'] = scaler.fit_transform(features_train_3)\n",
        "X_test['TotalCharges'] = scaler.transform(features_test_3)\n",
        "\n",
        "# Label Encoding y_train and y_test\n",
        "y_train = le.fit_transform(y_train)\n",
        "y_test = le.transform(y_test)\n",
        "\n",
        "X_train"
      ],
      "execution_count": null,
      "outputs": [
        {
          "output_type": "execute_result",
          "data": {
            "text/html": [
              "<div>\n",
              "<style scoped>\n",
              "    .dataframe tbody tr th:only-of-type {\n",
              "        vertical-align: middle;\n",
              "    }\n",
              "\n",
              "    .dataframe tbody tr th {\n",
              "        vertical-align: top;\n",
              "    }\n",
              "\n",
              "    .dataframe thead th {\n",
              "        text-align: right;\n",
              "    }\n",
              "</style>\n",
              "<table border=\"1\" class=\"dataframe\">\n",
              "  <thead>\n",
              "    <tr style=\"text-align: right;\">\n",
              "      <th></th>\n",
              "      <th>gender</th>\n",
              "      <th>SeniorCitizen</th>\n",
              "      <th>Partner</th>\n",
              "      <th>Dependents</th>\n",
              "      <th>tenure</th>\n",
              "      <th>PhoneService</th>\n",
              "      <th>MultipleLines</th>\n",
              "      <th>InternetService</th>\n",
              "      <th>OnlineSecurity</th>\n",
              "      <th>OnlineBackup</th>\n",
              "      <th>DeviceProtection</th>\n",
              "      <th>TechSupport</th>\n",
              "      <th>StreamingTV</th>\n",
              "      <th>StreamingMovies</th>\n",
              "      <th>Contract</th>\n",
              "      <th>PaperlessBilling</th>\n",
              "      <th>PaymentMethod</th>\n",
              "      <th>MonthlyCharges</th>\n",
              "      <th>TotalCharges</th>\n",
              "    </tr>\n",
              "  </thead>\n",
              "  <tbody>\n",
              "    <tr>\n",
              "      <th>2940</th>\n",
              "      <td>1</td>\n",
              "      <td>1</td>\n",
              "      <td>0</td>\n",
              "      <td>0</td>\n",
              "      <td>1.054206</td>\n",
              "      <td>0</td>\n",
              "      <td>0</td>\n",
              "      <td>0</td>\n",
              "      <td>0</td>\n",
              "      <td>1</td>\n",
              "      <td>1</td>\n",
              "      <td>0</td>\n",
              "      <td>1</td>\n",
              "      <td>1</td>\n",
              "      <td>0</td>\n",
              "      <td>1</td>\n",
              "      <td>2</td>\n",
              "      <td>-0.476495</td>\n",
              "      <td>0.378167</td>\n",
              "    </tr>\n",
              "    <tr>\n",
              "      <th>6515</th>\n",
              "      <td>0</td>\n",
              "      <td>0</td>\n",
              "      <td>0</td>\n",
              "      <td>0</td>\n",
              "      <td>0.053820</td>\n",
              "      <td>0</td>\n",
              "      <td>0</td>\n",
              "      <td>0</td>\n",
              "      <td>0</td>\n",
              "      <td>0</td>\n",
              "      <td>0</td>\n",
              "      <td>0</td>\n",
              "      <td>0</td>\n",
              "      <td>0</td>\n",
              "      <td>0</td>\n",
              "      <td>1</td>\n",
              "      <td>1</td>\n",
              "      <td>-1.509641</td>\n",
              "      <td>-0.610121</td>\n",
              "    </tr>\n",
              "    <tr>\n",
              "      <th>5383</th>\n",
              "      <td>1</td>\n",
              "      <td>0</td>\n",
              "      <td>0</td>\n",
              "      <td>0</td>\n",
              "      <td>0.345599</td>\n",
              "      <td>1</td>\n",
              "      <td>1</td>\n",
              "      <td>1</td>\n",
              "      <td>0</td>\n",
              "      <td>0</td>\n",
              "      <td>0</td>\n",
              "      <td>0</td>\n",
              "      <td>0</td>\n",
              "      <td>1</td>\n",
              "      <td>0</td>\n",
              "      <td>1</td>\n",
              "      <td>2</td>\n",
              "      <td>0.590092</td>\n",
              "      <td>0.468427</td>\n",
              "    </tr>\n",
              "    <tr>\n",
              "      <th>3987</th>\n",
              "      <td>0</td>\n",
              "      <td>0</td>\n",
              "      <td>0</td>\n",
              "      <td>0</td>\n",
              "      <td>-0.696469</td>\n",
              "      <td>1</td>\n",
              "      <td>1</td>\n",
              "      <td>1</td>\n",
              "      <td>0</td>\n",
              "      <td>0</td>\n",
              "      <td>0</td>\n",
              "      <td>0</td>\n",
              "      <td>0</td>\n",
              "      <td>0</td>\n",
              "      <td>0</td>\n",
              "      <td>1</td>\n",
              "      <td>2</td>\n",
              "      <td>0.299685</td>\n",
              "      <td>-0.552394</td>\n",
              "    </tr>\n",
              "    <tr>\n",
              "      <th>6549</th>\n",
              "      <td>0</td>\n",
              "      <td>0</td>\n",
              "      <td>0</td>\n",
              "      <td>0</td>\n",
              "      <td>-1.113296</td>\n",
              "      <td>1</td>\n",
              "      <td>0</td>\n",
              "      <td>0</td>\n",
              "      <td>0</td>\n",
              "      <td>0</td>\n",
              "      <td>0</td>\n",
              "      <td>0</td>\n",
              "      <td>0</td>\n",
              "      <td>1</td>\n",
              "      <td>0</td>\n",
              "      <td>1</td>\n",
              "      <td>2</td>\n",
              "      <td>-0.413133</td>\n",
              "      <td>-0.913110</td>\n",
              "    </tr>\n",
              "    <tr>\n",
              "      <th>...</th>\n",
              "      <td>...</td>\n",
              "      <td>...</td>\n",
              "      <td>...</td>\n",
              "      <td>...</td>\n",
              "      <td>...</td>\n",
              "      <td>...</td>\n",
              "      <td>...</td>\n",
              "      <td>...</td>\n",
              "      <td>...</td>\n",
              "      <td>...</td>\n",
              "      <td>...</td>\n",
              "      <td>...</td>\n",
              "      <td>...</td>\n",
              "      <td>...</td>\n",
              "      <td>...</td>\n",
              "      <td>...</td>\n",
              "      <td>...</td>\n",
              "      <td>...</td>\n",
              "      <td>...</td>\n",
              "    </tr>\n",
              "    <tr>\n",
              "      <th>2952</th>\n",
              "      <td>0</td>\n",
              "      <td>0</td>\n",
              "      <td>1</td>\n",
              "      <td>1</td>\n",
              "      <td>-0.071228</td>\n",
              "      <td>1</td>\n",
              "      <td>0</td>\n",
              "      <td>2</td>\n",
              "      <td>0</td>\n",
              "      <td>0</td>\n",
              "      <td>0</td>\n",
              "      <td>0</td>\n",
              "      <td>0</td>\n",
              "      <td>0</td>\n",
              "      <td>0</td>\n",
              "      <td>1</td>\n",
              "      <td>1</td>\n",
              "      <td>-1.680366</td>\n",
              "      <td>-0.711133</td>\n",
              "    </tr>\n",
              "    <tr>\n",
              "      <th>5907</th>\n",
              "      <td>1</td>\n",
              "      <td>0</td>\n",
              "      <td>0</td>\n",
              "      <td>0</td>\n",
              "      <td>-1.113296</td>\n",
              "      <td>1</td>\n",
              "      <td>0</td>\n",
              "      <td>0</td>\n",
              "      <td>0</td>\n",
              "      <td>0</td>\n",
              "      <td>0</td>\n",
              "      <td>0</td>\n",
              "      <td>0</td>\n",
              "      <td>0</td>\n",
              "      <td>0</td>\n",
              "      <td>1</td>\n",
              "      <td>3</td>\n",
              "      <td>-0.833784</td>\n",
              "      <td>-0.918624</td>\n",
              "    </tr>\n",
              "    <tr>\n",
              "      <th>6604</th>\n",
              "      <td>1</td>\n",
              "      <td>0</td>\n",
              "      <td>1</td>\n",
              "      <td>1</td>\n",
              "      <td>-1.071613</td>\n",
              "      <td>1</td>\n",
              "      <td>0</td>\n",
              "      <td>0</td>\n",
              "      <td>0</td>\n",
              "      <td>0</td>\n",
              "      <td>0</td>\n",
              "      <td>0</td>\n",
              "      <td>0</td>\n",
              "      <td>0</td>\n",
              "      <td>0</td>\n",
              "      <td>1</td>\n",
              "      <td>2</td>\n",
              "      <td>-0.826744</td>\n",
              "      <td>-0.897513</td>\n",
              "    </tr>\n",
              "    <tr>\n",
              "      <th>5707</th>\n",
              "      <td>0</td>\n",
              "      <td>0</td>\n",
              "      <td>0</td>\n",
              "      <td>0</td>\n",
              "      <td>-1.071613</td>\n",
              "      <td>1</td>\n",
              "      <td>0</td>\n",
              "      <td>0</td>\n",
              "      <td>0</td>\n",
              "      <td>0</td>\n",
              "      <td>0</td>\n",
              "      <td>0</td>\n",
              "      <td>0</td>\n",
              "      <td>0</td>\n",
              "      <td>0</td>\n",
              "      <td>0</td>\n",
              "      <td>2</td>\n",
              "      <td>-0.789783</td>\n",
              "      <td>-0.900120</td>\n",
              "    </tr>\n",
              "    <tr>\n",
              "      <th>6318</th>\n",
              "      <td>1</td>\n",
              "      <td>0</td>\n",
              "      <td>0</td>\n",
              "      <td>1</td>\n",
              "      <td>-0.654786</td>\n",
              "      <td>1</td>\n",
              "      <td>0</td>\n",
              "      <td>2</td>\n",
              "      <td>0</td>\n",
              "      <td>0</td>\n",
              "      <td>0</td>\n",
              "      <td>0</td>\n",
              "      <td>0</td>\n",
              "      <td>0</td>\n",
              "      <td>0</td>\n",
              "      <td>0</td>\n",
              "      <td>1</td>\n",
              "      <td>-1.652205</td>\n",
              "      <td>-0.830256</td>\n",
              "    </tr>\n",
              "  </tbody>\n",
              "</table>\n",
              "<p>2950 rows × 19 columns</p>\n",
              "</div>"
            ],
            "text/plain": [
              "      gender  SeniorCitizen  ...  MonthlyCharges  TotalCharges\n",
              "2940       1              1  ...       -0.476495      0.378167\n",
              "6515       0              0  ...       -1.509641     -0.610121\n",
              "5383       1              0  ...        0.590092      0.468427\n",
              "3987       0              0  ...        0.299685     -0.552394\n",
              "6549       0              0  ...       -0.413133     -0.913110\n",
              "...      ...            ...  ...             ...           ...\n",
              "2952       0              0  ...       -1.680366     -0.711133\n",
              "5907       1              0  ...       -0.833784     -0.918624\n",
              "6604       1              0  ...       -0.826744     -0.897513\n",
              "5707       0              0  ...       -0.789783     -0.900120\n",
              "6318       1              0  ...       -1.652205     -0.830256\n",
              "\n",
              "[2950 rows x 19 columns]"
            ]
          },
          "metadata": {
            "tags": []
          },
          "execution_count": 21
        }
      ]
    },
    {
      "cell_type": "markdown",
      "metadata": {
        "id": "MLbQ9yt66jfA",
        "colab_type": "text"
      },
      "source": [
        "# **Modelling**"
      ]
    },
    {
      "cell_type": "markdown",
      "metadata": {
        "id": "1QI7jefm6oBK",
        "colab_type": "text"
      },
      "source": [
        "# **Using All features**"
      ]
    },
    {
      "cell_type": "markdown",
      "metadata": {
        "id": "263drJSS653a",
        "colab_type": "text"
      },
      "source": [
        "# **KNN**"
      ]
    },
    {
      "cell_type": "code",
      "metadata": {
        "id": "s993RrUU67qH",
        "colab_type": "code",
        "colab": {
          "base_uri": "https://localhost:8080/",
          "height": 67
        },
        "outputId": "7483ceb9-de3a-4487-eb02-d45bf751d57c"
      },
      "source": [
        "#KNN\n",
        "from sklearn.neighbors import KNeighborsClassifier\n",
        "\n",
        "knn = KNeighborsClassifier(n_neighbors=5)\n",
        "knn.fit(X_train, y_train)\n",
        "\n",
        "y_predict = knn.predict(X_test)\n",
        "print(accuracy_score(y_test,y_predict))\n",
        "confusion_matrix(y_test, y_predict)"
      ],
      "execution_count": null,
      "outputs": [
        {
          "output_type": "stream",
          "text": [
            "0.6979388770433547\n"
          ],
          "name": "stdout"
        },
        {
          "output_type": "execute_result",
          "data": {
            "text/plain": [
              "array([[671, 342],\n",
              "       [ 83, 311]])"
            ]
          },
          "metadata": {
            "tags": []
          },
          "execution_count": 22
        }
      ]
    },
    {
      "cell_type": "markdown",
      "metadata": {
        "id": "lmnKfozZ7GZ8",
        "colab_type": "text"
      },
      "source": [
        "# **Logistic Regression**"
      ]
    },
    {
      "cell_type": "code",
      "metadata": {
        "id": "_EWbKWd37HEZ",
        "colab_type": "code",
        "colab": {
          "base_uri": "https://localhost:8080/",
          "height": 67
        },
        "outputId": "16d70f57-a89a-4cd3-846c-cde621af0c0e"
      },
      "source": [
        "# Logistic Regression\n",
        "from sklearn.linear_model import LogisticRegression\n",
        "\n",
        "lr = LogisticRegression()\n",
        "lr.fit(X_train, y_train)\n",
        "\n",
        "y_predict = lr.predict(X_test)\n",
        "print(accuracy_score(y_predict, y_test))\n",
        "\n",
        "confusion_matrix(y_test, y_predict)"
      ],
      "execution_count": null,
      "outputs": [
        {
          "output_type": "stream",
          "text": [
            "0.728500355366027\n"
          ],
          "name": "stdout"
        },
        {
          "output_type": "execute_result",
          "data": {
            "text/plain": [
              "array([[725, 288],\n",
              "       [ 94, 300]])"
            ]
          },
          "metadata": {
            "tags": []
          },
          "execution_count": 23
        }
      ]
    },
    {
      "cell_type": "markdown",
      "metadata": {
        "id": "buJTIebR8fNt",
        "colab_type": "text"
      },
      "source": [
        "# **Support Vector Machine (SVM)**\n"
      ]
    },
    {
      "cell_type": "code",
      "metadata": {
        "id": "Ju4kH2md8jKL",
        "colab_type": "code",
        "colab": {
          "base_uri": "https://localhost:8080/",
          "height": 67
        },
        "outputId": "f354b449-a12c-470e-f82d-7dde43fff636"
      },
      "source": [
        "#SVM\n",
        "from sklearn.svm import SVC\n",
        "\n",
        "svc = SVC(probability=True)\n",
        "svc.fit(X_train, y_train)\n",
        "\n",
        "y_predict = svc.predict(X_test)\n",
        "print(accuracy_score(y_test, y_predict))\n",
        "confusion_matrix(y_test, y_predict)"
      ],
      "execution_count": null,
      "outputs": [
        {
          "output_type": "stream",
          "text": [
            "0.7178393745557925\n"
          ],
          "name": "stdout"
        },
        {
          "output_type": "execute_result",
          "data": {
            "text/plain": [
              "array([[706, 307],\n",
              "       [ 90, 304]])"
            ]
          },
          "metadata": {
            "tags": []
          },
          "execution_count": 24
        }
      ]
    },
    {
      "cell_type": "markdown",
      "metadata": {
        "id": "UvuB-Cot8iqU",
        "colab_type": "text"
      },
      "source": [
        "# **Random Forest Classifier**"
      ]
    },
    {
      "cell_type": "code",
      "metadata": {
        "id": "fPJktu7e8nZ6",
        "colab_type": "code",
        "colab": {
          "base_uri": "https://localhost:8080/",
          "height": 34
        },
        "outputId": "2352fde5-fc67-46b2-aad3-ab1e64e9db74"
      },
      "source": [
        "# Random Forest Classifier\n",
        "from sklearn.ensemble import RandomForestClassifier\n",
        "\n",
        "rf = RandomForestClassifier()\n",
        "rf.fit(X_train, y_train)\n",
        "y_predict = rf.predict(X_test)\n",
        "\n",
        "print (accuracy_score(y_test, y_predict))"
      ],
      "execution_count": null,
      "outputs": [
        {
          "output_type": "stream",
          "text": [
            "0.7377398720682303\n"
          ],
          "name": "stdout"
        }
      ]
    },
    {
      "cell_type": "markdown",
      "metadata": {
        "id": "UVVkFhgA8qbJ",
        "colab_type": "text"
      },
      "source": [
        "# **Gaussian Naive Bayes**"
      ]
    },
    {
      "cell_type": "code",
      "metadata": {
        "id": "qT_6rPUK8qzw",
        "colab_type": "code",
        "colab": {
          "base_uri": "https://localhost:8080/",
          "height": 34
        },
        "outputId": "12032fb1-ea25-478c-a633-5547da605939"
      },
      "source": [
        "# Gaussian Naive Bayes\n",
        "from sklearn.naive_bayes import GaussianNB\n",
        "\n",
        "gnb = GaussianNB()\n",
        "gnb.fit(X_train, y_train)\n",
        "y_predict = gnb.predict(X_test)\n",
        "\n",
        "# Evaluation\n",
        "print(accuracy_score(y_test, y_predict))"
      ],
      "execution_count": null,
      "outputs": [
        {
          "output_type": "stream",
          "text": [
            "0.7149964463397299\n"
          ],
          "name": "stdout"
        }
      ]
    },
    {
      "cell_type": "markdown",
      "metadata": {
        "id": "244xOBCg86l6",
        "colab_type": "text"
      },
      "source": [
        "# **Modelling**"
      ]
    },
    {
      "cell_type": "markdown",
      "metadata": {
        "id": "HQmR2Hwe84xk",
        "colab_type": "text"
      },
      "source": [
        "# **Using Five Features**"
      ]
    },
    {
      "cell_type": "code",
      "metadata": {
        "id": "LWV2xE7R85EU",
        "colab_type": "code",
        "colab": {}
      },
      "source": [
        "X_train_used = X_train[['Contract', 'tenure', 'InternetService', 'PaymentMethod', 'MonthlyCharges']]\n",
        "X_test_used = X_test[['Contract', 'tenure', 'InternetService', 'PaymentMethod', 'MonthlyCharges']]"
      ],
      "execution_count": null,
      "outputs": []
    },
    {
      "cell_type": "markdown",
      "metadata": {
        "id": "M5wJIDKm9Nl_",
        "colab_type": "text"
      },
      "source": [
        "# **KNN**"
      ]
    },
    {
      "cell_type": "code",
      "metadata": {
        "id": "LpKi7S6f8_EV",
        "colab_type": "code",
        "colab": {
          "base_uri": "https://localhost:8080/",
          "height": 67
        },
        "outputId": "465dd9f6-31d7-461f-ffac-8fba70b8f094"
      },
      "source": [
        "#KNN\n",
        "from sklearn.neighbors import KNeighborsClassifier\n",
        "\n",
        "knn = KNeighborsClassifier(n_neighbors=5)\n",
        "knn.fit(X_train_used, y_train)\n",
        "\n",
        "y_predict = knn.predict(X_test_used)\n",
        "print(accuracy_score(y_test,y_predict))\n",
        "confusion_matrix(y_test, y_predict)"
      ],
      "execution_count": null,
      "outputs": [
        {
          "output_type": "stream",
          "text": [
            "0.7149964463397299\n"
          ],
          "name": "stdout"
        },
        {
          "output_type": "execute_result",
          "data": {
            "text/plain": [
              "array([[706, 307],\n",
              "       [ 94, 300]])"
            ]
          },
          "metadata": {
            "tags": []
          },
          "execution_count": 28
        }
      ]
    },
    {
      "cell_type": "markdown",
      "metadata": {
        "id": "3L-Ujuj19Rve",
        "colab_type": "text"
      },
      "source": [
        "# **Determine best parameters for KNN**"
      ]
    },
    {
      "cell_type": "code",
      "metadata": {
        "id": "Oebjfh_G9QtX",
        "colab_type": "code",
        "colab": {
          "base_uri": "https://localhost:8080/",
          "height": 34
        },
        "outputId": "5ee890c1-0bd2-4884-de83-dac6f12e799a"
      },
      "source": [
        "k_range = list(range(1,31))\n",
        "weight_options = [\"uniform\", \"distance\"]\n",
        "\n",
        "param_grid = dict(n_neighbors = k_range, weights = weight_options)\n",
        "#print (param_grid)\n",
        "\n",
        "\n",
        "grid_search = GridSearchCV(knn, param_grid, cv = 10, scoring = 'accuracy')\n",
        "grid_search.fit(X_train_used,y_train)\n",
        "best_params = grid_search.best_params_\n",
        "print(best_params)"
      ],
      "execution_count": null,
      "outputs": [
        {
          "output_type": "stream",
          "text": [
            "{'n_neighbors': 24, 'weights': 'uniform'}\n"
          ],
          "name": "stdout"
        }
      ]
    },
    {
      "cell_type": "markdown",
      "metadata": {
        "id": "hlyEOzj09ThV",
        "colab_type": "text"
      },
      "source": [
        "# **Tuning parameters for KNN**"
      ]
    },
    {
      "cell_type": "code",
      "metadata": {
        "id": "JVDMQuqO9V3t",
        "colab_type": "code",
        "colab": {
          "base_uri": "https://localhost:8080/",
          "height": 67
        },
        "outputId": "df2f463c-01af-4625-d147-4270cd08dbee"
      },
      "source": [
        "# #***********\n",
        "knn = KNeighborsClassifier(n_neighbors=best_params[\"n_neighbors\"], \n",
        "                           weights=best_params[\"weights\"])\n",
        "knn.fit(X_train_used, y_train)\n",
        "\n",
        "y_predict = knn.predict(X_test_used)\n",
        "\n",
        "# Evaluation\n",
        "print(accuracy_score(y_test,y_predict))\n",
        "confusion_matrix(y_test, y_predict)"
      ],
      "execution_count": null,
      "outputs": [
        {
          "output_type": "stream",
          "text": [
            "0.7327647476901208\n"
          ],
          "name": "stdout"
        },
        {
          "output_type": "execute_result",
          "data": {
            "text/plain": [
              "array([[727, 286],\n",
              "       [ 90, 304]])"
            ]
          },
          "metadata": {
            "tags": []
          },
          "execution_count": 30
        }
      ]
    },
    {
      "cell_type": "markdown",
      "metadata": {
        "id": "XSoCSlak9s1_",
        "colab_type": "text"
      },
      "source": [
        "# **Logistic Regression**"
      ]
    },
    {
      "cell_type": "code",
      "metadata": {
        "id": "Wctjz2IC9tEb",
        "colab_type": "code",
        "colab": {
          "base_uri": "https://localhost:8080/",
          "height": 67
        },
        "outputId": "b8bffb7b-bc67-4c61-d92f-a6689eceed1c"
      },
      "source": [
        "# Logistic Regression\n",
        "from sklearn.linear_model import LogisticRegression\n",
        "\n",
        "lr = LogisticRegression()\n",
        "lr.fit(X_train_used, y_train)\n",
        "\n",
        "y_predict = lr.predict(X_test_used)\n",
        "print(accuracy_score(y_predict, y_test))\n",
        "\n",
        "confusion_matrix(y_test, y_predict)"
      ],
      "execution_count": null,
      "outputs": [
        {
          "output_type": "stream",
          "text": [
            "0.7078891257995735\n"
          ],
          "name": "stdout"
        },
        {
          "output_type": "execute_result",
          "data": {
            "text/plain": [
              "array([[692, 321],\n",
              "       [ 90, 304]])"
            ]
          },
          "metadata": {
            "tags": []
          },
          "execution_count": 31
        }
      ]
    },
    {
      "cell_type": "markdown",
      "metadata": {
        "id": "r1ZZsyhh9vs-",
        "colab_type": "text"
      },
      "source": [
        "# **Determine best parameters for Logistic Regression**\n",
        "\n",
        "\n"
      ]
    },
    {
      "cell_type": "code",
      "metadata": {
        "id": "zKuCepr89uNO",
        "colab_type": "code",
        "colab": {
          "base_uri": "https://localhost:8080/",
          "height": 34
        },
        "outputId": "3ca9f04e-8e66-4ee0-c048-0b59f5c57ed4"
      },
      "source": [
        "parameters = {'C': np.logspace(0, 4, 10), 'penalty':['l1','l2'] }\n",
        "\n",
        "grid_search = GridSearchCV(estimator = lr,\n",
        "                           param_grid = parameters,\n",
        "                           scoring = 'accuracy',\n",
        "                           cv = 10,\n",
        "                           n_jobs = -1)\n",
        "grid_search = grid_search.fit(X_train_used, y_train)\n",
        "best_params = grid_search.best_params_\n",
        "print(best_params)"
      ],
      "execution_count": null,
      "outputs": [
        {
          "output_type": "stream",
          "text": [
            "{'C': 1.0, 'penalty': 'l2'}\n"
          ],
          "name": "stdout"
        }
      ]
    },
    {
      "cell_type": "markdown",
      "metadata": {
        "id": "oxWd5sy9-D17",
        "colab_type": "text"
      },
      "source": [
        "# **Tuning parameters for Logistic Regression**"
      ]
    },
    {
      "cell_type": "code",
      "metadata": {
        "id": "V_86JFog-EMt",
        "colab_type": "code",
        "colab": {
          "base_uri": "https://localhost:8080/",
          "height": 67
        },
        "outputId": "b44c91b1-d90c-4fe9-836c-5d5d5f2a6486"
      },
      "source": [
        "lr = LogisticRegression(C=best_params[\"C\"],\n",
        "                        penalty=best_params[\"penalty\"])\n",
        "lr.fit(X_train_used, y_train)\n",
        "\n",
        "y_predict = lr.predict(X_test_used)\n",
        "\n",
        "# Evaluation\n",
        "print(accuracy_score(y_predict, y_test))\n",
        "confusion_matrix(y_test, y_predict)"
      ],
      "execution_count": null,
      "outputs": [
        {
          "output_type": "stream",
          "text": [
            "0.7078891257995735\n"
          ],
          "name": "stdout"
        },
        {
          "output_type": "execute_result",
          "data": {
            "text/plain": [
              "array([[692, 321],\n",
              "       [ 90, 304]])"
            ]
          },
          "metadata": {
            "tags": []
          },
          "execution_count": 33
        }
      ]
    },
    {
      "cell_type": "markdown",
      "metadata": {
        "id": "jyAfmtog-GoK",
        "colab_type": "text"
      },
      "source": [
        "# **Support Vector Machine (SVM)**\n"
      ]
    },
    {
      "cell_type": "code",
      "metadata": {
        "id": "f38f_-B--oYN",
        "colab_type": "code",
        "colab": {
          "base_uri": "https://localhost:8080/",
          "height": 67
        },
        "outputId": "3e249fa9-1cb8-4fea-e56a-317c6595db3e"
      },
      "source": [
        "#SVM\n",
        "from sklearn.svm import SVC\n",
        "\n",
        "svc = SVC(probability=True)\n",
        "svc.fit(X_train_used, y_train)\n",
        "\n",
        "y_predict = svc.predict(X_test_used)\n",
        "print(accuracy_score(y_test, y_predict))\n",
        "confusion_matrix(y_test, y_predict)"
      ],
      "execution_count": null,
      "outputs": [
        {
          "output_type": "stream",
          "text": [
            "0.7135749822316987\n"
          ],
          "name": "stdout"
        },
        {
          "output_type": "execute_result",
          "data": {
            "text/plain": [
              "array([[700, 313],\n",
              "       [ 90, 304]])"
            ]
          },
          "metadata": {
            "tags": []
          },
          "execution_count": 34
        }
      ]
    },
    {
      "cell_type": "markdown",
      "metadata": {
        "id": "d-awGHlI-qMK",
        "colab_type": "text"
      },
      "source": [
        "# **Determine best parameters for SVM**"
      ]
    },
    {
      "cell_type": "code",
      "metadata": {
        "id": "4TPH8Mfl-rcy",
        "colab_type": "code",
        "colab": {}
      },
      "source": [
        "parameters = [{'C': [1, 10, 100, 1000], 'kernel': ['linear','rbf'], \n",
        "               'gamma': [0.1, 0.2, 0.3, 0.4, 0.5]}]\n",
        "\n",
        "grid_search = GridSearchCV(estimator = svc,\n",
        "                           param_grid = parameters,\n",
        "                           scoring = 'accuracy',\n",
        "                           cv = 5,\n",
        "                           n_jobs = -1)\n",
        "\n",
        "grid_search = grid_search.fit(X_train_used, y_train)\n",
        "best_params = grid_search.best_params_\n",
        "print(best_params)"
      ],
      "execution_count": null,
      "outputs": []
    },
    {
      "cell_type": "markdown",
      "metadata": {
        "id": "Twh301A2-txr",
        "colab_type": "text"
      },
      "source": [
        "# **Tuning parameters for SVM**"
      ]
    },
    {
      "cell_type": "code",
      "metadata": {
        "id": "uTRYuERV-tYY",
        "colab_type": "code",
        "colab": {}
      },
      "source": [
        "# SVM\n",
        "svc = SVC(C=best_params[\"C\"], \n",
        "          gamma=best_params[\"gamma\"], \n",
        "          kernel=best_params[\"kernel\"],\n",
        "          probability = True)\n",
        "svc.fit(X_train_used, y_train)\n",
        "y_predict = svc.predict(X_test_used)\n",
        "\n",
        "# Evaluation\n",
        "print(accuracy_score(y_test, y_predict))\n",
        "confusion_matrix(y_test, y_predict)"
      ],
      "execution_count": null,
      "outputs": []
    },
    {
      "cell_type": "markdown",
      "metadata": {
        "id": "xHGWzpTU-yxZ",
        "colab_type": "text"
      },
      "source": [
        "# **Random Forest Classifier**"
      ]
    },
    {
      "cell_type": "code",
      "metadata": {
        "id": "UJv8jwW6-zCF",
        "colab_type": "code",
        "colab": {}
      },
      "source": [
        "# Before tuning parameters\n",
        "from sklearn.ensemble import RandomForestClassifier\n",
        "\n",
        "rf = RandomForestClassifier()\n",
        "rf.fit(X_train_used, y_train)\n",
        "y_predict = rf.predict(X_test_used)\n",
        "\n",
        "print (accuracy_score(y_test, y_predict))"
      ],
      "execution_count": null,
      "outputs": []
    },
    {
      "cell_type": "markdown",
      "metadata": {
        "id": "GQfYyYsb-0lk",
        "colab_type": "text"
      },
      "source": [
        "# **Determine best parameters for Random Forest**"
      ]
    },
    {
      "cell_type": "code",
      "metadata": {
        "id": "Rh4coSNf-1rH",
        "colab_type": "code",
        "colab": {}
      },
      "source": [
        "# Create the parameter grid based on the results of random search \n",
        "param_grid = {\n",
        "    'max_depth': [80, 90, 100, 110],\n",
        "    'max_features': ['auto', 'log2'],\n",
        "    'max_leaf_nodes': [10, 20, 30],\n",
        "    'min_samples_leaf': [3, 4, 5],\n",
        "    'min_samples_split': [8, 10, 12],\n",
        "    'n_estimators': [100, 200, 300, 1000]\n",
        "        \n",
        "}\n",
        "# Instantiate the grid search model\n",
        "grid_search = GridSearchCV(estimator = rf, param_grid = param_grid, \n",
        "                          cv = 3, n_jobs = -1, verbose = 2)\n",
        "\n",
        "# Fit the grid search to the data\n",
        "grid_search = grid_search.fit(X_train_used, y_train)\n",
        "best_params = grid_search.best_params_\n",
        "print(best_params)"
      ],
      "execution_count": null,
      "outputs": []
    },
    {
      "cell_type": "markdown",
      "metadata": {
        "id": "V_h20w7L-5XQ",
        "colab_type": "text"
      },
      "source": [
        "# **Tuning parameters for Random Forest**"
      ]
    },
    {
      "cell_type": "code",
      "metadata": {
        "id": "NYOH_mPo-4la",
        "colab_type": "code",
        "colab": {}
      },
      "source": [
        "# After tuning parameter\n",
        "rf = RandomForestClassifier(max_depth=best_params[\"max_depth\"], \n",
        "                                  max_features=best_params[\"max_features\"],\n",
        "                                  max_leaf_nodes=best_params[\"max_leaf_nodes\"],\n",
        "                                  min_samples_leaf=best_params[\"min_samples_leaf\"], \n",
        "                                  min_samples_split=best_params[\"min_samples_split\"], \n",
        "                                  n_estimators=best_params[\"n_estimators\"])\n",
        "\n",
        "rf.fit(X_train_used, y_train)\n",
        "y_predict = rf.predict(X_test_used)\n",
        "\n",
        "print (accuracy_score(y_test, y_predict))\n",
        "\n",
        "\n",
        "# Making the Confusion Matrix\n",
        "cm = confusion_matrix(y_test, y_predict)\n",
        "\n",
        "# Calculate the Accuracy\n",
        "print(accuracy_score(y_test, y_predict))\n"
      ],
      "execution_count": null,
      "outputs": []
    },
    {
      "cell_type": "markdown",
      "metadata": {
        "id": "JbCbemDJ-9xQ",
        "colab_type": "text"
      },
      "source": [
        "# **Gaussian Naive Bayes**"
      ]
    },
    {
      "cell_type": "code",
      "metadata": {
        "id": "jrtJ26ko--_J",
        "colab_type": "code",
        "colab": {}
      },
      "source": [
        "# Gaussian Naive Bayes\n",
        "from sklearn.naive_bayes import GaussianNB\n",
        "\n",
        "gnb = GaussianNB()\n",
        "gnb.fit(X_train_used, y_train)\n",
        "y_predict = gnb.predict(X_test_used)\n",
        "\n",
        "# Evaluation\n",
        "print(accuracy_score(y_test, y_predict))"
      ],
      "execution_count": null,
      "outputs": []
    },
    {
      "cell_type": "markdown",
      "metadata": {
        "id": "03FUtwKF1qLF",
        "colab_type": "text"
      },
      "source": [
        "After the modelling processes, we found out that the accuracy score of the model that uses only five key features is slightly lower than using all features. Since we can obtain an almost similar result from both of the modelling, we decided to use only the five features to predict our customer churn as more features will cause a longer training time. "
      ]
    },
    {
      "cell_type": "markdown",
      "metadata": {
        "id": "vKCrIyfX2JKV",
        "colab_type": "text"
      },
      "source": [
        "# **Evaluation**"
      ]
    },
    {
      "cell_type": "markdown",
      "metadata": {
        "id": "6RmJz_H0_Vb7",
        "colab_type": "text"
      },
      "source": [
        "# **Confusion Matrix**"
      ]
    },
    {
      "cell_type": "code",
      "metadata": {
        "id": "SBvlmAAW_VuT",
        "colab_type": "code",
        "colab": {}
      },
      "source": [
        "def telecom_churn_prediction_alg(X_train_used,X_test_used,y_train,y_test): \n",
        "\n",
        "  model.fit(X_train_used,y_train)\n",
        "  predictions  = model.predict(X_test_used)\n",
        "  accuracy     = accuracy_score(y_test,predictions)\n",
        "\n",
        "#confusion matrix\n",
        "#conf_matrix = confusion_matrix(y_test,predictions)\n",
        "\n",
        "lst = [lr,knn,rf,gnb,svc]\n",
        "\n",
        "length = len(lst)\n",
        "\n",
        "mods   = ['Logistic Regression(Baseline_model)','KNN Classifier',\n",
        "          'Random Forest Classifier',\"Naive Bayes\",'SVM Classifier Linear']\n",
        "\n",
        "fig = plt.figure(figsize=(13,15))\n",
        "fig.set_facecolor(\"#F3F3F3\")\n",
        "for i,j,k in itertools.zip_longest(lst,range(length),mods) :\n",
        "    plt.subplot(4,3,j+1)\n",
        "    predictions = i.predict(X_test_used)\n",
        "    conf_matrix = confusion_matrix(predictions,y_test)\n",
        "    sns.heatmap(conf_matrix,annot=True,fmt = \"d\",square = True,\n",
        "                xticklabels=[\"not churn\",\"churn\"],\n",
        "                yticklabels=[\"not churn\",\"churn\"],\n",
        "                linewidths = 2,linecolor = \"w\",cmap = \"Set1\")\n",
        "    plt.title(k,color = \"b\")\n",
        "    plt.subplots_adjust(wspace = .3,hspace = .3)"
      ],
      "execution_count": null,
      "outputs": []
    },
    {
      "cell_type": "markdown",
      "metadata": {
        "id": "Zbmc4uGv1wj_",
        "colab_type": "text"
      },
      "source": [
        "In the business world, we think that we should avoid the Type II error which is the False Negative (FP). In our case, false negative means that we predicted not churn, but it actually is a churn. We should avoid this kind of error. This is because if we assume a particular customer will not churn, then we will not take any action to retain that customer. However, they eventually change their service provider, this will lead to a higher churn rate as proper action is not taken on time. \n",
        "The result above shows the confusion matrix of the five modelling algorithms. Based on the confusion matrix, we can see that the Random Forest algorithm has the lowest FN and Naive Bayes has the highest FN.\n"
      ]
    },
    {
      "cell_type": "markdown",
      "metadata": {
        "id": "Oo-oALX2_YV-",
        "colab_type": "text"
      },
      "source": [
        "# **Receiver Operating Characteristic (ROC)**"
      ]
    },
    {
      "cell_type": "code",
      "metadata": {
        "id": "cetwmMrW_Wtg",
        "colab_type": "code",
        "colab": {}
      },
      "source": [
        "lst = [lr,knn,rf,gnb,svc]\n",
        "\n",
        "length = len(lst)\n",
        "\n",
        "mods   = ['Logistic Regression','KNN Classifier',\n",
        "          'Random Forest Classifier',\"Naive Bayes\",'SVM Classifier Linear']\n",
        "\n",
        "plt.style.use(\"dark_background\")\n",
        "fig = plt.figure(figsize=(12,16))\n",
        "fig.set_facecolor(\"#F3F3F3\")\n",
        "for i,j,k in itertools.zip_longest(lst,range(length),mods) :\n",
        "    qx = plt.subplot(4,3,j+1)\n",
        "    predictions   = i.predict(X_test_used)\n",
        "    probabilities = i.predict_proba(X_test_used)\n",
        "    fpr,tpr,thresholds = roc_curve(y_test,probabilities[:,1])\n",
        "    plt.plot(fpr,tpr,linestyle = \"dotted\",\n",
        "             color = \"royalblue\",linewidth = 2,\n",
        "             label = \"AUC = \" + str(np.around(roc_auc_score(y_test,predictions),3)))\n",
        "    plt.plot([0,1],[0,1],linestyle = \"dashed\",\n",
        "             color = \"orangered\",linewidth = 1.5)\n",
        "    plt.fill_between(fpr,tpr,alpha = .4)\n",
        "    plt.fill_between([0,1],[0,1],color = \"k\")\n",
        "    plt.legend(loc = \"lower right\",\n",
        "               prop = {\"size\" : 12})\n",
        "    qx.set_facecolor(\"k\")\n",
        "    plt.grid(True,alpha = .15)\n",
        "    plt.title(k,color = \"b\")\n",
        "    plt.xticks(np.arange(0,1,.3))\n",
        "    plt.yticks(np.arange(0,1,.3))"
      ],
      "execution_count": null,
      "outputs": []
    },
    {
      "cell_type": "markdown",
      "metadata": {
        "id": "nYGp9XtM2AMK",
        "colab_type": "text"
      },
      "source": [
        "When AUC is between 0.5 and 1, there is a higher possibility that the model will be able to differentiate the churn and not churn customers. This is because the model can detect a higher number of true positive and true negative rather than false negative and false positive. By referring to the five ROC curves above, we can clearly see that the AUC of the five models have reached a value between 0.5 and 1 and all of the value are almost the same. KNN model has the highest AUC value followed by the Random Forest and SVM model with the same AUC value."
      ]
    },
    {
      "cell_type": "markdown",
      "metadata": {
        "id": "PHtcrfn-_ZXZ",
        "colab_type": "text"
      },
      "source": [
        "# **Modal Comparison**"
      ]
    },
    {
      "cell_type": "code",
      "metadata": {
        "id": "AR9uHTZk_arJ",
        "colab_type": "code",
        "colab": {}
      },
      "source": [
        "#gives model report in dataframe\n",
        "def model_report(model,x_train_used,X_test_used,y_train,y_test,name) :\n",
        "    model.fit(x_train_used,y_train)\n",
        "    predictions  = model.predict(X_test_used)\n",
        "    accuracy     = accuracy_score(y_test,predictions)\n",
        "    recallscore  = recall_score(y_test,predictions)\n",
        "    precision    = precision_score(y_test,predictions)\n",
        "    roc_auc      = roc_auc_score(y_test,predictions)\n",
        "    f1score      = f1_score(y_test,predictions) \n",
        "    \n",
        "    df = pd.DataFrame({\"Model\"           : [name],\n",
        "                       \"Accuracy_score\"  : [accuracy],\n",
        "                       \"Recall_score\"    : [recallscore],\n",
        "                       \"Precision\"       : [precision],\n",
        "                       \"f1_score\"        : [f1score],\n",
        "                       \"Area_under_curve\": [roc_auc],\n",
        "                      })\n",
        "    return df\n",
        "\n",
        "#outputs for every model\n",
        "model1 = model_report(lr,X_train_used,X_test_used,y_train,y_test, \"Logistic Regression\")\n",
        "\n",
        "model2 = model_report(knn,X_train_used,X_test_used,y_train,y_test,\"KNN Classifier\")\n",
        "rfc = RandomForestClassifier(n_estimators = 1000,\n",
        "                             random_state = 123,\n",
        "                             max_depth = 9,\n",
        "                             criterion = \"gini\")\n",
        "model3 = model_report(rf,X_train_used,X_test_used,y_train,y_test,\"Random Forest Classifier\")\n",
        "model4 = model_report(gnb,X_train_used,X_test_used,y_train,y_test,\"Naive Bayes\")\n",
        "model5 = model_report(svc,X_train_used,X_test_used,y_train,y_test,\"SVM Classifier \")\n",
        "#concat all models\n",
        "model_performances = pd.concat([model1,model2,model3,\n",
        "                                model4,model5],axis = 0).reset_index()\n",
        "\n",
        "model_performances = model_performances.drop(columns = \"index\",axis =1)\n",
        "\n",
        "table  = ff.create_table(np.round(model_performances,4))\n",
        "\n",
        "py.iplot(table)"
      ],
      "execution_count": null,
      "outputs": []
    },
    {
      "cell_type": "markdown",
      "metadata": {
        "id": "IGF8_DnU2GVn",
        "colab_type": "text"
      },
      "source": [
        "The table above shows the accuracy score, recall score, precision, F1 score and Area under the curve of all the five modelling techniques. From the table, we can conclude that Random Forest model has the highest accuracy score and its overall performance is better. "
      ]
    },
    {
      "cell_type": "markdown",
      "metadata": {
        "id": "0Hz-wHDw27vX",
        "colab_type": "text"
      },
      "source": [
        "# **Deployment**"
      ]
    },
    {
      "cell_type": "markdown",
      "metadata": {
        "id": "UHZey43u29yc",
        "colab_type": "text"
      },
      "source": [
        "Among the five modelling techniques that we have constructed, we decided to choose the Random Forest model to predict our customer churn because its overall performance is considered the best one compared to other model in terms of the accuaracy score, precision, recall score and ROC. Besides, this model produce the least number of False Negative (FN) which means it have lesser Type II error compared to other model. \n",
        "Choosing an appropriate modelling is very important to predict customer churn rate. This will help us to know more about whether the customer will be churn or not in the future by fitting them into our modelling. By knowing which of the customer will be churn after predicting using a suitable modelling technique, telecom companies are able to take immediate actions such as customizing them different promotional activities to gain back their retention and prevent them from churning."
      ]
    },
    {
      "cell_type": "markdown",
      "metadata": {
        "id": "_XTrI7tM_cjg",
        "colab_type": "text"
      },
      "source": [
        "# **K fold cross validaiton**"
      ]
    },
    {
      "cell_type": "code",
      "metadata": {
        "id": "hDlZNOKX_cyp",
        "colab_type": "code",
        "colab": {}
      },
      "source": [
        "X = X_train_used.append(X_test_used)\n",
        "y = np.concatenate((y_train,y_test))\n",
        "\n",
        "# KFold Cross Validation approach\n",
        "kf = KFold(n_splits=5,shuffle=False)\n",
        "kf.split(X)    \n",
        "     \n",
        "# Initialize the accuracy of the models to blank list. The accuracy of each model will be appended to this list\n",
        "accuracy_model = []\n",
        " \n",
        "# Iterate over each train-test split\n",
        "for train_index, test_index in kf.split(X):\n",
        "    # Split train-test\n",
        "    X_train_used, X_test_used = X.iloc[train_index], X.iloc[test_index]\n",
        "    y_train, y_test = y[train_index], y[test_index]\n",
        "    # Train the model\n",
        "    model = rf.fit(X_train_used, y_train)\n",
        "    # Append to accuracy_model the accuracy of the model\n",
        "    accuracy_model.append(accuracy_score(y_test, model.predict(X_test_used), normalize=True)*100)\n",
        "\n",
        "# Print the accuracy    \n",
        "print(accuracy_model)"
      ],
      "execution_count": null,
      "outputs": []
    },
    {
      "cell_type": "code",
      "metadata": {
        "id": "IwirAYkO_gNY",
        "colab_type": "code",
        "colab": {}
      },
      "source": [
        "# Visualize accuracy for each iteration\n",
        " \n",
        "scores = pd.DataFrame(accuracy_model,columns=['Scores'])\n",
        " \n",
        "sns.set(style=\"white\", rc={\"lines.linewidth\": 3})\n",
        "sns.barplot(x=['Iter1','Iter2','Iter3','Iter4','Iter5'],y=\"Scores\",data=scores)\n",
        "plt.title('K Fold cross validation', fontsize=10)\n",
        "\n",
        "plt.show()\n",
        "sns.set()"
      ],
      "execution_count": null,
      "outputs": []
    },
    {
      "cell_type": "markdown",
      "metadata": {
        "id": "O3DR3cA32dlN",
        "colab_type": "text"
      },
      "source": [
        "We use the K-fold cross validation to check whether the selected model has the overfit problem or not. We need to make sure that the model will provide us a consistent result when predicting different sets of data. When the model provides us an accurate result during our modelling process but provides a bad result when using another set of data to do the modelling, this means that this model is imperfect because overfitting may occur as the model only fits a certain dataset.\n",
        "\n",
        "From the bar chart above, we can clearly see that the accuracy score of the five iterations are in the acceptable range. So, we can conclude that Random Forest model do not have overfit problem."
      ]
    }
  ]
}